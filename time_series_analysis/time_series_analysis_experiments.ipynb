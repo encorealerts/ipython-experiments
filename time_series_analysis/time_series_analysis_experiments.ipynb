{
 "cells": [
  {
   "cell_type": "code",
   "execution_count": 3,
   "metadata": {
    "collapsed": true
   },
   "outputs": [],
   "source": [
    "import numpy as np"
   ]
  },
  {
   "cell_type": "markdown",
   "metadata": {},
   "source": [
    "# Test data"
   ]
  },
  {
   "cell_type": "code",
   "execution_count": 67,
   "metadata": {
    "collapsed": false
   },
   "outputs": [],
   "source": [
    "# Test data is structured as [time_series, is_trend]\n",
    "test_data = [[[1,  3,  2, 1, 2, 4, 8, 10], True],\n",
    "             [[1,  3,  2, 1, 2, 3, 1, 2],  False],\n",
    "             [[1,  1,  1, 1, 1, 1, 1, 1],  False],\n",
    "             [[10, 8,  4, 1, 1, 1, 1, 1],  False],\n",
    "             [[20, 10, 4, 2, 1, 1, 1, 1, 1, 1, 1, 1, 1, 1, 1, 1],  False],\n",
    "             [[1,  1,  1, 1, 1, 1, 1, 1, 1, 1, 1, 1, 1, 1, 1, 1],  False],\n",
    "             [[2,  1,  2, 3, 2, 3, 2, 1, 1, 3, 2, 1, 2, 2, 3, 2],  False],\n",
    "             [[2,  1,  2, 3, 2, 3, 2, 1, 1, 3, 2, 1, 2, 4, 8, 10], True],\n",
    "             [[0,  1,  0, 0,577,124,54,13,10], False]]"
   ]
  },
  {
   "cell_type": "markdown",
   "metadata": {},
   "source": [
    "### Evaluation function"
   ]
  },
  {
   "cell_type": "code",
   "execution_count": 28,
   "metadata": {
    "collapsed": false
   },
   "outputs": [],
   "source": [
    "def evaluate_test_case(test_data, func, verbose=False):\n",
    "    for test_case in test_data:\n",
    "        print \"Processing: \"+ str(test_case)\n",
    "        print \"==> Success!\" if test_case[1] == func(test_case[0], verbose) else \"==> Failed..\""
   ]
  },
  {
   "cell_type": "markdown",
   "metadata": {},
   "source": [
    "# Home-made Approach 1"
   ]
  },
  {
   "cell_type": "code",
   "execution_count": 64,
   "metadata": {
    "collapsed": false
   },
   "outputs": [],
   "source": [
    "def home_made_approach_1(time_series, verbose=False):\n",
    "    # a) Obtain mu as median\n",
    "    mu = np.median(time_series)\n",
    "    \n",
    "    if verbose:\n",
    "        print \"a) mu: \" + str(mu)\n",
    "\n",
    "    # b) Only for values greater than the mu, indicate the difference\n",
    "    time_series_diff = map(lambda t: 0.0 if t <= mu else (t - mu) , time_series)\n",
    "    \n",
    "    if verbose:\n",
    "        print \"b): \" + str(time_series_diff)\n",
    "\n",
    "    # c) Map to percentage values\n",
    "    time_series_diff_perc = map(lambda t: round(float(t) / mu, 3), time_series_diff)\n",
    "    \n",
    "    if verbose:\n",
    "        print \"c): \" + str(time_series_diff_perc)\n",
    "\n",
    "    # d) Consider only those values more than 50% above mu\n",
    "    time_series_diff_perc_filtered = map(lambda t: 0.0 if t <= 0.5 else t, time_series_diff_perc)\n",
    "    \n",
    "    if verbose:\n",
    "        print \"d): \" + str(time_series_diff_perc_filtered)\n",
    "        \n",
    "    if sum(time_series_diff_perc_filtered) == 0:\n",
    "        return False\n",
    "        \n",
    "    # e) Repeat steps (c) and (d) with a sorted version of the time_series_diff\n",
    "    sorted_time_series_diff_perc = map(lambda t: round(float(t) / mu, 3), sorted(time_series_diff))\n",
    "    sorted_time_series_diff_perc_filtered = map(lambda t: 0.0 if t <= 0.5 else t, sorted_time_series_diff_perc)\n",
    "    \n",
    "    if verbose:\n",
    "        print \"e): \" + str(sorted_time_series_diff_perc_filtered)\n",
    "\n",
    "    # f) Perform an element-wise subtraction between (c) and (d) results. \n",
    "    element_wise_diff = map(lambda (i,t): 1.0 if max(t, sorted_time_series_diff_perc_filtered[i]) == 0 else \n",
    "                                          round(float(min(t, sorted_time_series_diff_perc_filtered[i]))/ \n",
    "                                                float(max(t, sorted_time_series_diff_perc_filtered[i])),3), \n",
    "                            enumerate(time_series_diff_perc))\n",
    "    if verbose:\n",
    "        print \"f): \" + str(element_wise_diff)\n",
    "\n",
    "    # g) Calculate de mean of element_wise_diff. The closer to 1.0 the more likely to be trend\n",
    "    mean_element_wise_diff = round(np.mean(element_wise_diff),3)\n",
    "    \n",
    "    if verbose:\n",
    "        print \"g): \" + str(mean_element_wise_diff)\n",
    "\n",
    "    return (True if mean_element_wise_diff > 0.5 else False)    "
   ]
  },
  {
   "cell_type": "markdown",
   "metadata": {},
   "source": [
    "### Evaluating against test data"
   ]
  },
  {
   "cell_type": "code",
   "execution_count": 68,
   "metadata": {
    "collapsed": false
   },
   "outputs": [
    {
     "name": "stdout",
     "output_type": "stream",
     "text": [
      "Processing: [[1, 3, 2, 1, 2, 4, 8, 10], True]\n",
      "==> Success!\n",
      "Processing: [[1, 3, 2, 1, 2, 3, 1, 2], False]\n",
      "==> Success!\n",
      "Processing: [[1, 1, 1, 1, 1, 1, 1, 1], False]\n",
      "==> Success!\n",
      "Processing: [[10, 8, 4, 1, 1, 1, 1, 1], False]\n",
      "==> Success!\n",
      "Processing: [[20, 10, 4, 2, 1, 1, 1, 1, 1, 1, 1, 1, 1, 1, 1, 1], False]\n",
      "==> Success!\n",
      "Processing: [[1, 1, 1, 1, 1, 1, 1, 1, 1, 1, 1, 1, 1, 1, 1, 1], False]\n",
      "==> Success!\n",
      "Processing: [[2, 1, 2, 3, 2, 3, 2, 1, 1, 3, 2, 1, 2, 2, 3, 2], False]\n",
      "==> Success!\n",
      "Processing: [[2, 1, 2, 3, 2, 3, 2, 1, 1, 3, 2, 1, 2, 4, 8, 10], True]\n",
      "==> Success!\n",
      "Processing: [[0, 1, 0, 0, 577, 124, 54, 13, 10], False]\n",
      "==> Failed..\n"
     ]
    }
   ],
   "source": [
    "evaluate_test_case(test_data, home_made_approach_1, verbose=False)"
   ]
  },
  {
   "cell_type": "code",
   "execution_count": 70,
   "metadata": {
    "collapsed": false
   },
   "outputs": [
    {
     "name": "stdout",
     "output_type": "stream",
     "text": [
      "Processing: [[0, 1, 0, 0, 577, 124, 54, 13, 10], False]\n",
      "a) mu: 10.0\n",
      "b): [0.0, 0.0, 0.0, 0.0, 567.0, 114.0, 44.0, 3.0, 0.0]\n",
      "c): [0.0, 0.0, 0.0, 0.0, 56.7, 11.4, 4.4, 0.3, 0.0]\n",
      "d): [0.0, 0.0, 0.0, 0.0, 56.7, 11.4, 4.4, 0.0, 0.0]\n",
      "e): [0.0, 0.0, 0.0, 0.0, 0.0, 0.0, 4.4, 11.4, 56.7]\n",
      "f): [1.0, 1.0, 1.0, 1.0, 0.0, 0.0, 1.0, 0.026, 0.0]\n",
      "g): 0.558\n",
      "==> Failed..\n"
     ]
    }
   ],
   "source": [
    "evaluate_test_case([test_data[8]], home_made_approach_1, verbose=True)"
   ]
  },
  {
   "cell_type": "code",
   "execution_count": null,
   "metadata": {
    "collapsed": true
   },
   "outputs": [],
   "source": []
  }
 ],
 "metadata": {
  "kernelspec": {
   "display_name": "Python 2",
   "language": "python",
   "name": "python2"
  },
  "language_info": {
   "codemirror_mode": {
    "name": "ipython",
    "version": 2
   },
   "file_extension": ".py",
   "mimetype": "text/x-python",
   "name": "python",
   "nbconvert_exporter": "python",
   "pygments_lexer": "ipython2",
   "version": "2.7.10"
  }
 },
 "nbformat": 4,
 "nbformat_minor": 0
}
