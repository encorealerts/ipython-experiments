{
 "cells": [
  {
   "cell_type": "code",
   "execution_count": 3,
   "metadata": {
    "collapsed": true
   },
   "outputs": [],
   "source": [
    "import numpy as np"
   ]
  },
  {
   "cell_type": "markdown",
   "metadata": {},
   "source": [
    "# Test data"
   ]
  },
  {
   "cell_type": "code",
   "execution_count": 137,
   "metadata": {
    "collapsed": false
   },
   "outputs": [],
   "source": [
    "# Test data is structured as [time_series, is_trend]\n",
    "test_data = [[[1,  3,  2, 1, 2, 4, 8, 10], True],\n",
    "             [[1,  3,  2, 1, 2, 3, 1, 2],  False],\n",
    "             [[1,  1,  1, 1, 1, 1, 1, 1],  False],\n",
    "             [[10, 8,  4, 1, 1, 1, 1, 1],  False],\n",
    "             [[20, 10, 4, 2, 1, 1, 1, 1, 1, 1, 1, 1, 1, 1, 1, 1],  False],\n",
    "             [[1,  1,  1, 1, 1, 1, 1, 1, 1, 1, 1, 1, 1, 1, 1, 1],  False],\n",
    "             [[2,  1,  2, 3, 2, 3, 2, 1, 1, 3, 2, 1, 2, 2, 3, 2],  False],\n",
    "             [[2,  1,  2, 3, 2, 3, 2, 1, 1, 3, 2, 1, 2, 4, 8, 10], True],\n",
    "             [[0,  1,  0, 0, 577,124,54,13,10], False],\n",
    "             [[0,  0,  0, 1, 0,0,673,224,78], False],\n",
    "             [[0,  0,  0, 0, 0,0,265,51,19], False],\n",
    "             [[0,  0,  0, 0, 265,51,16,86,29], False],\n",
    "             [[0,  0,  0, 0, 0,0,91,86,28], False],\n",
    "             [[0,  0,  0, 0, 0,167,50,11,27], False],\n",
    "             [[0,  0,  0, 0, 0,40,17,11,4], False],\n",
    "             [[0,  0,  0, 0, 0, 0, 0, 0 ,20], True],\n",
    "             [[0,  0,  0, 0, 0, 0, 0, 0 ,30], True],\n",
    "             [[0,  0,  0, 0, 0, 0, 0, 0 ,40], True],\n",
    "             [[0,  0,  0, 0, 0, 0, 20,30,40], True],\n",
    "             [[4,15,9,10,9,4,14,8,9], False],\n",
    "             [[11,25,89,36,20,44,21,12,3], False],\n",
    "             [[1,2,3,10,1,1,2,10,9], False],\n",
    "             [[0,13,12,17,44,18,11,3,3], False],\n",
    "             [[0,0,0,0,0,35,0,0,0], False],\n",
    "             [[1,2,1,3,2,1,2,7,8], True],\n",
    "             [[2,3,2,6,3,2,1,0,0], False],\n",
    "             [[3,11,17,6,6,6,6,11,1], False],\n",
    "             [[3,0,0,0,0,0,0,2,0], False],\n",
    "             [[3,4,3,5,5,3,11,3,1], False],\n",
    "             [[3,6,6,6,6,11,1,4,5], False],\n",
    "             [[39,51,16,86,36,20,45,19,9], False],\n",
    "             [[6,1,3,1,2,2,3,4,2], False],\n",
    "             [[2,3,5,2,1,3,3,3,1], False],\n",
    "             [[2,20,13,16,21,9,8,8,6], False],\n",
    "             [[2,3,4,4,6,16,18,16,21], True],\n",
    "             [[3,0,0,0,0,1,0,0,0], False],\n",
    "             [[116,224,105,39,27,23,50,22,11], False],\n",
    "             [[0,0,1,0,2,1,1,1,0], False]]"
   ]
  },
  {
   "cell_type": "markdown",
   "metadata": {},
   "source": [
    "### Evaluation function"
   ]
  },
  {
   "cell_type": "code",
   "execution_count": 115,
   "metadata": {
    "collapsed": false
   },
   "outputs": [],
   "source": [
    "def evaluate_test_case(test_data, func, verbose=False):\n",
    "    failed_list = []\n",
    "    for test_case in test_data:\n",
    "        failed = test_case[1] != func(test_case[0], verbose)\n",
    "        if failed:\n",
    "            failed_list += [test_case]\n",
    "        print \"Processing: \"+ str(test_case)\n",
    "        print \"!!! F A I L E D !!!\" if failed else \"==> Success!!!\"\n",
    "    print \"TOTAL FAILURES: \"+ str(len(failed_list)) + \"/\" + str(len(test_data))\n",
    "    return failed_list"
   ]
  },
  {
   "cell_type": "markdown",
   "metadata": {},
   "source": [
    "# Home-made Approach 1"
   ]
  },
  {
   "cell_type": "code",
   "execution_count": 143,
   "metadata": {
    "collapsed": false
   },
   "outputs": [],
   "source": [
    "def home_made_approach_1(time_series, verbose=False):\n",
    "    # a) Obtain mu as median\n",
    "    mu = np.median(time_series)\n",
    "    \n",
    "    if verbose:\n",
    "        print \"a) mu: \" + str(mu)\n",
    "\n",
    "    # b) Only for values greater than the mu, indicate the difference\n",
    "    time_series_diff = map(lambda t: 0.0 if t <= mu else (t - mu) , time_series)\n",
    "    \n",
    "    if verbose:\n",
    "        print \"b): \" + str(time_series_diff)\n",
    "\n",
    "    # c) Map to percentage values\n",
    "    time_series_diff_perc = map(lambda t: round(float(t) / (mu + 0.01), 3), time_series_diff)\n",
    "    \n",
    "    if verbose:\n",
    "        print \"c): \" + str(time_series_diff_perc)\n",
    "\n",
    "    # d) Consider only those values more than 50% above mu\n",
    "    time_series_diff_perc_filtered = map(lambda t: 0.0 if t <= 0.5 else t, time_series_diff_perc)\n",
    "    \n",
    "    if verbose:\n",
    "        print \"d): \" + str(time_series_diff_perc_filtered)\n",
    "        \n",
    "    if sum(time_series_diff_perc_filtered) == 0:\n",
    "        return False\n",
    "        \n",
    "    # e) Create a sorted version of time_series values\n",
    "    sorted_time_series_diff_perc_filtered = sorted(time_series_diff_perc_filtered)\n",
    "\n",
    "    if verbose:\n",
    "        print \"e): \" + str(sorted_time_series_diff_perc_filtered)\n",
    "        \n",
    "    # f) Perform an element-wise subtraction between the list and the sorted version (e)\n",
    "    element_wise_diff = map(lambda (i,t): 1.0 if max(t, sorted_time_series_diff_perc_filtered[i]) == 0 else \n",
    "                                          round(float(min(t, sorted_time_series_diff_perc_filtered[i]))/ \n",
    "                                                float(max(t, sorted_time_series_diff_perc_filtered[i])),3), \n",
    "                            enumerate(time_series_diff_perc))\n",
    "    if verbose:\n",
    "        print \"f): \" + str(element_wise_diff)\n",
    "\n",
    "    # g) Give different weight in the diff of zeros\n",
    "    element_wise_diff = map(lambda (i,t): 0.5 if (time_series_diff_perc_filtered[i] +\n",
    "                                                  sorted_time_series_diff_perc_filtered[i]) == 0 else t,\n",
    "                            enumerate(element_wise_diff))\n",
    "    if verbose:\n",
    "        print \"g): \" + str(element_wise_diff)\n",
    "\n",
    "    # h) Calculate de mean of element_wise_diff. The closer to 1.0 the more likely to be trend\n",
    "    mean_element_wise_diff = round(np.mean(element_wise_diff),3)\n",
    "    \n",
    "    if verbose:\n",
    "        print \"h): \" + str(mean_element_wise_diff)\n",
    "\n",
    "    return mean_element_wise_diff > 0.55"
   ]
  },
  {
   "cell_type": "markdown",
   "metadata": {},
   "source": [
    "### Evaluating against test data"
   ]
  },
  {
   "cell_type": "code",
   "execution_count": 144,
   "metadata": {
    "collapsed": false
   },
   "outputs": [
    {
     "name": "stdout",
     "output_type": "stream",
     "text": [
      "Processing: [[1, 3, 2, 1, 2, 4, 8, 10], True]\n",
      "==> Success!!!\n",
      "Processing: [[1, 3, 2, 1, 2, 3, 1, 2], False]\n",
      "==> Success!!!\n",
      "Processing: [[1, 1, 1, 1, 1, 1, 1, 1], False]\n",
      "==> Success!!!\n",
      "Processing: [[10, 8, 4, 1, 1, 1, 1, 1], False]\n",
      "==> Success!!!\n",
      "Processing: [[20, 10, 4, 2, 1, 1, 1, 1, 1, 1, 1, 1, 1, 1, 1, 1], False]\n",
      "==> Success!!!\n",
      "Processing: [[1, 1, 1, 1, 1, 1, 1, 1, 1, 1, 1, 1, 1, 1, 1, 1], False]\n",
      "==> Success!!!\n",
      "Processing: [[2, 1, 2, 3, 2, 3, 2, 1, 1, 3, 2, 1, 2, 2, 3, 2], False]\n",
      "==> Success!!!\n",
      "Processing: [[2, 1, 2, 3, 2, 3, 2, 1, 1, 3, 2, 1, 2, 4, 8, 10], True]\n",
      "==> Success!!!\n",
      "Processing: [[0, 1, 0, 0, 577, 124, 54, 13, 10], False]\n",
      "==> Success!!!\n",
      "Processing: [[0, 0, 0, 1, 0, 0, 673, 224, 78], False]\n",
      "==> Success!!!\n",
      "Processing: [[0, 0, 0, 0, 0, 0, 265, 51, 19], False]\n",
      "==> Success!!!\n",
      "Processing: [[0, 0, 0, 0, 265, 51, 16, 86, 29], False]\n",
      "==> Success!!!\n",
      "Processing: [[0, 0, 0, 0, 0, 0, 91, 86, 28], False]\n",
      "==> Success!!!\n",
      "Processing: [[0, 0, 0, 0, 0, 167, 50, 11, 27], False]\n",
      "==> Success!!!\n",
      "Processing: [[0, 0, 0, 0, 0, 40, 17, 11, 4], False]\n",
      "==> Success!!!\n",
      "Processing: [[0, 0, 0, 0, 0, 0, 0, 0, 20], True]\n",
      "==> Success!!!\n",
      "Processing: [[0, 0, 0, 0, 0, 0, 0, 0, 30], True]\n",
      "==> Success!!!\n",
      "Processing: [[0, 0, 0, 0, 0, 0, 0, 0, 40], True]\n",
      "==> Success!!!\n",
      "Processing: [[0, 0, 0, 0, 0, 0, 20, 30, 40], True]\n",
      "==> Success!!!\n",
      "Processing: [[4, 15, 9, 10, 9, 4, 14, 8, 9], False]\n",
      "==> Success!!!\n",
      "Processing: [[11, 25, 89, 36, 20, 44, 21, 12, 3], False]\n",
      "==> Success!!!\n",
      "Processing: [[1, 2, 3, 10, 1, 1, 2, 10, 9], False]\n",
      "==> Success!!!\n",
      "Processing: [[0, 13, 12, 17, 44, 18, 11, 3, 3], False]\n",
      "==> Success!!!\n",
      "Processing: [[0, 0, 0, 0, 0, 35, 0, 0, 0], False]\n",
      "==> Success!!!\n",
      "Processing: [[1, 2, 1, 3, 2, 1, 2, 7, 8], True]\n",
      "==> Success!!!\n",
      "Processing: [[2, 3, 2, 6, 3, 2, 1, 0, 0], False]\n",
      "==> Success!!!\n",
      "Processing: [[3, 11, 17, 6, 6, 6, 6, 11, 1], False]\n",
      "==> Success!!!\n",
      "Processing: [[3, 0, 0, 0, 0, 0, 0, 2, 0], False]\n",
      "==> Success!!!\n",
      "Processing: [[3, 4, 3, 5, 5, 3, 11, 3, 1], False]\n",
      "==> Success!!!\n",
      "Processing: [[3, 6, 6, 6, 6, 11, 1, 4, 5], False]\n",
      "==> Success!!!\n",
      "Processing: [[39, 51, 16, 86, 36, 20, 45, 19, 9], False]\n",
      "==> Success!!!\n",
      "Processing: [[6, 1, 3, 1, 2, 2, 3, 4, 2], False]\n",
      "==> Success!!!\n",
      "Processing: [[2, 3, 5, 2, 1, 3, 3, 3, 1], False]\n",
      "==> Success!!!\n",
      "Processing: [[2, 20, 13, 16, 21, 9, 8, 8, 6], False]\n",
      "==> Success!!!\n",
      "Processing: [[2, 3, 4, 4, 6, 16, 18, 16, 21], True]\n",
      "==> Success!!!\n",
      "Processing: [[3, 0, 0, 0, 0, 1, 0, 0, 0], False]\n",
      "==> Success!!!\n",
      "Processing: [[116, 224, 105, 39, 27, 23, 50, 22, 11], False]\n",
      "==> Success!!!\n",
      "Processing: [[0, 0, 1, 0, 2, 1, 1, 1, 0], False]\n",
      "==> Success!!!\n",
      "TOTAL FAILURES: 0/38\n"
     ]
    }
   ],
   "source": [
    "failed_cases = evaluate_test_case(test_data, home_made_approach_1, verbose=False)"
   ]
  },
  {
   "cell_type": "code",
   "execution_count": 142,
   "metadata": {
    "collapsed": false
   },
   "outputs": [
    {
     "name": "stdout",
     "output_type": "stream",
     "text": [
      "TOTAL FAILURES: 0/0\n"
     ]
    },
    {
     "data": {
      "text/plain": [
       "[]"
      ]
     },
     "execution_count": 142,
     "metadata": {},
     "output_type": "execute_result"
    }
   ],
   "source": [
    "evaluate_test_case(failed_cases, home_made_approach_1, verbose=True)"
   ]
  },
  {
   "cell_type": "code",
   "execution_count": null,
   "metadata": {
    "collapsed": true
   },
   "outputs": [],
   "source": []
  }
 ],
 "metadata": {
  "kernelspec": {
   "display_name": "Python 2",
   "language": "python",
   "name": "python2"
  },
  "language_info": {
   "codemirror_mode": {
    "name": "ipython",
    "version": 2
   },
   "file_extension": ".py",
   "mimetype": "text/x-python",
   "name": "python",
   "nbconvert_exporter": "python",
   "pygments_lexer": "ipython2",
   "version": "2.7.10"
  }
 },
 "nbformat": 4,
 "nbformat_minor": 0
}
