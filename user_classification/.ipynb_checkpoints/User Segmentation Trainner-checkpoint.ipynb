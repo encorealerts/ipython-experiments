{
 "cells": [
  {
   "cell_type": "code",
   "execution_count": 7,
   "metadata": {
    "collapsed": false
   },
   "outputs": [],
   "source": [
    "import pandas as pd\n",
    "\n",
    "brands_tweets = pd.read_csv('data/csv/brand_trainned.csv', engine='python')\n",
    "brands_tweets['class'] = 'business'\n",
    "\n",
    "person_tweets = pd.read_csv('data/csv/person_heuristic_trained.csv', engine='python', encoding='utf-8')\n",
    "brands_tweets['class'] = 'person'\n",
    "\n",
    "tweets = pd.concat([person_tweets, brands_tweets])"
   ]
  },
  {
   "cell_type": "code",
   "execution_count": 9,
   "metadata": {
    "collapsed": false
   },
   "outputs": [
    {
     "data": {
      "text/html": [
       "<div>\n",
       "<table border=\"1\" class=\"dataframe\">\n",
       "  <thead>\n",
       "    <tr style=\"text-align: right;\">\n",
       "      <th></th>\n",
       "      <th>actor_favorites_count</th>\n",
       "      <th>score</th>\n",
       "      <th>tweet_hashtags_count</th>\n",
       "      <th>tweet_mentions_count</th>\n",
       "      <th>tweet_symbols_count</th>\n",
       "      <th>tweet_trends_count</th>\n",
       "      <th>tweet_urls_count</th>\n",
       "    </tr>\n",
       "  </thead>\n",
       "  <tbody>\n",
       "    <tr>\n",
       "      <th>count</th>\n",
       "      <td>9797.000000</td>\n",
       "      <td>8477.000000</td>\n",
       "      <td>9788.000000</td>\n",
       "      <td>9788.000000</td>\n",
       "      <td>9788.000000</td>\n",
       "      <td>8477</td>\n",
       "      <td>9788.000000</td>\n",
       "    </tr>\n",
       "    <tr>\n",
       "      <th>mean</th>\n",
       "      <td>4030.949372</td>\n",
       "      <td>0.678686</td>\n",
       "      <td>0.638946</td>\n",
       "      <td>1.199428</td>\n",
       "      <td>0.001532</td>\n",
       "      <td>0</td>\n",
       "      <td>0.597262</td>\n",
       "    </tr>\n",
       "    <tr>\n",
       "      <th>std</th>\n",
       "      <td>11433.135279</td>\n",
       "      <td>0.076275</td>\n",
       "      <td>1.021483</td>\n",
       "      <td>0.933177</td>\n",
       "      <td>0.046296</td>\n",
       "      <td>0</td>\n",
       "      <td>0.504846</td>\n",
       "    </tr>\n",
       "    <tr>\n",
       "      <th>min</th>\n",
       "      <td>0.000000</td>\n",
       "      <td>0.660000</td>\n",
       "      <td>0.000000</td>\n",
       "      <td>0.000000</td>\n",
       "      <td>0.000000</td>\n",
       "      <td>0</td>\n",
       "      <td>0.000000</td>\n",
       "    </tr>\n",
       "    <tr>\n",
       "      <th>25%</th>\n",
       "      <td>135.000000</td>\n",
       "      <td>0.660000</td>\n",
       "      <td>0.000000</td>\n",
       "      <td>1.000000</td>\n",
       "      <td>0.000000</td>\n",
       "      <td>0</td>\n",
       "      <td>0.000000</td>\n",
       "    </tr>\n",
       "    <tr>\n",
       "      <th>50%</th>\n",
       "      <td>871.000000</td>\n",
       "      <td>0.660000</td>\n",
       "      <td>0.000000</td>\n",
       "      <td>1.000000</td>\n",
       "      <td>0.000000</td>\n",
       "      <td>0</td>\n",
       "      <td>1.000000</td>\n",
       "    </tr>\n",
       "    <tr>\n",
       "      <th>75%</th>\n",
       "      <td>3403.000000</td>\n",
       "      <td>0.660000</td>\n",
       "      <td>1.000000</td>\n",
       "      <td>2.000000</td>\n",
       "      <td>0.000000</td>\n",
       "      <td>0</td>\n",
       "      <td>1.000000</td>\n",
       "    </tr>\n",
       "    <tr>\n",
       "      <th>max</th>\n",
       "      <td>293649.000000</td>\n",
       "      <td>0.990000</td>\n",
       "      <td>14.000000</td>\n",
       "      <td>9.000000</td>\n",
       "      <td>3.000000</td>\n",
       "      <td>0</td>\n",
       "      <td>3.000000</td>\n",
       "    </tr>\n",
       "  </tbody>\n",
       "</table>\n",
       "</div>"
      ],
      "text/plain": [
       "       actor_favorites_count        score  tweet_hashtags_count  \\\n",
       "count            9797.000000  8477.000000           9788.000000   \n",
       "mean             4030.949372     0.678686              0.638946   \n",
       "std             11433.135279     0.076275              1.021483   \n",
       "min                 0.000000     0.660000              0.000000   \n",
       "25%               135.000000     0.660000              0.000000   \n",
       "50%               871.000000     0.660000              0.000000   \n",
       "75%              3403.000000     0.660000              1.000000   \n",
       "max            293649.000000     0.990000             14.000000   \n",
       "\n",
       "       tweet_mentions_count  tweet_symbols_count  tweet_trends_count  \\\n",
       "count           9788.000000          9788.000000                8477   \n",
       "mean               1.199428             0.001532                   0   \n",
       "std                0.933177             0.046296                   0   \n",
       "min                0.000000             0.000000                   0   \n",
       "25%                1.000000             0.000000                   0   \n",
       "50%                1.000000             0.000000                   0   \n",
       "75%                2.000000             0.000000                   0   \n",
       "max                9.000000             3.000000                   0   \n",
       "\n",
       "       tweet_urls_count  \n",
       "count       9788.000000  \n",
       "mean           0.597262  \n",
       "std            0.504846  \n",
       "min            0.000000  \n",
       "25%            0.000000  \n",
       "50%            1.000000  \n",
       "75%            1.000000  \n",
       "max            3.000000  "
      ]
     },
     "execution_count": 9,
     "metadata": {},
     "output_type": "execute_result"
    }
   ],
   "source": [
    "tweets.describe()"
   ]
  },
  {
   "cell_type": "code",
   "execution_count": 10,
   "metadata": {
    "collapsed": false
   },
   "outputs": [
    {
     "ename": "ImportError",
     "evalue": "No module named nltk",
     "output_type": "error",
     "traceback": [
      "\u001b[0;31m---------------------------------------------------------------------------\u001b[0m",
      "\u001b[0;31mImportError\u001b[0m                               Traceback (most recent call last)",
      "\u001b[0;32m<ipython-input-10-ad977b674bd8>\u001b[0m in \u001b[0;36m<module>\u001b[0;34m()\u001b[0m\n\u001b[1;32m      1\u001b[0m \u001b[0;31m### Testing\u001b[0m\u001b[0;34m\u001b[0m\u001b[0;34m\u001b[0m\u001b[0m\n\u001b[0;32m----> 2\u001b[0;31m \u001b[0;32mimport\u001b[0m \u001b[0mnltk\u001b[0m\u001b[0;34m\u001b[0m\u001b[0m\n\u001b[0m\u001b[1;32m      3\u001b[0m \u001b[0;32mfrom\u001b[0m \u001b[0msklearn\u001b[0m\u001b[0;34m.\u001b[0m\u001b[0mfeature_extraction\u001b[0m\u001b[0;34m.\u001b[0m\u001b[0mtext\u001b[0m \u001b[0;32mimport\u001b[0m \u001b[0mCountVectorizer\u001b[0m\u001b[0;34m\u001b[0m\u001b[0m\n\u001b[1;32m      4\u001b[0m \u001b[0;32mfrom\u001b[0m \u001b[0msklearn\u001b[0m\u001b[0;34m.\u001b[0m\u001b[0mfeature_selection\u001b[0m \u001b[0;32mimport\u001b[0m \u001b[0mSelectPercentile\u001b[0m\u001b[0;34m\u001b[0m\u001b[0m\n\u001b[1;32m      5\u001b[0m \u001b[0;32mfrom\u001b[0m \u001b[0msklearn\u001b[0m\u001b[0;34m.\u001b[0m\u001b[0mfeature_selection\u001b[0m \u001b[0;32mimport\u001b[0m \u001b[0mchi2\u001b[0m\u001b[0;34m\u001b[0m\u001b[0m\n",
      "\u001b[0;31mImportError\u001b[0m: No module named nltk"
     ]
    }
   ],
   "source": [
    "### Testing\n",
    "import nltk\n",
    "\n",
    "from sklearn.feature_extraction.text import CountVectorizer\n",
    "from sklearn.feature_selection import SelectPercentile\n",
    "from sklearn.feature_selection import chi2\n",
    "\n",
    "#new_features = sparse.hstack((text_features, other_features)).tocsr()\n",
    "\n",
    "select = SelectPercentile(score_func=chi2, percentile=16)\n",
    "\n",
    "countvect_words = CountVectorizer(ngram_range=(1, 2), \n",
    "                                  analyzer=\"word\", \n",
    "                                  binary=False, \n",
    "                                  decode_error='ignore')\n",
    "countvect_words.fit_transform(tweets['actor_name'])"
   ]
  },
  {
   "cell_type": "code",
   "execution_count": null,
   "metadata": {
    "collapsed": true
   },
   "outputs": [],
   "source": []
  }
 ],
 "metadata": {
  "kernelspec": {
   "display_name": "Python 2",
   "language": "python",
   "name": "python2"
  },
  "language_info": {
   "codemirror_mode": {
    "name": "ipython",
    "version": 2
   },
   "file_extension": ".py",
   "mimetype": "text/x-python",
   "name": "python",
   "nbconvert_exporter": "python",
   "pygments_lexer": "ipython2",
   "version": "2.7.10"
  }
 },
 "nbformat": 4,
 "nbformat_minor": 0
}
