{
 "cells": [
  {
   "cell_type": "code",
   "execution_count": 2,
   "metadata": {
    "collapsed": true
   },
   "outputs": [],
   "source": [
    "import numpy as np\n",
    "import pandas as pd\n",
    "import matplotlib.pyplot as plt\n",
    "\n",
    "import nltk\n",
    "from nltk import word_tokenize\n",
    "\n",
    "from sklearn.cross_validation import KFold\n",
    "from sklearn.linear_model import LogisticRegression\n",
    "from sklearn.ensemble import RandomForestClassifier\n",
    "from sklearn.metrics import confusion_matrix\n",
    "from sklearn.externals import joblib\n",
    "\n",
    "from sklearn.feature_extraction.text import CountVectorizer"
   ]
  },
  {
   "cell_type": "code",
   "execution_count": 3,
   "metadata": {
    "collapsed": false
   },
   "outputs": [],
   "source": [
    "train = pd.read_csv(open('data/manually_categorized/actor_classification_train.csv','rU'),\n",
    "                    engine='python', sep=\",\", quoting=1)"
   ]
  },
  {
   "cell_type": "code",
   "execution_count": 4,
   "metadata": {
    "collapsed": false
   },
   "outputs": [
    {
     "data": {
      "text/html": [
       "<div style=\"max-height:1000px;max-width:1500px;overflow:auto;\">\n",
       "<table border=\"1\" class=\"dataframe\">\n",
       "  <thead>\n",
       "    <tr style=\"text-align: right;\">\n",
       "      <th></th>\n",
       "      <th>name</th>\n",
       "      <th>screen_name</th>\n",
       "      <th>lang</th>\n",
       "      <th>favourites_count</th>\n",
       "      <th>statuses_count</th>\n",
       "      <th>friends_count</th>\n",
       "      <th>summary</th>\n",
       "      <th>followers_count</th>\n",
       "      <th>link</th>\n",
       "      <th>listed_count</th>\n",
       "      <th>verified</th>\n",
       "      <th>segment</th>\n",
       "      <th>manual_segment</th>\n",
       "    </tr>\n",
       "  </thead>\n",
       "  <tbody>\n",
       "    <tr>\n",
       "      <th>0</th>\n",
       "      <td>Guy</td>\n",
       "      <td>ZZ0</td>\n",
       "      <td>en</td>\n",
       "      <td>394</td>\n",
       "      <td>14626</td>\n",
       "      <td>122072</td>\n",
       "      <td>Martial arts, contortion, 7-string elec violin...</td>\n",
       "      <td>122030</td>\n",
       "      <td>http://www.twitter.com/ZZ0</td>\n",
       "      <td>745</td>\n",
       "      <td>False</td>\n",
       "      <td>person</td>\n",
       "      <td>0</td>\n",
       "    </tr>\n",
       "    <tr>\n",
       "      <th>1</th>\n",
       "      <td>party here</td>\n",
       "      <td>zxynisgod</td>\n",
       "      <td>es</td>\n",
       "      <td>75357</td>\n",
       "      <td>169818</td>\n",
       "      <td>44087</td>\n",
       "      <td>���I hate One Direction.�� -people who have lo...</td>\n",
       "      <td>72756</td>\n",
       "      <td>http://www.twitter.com/zxynisgod</td>\n",
       "      <td>327</td>\n",
       "      <td>False</td>\n",
       "      <td>person</td>\n",
       "      <td>1</td>\n",
       "    </tr>\n",
       "    <tr>\n",
       "      <th>2</th>\n",
       "      <td>?��</td>\n",
       "      <td>Zxntio</td>\n",
       "      <td>en</td>\n",
       "      <td>24372</td>\n",
       "      <td>38662</td>\n",
       "      <td>118</td>\n",
       "      <td>@rantzantio</td>\n",
       "      <td>119602</td>\n",
       "      <td>http://www.twitter.com/Zxntio</td>\n",
       "      <td>5</td>\n",
       "      <td>False</td>\n",
       "      <td>business</td>\n",
       "      <td>1</td>\n",
       "    </tr>\n",
       "    <tr>\n",
       "      <th>3</th>\n",
       "      <td>�_܃_܃_܃_܃_܃_܃_܃_܃_܃_܃_܃_܃_܃_܃_܃_܃_܃_܃_܃_</td>\n",
       "      <td>zxkia</td>\n",
       "      <td>en-gb</td>\n",
       "      <td>9874</td>\n",
       "      <td>119158</td>\n",
       "      <td>127928</td>\n",
       "      <td>Don't take me seriously. || Turn off rts &amp; tur...</td>\n",
       "      <td>197890</td>\n",
       "      <td>http://www.twitter.com/zxkia</td>\n",
       "      <td>170</td>\n",
       "      <td>False</td>\n",
       "      <td>person</td>\n",
       "      <td>0</td>\n",
       "    </tr>\n",
       "    <tr>\n",
       "      <th>4</th>\n",
       "      <td>NaN</td>\n",
       "      <td>Zxkia</td>\n",
       "      <td>en</td>\n",
       "      <td>94</td>\n",
       "      <td>5514</td>\n",
       "      <td>12563</td>\n",
       "      <td>Somewhere between I want it and I got it. ~ Pr...</td>\n",
       "      <td>24316</td>\n",
       "      <td>http://twitter.com/Zxkia</td>\n",
       "      <td>NaN</td>\n",
       "      <td>NaN</td>\n",
       "      <td>NaN</td>\n",
       "      <td>0</td>\n",
       "    </tr>\n",
       "  </tbody>\n",
       "</table>\n",
       "</div>"
      ],
      "text/plain": [
       "                                       name screen_name   lang  \\\n",
       "0                                       Guy         ZZ0     en   \n",
       "1                               party here    zxynisgod     es   \n",
       "2                                       ?��      Zxntio     en   \n",
       "3  �_܃_܃_܃_܃_܃_܃_܃_܃_܃_܃_܃_܃_܃_܃_܃_܃_܃_܃_܃_       zxkia  en-gb   \n",
       "4                                       NaN       Zxkia     en   \n",
       "\n",
       "   favourites_count  statuses_count  friends_count  \\\n",
       "0               394           14626         122072   \n",
       "1             75357          169818          44087   \n",
       "2             24372           38662            118   \n",
       "3              9874          119158         127928   \n",
       "4                94            5514          12563   \n",
       "\n",
       "                                             summary  followers_count  \\\n",
       "0  Martial arts, contortion, 7-string elec violin...           122030   \n",
       "1  ���I hate One Direction.�� -people who have lo...            72756   \n",
       "2                                        @rantzantio           119602   \n",
       "3  Don't take me seriously. || Turn off rts & tur...           197890   \n",
       "4  Somewhere between I want it and I got it. ~ Pr...            24316   \n",
       "\n",
       "                               link  listed_count verified   segment  \\\n",
       "0        http://www.twitter.com/ZZ0           745    False    person   \n",
       "1  http://www.twitter.com/zxynisgod           327    False    person   \n",
       "2     http://www.twitter.com/Zxntio             5    False  business   \n",
       "3      http://www.twitter.com/zxkia           170    False    person   \n",
       "4          http://twitter.com/Zxkia           NaN      NaN       NaN   \n",
       "\n",
       "   manual_segment  \n",
       "0               0  \n",
       "1               1  \n",
       "2               1  \n",
       "3               0  \n",
       "4               0  "
      ]
     },
     "execution_count": 4,
     "metadata": {},
     "output_type": "execute_result"
    }
   ],
   "source": [
    "train.head()"
   ]
  },
  {
   "cell_type": "code",
   "execution_count": 5,
   "metadata": {
    "collapsed": false
   },
   "outputs": [
    {
     "data": {
      "text/html": [
       "<div style=\"max-height:1000px;max-width:1500px;overflow:auto;\">\n",
       "<table border=\"1\" class=\"dataframe\">\n",
       "  <thead>\n",
       "    <tr style=\"text-align: right;\">\n",
       "      <th></th>\n",
       "      <th>name</th>\n",
       "      <th>screen_name</th>\n",
       "      <th>lang</th>\n",
       "      <th>favourites_count</th>\n",
       "      <th>statuses_count</th>\n",
       "      <th>friends_count</th>\n",
       "      <th>summary</th>\n",
       "      <th>followers_count</th>\n",
       "      <th>link</th>\n",
       "      <th>listed_count</th>\n",
       "      <th>verified</th>\n",
       "      <th>segment</th>\n",
       "      <th>manual_segment</th>\n",
       "    </tr>\n",
       "  </thead>\n",
       "  <tbody>\n",
       "    <tr>\n",
       "      <th>20246</th>\n",
       "      <td>DOSE</td>\n",
       "      <td>___Dose___</td>\n",
       "      <td>en</td>\n",
       "      <td>8</td>\n",
       "      <td>20194</td>\n",
       "      <td>12</td>\n",
       "      <td>A Strong Dose of Amazing People, Places, and T...</td>\n",
       "      <td>421003</td>\n",
       "      <td>http://www.twitter.com/___Dose___</td>\n",
       "      <td>2949</td>\n",
       "      <td>False</td>\n",
       "      <td>person</td>\n",
       "      <td>0</td>\n",
       "    </tr>\n",
       "    <tr>\n",
       "      <th>20247</th>\n",
       "      <td>One Direction News</td>\n",
       "      <td>_______1d_4ever</td>\n",
       "      <td>en</td>\n",
       "      <td>0</td>\n",
       "      <td>18578</td>\n",
       "      <td>37552</td>\n",
       "      <td>All the latest One Direction news from around ...</td>\n",
       "      <td>46205</td>\n",
       "      <td>http://www.twitter.com/_______1d_4ever</td>\n",
       "      <td>46</td>\n",
       "      <td>False</td>\n",
       "      <td>person</td>\n",
       "      <td>0</td>\n",
       "    </tr>\n",
       "    <tr>\n",
       "      <th>20248</th>\n",
       "      <td>Tyrne Clark</td>\n",
       "      <td>10223335</td>\n",
       "      <td>en</td>\n",
       "      <td>467</td>\n",
       "      <td>13481</td>\n",
       "      <td>60692</td>\n",
       "      <td>Shouldn't a strange and wonderful world be ful...</td>\n",
       "      <td>58620</td>\n",
       "      <td>http://www.twitter.com/10223335</td>\n",
       "      <td>54</td>\n",
       "      <td>False</td>\n",
       "      <td>person</td>\n",
       "      <td>1</td>\n",
       "    </tr>\n",
       "    <tr>\n",
       "      <th>20249</th>\n",
       "      <td>1776</td>\n",
       "      <td>1776</td>\n",
       "      <td>en</td>\n",
       "      <td>6586</td>\n",
       "      <td>9746</td>\n",
       "      <td>1293</td>\n",
       "      <td>Global incubator &amp; seed fund helping startups ...</td>\n",
       "      <td>87459</td>\n",
       "      <td>http://www.twitter.com/1776</td>\n",
       "      <td>1125</td>\n",
       "      <td>False</td>\n",
       "      <td>person</td>\n",
       "      <td>0</td>\n",
       "    </tr>\n",
       "    <tr>\n",
       "      <th>20250</th>\n",
       "      <td>350 dot org</td>\n",
       "      <td>350</td>\n",
       "      <td>en</td>\n",
       "      <td>1153</td>\n",
       "      <td>25876</td>\n",
       "      <td>19502</td>\n",
       "      <td>Join a global movement that's inspiring the wo...</td>\n",
       "      <td>266424</td>\n",
       "      <td>http://www.twitter.com/350</td>\n",
       "      <td>5870</td>\n",
       "      <td>True</td>\n",
       "      <td>person</td>\n",
       "      <td>0</td>\n",
       "    </tr>\n",
       "  </tbody>\n",
       "</table>\n",
       "</div>"
      ],
      "text/plain": [
       "                     name      screen_name lang  favourites_count  \\\n",
       "20246                DOSE       ___Dose___   en                 8   \n",
       "20247  One Direction News  _______1d_4ever   en                 0   \n",
       "20248         Tyrne Clark         10223335   en               467   \n",
       "20249                1776             1776   en              6586   \n",
       "20250         350 dot org              350   en              1153   \n",
       "\n",
       "       statuses_count  friends_count  \\\n",
       "20246           20194             12   \n",
       "20247           18578          37552   \n",
       "20248           13481          60692   \n",
       "20249            9746           1293   \n",
       "20250           25876          19502   \n",
       "\n",
       "                                                 summary  followers_count  \\\n",
       "20246  A Strong Dose of Amazing People, Places, and T...           421003   \n",
       "20247  All the latest One Direction news from around ...            46205   \n",
       "20248  Shouldn't a strange and wonderful world be ful...            58620   \n",
       "20249  Global incubator & seed fund helping startups ...            87459   \n",
       "20250  Join a global movement that's inspiring the wo...           266424   \n",
       "\n",
       "                                         link  listed_count verified segment  \\\n",
       "20246       http://www.twitter.com/___Dose___          2949    False  person   \n",
       "20247  http://www.twitter.com/_______1d_4ever            46    False  person   \n",
       "20248         http://www.twitter.com/10223335            54    False  person   \n",
       "20249             http://www.twitter.com/1776          1125    False  person   \n",
       "20250              http://www.twitter.com/350          5870     True  person   \n",
       "\n",
       "       manual_segment  \n",
       "20246               0  \n",
       "20247               0  \n",
       "20248               1  \n",
       "20249               0  \n",
       "20250               0  "
      ]
     },
     "execution_count": 5,
     "metadata": {},
     "output_type": "execute_result"
    }
   ],
   "source": [
    "train.tail()"
   ]
  },
  {
   "cell_type": "code",
   "execution_count": 6,
   "metadata": {
    "collapsed": false
   },
   "outputs": [
    {
     "data": {
      "text/html": [
       "<div style=\"max-height:1000px;max-width:1500px;overflow:auto;\">\n",
       "<table border=\"1\" class=\"dataframe\">\n",
       "  <thead>\n",
       "    <tr style=\"text-align: right;\">\n",
       "      <th></th>\n",
       "      <th>favourites_count</th>\n",
       "      <th>statuses_count</th>\n",
       "      <th>friends_count</th>\n",
       "      <th>followers_count</th>\n",
       "      <th>listed_count</th>\n",
       "      <th>manual_segment</th>\n",
       "    </tr>\n",
       "  </thead>\n",
       "  <tbody>\n",
       "    <tr>\n",
       "      <th>count</th>\n",
       "      <td>19849.000000</td>\n",
       "      <td>20208.000000</td>\n",
       "      <td>20203.000000</td>\n",
       "      <td>20216.000000</td>\n",
       "      <td>20060.000000</td>\n",
       "      <td>20251.000000</td>\n",
       "    </tr>\n",
       "    <tr>\n",
       "      <th>mean</th>\n",
       "      <td>6691.346718</td>\n",
       "      <td>43963.012371</td>\n",
       "      <td>25274.769242</td>\n",
       "      <td>253450.126336</td>\n",
       "      <td>1416.941575</td>\n",
       "      <td>0.533159</td>\n",
       "    </tr>\n",
       "    <tr>\n",
       "      <th>std</th>\n",
       "      <td>21815.667141</td>\n",
       "      <td>86924.189569</td>\n",
       "      <td>54316.675200</td>\n",
       "      <td>1394768.599471</td>\n",
       "      <td>6656.891966</td>\n",
       "      <td>0.498912</td>\n",
       "    </tr>\n",
       "    <tr>\n",
       "      <th>min</th>\n",
       "      <td>0.000000</td>\n",
       "      <td>1.000000</td>\n",
       "      <td>-1356.000000</td>\n",
       "      <td>3.000000</td>\n",
       "      <td>0.000000</td>\n",
       "      <td>0.000000</td>\n",
       "    </tr>\n",
       "    <tr>\n",
       "      <th>25%</th>\n",
       "      <td>88.000000</td>\n",
       "      <td>5959.750000</td>\n",
       "      <td>458.000000</td>\n",
       "      <td>54378.500000</td>\n",
       "      <td>107.000000</td>\n",
       "      <td>0.000000</td>\n",
       "    </tr>\n",
       "    <tr>\n",
       "      <th>50%</th>\n",
       "      <td>851.000000</td>\n",
       "      <td>17867.000000</td>\n",
       "      <td>2435.000000</td>\n",
       "      <td>81594.500000</td>\n",
       "      <td>359.000000</td>\n",
       "      <td>1.000000</td>\n",
       "    </tr>\n",
       "    <tr>\n",
       "      <th>75%</th>\n",
       "      <td>4434.000000</td>\n",
       "      <td>46979.000000</td>\n",
       "      <td>33536.000000</td>\n",
       "      <td>156320.250000</td>\n",
       "      <td>1198.000000</td>\n",
       "      <td>1.000000</td>\n",
       "    </tr>\n",
       "    <tr>\n",
       "      <th>max</th>\n",
       "      <td>685477.000000</td>\n",
       "      <td>2372600.000000</td>\n",
       "      <td>1004606.000000</td>\n",
       "      <td>77803396.000000</td>\n",
       "      <td>626947.000000</td>\n",
       "      <td>1.000000</td>\n",
       "    </tr>\n",
       "  </tbody>\n",
       "</table>\n",
       "</div>"
      ],
      "text/plain": [
       "       favourites_count  statuses_count   friends_count  followers_count  \\\n",
       "count      19849.000000    20208.000000    20203.000000     20216.000000   \n",
       "mean        6691.346718    43963.012371    25274.769242    253450.126336   \n",
       "std        21815.667141    86924.189569    54316.675200   1394768.599471   \n",
       "min            0.000000        1.000000    -1356.000000         3.000000   \n",
       "25%           88.000000     5959.750000      458.000000     54378.500000   \n",
       "50%          851.000000    17867.000000     2435.000000     81594.500000   \n",
       "75%         4434.000000    46979.000000    33536.000000    156320.250000   \n",
       "max       685477.000000  2372600.000000  1004606.000000  77803396.000000   \n",
       "\n",
       "        listed_count  manual_segment  \n",
       "count   20060.000000    20251.000000  \n",
       "mean     1416.941575        0.533159  \n",
       "std      6656.891966        0.498912  \n",
       "min         0.000000        0.000000  \n",
       "25%       107.000000        0.000000  \n",
       "50%       359.000000        1.000000  \n",
       "75%      1198.000000        1.000000  \n",
       "max    626947.000000        1.000000  "
      ]
     },
     "execution_count": 6,
     "metadata": {},
     "output_type": "execute_result"
    }
   ],
   "source": [
    "train.describe()"
   ]
  },
  {
   "cell_type": "markdown",
   "metadata": {},
   "source": [
    "# Feature Engineering"
   ]
  },
  {
   "cell_type": "markdown",
   "metadata": {},
   "source": [
    "## Non-relevant columns"
   ]
  },
  {
   "cell_type": "code",
   "execution_count": 7,
   "metadata": {
    "collapsed": false
   },
   "outputs": [],
   "source": [
    "train = train.drop([\"segment\"], axis=1)\n",
    "train = train.drop([\"link\"], axis=1)"
   ]
  },
  {
   "cell_type": "markdown",
   "metadata": {},
   "source": [
    "## Boolean fields"
   ]
  },
  {
   "cell_type": "code",
   "execution_count": 8,
   "metadata": {
    "collapsed": false
   },
   "outputs": [
    {
     "data": {
      "text/plain": [
       "[False, nan, True]"
      ]
     },
     "execution_count": 8,
     "metadata": {},
     "output_type": "execute_result"
    }
   ],
   "source": [
    "list(set(train.verified))"
   ]
  },
  {
   "cell_type": "code",
   "execution_count": 9,
   "metadata": {
    "collapsed": false
   },
   "outputs": [
    {
     "data": {
      "text/plain": [
       "425"
      ]
     },
     "execution_count": 9,
     "metadata": {},
     "output_type": "execute_result"
    }
   ],
   "source": [
    "len(train[train.verified.isnull()])"
   ]
  },
  {
   "cell_type": "code",
   "execution_count": 10,
   "metadata": {
    "collapsed": true
   },
   "outputs": [],
   "source": [
    "train.ix[train.verified.isnull(), 'verified'] = False\n",
    "train.ix[train.verified == True,  'verified'] = 1\n",
    "train.ix[train.verified == False, 'verified'] = 0"
   ]
  },
  {
   "cell_type": "code",
   "execution_count": 11,
   "metadata": {
    "collapsed": false
   },
   "outputs": [
    {
     "data": {
      "text/plain": [
       "[0, 1]"
      ]
     },
     "execution_count": 11,
     "metadata": {},
     "output_type": "execute_result"
    }
   ],
   "source": [
    "list(set(train.verified))"
   ]
  },
  {
   "cell_type": "markdown",
   "metadata": {},
   "source": [
    "## Text columns"
   ]
  },
  {
   "cell_type": "markdown",
   "metadata": {},
   "source": [
    "### OneHotEncoding for lang"
   ]
  },
  {
   "cell_type": "code",
   "execution_count": 12,
   "metadata": {
    "collapsed": false
   },
   "outputs": [],
   "source": [
    "# Simple manual OHE\n",
    "if \"lang\" in train:\n",
    "    train.ix[(train.lang == 'Select Language...') | (train.lang.isnull()), 'lang'] = None\n",
    "    for lang in list(set(train.lang)):\n",
    "        if lang != None:\n",
    "            train.ix[train.lang == lang, \"lang_\"+lang] = 1\n",
    "            train.ix[train.lang != lang, \"lang_\"+lang] = 0\n",
    "    train = train.drop([\"lang\"], axis=1)"
   ]
  },
  {
   "cell_type": "markdown",
   "metadata": {},
   "source": [
    "### Treat special characters"
   ]
  },
  {
   "cell_type": "code",
   "execution_count": 13,
   "metadata": {
    "collapsed": false
   },
   "outputs": [
    {
     "data": {
      "text/html": [
       "<div style=\"max-height:1000px;max-width:1500px;overflow:auto;\">\n",
       "<table border=\"1\" class=\"dataframe\">\n",
       "  <thead>\n",
       "    <tr style=\"text-align: right;\">\n",
       "      <th></th>\n",
       "      <th>name</th>\n",
       "      <th>screen_name</th>\n",
       "      <th>summary</th>\n",
       "    </tr>\n",
       "  </thead>\n",
       "  <tbody>\n",
       "    <tr>\n",
       "      <th>0</th>\n",
       "      <td>Guy</td>\n",
       "      <td>ZZ0</td>\n",
       "      <td>Martial arts, contortion, 0-string elec violin...</td>\n",
       "    </tr>\n",
       "    <tr>\n",
       "      <th>1</th>\n",
       "      <td>party here</td>\n",
       "      <td>zxynisgod</td>\n",
       "      <td>999I hate One Direction.999 -people who have l...</td>\n",
       "    </tr>\n",
       "    <tr>\n",
       "      <th>2</th>\n",
       "      <td>?99</td>\n",
       "      <td>Zxntio</td>\n",
       "      <td>@rantzantio</td>\n",
       "    </tr>\n",
       "    <tr>\n",
       "      <th>3</th>\n",
       "      <td>99_99_99_99_99_99_99_99_99_99_99_99_99_99_99_9...</td>\n",
       "      <td>zxkia</td>\n",
       "      <td>Don't take me seriously. || Turn off rts &amp; tur...</td>\n",
       "    </tr>\n",
       "    <tr>\n",
       "      <th>4</th>\n",
       "      <td>null</td>\n",
       "      <td>Zxkia</td>\n",
       "      <td>Somewhere between I want it and I got it. ~ Pr...</td>\n",
       "    </tr>\n",
       "  </tbody>\n",
       "</table>\n",
       "</div>"
      ],
      "text/plain": [
       "                                                name screen_name  \\\n",
       "0                                                Guy         ZZ0   \n",
       "1                                        party here    zxynisgod   \n",
       "2                                                ?99      Zxntio   \n",
       "3  99_99_99_99_99_99_99_99_99_99_99_99_99_99_99_9...       zxkia   \n",
       "4                                               null       Zxkia   \n",
       "\n",
       "                                             summary  \n",
       "0  Martial arts, contortion, 0-string elec violin...  \n",
       "1  999I hate One Direction.999 -people who have l...  \n",
       "2                                        @rantzantio  \n",
       "3  Don't take me seriously. || Turn off rts & tur...  \n",
       "4  Somewhere between I want it and I got it. ~ Pr...  "
      ]
     },
     "execution_count": 13,
     "metadata": {},
     "output_type": "execute_result"
    }
   ],
   "source": [
    "text_fields = [\"name\", \"screen_name\",\"summary\"]\n",
    "\n",
    "def treat_special_char(c):\n",
    "    try:\n",
    "        return '0' if c.isdigit() else c.decode().encode(\"utf-8\")\n",
    "    except UnicodeDecodeError:\n",
    "        return '9'\n",
    "\n",
    "for field in text_fields:\n",
    "    train.ix[train[field].isnull(), field] = \"null\"\n",
    "    train[field] = map(lambda n: ''.join(map(lambda c: treat_special_char(c), list(n))), train[field].values)\n",
    "    \n",
    "train[text_fields].head()"
   ]
  },
  {
   "cell_type": "markdown",
   "metadata": {},
   "source": [
    "### CountVectorizer for 'screen_name' and 'name'"
   ]
  },
  {
   "cell_type": "code",
   "execution_count": 14,
   "metadata": {
    "collapsed": false
   },
   "outputs": [
    {
     "name": "stdout",
     "output_type": "stream",
     "text": [
      "(20251, 9631)\n",
      "(20251, 9672)\n",
      "(20251, 12459)\n",
      "(20251, 22130)\n"
     ]
    }
   ],
   "source": [
    "def num_char_tokenizer(text):\n",
    "    return list(text)\n",
    "\n",
    "for field in [\"screen_name\",\"name\"]:\n",
    "    if field in train:\n",
    "\n",
    "        field_countvect = CountVectorizer(tokenizer=num_char_tokenizer,\n",
    "                                          ngram_range=(3, 5), \n",
    "                                          analyzer=\"char\",\n",
    "                                          min_df = 8)\n",
    "\n",
    "        field_matrix = field_countvect.fit_transform(train[field])\n",
    "        features_names = map(lambda f: \"_\".join([field,f]), field_countvect.get_feature_names())\n",
    "        field_df = pd.DataFrame(field_matrix.A, columns=features_names)\n",
    "        print(field_matrix.shape)\n",
    "\n",
    "        train = pd.concat([train, field_df], axis=1, join='inner').drop([field], axis=1)\n",
    "        print(train.shape)"
   ]
  },
  {
   "cell_type": "markdown",
   "metadata": {},
   "source": [
    "### CountVectorizer for 'summary'"
   ]
  },
  {
   "cell_type": "code",
   "execution_count": 15,
   "metadata": {
    "collapsed": false
   },
   "outputs": [
    {
     "name": "stdout",
     "output_type": "stream",
     "text": [
      "(20251, 8560)\n",
      "(20251, 30689)\n"
     ]
    }
   ],
   "source": [
    "def num_word_tokenizer(text):\n",
    "    tokenizer = nltk.RegexpTokenizer(r'\\w+')\n",
    "    return tokenizer.tokenize(text)\n",
    "\n",
    "if \"summary\" in train:\n",
    "\n",
    "    summary_countvect = CountVectorizer(tokenizer=num_word_tokenizer,\n",
    "                                        ngram_range=(2, 4), \n",
    "                                        analyzer=\"word\",\n",
    "                                        min_df = 5)\n",
    "\n",
    "    summary_matrix = summary_countvect.fit_transform(train.summary)\n",
    "    features_names = map(lambda f: \"_\".join([\"summary\",f]), summary_countvect.get_feature_names())\n",
    "    summary_df = pd.DataFrame(summary_matrix.A, columns=features_names)\n",
    "    print(summary_matrix.shape)\n",
    "    train = pd.concat([train, summary_df], axis=1, join='inner').drop([\"summary\"], axis=1)\n",
    "    print(train.shape)"
   ]
  },
  {
   "cell_type": "code",
   "execution_count": 16,
   "metadata": {
    "collapsed": false
   },
   "outputs": [],
   "source": [
    "train = train.fillna(0)"
   ]
  },
  {
   "cell_type": "markdown",
   "metadata": {
    "collapsed": true
   },
   "source": [
    "# Training the model"
   ]
  },
  {
   "cell_type": "markdown",
   "metadata": {
    "collapsed": true
   },
   "source": [
    "## Logistic Regression"
   ]
  },
  {
   "cell_type": "code",
   "execution_count": 17,
   "metadata": {
    "collapsed": false
   },
   "outputs": [],
   "source": [
    "outcome = \"manual_segment\"\n",
    "\n",
    "features = list(set(train.columns) - set([outcome]))"
   ]
  },
  {
   "cell_type": "code",
   "execution_count": null,
   "metadata": {
    "collapsed": false
   },
   "outputs": [
    {
     "name": "stdout",
     "output_type": "stream",
     "text": [
      "[[308 635]\n",
      " [202 881]]\n",
      "score:0.586870681145\n",
      "[[348 587]\n",
      " [260 830]]\n",
      "score:0.581728395062\n",
      "[[347 582]\n",
      " [254 842]]\n",
      "score:0.587160493827\n",
      "[[334 612]\n",
      " [236 843]]\n",
      "score:0.581234567901\n",
      "[[345 647]\n",
      " [179 854]]\n",
      "score:0.592098765432\n",
      "[[306 644]\n",
      " [250 825]]\n",
      "score:0.558518518519\n",
      "[[301 627]\n",
      " [219 878]]\n",
      "score:0.582222222222\n",
      "[[326 601]\n",
      " [242 856]]\n",
      "score:0.583703703704\n",
      "[[299 624]\n",
      " [217 885]]\n",
      "score:0.584691358025\n",
      "[[322 659]\n",
      " [223 821]]\n",
      "score:0.564444444444\n"
     ]
    },
    {
     "name": "stderr",
     "output_type": "stream",
     "text": [
      "/Library/Python/2.7/site-packages/sklearn/cross_validation.py:69: DeprecationWarning: The indices parameter is deprecated and will be removed (assumed True) in 0.17\n",
      "  stacklevel=1)\n"
     ]
    }
   ],
   "source": [
    "k_fold = KFold(n=len(train), n_folds=10, indices=False, shuffle=True)\n",
    "b_scores, svc_scores = [], []\n",
    "\n",
    "for tr_indices, cv_indices in k_fold:\n",
    "    tr   = np.asarray(train[tr_indices][features])\n",
    "    tr_y = np.asarray(train[tr_indices][outcome])\n",
    "\n",
    "    cv   = np.asarray(train[cv_indices][features])\n",
    "    cv_y = np.asarray(train[cv_indices][outcome])\n",
    "\n",
    "    model = LogisticRegression(C=1e5)\n",
    "    model.fit(tr, tr_y)\n",
    "\n",
    "    pred_y = model.predict(cv)\n",
    "    \n",
    "    print(confusion_matrix(cv_y, pred_y))\n",
    "    print('score:' + str(model.score(cv, cv_y)))\n",
    "    \n",
    "# model = linear_model.LogisticRegression(C=1e5)\n",
    "# model.fit(train[features], train[outcome])"
   ]
  },
  {
   "cell_type": "markdown",
   "metadata": {
    "collapsed": true
   },
   "source": [
    "## Random Forest"
   ]
  },
  {
   "cell_type": "code",
   "execution_count": null,
   "metadata": {
    "collapsed": false
   },
   "outputs": [
    {
     "name": "stdout",
     "output_type": "stream",
     "text": [
      "[[667 282]\n",
      " [219 858]]\n",
      "score:0.752714708786\n",
      "[[704 272]\n",
      " [206 843]]\n",
      "score:0.763950617284\n",
      "[[697 258]\n",
      " [205 865]]\n",
      "score:0.771358024691\n",
      "[[654 264]\n",
      " [188 919]]\n",
      "score:0.776790123457\n",
      "[[659 281]\n",
      " [178 907]]\n",
      "score:0.773333333333\n",
      "[[679 278]\n",
      " [182 886]]\n",
      "score:0.772839506173\n",
      "[[701 271]\n",
      " [211 842]]\n",
      "score:0.761975308642\n",
      "[[687 271]\n",
      " [203 864]]\n",
      "score:0.765925925926"
     ]
    }
   ],
   "source": [
    "k_fold = KFold(n=len(train), n_folds=10, indices=False, shuffle=True)\n",
    "b_scores, svc_scores = [], []\n",
    "\n",
    "for tr_indices, cv_indices in k_fold:\n",
    "    tr   = np.asarray(train[tr_indices][features])\n",
    "    tr_y = np.asarray(train[tr_indices][outcome])\n",
    "\n",
    "    cv   = np.asarray(train[cv_indices][features])\n",
    "    cv_y = np.asarray(train[cv_indices][outcome])\n",
    "\n",
    "    model = RandomForestClassifier(n_estimators=25)\n",
    "    model.fit(tr, tr_y)\n",
    "\n",
    "    print(confusion_matrix(cv_y, model.predict(cv)))    \n",
    "    print('score:' + str(model.score(cv, cv_y)))\n",
    "    \n",
    "# model = RandomForestClassifier(n_estimators=25)\n",
    "# model.fit(train[features], train[outcome])"
   ]
  },
  {
   "cell_type": "code",
   "execution_count": 18,
   "metadata": {
    "collapsed": false
   },
   "outputs": [
    {
     "name": "stdout",
     "output_type": "stream",
     "text": [
      "[[651 262]\n",
      " [208 905]]\n",
      "score:0.768015794669\n",
      "[[693 280]\n",
      " [208 844]]\n",
      "score:0.759012345679\n",
      "[[667 259]\n",
      " [207 892]]\n",
      "score:0.76987654321\n",
      "[[706 259]\n",
      " [178 882]]\n",
      "score:0.784197530864\n",
      "[[676 255]\n",
      " [207 887]]\n",
      "score:0.771851851852\n",
      "[[640 290]\n",
      " [223 872]]\n",
      "score:0.746666666667\n",
      "[[668 257]\n",
      " [212 888]]\n",
      "score:0.768395061728\n",
      "[[709 271]\n",
      " [189 856]]\n",
      "score:0.772839506173\n",
      "[[677 281]\n",
      " [200 867]]\n",
      "score:0.762469135802\n",
      "[[689 264]\n",
      " [192 880]]\n",
      "score:0.774814814815\n"
     ]
    },
    {
     "name": "stderr",
     "output_type": "stream",
     "text": [
      "/Library/Python/2.7/site-packages/sklearn/cross_validation.py:69: DeprecationWarning: The indices parameter is deprecated and will be removed (assumed True) in 0.17\n",
      "  stacklevel=1)\n"
     ]
    }
   ],
   "source": [
    "k_fold = KFold(n=len(train), n_folds=10, indices=False, shuffle=True)\n",
    "b_scores, svc_scores = [], []\n",
    "\n",
    "for tr_indices, cv_indices in k_fold:\n",
    "    tr   = np.asarray(train[tr_indices][features])\n",
    "    tr_y = np.asarray(train[tr_indices][outcome])\n",
    "\n",
    "    cv   = np.asarray(train[cv_indices][features])\n",
    "    cv_y = np.asarray(train[cv_indices][outcome])\n",
    "\n",
    "    model = RandomForestClassifier(n_estimators=40)\n",
    "    model.fit(tr, tr_y)\n",
    "\n",
    "    print(confusion_matrix(cv_y, model.predict(cv)))    \n",
    "    print('score:' + str(model.score(cv, cv_y)))\n",
    "    \n",
    "# model = RandomForestClassifier(n_estimators=25)\n",
    "# model.fit(train[features], train[outcome])"
   ]
  }
 ],
 "metadata": {
  "kernelspec": {
   "display_name": "Python 2",
   "language": "python",
   "name": "python2"
  },
  "language_info": {
   "codemirror_mode": {
    "name": "ipython",
    "version": 2
   },
   "file_extension": ".py",
   "mimetype": "text/x-python",
   "name": "python",
   "nbconvert_exporter": "python",
   "pygments_lexer": "ipython2",
   "version": "2.7.10"
  }
 },
 "nbformat": 4,
 "nbformat_minor": 0
}
