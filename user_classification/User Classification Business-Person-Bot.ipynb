{
 "cells": [
  {
   "cell_type": "markdown",
   "metadata": {},
   "source": [
    "#Loading Data to Classification\n",
    "## Census Data\n",
    "The most commom names and surnames were extracted from US Census data in order to use in a heuristic to classify tweet actors into the base categories"
   ]
  },
  {
   "cell_type": "code",
   "execution_count": 74,
   "metadata": {
    "collapsed": false
   },
   "outputs": [
    {
     "name": "stdout",
     "output_type": "stream",
     "text": [
      "0         MARY\n",
      "1     PATRICIA\n",
      "2        LINDA\n",
      "3      BARBARA\n",
      "4    ELIZABETH\n",
      "Name: 0, dtype: object\n",
      "94293\n"
     ]
    }
   ],
   "source": [
    "import pandas as pd\n",
    "\n",
    "female_first_name = pd.read_csv('data/names/census-dist-female-first.txt', sep='\\s+', header=None)\n",
    "male_first_name = pd.read_csv('data/names/census-dist-male-first.txt', sep='\\s+', header=None)\n",
    "surnames = pd.read_csv('data/names/surnames.txt', sep='\\s+', header=None)\n",
    "\n",
    "concat_names = pd.concat([female_first_name[0], male_first_name[0], surnames[0]], ignore_index=True)\n",
    "print(concat_names.head())\n",
    "print(len(concat_names))"
   ]
  },
  {
   "cell_type": "markdown",
   "metadata": {},
   "source": [
    "## Raw Tweet Data\n",
    "The raw tweet data was exported from Kinesis to S3, where all gnip formatted data is available for download\n",
    "\n",
    "- Transform old s3 files that were separated by spaces and transform into \\n separated"
   ]
  },
  {
   "cell_type": "code",
   "execution_count": 47,
   "metadata": {
    "collapsed": false
   },
   "outputs": [],
   "source": [
    "import json\n",
    "\n",
    "from os import listdir\n",
    "from os.path import isfile, join\n",
    "\n",
    "space_delimited_files = [ f for f in listdir(\"data/raw/space_delimited\") if isfile(join(\"data/raw/space_delimited\",f)) ]\n",
    "\n",
    "raw_tweets = None \n",
    "for file_name in space_delimited_files:\n",
    "    with open('data/raw/space_delimited/' + file_name) as o:\n",
    "        with open('data/raw/' + file_name, \"a+\") as w\n",
    "            w.write(\"\\n\".join(['{' + l + '}' for l in content[1:-1].split('} {')]))"
   ]
  },
  {
   "cell_type": "markdown",
   "metadata": {},
   "source": [
    "- Load json parsed files in memory to further generate necessary csv files"
   ]
  },
  {
   "cell_type": "code",
   "execution_count": 116,
   "metadata": {
    "collapsed": false
   },
   "outputs": [
    {
     "name": "stdout",
     "output_type": "stream",
     "text": [
      "Parsing data/raw/49551698162644073620788046296223605315150229189597069314-49551698162644073620788046299457481882619403463622131714 reading json:\n",
      "### Parsed 2675 total!\n",
      "Parsing data/raw/49551698162644073620788046299458690808439018092796837890-49551698162644073620788046302206579196423111507309494274 reading json:\n",
      "### Parsed 2675 total!\n",
      "Parsing data/raw/49551698162644073620788046302207788122242726205203677186-49551698162644073620788046304909737329081463711077498882 reading json:\n",
      "### Parsed 2675 total!\n",
      "Parsing data/raw/49551698162666374365986576993647588019643763754950197266-49551698162666374365986576996833107554328352930706489362 reading json:\n",
      "### Parsed 2675 total!\n",
      "Parsing data/raw/49551698162666374365986576996834316480147967628600672274-49551698162666374365986576999548354945182851357502078994 reading json:\n",
      "### Parsed 2675 total!\n",
      "Parsing data/raw/49551698162666374365986576999549563871002465986676785170-49551698162666374365986577002123366940962052731312275474 reading json:\n",
      "### Parsed 2675 total!\n"
     ]
    }
   ],
   "source": [
    "import glob\n",
    "\n",
    "json_files = glob.glob(\"data/raw/*-*\")\n",
    "tweets = []\n",
    "for json_file in json_files:\n",
    "    with open(json_file, encoding=\"utf8\") as json_content:\n",
    "        print('Parsing', json_file, 'reading json:') \n",
    "        json_lines = json_content.read().split(\"}}\\n\")\n",
    "        for l in json_lines:\n",
    "            try:\n",
    "                if l:\n",
    "                    tweets.append(json.loads(l + \"}}\"))\n",
    "            except:\n",
    "                print('Error parsing file', json_file, 'reading json:', l + \"}}\") \n",
    "                print('Parsed', len(json_array), 'already!')\n",
    "                raise\n",
    "        print('### Parsed', len(json_array), 'total!')"
   ]
  },
  {
   "cell_type": "markdown",
   "metadata": {
    "collapsed": true
   },
   "source": [
    "- Persist necessary attributes in csv files for further loading in pandas dataframe for analisys"
   ]
  },
  {
   "cell_type": "code",
   "execution_count": 163,
   "metadata": {
    "collapsed": false
   },
   "outputs": [],
   "source": [
    "import csv\n",
    "\n",
    "with open('data/csv/json_to_csv_tweets.csv', 'w') as csv_file:\n",
    "    tweets_writer = csv.writer(csv_file)\n",
    "    tweets_writer.writerow([\n",
    "        'actor_id',\n",
    "        'actor_screen_name',\n",
    "        'actor_name',\n",
    "        'actor_verified',\n",
    "        'actor_friends_count',\n",
    "        'actor_followers_count',\n",
    "        'actor_listed_count',\n",
    "        'actor_statuses_count',\n",
    "        'actor_favorites_count',\n",
    "        'actor_summary',\n",
    "        'actor_created_at',\n",
    "        'actor_location',\n",
    "        \n",
    "        'tweet_id',\n",
    "        'tweet_created_at',\n",
    "        'tweet_generator',\n",
    "        'tweet_body',\n",
    "        'tweet_verb',\n",
    "            \n",
    "        'tweet_urls_count',\n",
    "        'tweet_mentions_count',\n",
    "        'tweet_hashtags_count',\n",
    "        'tweet_trends_count',\n",
    "        'tweet_symbols_count'])\n",
    "    for tweet in tweets:\n",
    "        tweets_writer.writerow([\n",
    "                tweet['actor']['id'],\n",
    "                tweet['actor']['preferredUsername'],\n",
    "                tweet['actor']['displayName'],\n",
    "                tweet['actor']['verified'],\n",
    "                tweet['actor']['friendsCount'],\n",
    "                tweet['actor']['followersCount'],\n",
    "                tweet['actor']['listedCount'],\n",
    "                tweet['actor']['statusesCount'],\n",
    "                tweet['actor']['favoritesCount'],\n",
    "                tweet['actor']['summary'],\n",
    "                tweet['actor']['postedTime'],\n",
    "                tweets[1]['actor']['location']['displayName'] if tweets[1]['actor'].get('location') else 'null',\n",
    "                \n",
    "                tweet['id'],\n",
    "                tweet['postedTime'],\n",
    "                tweet['generator']['displayName'],\n",
    "                tweet['body'],\n",
    "                tweet['verb'],\n",
    "                \n",
    "                len(tweet['twitter_entities']['urls']),\n",
    "                len(tweet['twitter_entities']['user_mentions']),\n",
    "                len(tweet['twitter_entities']['hashtags']),\n",
    "                len(tweet['twitter_entities']['trends']),\n",
    "                len(tweet['twitter_entities']['symbols'])\n",
    "            ])\n"
   ]
  },
  {
   "cell_type": "markdown",
   "metadata": {},
   "source": [
    "#CSV file with actor and tweet information, no aggregation\n",
    "\n",
    "This data will be used to run a few analisys and to train items into the categories we want to buld the classifier for\n",
    "- Business\n",
    "- Person\n",
    "- Bot\n",
    "\n",
    "In order to execute the training we will create a few heuristics"
   ]
  },
  {
   "cell_type": "code",
   "execution_count": 180,
   "metadata": {
    "collapsed": false
   },
   "outputs": [
    {
     "data": {
      "text/html": [
       "<div style=\"max-height:1000px;max-width:1500px;overflow:auto;\">\n",
       "<table border=\"1\" class=\"dataframe\">\n",
       "  <thead>\n",
       "    <tr style=\"text-align: right;\">\n",
       "      <th></th>\n",
       "      <th>actor_id</th>\n",
       "      <th>actor_screen_name</th>\n",
       "      <th>actor_name</th>\n",
       "      <th>actor_verified</th>\n",
       "      <th>actor_friends_count</th>\n",
       "      <th>actor_followers_count</th>\n",
       "      <th>actor_listed_count</th>\n",
       "      <th>actor_statuses_count</th>\n",
       "      <th>actor_favorites_count</th>\n",
       "      <th>actor_summary</th>\n",
       "      <th>...</th>\n",
       "      <th>tweet_id</th>\n",
       "      <th>tweet_created_at</th>\n",
       "      <th>tweet_generator</th>\n",
       "      <th>tweet_body</th>\n",
       "      <th>tweet_verb</th>\n",
       "      <th>tweet_urls_count</th>\n",
       "      <th>tweet_mentions_count</th>\n",
       "      <th>tweet_hashtags_count</th>\n",
       "      <th>tweet_trends_count</th>\n",
       "      <th>tweet_symbols_count</th>\n",
       "    </tr>\n",
       "  </thead>\n",
       "  <tbody>\n",
       "    <tr>\n",
       "      <th>0</th>\n",
       "      <td>  id:twitter.com:474197738</td>\n",
       "      <td> shannon_jaeger</td>\n",
       "      <td> Shannon Jaeger</td>\n",
       "      <td> False</td>\n",
       "      <td> 617</td>\n",
       "      <td> 445</td>\n",
       "      <td> 44</td>\n",
       "      <td>   4642</td>\n",
       "      <td>   797</td>\n",
       "      <td> Software developer from websites, to games, to...</td>\n",
       "      <td>...</td>\n",
       "      <td> tag:search.twitter.com,2005:613058481197715456</td>\n",
       "      <td> 2015-06-22T18:58:26.000Z</td>\n",
       "      <td> Twitter for BlackBerry</td>\n",
       "      <td> RT @TechCrunch: 6 ways to build a more diverse...</td>\n",
       "      <td> share</td>\n",
       "      <td> 1</td>\n",
       "      <td> 1</td>\n",
       "      <td> 0</td>\n",
       "      <td> 0</td>\n",
       "      <td> 0</td>\n",
       "    </tr>\n",
       "    <tr>\n",
       "      <th>1</th>\n",
       "      <td> id:twitter.com:2297542010</td>\n",
       "      <td>  nurse17194149</td>\n",
       "      <td>       nurseな日々</td>\n",
       "      <td> False</td>\n",
       "      <td> 235</td>\n",
       "      <td> 193</td>\n",
       "      <td>  7</td>\n",
       "      <td>  43581</td>\n",
       "      <td>     0</td>\n",
       "      <td>                                犬とスイーツ、ランニングが好きです。</td>\n",
       "      <td>...</td>\n",
       "      <td> tag:search.twitter.com,2005:613058480489017344</td>\n",
       "      <td> 2015-06-22T18:58:26.000Z</td>\n",
       "      <td>                  IFTTT</td>\n",
       "      <td> US Open champion Jordan Spieth eyes grand slam...</td>\n",
       "      <td>  post</td>\n",
       "      <td> 1</td>\n",
       "      <td> 0</td>\n",
       "      <td> 0</td>\n",
       "      <td> 0</td>\n",
       "      <td> 0</td>\n",
       "    </tr>\n",
       "    <tr>\n",
       "      <th>2</th>\n",
       "      <td> id:twitter.com:2513460271</td>\n",
       "      <td>      All_Jobs_</td>\n",
       "      <td>       All Jobs</td>\n",
       "      <td> False</td>\n",
       "      <td> 928</td>\n",
       "      <td> 708</td>\n",
       "      <td> 73</td>\n",
       "      <td> 202676</td>\n",
       "      <td>     0</td>\n",
       "      <td>               Tweets with latest #Jobs #Offers !!</td>\n",
       "      <td>...</td>\n",
       "      <td> tag:search.twitter.com,2005:613058482833469440</td>\n",
       "      <td> 2015-06-22T18:58:27.000Z</td>\n",
       "      <td>            twitterfeed</td>\n",
       "      <td> #Cleveland #Job Traveling Assistant - PrimeSou...</td>\n",
       "      <td>  post</td>\n",
       "      <td> 1</td>\n",
       "      <td> 0</td>\n",
       "      <td> 3</td>\n",
       "      <td> 0</td>\n",
       "      <td> 0</td>\n",
       "    </tr>\n",
       "    <tr>\n",
       "      <th>3</th>\n",
       "      <td>  id:twitter.com:468841295</td>\n",
       "      <td>  Oscar_Gomez58</td>\n",
       "      <td>          Oscar</td>\n",
       "      <td> False</td>\n",
       "      <td> 285</td>\n",
       "      <td> 547</td>\n",
       "      <td>  2</td>\n",
       "      <td>  93862</td>\n",
       "      <td> 36816</td>\n",
       "      <td> Gods #1 Donna Neri is my one true love ❤️ IG:O...</td>\n",
       "      <td>...</td>\n",
       "      <td> tag:search.twitter.com,2005:613058485551415296</td>\n",
       "      <td> 2015-06-22T18:58:27.000Z</td>\n",
       "      <td>     Twitter for iPhone</td>\n",
       "      <td> RT @NFLRT: Cam Newton doesn't have time for th...</td>\n",
       "      <td> share</td>\n",
       "      <td> 1</td>\n",
       "      <td> 1</td>\n",
       "      <td> 0</td>\n",
       "      <td> 0</td>\n",
       "      <td> 0</td>\n",
       "    </tr>\n",
       "    <tr>\n",
       "      <th>4</th>\n",
       "      <td> id:twitter.com:1720650906</td>\n",
       "      <td>         mukndv</td>\n",
       "      <td>         Mukund</td>\n",
       "      <td> False</td>\n",
       "      <td> 317</td>\n",
       "      <td> 311</td>\n",
       "      <td>  0</td>\n",
       "      <td>   1111</td>\n",
       "      <td>  3901</td>\n",
       "      <td> Prospective linebacker for alabama\\nweight lif...</td>\n",
       "      <td>...</td>\n",
       "      <td> tag:search.twitter.com,2005:613058483576045568</td>\n",
       "      <td> 2015-06-22T18:58:27.000Z</td>\n",
       "      <td>     Twitter for iPhone</td>\n",
       "      <td> RT @verge: The US Army is getting hoverbikes h...</td>\n",
       "      <td> share</td>\n",
       "      <td> 1</td>\n",
       "      <td> 1</td>\n",
       "      <td> 0</td>\n",
       "      <td> 0</td>\n",
       "      <td> 0</td>\n",
       "    </tr>\n",
       "  </tbody>\n",
       "</table>\n",
       "<p>5 rows × 22 columns</p>\n",
       "</div>"
      ],
      "text/plain": [
       "                    actor_id actor_screen_name      actor_name actor_verified  \\\n",
       "0   id:twitter.com:474197738    shannon_jaeger  Shannon Jaeger          False   \n",
       "1  id:twitter.com:2297542010     nurse17194149        nurseな日々          False   \n",
       "2  id:twitter.com:2513460271         All_Jobs_        All Jobs          False   \n",
       "3   id:twitter.com:468841295     Oscar_Gomez58           Oscar          False   \n",
       "4  id:twitter.com:1720650906            mukndv          Mukund          False   \n",
       "\n",
       "   actor_friends_count  actor_followers_count  actor_listed_count  \\\n",
       "0                  617                    445                  44   \n",
       "1                  235                    193                   7   \n",
       "2                  928                    708                  73   \n",
       "3                  285                    547                   2   \n",
       "4                  317                    311                   0   \n",
       "\n",
       "   actor_statuses_count  actor_favorites_count  \\\n",
       "0                  4642                    797   \n",
       "1                 43581                      0   \n",
       "2                202676                      0   \n",
       "3                 93862                  36816   \n",
       "4                  1111                   3901   \n",
       "\n",
       "                                       actor_summary         ...           \\\n",
       "0  Software developer from websites, to games, to...         ...            \n",
       "1                                 犬とスイーツ、ランニングが好きです。         ...            \n",
       "2                Tweets with latest #Jobs #Offers !!         ...            \n",
       "3  Gods #1 Donna Neri is my one true love ❤️ IG:O...         ...            \n",
       "4  Prospective linebacker for alabama\\nweight lif...         ...            \n",
       "\n",
       "                                         tweet_id          tweet_created_at  \\\n",
       "0  tag:search.twitter.com,2005:613058481197715456  2015-06-22T18:58:26.000Z   \n",
       "1  tag:search.twitter.com,2005:613058480489017344  2015-06-22T18:58:26.000Z   \n",
       "2  tag:search.twitter.com,2005:613058482833469440  2015-06-22T18:58:27.000Z   \n",
       "3  tag:search.twitter.com,2005:613058485551415296  2015-06-22T18:58:27.000Z   \n",
       "4  tag:search.twitter.com,2005:613058483576045568  2015-06-22T18:58:27.000Z   \n",
       "\n",
       "          tweet_generator                                         tweet_body  \\\n",
       "0  Twitter for BlackBerry  RT @TechCrunch: 6 ways to build a more diverse...   \n",
       "1                   IFTTT  US Open champion Jordan Spieth eyes grand slam...   \n",
       "2             twitterfeed  #Cleveland #Job Traveling Assistant - PrimeSou...   \n",
       "3      Twitter for iPhone  RT @NFLRT: Cam Newton doesn't have time for th...   \n",
       "4      Twitter for iPhone  RT @verge: The US Army is getting hoverbikes h...   \n",
       "\n",
       "  tweet_verb tweet_urls_count tweet_mentions_count  tweet_hashtags_count  \\\n",
       "0      share                1                    1                     0   \n",
       "1       post                1                    0                     0   \n",
       "2       post                1                    0                     3   \n",
       "3      share                1                    1                     0   \n",
       "4      share                1                    1                     0   \n",
       "\n",
       "   tweet_trends_count  tweet_symbols_count  \n",
       "0                   0                    0  \n",
       "1                   0                    0  \n",
       "2                   0                    0  \n",
       "3                   0                    0  \n",
       "4                   0                    0  \n",
       "\n",
       "[5 rows x 22 columns]"
      ]
     },
     "execution_count": 180,
     "metadata": {},
     "output_type": "execute_result"
    }
   ],
   "source": [
    "df_tweets = pd.read_csv('data/csv/json_to_csv_tweets.csv')\n",
    "df_tweets.head()"
   ]
  },
  {
   "cell_type": "markdown",
   "metadata": {},
   "source": [
    "## Determining Devices for Users\n",
    "\n",
    "We believe that most posts made directly in twitter web and using phone clients should be tweets posted by persons and not businesses"
   ]
  },
  {
   "cell_type": "code",
   "execution_count": 183,
   "metadata": {
    "collapsed": false
   },
   "outputs": [],
   "source": [
    "device = df_tweets[df_tweets['tweet_verb'] == 'post'][['tweet_generator', 'tweet_id']]"
   ]
  },
  {
   "cell_type": "code",
   "execution_count": 193,
   "metadata": {
    "collapsed": false
   },
   "outputs": [
    {
     "name": "stdout",
     "output_type": "stream",
     "text": [
      "                     percentage\n",
      "tweet_generator                \n",
      "Twitter Web Client    34.103720\n",
      "IFTTT                 11.992672\n",
      "Twitter for iPhone     9.949267\n",
      "Hootsuite              5.876550\n",
      "dlvr.it                5.284667\n",
      "twitterfeed            4.241826\n",
      "Twitter for Android    3.523112\n",
      "TweetDeck              2.621195\n",
      "Buffer                 2.170237\n",
      "Facebook               1.338782\n"
     ]
    }
   ],
   "source": [
    "posts_by_device = device.groupby('tweet_generator').count()\n",
    "posts_by_device['percentage'] = (posts_by_device.tweet_id / posts_by_device.tweet_id.sum()) * 100\n",
    "posts_by_device = posts_by_device[['percentage']].sort('percentage', ascending=False)\n",
    "\n",
    "print(posts_by_device.head(10))"
   ]
  },
  {
   "cell_type": "code",
   "execution_count": 195,
   "metadata": {
    "collapsed": false
   },
   "outputs": [
    {
     "name": "stdout",
     "output_type": "stream",
     "text": [
      "                             percentage\n",
      "tweet_generator                        \n",
      "Twitter Web Client            69.640288\n",
      "Twitter for iPhone            20.316547\n",
      "Twitter for Android            7.194245\n",
      "Twitter for iPad               1.410072\n",
      "Twitter for Mac                0.489209\n",
      "Twitter for BlackBerry         0.230216\n",
      "Twitter for Windows Phone      0.230216\n",
      "Twitter Ads                    0.143885\n",
      "Twitter for BlackBerry®        0.143885\n",
      "Twitter for Android Tablets    0.086331\n",
      "Twitter for  Android           0.057554\n",
      "Twitter for Windows            0.057554\n"
     ]
    }
   ],
   "source": [
    "client_devices = device[device.tweet_generator.str.startswith('Twitter ')].groupby('tweet_generator').count()\n",
    "client_devices['percentage'] = (client_devices.tweet_id / client_devices.tweet_id.sum()) * 100\n",
    "client_devices = client_devices[['percentage']].sort('percentage', ascending=False)\n",
    "\n",
    "print(client_devices)"
   ]
  },
  {
   "cell_type": "code",
   "execution_count": 205,
   "metadata": {
    "collapsed": false
   },
   "outputs": [
    {
     "name": "stdout",
     "output_type": "stream",
     "text": [
      "['Twitter Web Client', 'Twitter for iPhone', 'Twitter for Android', 'Twitter for iPad', 'Twitter for  Android', 'Twitter for Windows', 'Twitter for Mac', 'Twitter for Android Tablets', 'Twitter for BlackBerry®', 'Twitter for Windows Phone', 'Twitter for BlackBerry']\n"
     ]
    }
   ],
   "source": [
    "all_filtered_devices = device[device.tweet_generator.str.startswith('Twitter ')].tweet_generator.unique()\n",
    "non_client_devices = ['Twitter Ads']\n",
    "client_devices = [item for item in all_filtered_devices if item not in non_client_devices]\n",
    "print(client_devices)"
   ]
  },
  {
   "cell_type": "code",
   "execution_count": 221,
   "metadata": {
    "collapsed": false
   },
   "outputs": [
    {
     "name": "stdout",
     "output_type": "stream",
     "text": [
      "3470\n"
     ]
    },
    {
     "name": "stderr",
     "output_type": "stream",
     "text": [
      "/Users/felipeclopes/Projects/anaconda/lib/python3.4/site-packages/pandas/core/frame.py:1808: UserWarning: Boolean Series key will be reindexed to match DataFrame index.\n",
      "  \"DataFrame index.\", UserWarning)\n"
     ]
    },
    {
     "data": {
      "text/html": [
       "<div style=\"max-height:1000px;max-width:1500px;overflow:auto;\">\n",
       "<table border=\"1\" class=\"dataframe\">\n",
       "  <thead>\n",
       "    <tr style=\"text-align: right;\">\n",
       "      <th></th>\n",
       "      <th>actor_screen_name</th>\n",
       "      <th>actor_summary</th>\n",
       "      <th>tweet_body</th>\n",
       "      <th>tweet_generator</th>\n",
       "    </tr>\n",
       "  </thead>\n",
       "  <tbody>\n",
       "    <tr>\n",
       "      <th>7 </th>\n",
       "      <td> GunJoyWebsite</td>\n",
       "      <td> http://GunJoy.com is a website dedicated to th...</td>\n",
       "      <td> $74.99 - UA Reliance Tactical Sunglasses | Und...</td>\n",
       "      <td> Twitter Web Client</td>\n",
       "    </tr>\n",
       "    <tr>\n",
       "      <th>11</th>\n",
       "      <td>  cafoxorixaty</td>\n",
       "      <td>                                               NaN</td>\n",
       "      <td> FREE #porn and #bi #sex on #pussy http://t.co/...</td>\n",
       "      <td> Twitter Web Client</td>\n",
       "    </tr>\n",
       "    <tr>\n",
       "      <th>22</th>\n",
       "      <td>     royjulie4</td>\n",
       "      <td> Be careful who you call your friends. I'd rath...</td>\n",
       "      <td> @saira36863892 Need new kicks? Got old kicks t...</td>\n",
       "      <td> Twitter Web Client</td>\n",
       "    </tr>\n",
       "    <tr>\n",
       "      <th>23</th>\n",
       "      <td>     djpeefunk</td>\n",
       "      <td> Giving you the latest Hip-Hop, R&amp;B, and Gospel...</td>\n",
       "      <td> #Nowplaying #HipHop #RnB #ALLinCLE Tune in htt...</td>\n",
       "      <td> Twitter Web Client</td>\n",
       "    </tr>\n",
       "    <tr>\n",
       "      <th>29</th>\n",
       "      <td>     nilcat_jj</td>\n",
       "      <td>                                Don Mathieuinho JR</td>\n",
       "      <td> @nba2kcodefishy @TremoniaRules @Ronnie2K do u ...</td>\n",
       "      <td> Twitter for iPhone</td>\n",
       "    </tr>\n",
       "  </tbody>\n",
       "</table>\n",
       "</div>"
      ],
      "text/plain": [
       "   actor_screen_name                                      actor_summary  \\\n",
       "7      GunJoyWebsite  http://GunJoy.com is a website dedicated to th...   \n",
       "11      cafoxorixaty                                                NaN   \n",
       "22         royjulie4  Be careful who you call your friends. I'd rath...   \n",
       "23         djpeefunk  Giving you the latest Hip-Hop, R&B, and Gospel...   \n",
       "29         nilcat_jj                                 Don Mathieuinho JR   \n",
       "\n",
       "                                           tweet_body     tweet_generator  \n",
       "7   $74.99 - UA Reliance Tactical Sunglasses | Und...  Twitter Web Client  \n",
       "11  FREE #porn and #bi #sex on #pussy http://t.co/...  Twitter Web Client  \n",
       "22  @saira36863892 Need new kicks? Got old kicks t...  Twitter Web Client  \n",
       "23  #Nowplaying #HipHop #RnB #ALLinCLE Tune in htt...  Twitter Web Client  \n",
       "29  @nba2kcodefishy @TremoniaRules @Ronnie2K do u ...  Twitter for iPhone  "
      ]
     },
     "execution_count": 221,
     "metadata": {},
     "output_type": "execute_result"
    }
   ],
   "source": [
    "filtered_by_devices_tweets = df_tweets[df_tweets.tweet_generator.isin(client_devices)][df_tweets.tweet_verb == 'post']\n",
    "print(len(filtered_by_devices_tweets))\n",
    "filtered_by_devices_tweets[df_tweets.tweet_verb == 'post'][['actor_screen_name', 'actor_summary', 'tweet_body', 'tweet_generator']].head()"
   ]
  },
  {
   "cell_type": "code",
   "execution_count": null,
   "metadata": {
    "collapsed": true
   },
   "outputs": [],
   "source": []
  }
 ],
 "metadata": {
  "kernelspec": {
   "display_name": "Python 3",
   "language": "python",
   "name": "python3"
  },
  "language_info": {
   "codemirror_mode": {
    "name": "ipython",
    "version": 3
   },
   "file_extension": ".py",
   "mimetype": "text/x-python",
   "name": "python",
   "nbconvert_exporter": "python",
   "pygments_lexer": "ipython3",
   "version": "3.4.3"
  }
 },
 "nbformat": 4,
 "nbformat_minor": 0
}
