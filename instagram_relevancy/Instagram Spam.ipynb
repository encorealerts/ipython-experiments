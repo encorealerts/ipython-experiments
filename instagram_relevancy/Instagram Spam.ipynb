{
 "cells": [
  {
   "cell_type": "code",
   "execution_count": 1,
   "metadata": {
    "collapsed": true
   },
   "outputs": [],
   "source": [
    "from sklearn.feature_extraction.text import CountVectorizer, TfidfTransformer, TfidfVectorizer\n",
    "from sklearn.base import TransformerMixin\n",
    "from sklearn.base import BaseEstimator\n",
    "\n",
    "import re\n",
    "import numpy as np\n",
    "\n",
    "from meltwater_smart_alerts.ml.pipeline import *\n",
    "\n",
    "import matplotlib as plt\n",
    "import numpy as np\n",
    " \n",
    "def plot_feature_scores(coef, vocab, index=0):\n",
    "    markers = [\"o\", \"x\"]\n",
    "    \n",
    "    figsize(20,8)\n",
    "\n",
    "    important = np.argsort(np.abs(coef))[-50:]\n",
    "    important_feature_names = np.array([vocab[idx] for idx in important])\n",
    "    important_feature_values = coef[important]\n",
    "    inds = np.argsort(important_feature_values)[::-1]\n",
    "    important_feature_names = important_feature_names[inds]\n",
    "    important_feature_values = important_feature_values[inds]\n",
    "    ylabel(\"weight\")\n",
    "\n",
    "    ax = plt.gca()\n",
    "    ax.set_xticks(np.arange(len(important_feature_values)))\n",
    "    labels = ax.set_xticklabels(important_feature_names)\n",
    "    plt.setp(labels, rotation=90)\n",
    "    #plt.plot(important_feature_values, marker=\"o\", c=cm.jet)\n",
    "    plt.scatter(np.arange(len(important_feature_values)), important_feature_values, c=important_feature_values,marker=markers[index], cmap=cm.autumn)\n",
    "    print(\"done\")"
   ]
  },
  {
   "cell_type": "code",
   "execution_count": 2,
   "metadata": {
    "collapsed": false
   },
   "outputs": [
    {
     "name": "stdout",
     "output_type": "stream",
     "text": [
      "documents: 11\n",
      "['instagram_activities.csv.0', 'instagram_activities.csv.1', 'instagram_activities.csv.10', 'instagram_activities.csv.2', 'instagram_activities.csv.3', 'instagram_activities.csv.4', 'instagram_activities.csv.5', 'instagram_activities.csv.6', 'instagram_activities.csv.7', 'instagram_activities.csv.8', 'instagram_activities.csv.9']\n"
     ]
    }
   ],
   "source": [
    "from os import listdir\n",
    "from os.path import isfile, join\n",
    "docLabels = []\n",
    "docLabels = [f for f in listdir(\"data/instagram_activities/\") if '.csv' in f]\n",
    "\n",
    "print 'documents:', len(docLabels)\n",
    "print docLabels"
   ]
  },
  {
   "cell_type": "code",
   "execution_count": 3,
   "metadata": {
    "collapsed": false
   },
   "outputs": [
    {
     "name": "stdout",
     "output_type": "stream",
     "text": [
      "- - - length: 3700\n"
     ]
    }
   ],
   "source": [
    "import pandas as pd\n",
    "\n",
    "ratings = pd.read_csv('data/instagram_ratings.csv', header=None)\n",
    "ratings.columns = ['id', 'bool_feedback', 'body', 'feedback', 'rule_id']\n",
    "ratings.ix[pd.isnull(ratings['feedback']), 'feedback'] = 'good'\n",
    "\n",
    "print '- - - length:', len(ratings)"
   ]
  },
  {
   "cell_type": "code",
   "execution_count": 4,
   "metadata": {
    "collapsed": false
   },
   "outputs": [],
   "source": [
    "import gensim\n",
    "\n",
    "model = gensim.models.Word2Vec.load('1M_10epochs_hashtags')\n",
    "\n",
    "model.init_sims(replace=True)"
   ]
  },
  {
   "cell_type": "code",
   "execution_count": 5,
   "metadata": {
    "collapsed": false
   },
   "outputs": [
    {
     "name": "stdout",
     "output_type": "stream",
     "text": [
      "          id bool_feedback  body feedback rule_id\n",
      "       count         count count    count   count\n",
      "result                                           \n",
      "0        307           307   299      307     307\n",
      "1        307           307   307      307     307\n",
      "items: 614\n"
     ]
    }
   ],
   "source": [
    "data = ratings[ratings['feedback'].isin(['spam'])]\n",
    "data = data.append(ratings[ratings['feedback'].isin(['good'])].head(len(data)))\n",
    "\n",
    "data.loc[:, 'result'] = data.loc[:, 'feedback'].isin(['spam'])\n",
    "data.loc[:, 'result'] = data.result.astype(int)\n",
    "\n",
    "print data.groupby(['result']).agg(['count'])\n",
    "\n",
    "print 'items:', len(data)\n",
    "\n",
    "data = data.dropna(subset=['body'])\n",
    "data.drop(['id', 'bool_feedback', 'feedback', 'rule_id'], axis=1, inplace=True)"
   ]
  },
  {
   "cell_type": "code",
   "execution_count": 7,
   "metadata": {
    "collapsed": false,
    "scrolled": true
   },
   "outputs": [
    {
     "name": "stdout",
     "output_type": "stream",
     "text": [
      "Performing grid search...\n",
      "('pipeline:', ['body_lowercase', 'debugger1', 'number_mentions', 'number_hashtags', 'number_periods', 'number_urls', 'debugger2', 'number_words', 'number_camel_words', 'number_words_per_period', 'debugger3', 'number_uppercase_chars', 'number_punctuation_chars', 'debugger4', 'semantic_distance', 'debugger5', 'body_tfidf', 'debugger6', 'drop_text_cols', 'nparray', 'tree'])\n",
      "('parameters:', {})\n",
      "Fitting 2 folds for each of 1 candidates, totalling 2 fits\n",
      "[CV]  ................................................................\n",
      "body"
     ]
    },
    {
     "name": "stderr",
     "output_type": "stream",
     "text": [
      "/Library/Python/2.7/site-packages/pandas/core/indexing.py:482: SettingWithCopyWarning: \n",
      "A value is trying to be set on a copy of a slice from a DataFrame.\n",
      "Try using .loc[row_indexer,col_indexer] = value instead\n",
      "\n",
      "See the the caveats in the documentation: http://pandas.pydata.org/pandas-docs/stable/indexing.html#indexing-view-versus-copy\n",
      "  self.obj[item_labels[indexer[info_axis]]] = value\n",
      "/Library/Python/2.7/site-packages/pandas/core/indexing.py:243: SettingWithCopyWarning: \n",
      "A value is trying to be set on a copy of a slice from a DataFrame.\n",
      "Try using .loc[row_indexer,col_indexer] = value instead\n",
      "\n",
      "See the the caveats in the documentation: http://pandas.pydata.org/pandas-docs/stable/indexing.html#indexing-view-versus-copy\n",
      "  self.obj[key] = _infer_fill_value(value)\n"
     ]
    },
    {
     "name": "stdout",
     "output_type": "stream",
     "text": [
      " - Fri Apr 22 19:18:34 2016 (303, 1)\n",
      "entities - Fri Apr 22 19:18:43 2016 (303, 4)\n",
      "words - Fri Apr 22 19:18:50 2016 (303, 7)\n",
      "chars - Fri Apr 22 19:18:55 2016 (303, 9)\n",
      "Index([u'body', u'number_of_mentions_in_body', u'number_of_periods_in_body',\n",
      "       u'number_of_urls_in_body', u'number_of_words_in_body',\n",
      "       u'number_of_camel_case_words_in_body', u'avg_words_per_period_in_body',\n",
      "       u'number_of_upper_case_chars_in_body',\n",
      "       u'number_of_non_alphanum_in_body', u'avg_distance', u'max_distance',\n",
      "       u'min_distance'],\n",
      "      dtype='object')\n",
      "distance - Fri Apr 22 19:18:55 2016 (303, 12)\n",
      "tdidf - Fri Apr 22 19:18:55 2016 (303, 13)\n",
      "body - Fri Apr 22 19:18:56 2016 (303, 1)\n",
      "entities - Fri Apr 22 19:19:04 2016 (303, 4)\n",
      "words - Fri Apr 22 19:19:11 2016 (303, 7)\n",
      "chars - Fri Apr 22 19:19:16 2016 (303, 9)\n",
      "Index([u'body', u'number_of_mentions_in_body', u'number_of_periods_in_body',\n",
      "       u'number_of_urls_in_body', u'number_of_words_in_body',\n",
      "       u'number_of_camel_case_words_in_body', u'avg_words_per_period_in_body',\n",
      "       u'number_of_upper_case_chars_in_body',\n",
      "       u'number_of_non_alphanum_in_body', u'avg_distance', u'max_distance',\n",
      "       u'min_distance'],\n",
      "      dtype='object')"
     ]
    },
    {
     "name": "stderr",
     "output_type": "stream",
     "text": [
      "/Library/Python/2.7/site-packages/pandas/core/indexing.py:407: SettingWithCopyWarning: \n",
      "A value is trying to be set on a copy of a slice from a DataFrame.\n",
      "Try using .loc[row_indexer,col_indexer] = value instead\n",
      "\n",
      "See the the caveats in the documentation: http://pandas.pydata.org/pandas-docs/stable/indexing.html#indexing-view-versus-copy\n",
      "  self.obj[item] = s\n",
      "[Parallel(n_jobs=1)]: Done   1 jobs       | elapsed:  1.1min\n"
     ]
    },
    {
     "name": "stdout",
     "output_type": "stream",
     "text": [
      "\n",
      "distance - Fri Apr 22 19:19:16 2016 (303, 12)\n",
      "tdidf - Fri Apr 22 19:19:16 2016 (303, 13)\n",
      "[CV] ....................................... , score=0.650165 -  43.7s\n",
      "[CV]  ................................................................\n",
      "body - Fri Apr 22 19:19:43 2016 (303, 1)\n",
      "entities - Fri Apr 22 19:19:51 2016 (303, 4)\n",
      "words - Fri Apr 22 19:19:59 2016 (303, 7)\n",
      "chars - Fri Apr 22 19:20:04 2016 (303, 9)\n",
      "Index([u'body', u'number_of_mentions_in_body', u'number_of_periods_in_body',\n",
      "       u'number_of_urls_in_body', u'number_of_words_in_body',\n",
      "       u'number_of_camel_case_words_in_body', u'avg_words_per_period_in_body',\n",
      "       u'number_of_upper_case_chars_in_body',\n",
      "       u'number_of_non_alphanum_in_body', u'avg_distance', u'max_distance',\n",
      "       u'min_distance'],\n",
      "      dtype='object')\n",
      "distance - Fri Apr 22 19:20:04 2016 (303, 12)\n",
      "tdidf - Fri Apr 22 19:20:04 2016 (303, 13)\n",
      "body - Fri Apr 22 19:20:06 2016 (303, 1)\n",
      "entities - Fri Apr 22 19:20:14 2016 (303, 4)\n",
      "words - Fri Apr 22 19:20:21 2016 (303, 7)\n",
      "chars - Fri Apr 22 19:20:26 2016 (303, 9)\n",
      "Index([u'body', u'number_of_mentions_in_body', u'number_of_periods_in_body',\n",
      "       u'number_of_urls_in_body', u'number_of_words_in_body',\n",
      "       u'number_of_camel_case_words_in_body', u'avg_words_per_period_in_body',\n",
      "       u'number_of_upper_case_chars_in_body',\n",
      "       u'number_of_non_alphanum_in_body', u'avg_distance', u'max_distance',\n",
      "       u'min_distance'],\n",
      "      dtype='object')\n",
      "distance - Fri Apr 22 19:20:27 2016 (303, 12)\n",
      "tdidf - Fri Apr 22 19:20:27 2016 (303, 13)\n",
      "[CV] ....................................... , score=0.643564 -  45.3s\n",
      "body - Fri Apr 22 19:20:50 2016 (606, 1)\n",
      "entities - Fri Apr 22 19:20:50 2016 (606, 4)\n",
      "words - Fri Apr 22 19:20:51 2016 (606, 7)\n",
      "chars - Fri Apr 22 19:20:51 2016 (606, 9)\n",
      "Index([u'body', u'number_of_mentions_in_body', u'number_of_periods_in_body',\n",
      "       u'number_of_urls_in_body', u'number_of_words_in_body',\n",
      "       u'number_of_camel_case_words_in_body', u'avg_words_per_period_in_body',\n",
      "       u'number_of_upper_case_chars_in_body',\n",
      "       u'number_of_non_alphanum_in_body', u'avg_distance', u'max_distance',\n",
      "       u'min_distance'],\n",
      "      dtype='object')\n",
      "distance - Fri Apr 22 19:20:52 2016 (606, 12)\n",
      "tdidf - Fri Apr 22 19:20:52 2016 (606, 13)\n",
      "done in 188.565s\n",
      "()\n",
      "Best score: 0.647\n",
      "Best parameters set:\n"
     ]
    },
    {
     "name": "stderr",
     "output_type": "stream",
     "text": [
      "[Parallel(n_jobs=1)]: Done   2 out of   2 | elapsed:  2.3min finished\n"
     ]
    }
   ],
   "source": [
    "from sklearn.pipeline import Pipeline, FeatureUnion\n",
    "from sklearn.grid_search import GridSearchCV\n",
    "\n",
    "from sklearn.tree import DecisionTreeClassifier\n",
    "from sklearn.cross_validation import KFold\n",
    "from sklearn.metrics import confusion_matrix\n",
    "\n",
    "from time import time, ctime\n",
    "\n",
    "pipeline = Pipeline([\n",
    "  ('body_lowercase', TextToLowerCase(cols=['body'])),\n",
    "  (\"debugger1\", PipelineDebugger('body')),\n",
    "  ('number_mentions', NumberOfMentions(cols=['body'])),\n",
    "  ('number_hashtags', NumberOfHashtags(cols=['body'])),\n",
    "  ('number_periods', NumberOfPeriods(cols=['body'])),\n",
    "  ('number_urls', NumberOfURLs(cols=['body'])),\n",
    "  (\"debugger2\", PipelineDebugger('entities')),\n",
    "  ('number_words', NumberOfWords(cols=['body'])),\n",
    "  ('number_camel_words', NumberCamelCaseWords(cols=['body'])),\n",
    "  ('number_words_per_period', AvgWordsPerPeriod(cols=['body'])),        \n",
    "  (\"debugger3\", PipelineDebugger('words')),\n",
    "  ('number_uppercase_chars', NumberUpperCaseChars(cols=['body'])),\n",
    "  ('number_punctuation_chars', NumberNonAlphaNumChars(cols=['body'])),\n",
    "  (\"debugger4\", PipelineDebugger('chars')),\n",
    "  ('semantic_distance', HashtagDistanceTransformer(model, ['body'])),\n",
    "  (\"debugger5\", PipelineDebugger('distance')),\n",
    "  (\"body_tfidf\", DataFrameTfidfVectorizer(col=['body'], \n",
    "                          prefix=\"body\",\n",
    "                          should_treat_special_chars=False,\n",
    "                          ngram_range=(1, 3), \n",
    "                          analyzer=\"word\",\n",
    "                          binary=True, #False\n",
    "#                           min_df = 2,\n",
    "                          max_features = 50)),\n",
    "  (\"debugger6\", PipelineDebugger('tdidf')),\n",
    "  (\"drop_text_cols\", DropColumnsTransformer(['body'])),\n",
    "  (\"nparray\", NumpyArrayTransformer()),\n",
    "  ('tree', DecisionTreeClassifier(max_depth = 5, min_samples_split = 2))\n",
    "])\n",
    "\n",
    "parameters = {\n",
    "#     'body_tfidf__min_df': (2, 5, 10),\n",
    "#     'body_tfidf__max_features': (50, 500, 1000),\n",
    "#     'tree__max_depth': (5, 10),  # unigrams or bigrams\n",
    "#     'tree__min_samples_split': (2, 5)\n",
    "}\n",
    "\n",
    "k_fold = KFold(n=len(data), n_folds=2, shuffle=True)\n",
    "grid_search = GridSearchCV(pipeline, parameters, n_jobs=1, verbose=3, cv=k_fold)\n",
    "\n",
    "grid_train = data.loc[:, ['body']].copy()\n",
    "grid_result = data.loc[:, 'result'].values\n",
    "\n",
    "print(\"Performing grid search...\")\n",
    "print(\"pipeline:\", [name for name, _ in pipeline.steps])\n",
    "print(\"parameters:\", parameters)\n",
    "t0 = time()\n",
    "grid_search.fit(grid_train, grid_result)\n",
    "print(\"done in %0.3fs\" % (time() - t0))\n",
    "print()\n",
    "\n",
    "print(\"Best score: %0.3f\" % grid_search.best_score_)\n",
    "print(\"Best parameters set:\")\n",
    "best_parameters = grid_search.best_estimator_.get_params()\n",
    "for param_name in sorted(parameters.keys()):\n",
    "    print(\"\\t%s: %r\" % (param_name, best_parameters[param_name]))"
   ]
  },
  {
   "cell_type": "code",
   "execution_count": 8,
   "metadata": {
    "collapsed": false
   },
   "outputs": [
    {
     "name": "stdout",
     "output_type": "stream",
     "text": [
      "Populating the interactive namespace from numpy and matplotlib\n",
      "Index([u'body', u'number_of_mentions_in_body', u'number_of_periods_in_body',\n",
      "       u'number_of_urls_in_body', u'number_of_words_in_body',\n",
      "       u'number_of_camel_case_words_in_body', u'avg_words_per_period_in_body',\n",
      "       u'number_of_upper_case_chars_in_body',\n",
      "       u'number_of_non_alphanum_in_body', u'avg_distance', u'max_distance',\n",
      "       u'min_distance'],\n",
      "      dtype='object')\n",
      "done\n"
     ]
    },
    {
     "name": "stderr",
     "output_type": "stream",
     "text": [
      "WARNING: pylab import has clobbered these variables: ['plt', 'f']\n",
      "`%matplotlib` prevents importing * from pylab and numpy\n"
     ]
    },
    {
     "data": {
      "image/png": "[encoded data removed]",
      "text/plain": [
       "<matplotlib.figure.Figure at 0x1b568d250>"
      ]
     },
     "metadata": {},
     "output_type": "display_data"
    }
   ],
   "source": [
    "%pylab inline\n",
    "\n",
    "from sklearn.pipeline import Pipeline, FeatureUnion\n",
    "from sklearn.grid_search import GridSearchCV\n",
    "\n",
    "from sklearn.tree import DecisionTreeClassifier\n",
    "from sklearn.cross_validation import KFold\n",
    "from sklearn.metrics import confusion_matrix\n",
    "\n",
    "from time import time, ctime\n",
    "\n",
    "grid_train = data.loc[:, ['body']].copy()\n",
    "grid_result = data.loc[:, 'result'].values\n",
    "\n",
    "best_pipeline = Pipeline([\n",
    "  ('body_lowercase', TextToLowerCase(cols=['body'])),\n",
    "\n",
    "  ('number_mentions', NumberOfMentions(cols=['body'])),\n",
    "  ('number_hashtags', NumberOfHashtags(cols=['body'])),\n",
    "  ('number_periods', NumberOfPeriods(cols=['body'])),\n",
    "  ('number_urls', NumberOfURLs(cols=['body'])),\n",
    "\n",
    "  ('number_words', NumberOfWords(cols=['body'])),\n",
    "  ('number_camel_words', NumberCamelCaseWords(cols=['body'])),\n",
    "  ('number_words_per_period', AvgWordsPerPeriod(cols=['body'])),        \n",
    "\n",
    "  ('number_uppercase_chars', NumberUpperCaseChars(cols=['body'])),\n",
    "  ('number_punctuation_chars', NumberNonAlphaNumChars(cols=['body'])),\n",
    "\n",
    "  ('semantic_distance', HashtagDistanceTransformer(model, ['body'])),\n",
    "    \n",
    "  (\"body_tfidf\", DataFrameTfidfVectorizer(col='body', \n",
    "                          prefix=\"body\",\n",
    "                          should_treat_special_chars=False,\n",
    "                          ngram_range=(1, 3), \n",
    "                          analyzer=\"word\",\n",
    "                          stop_words='english',\n",
    "                          binary=True, #False\n",
    "                          max_features = 50)),\n",
    "  (\"drop_text_cols\", DropColumnsTransformer(['body'])),\n",
    "  (\"nparray\", NumpyArrayTransformer()),\n",
    "  ('tree', DecisionTreeClassifier(max_depth = 5, min_samples_split = 2))\n",
    "])\n",
    "\n",
    "best_pipeline.fit(grid_train, grid_result)\n",
    "\n",
    "features = [   u'number_of_mentions_in_body',\n",
    "                u'number_of_periods_in_body',\n",
    "                  u'number_of_words_in_body',\n",
    "                   u'number_of_urls_in_body',\n",
    "       u'number_of_camel_case_words_in_body',\n",
    "             u'avg_words_per_period_in_body',\n",
    "       u'number_of_upper_case_chars_in_body',\n",
    "           u'number_of_non_alphanum_in_body',\n",
    "                             u'avg_distance',\n",
    "                             u'max_distance',\n",
    "                             u'min_distance']\n",
    "\n",
    "plot_feature_scores(best_pipeline.named_steps['tree'].feature_importances_, features + best_pipeline.named_steps['body_tfidf'].get_feature_names(), 0)"
   ]
  },
  {
   "cell_type": "code",
   "execution_count": 9,
   "metadata": {
    "collapsed": false
   },
   "outputs": [
    {
     "data": {
      "text/plain": [
       "['data/instagram_spam_model_20160405.pkl',\n",
       " 'data/instagram_spam_model_20160405.pkl_01.npy.z',\n",
       " 'data/instagram_spam_model_20160405.pkl_02.npy.z',\n",
       " 'data/instagram_spam_model_20160405.pkl_03.npy.z']"
      ]
     },
     "execution_count": 9,
     "metadata": {},
     "output_type": "execute_result"
    }
   ],
   "source": [
    "from sklearn.externals import joblib\n",
    "\n",
    "model_path = \"data/instagram_spam_model_20160405.pkl\"\n",
    "joblib.dump(best_pipeline, model_path, compress=9)"
   ]
  },
  {
   "cell_type": "code",
   "execution_count": 10,
   "metadata": {
    "collapsed": false
   },
   "outputs": [
    {
     "name": "stdout",
     "output_type": "stream",
     "text": [
      "Index([u'body', u'number_of_mentions_in_body', u'number_of_periods_in_body',\n",
      "       u'number_of_urls_in_body', u'number_of_words_in_body',\n",
      "       u'number_of_camel_case_words_in_body', u'avg_words_per_period_in_body',\n",
      "       u'number_of_upper_case_chars_in_body',\n",
      "       u'number_of_non_alphanum_in_body', u'avg_distance', u'max_distance',\n",
      "       u'min_distance'],\n",
      "      dtype='object')\n"
     ]
    },
    {
     "data": {
      "text/plain": [
       "array([0])"
      ]
     },
     "execution_count": 10,
     "metadata": {},
     "output_type": "execute_result"
    }
   ],
   "source": [
    "best_pipeline.predict(pd.DataFrame([{'body': 'This is a test'}]))"
   ]
  },
  {
   "cell_type": "code",
   "execution_count": 11,
   "metadata": {
    "collapsed": false
   },
   "outputs": [
    {
     "name": "stdout",
     "output_type": "stream",
     "text": [
      "Index([u'body', u'number_of_mentions_in_body', u'number_of_periods_in_body',\n",
      "       u'number_of_urls_in_body', u'number_of_words_in_body',\n",
      "       u'number_of_camel_case_words_in_body', u'avg_words_per_period_in_body',\n",
      "       u'number_of_upper_case_chars_in_body',\n",
      "       u'number_of_non_alphanum_in_body', u'avg_distance', u'max_distance',\n",
      "       u'min_distance'],\n",
      "      dtype='object')\n"
     ]
    }
   ],
   "source": [
    "trained = data.loc[:, ['body']].copy()\n",
    "trained_result = data.loc[:, 'result'].values\n",
    "\n",
    "trained.loc[:, 'predicted_result'] = best_pipeline.predict(trained)\n",
    "trained.loc[:, 'result'] = data.loc[:, 'result'].values"
   ]
  },
  {
   "cell_type": "code",
   "execution_count": 12,
   "metadata": {
    "collapsed": false
   },
   "outputs": [
    {
     "name": "stdout",
     "output_type": "stream",
     "text": [
      "                        result predicted_result\n",
      "                         count            count\n",
      "result predicted_result                        \n",
      "0      0                   267              267\n",
      "       1                    32               32\n",
      "1      0                    81               81\n",
      "       1                   226              226\n"
     ]
    }
   ],
   "source": [
    "#misclassifications = trained[trained['result'] != trained['predicted_result']]\n",
    "\n",
    "print trained.groupby(['result', 'predicted_result'])['result', 'predicted_result'].agg(['count'])"
   ]
  }
 ],
 "metadata": {
  "kernelspec": {
   "display_name": "Python 2",
   "language": "python",
   "name": "python2"
  },
  "language_info": {
   "codemirror_mode": {
    "name": "ipython",
    "version": 2
   },
   "file_extension": ".py",
   "mimetype": "text/x-python",
   "name": "python",
   "nbconvert_exporter": "python",
   "pygments_lexer": "ipython2",
   "version": "2.7.10"
  }
 },
 "nbformat": 4,
 "nbformat_minor": 0
}
