{
 "cells": [
  {
   "cell_type": "markdown",
   "metadata": {},
   "source": [
    "# Analysis for calculating score for Alerts\n",
    "\n",
    "**y_influencer** = 3\\*((activity.klout^2)/10000) + 4\\*(log(actor.followers_count)/20) + log(actor.listed_count) + verb(post=1, share=0.7)\n",
    "\n",
    "**y_trend** = reach + segment\n",
    "\n",
    "**y_popular** = engagement + potential"
   ]
  },
  {
   "cell_type": "markdown",
   "metadata": {},
   "source": [
    "### Tipo de alerta - Influencer\n",
    "* klout (exp)\n",
    "* followers (log)\n",
    "* listed count (log)\n",
    "* Rule volume (inverse weight for previous variables)\n",
    "* verb: retweet(0.7) tweet (1)\n",
    "* (+) previous_alert: já houve outro alerta sobre este mesmo influencer\n",
    "* (++) relev_direct_reply + relev_3rd_reply: relevância para reply para a marca ou de outra pessoa citando a marca\n",
    "\n",
    "### Tipo de alerta - Trends\n",
    "* Reach / alcance de tweets\n",
    "* segmento: marketing (categorias: receber somente número de 1 a 10) vs business(15% mais importante que Marketing)\n",
    "\n",
    "### Tipo de alerta - Popular Tweet\n",
    "* Engajamento que o tweet teve\n",
    "* Potencial de engajamento\n"
   ]
  },
  {
   "cell_type": "markdown",
   "metadata": {},
   "source": [
    "## Getting Data"
   ]
  },
  {
   "cell_type": "code",
   "execution_count": 5,
   "metadata": {
    "collapsed": true
   },
   "outputs": [],
   "source": [
    "import pandas as pd\n",
    "import numpy as np\n",
    "from datetime import datetime"
   ]
  },
  {
   "cell_type": "markdown",
   "metadata": {},
   "source": [
    "### Activities"
   ]
  },
  {
   "cell_type": "code",
   "execution_count": 6,
   "metadata": {
    "collapsed": true
   },
   "outputs": [],
   "source": [
    "activities_cols_names = [\"id\",\"body\", \"country\", \"country_code\", \"place_type\",\n",
    "                       \"sub_region\", \"actor_id\", \"source\", \"share_count\",\n",
    "                       \"in_reply_to_native_id\", \"created_at\", \"updated_at\",\n",
    "                       \"klout\", \"native_id\", \"verb\", \"latitude\", \"longitude\",\n",
    "                       \"sharing_activity_native_id\", \"region\", \"favorites_count\",\n",
    "                       \"replies_count\", \"in_reply_to_screen_name\", \"link\"]"
   ]
  },
  {
   "cell_type": "code",
   "execution_count": 8,
   "metadata": {
    "collapsed": true
   },
   "outputs": [],
   "source": [
    "activities_relevant_cols = [\"actor_id\", \"source\", \"share_count\",\n",
    "                           \"in_reply_to_native_id\", \"klout\", \"verb\", \"favorites_count\",\n",
    "                           \"replies_count\"]"
   ]
  },
  {
   "cell_type": "code",
   "execution_count": 11,
   "metadata": {
    "collapsed": false
   },
   "outputs": [],
   "source": [
    "activities = pd.read_csv('../../s3/2015-05-21-01-00-00-activities.csv', \n",
    "                         header=None, parse_dates=True,\n",
    "                         names=activities_cols_names, index_col=\"id\")"
   ]
  },
  {
   "cell_type": "code",
   "execution_count": 12,
   "metadata": {
    "collapsed": false
   },
   "outputs": [],
   "source": [
    "activities = activities[activities_relevant_cols] "
   ]
  },
  {
   "cell_type": "code",
   "execution_count": 63,
   "metadata": {
    "collapsed": false
   },
   "outputs": [
    {
     "data": {
      "text/html": [
       "<div style=\"max-height:1000px;max-width:1500px;overflow:auto;\">\n",
       "<table border=\"1\" class=\"dataframe\">\n",
       "  <thead>\n",
       "    <tr style=\"text-align: right;\">\n",
       "      <th></th>\n",
       "      <th>actor_id</th>\n",
       "      <th>source</th>\n",
       "      <th>share_count</th>\n",
       "      <th>in_reply_to_native_id</th>\n",
       "      <th>klout</th>\n",
       "      <th>verb</th>\n",
       "      <th>favorites_count</th>\n",
       "      <th>replies_count</th>\n",
       "    </tr>\n",
       "    <tr>\n",
       "      <th>id</th>\n",
       "      <th></th>\n",
       "      <th></th>\n",
       "      <th></th>\n",
       "      <th></th>\n",
       "      <th></th>\n",
       "      <th></th>\n",
       "      <th></th>\n",
       "      <th></th>\n",
       "    </tr>\n",
       "  </thead>\n",
       "  <tbody>\n",
       "    <tr>\n",
       "      <th>443640355408254904</th>\n",
       "      <td>2419819735</td>\n",
       "      <td>twitter</td>\n",
       "      <td>0</td>\n",
       "      <td>NaN</td>\n",
       "      <td>48</td>\n",
       "      <td>post</td>\n",
       "      <td>0</td>\n",
       "      <td>0</td>\n",
       "    </tr>\n",
       "    <tr>\n",
       "      <th>443640355408254905</th>\n",
       "      <td>2405587887</td>\n",
       "      <td>twitter</td>\n",
       "      <td>0</td>\n",
       "      <td>NaN</td>\n",
       "      <td>54</td>\n",
       "      <td>post</td>\n",
       "      <td>0</td>\n",
       "      <td>0</td>\n",
       "    </tr>\n",
       "    <tr>\n",
       "      <th>443640355408254907</th>\n",
       "      <td>2425857238</td>\n",
       "      <td>twitter</td>\n",
       "      <td>0</td>\n",
       "      <td>NaN</td>\n",
       "      <td>31</td>\n",
       "      <td>post</td>\n",
       "      <td>0</td>\n",
       "      <td>0</td>\n",
       "    </tr>\n",
       "    <tr>\n",
       "      <th>443640355408254908</th>\n",
       "      <td>2422152815</td>\n",
       "      <td>twitter</td>\n",
       "      <td>9</td>\n",
       "      <td>NaN</td>\n",
       "      <td>19</td>\n",
       "      <td>share</td>\n",
       "      <td>14</td>\n",
       "      <td>0</td>\n",
       "    </tr>\n",
       "    <tr>\n",
       "      <th>443640355408254909</th>\n",
       "      <td>2406991214</td>\n",
       "      <td>twitter</td>\n",
       "      <td>0</td>\n",
       "      <td>NaN</td>\n",
       "      <td>35</td>\n",
       "      <td>post</td>\n",
       "      <td>0</td>\n",
       "      <td>0</td>\n",
       "    </tr>\n",
       "  </tbody>\n",
       "</table>\n",
       "</div>"
      ],
      "text/plain": [
       "                      actor_id   source  share_count in_reply_to_native_id  \\\n",
       "id                                                                           \n",
       "443640355408254904  2419819735  twitter            0                   NaN   \n",
       "443640355408254905  2405587887  twitter            0                   NaN   \n",
       "443640355408254907  2425857238  twitter            0                   NaN   \n",
       "443640355408254908  2422152815  twitter            9                   NaN   \n",
       "443640355408254909  2406991214  twitter            0                   NaN   \n",
       "\n",
       "                    klout   verb  favorites_count replies_count  \n",
       "id                                                               \n",
       "443640355408254904     48   post                0             0  \n",
       "443640355408254905     54   post                0             0  \n",
       "443640355408254907     31   post                0             0  \n",
       "443640355408254908     19  share               14             0  \n",
       "443640355408254909     35   post                0             0  "
      ]
     },
     "execution_count": 63,
     "metadata": {},
     "output_type": "execute_result"
    }
   ],
   "source": [
    "activities.head()"
   ]
  },
  {
   "cell_type": "code",
   "execution_count": 14,
   "metadata": {
    "collapsed": false
   },
   "outputs": [
    {
     "data": {
      "text/html": [
       "<div style=\"max-height:1000px;max-width:1500px;overflow:auto;\">\n",
       "<table border=\"1\" class=\"dataframe\">\n",
       "  <thead>\n",
       "    <tr style=\"text-align: right;\">\n",
       "      <th></th>\n",
       "      <th>share_count</th>\n",
       "      <th>klout</th>\n",
       "      <th>favorites_count</th>\n",
       "    </tr>\n",
       "  </thead>\n",
       "  <tbody>\n",
       "    <tr>\n",
       "      <th>count</th>\n",
       "      <td>1.280768e+06</td>\n",
       "      <td>1.255925e+06</td>\n",
       "      <td>1280865.000000</td>\n",
       "    </tr>\n",
       "    <tr>\n",
       "      <th>mean</th>\n",
       "      <td>1.878510e+12</td>\n",
       "      <td>4.836412e+13</td>\n",
       "      <td>3338.222079</td>\n",
       "    </tr>\n",
       "    <tr>\n",
       "      <th>std</th>\n",
       "      <td>1.062963e+15</td>\n",
       "      <td>5.392960e+15</td>\n",
       "      <td>13146.340361</td>\n",
       "    </tr>\n",
       "    <tr>\n",
       "      <th>min</th>\n",
       "      <td>0.000000e+00</td>\n",
       "      <td>1.000000e+01</td>\n",
       "      <td>0.000000</td>\n",
       "    </tr>\n",
       "    <tr>\n",
       "      <th>25%</th>\n",
       "      <td>1.000000e+00</td>\n",
       "      <td>2.900000e+01</td>\n",
       "      <td>0.000000</td>\n",
       "    </tr>\n",
       "    <tr>\n",
       "      <th>50%</th>\n",
       "      <td>6.000000e+01</td>\n",
       "      <td>4.000000e+01</td>\n",
       "      <td>54.000000</td>\n",
       "    </tr>\n",
       "    <tr>\n",
       "      <th>75%</th>\n",
       "      <td>7.090000e+02</td>\n",
       "      <td>4.500000e+01</td>\n",
       "      <td>782.000000</td>\n",
       "    </tr>\n",
       "    <tr>\n",
       "      <th>max</th>\n",
       "      <td>6.015506e+17</td>\n",
       "      <td>6.015513e+17</td>\n",
       "      <td>462900.000000</td>\n",
       "    </tr>\n",
       "  </tbody>\n",
       "</table>\n",
       "</div>"
      ],
      "text/plain": [
       "        share_count         klout  favorites_count\n",
       "count  1.280768e+06  1.255925e+06   1280865.000000\n",
       "mean   1.878510e+12  4.836412e+13      3338.222079\n",
       "std    1.062963e+15  5.392960e+15     13146.340361\n",
       "min    0.000000e+00  1.000000e+01         0.000000\n",
       "25%    1.000000e+00  2.900000e+01         0.000000\n",
       "50%    6.000000e+01  4.000000e+01        54.000000\n",
       "75%    7.090000e+02  4.500000e+01       782.000000\n",
       "max    6.015506e+17  6.015513e+17    462900.000000"
      ]
     },
     "execution_count": 14,
     "metadata": {},
     "output_type": "execute_result"
    }
   ],
   "source": [
    "activities.describe()"
   ]
  },
  {
   "cell_type": "markdown",
   "metadata": {},
   "source": [
    "### Association Activities-Rules"
   ]
  },
  {
   "cell_type": "code",
   "execution_count": 15,
   "metadata": {
    "collapsed": true
   },
   "outputs": [],
   "source": [
    "activities_rules_cols_names = [\"id\", \"rule_id\", \"activity_id\", \"created_at\", \"updated_at\", \"ignored\"]"
   ]
  },
  {
   "cell_type": "code",
   "execution_count": 17,
   "metadata": {
    "collapsed": false
   },
   "outputs": [],
   "source": [
    "activities_rules = pd.read_csv('../../s3/2015-05-21-01-00-00-activities-rules.csv', \n",
    "                               parse_dates=True, names=activities_rules_cols_names, index_col=\"id\")"
   ]
  },
  {
   "cell_type": "code",
   "execution_count": 18,
   "metadata": {
    "collapsed": false
   },
   "outputs": [],
   "source": [
    "activities_rules_relevant_cols = [\"rule_id\", \"activity_id\", \"ignored\"]"
   ]
  },
  {
   "cell_type": "code",
   "execution_count": 19,
   "metadata": {
    "collapsed": true
   },
   "outputs": [],
   "source": [
    "activities_rules = activities_rules[activities_rules_relevant_cols]"
   ]
  },
  {
   "cell_type": "code",
   "execution_count": 20,
   "metadata": {
    "collapsed": false
   },
   "outputs": [
    {
     "data": {
      "text/html": [
       "<div style=\"max-height:1000px;max-width:1500px;overflow:auto;\">\n",
       "<table border=\"1\" class=\"dataframe\">\n",
       "  <thead>\n",
       "    <tr style=\"text-align: right;\">\n",
       "      <th></th>\n",
       "      <th>rule_id</th>\n",
       "      <th>activity_id</th>\n",
       "      <th>ignored</th>\n",
       "    </tr>\n",
       "    <tr>\n",
       "      <th>id</th>\n",
       "      <th></th>\n",
       "      <th></th>\n",
       "      <th></th>\n",
       "    </tr>\n",
       "  </thead>\n",
       "  <tbody>\n",
       "    <tr>\n",
       "      <th>108642970</th>\n",
       "      <td>5772</td>\n",
       "      <td>4.436404e+17</td>\n",
       "      <td>0</td>\n",
       "    </tr>\n",
       "    <tr>\n",
       "      <th>108642971</th>\n",
       "      <td>5052</td>\n",
       "      <td>4.436404e+17</td>\n",
       "      <td>0</td>\n",
       "    </tr>\n",
       "    <tr>\n",
       "      <th>108642972</th>\n",
       "      <td>5428</td>\n",
       "      <td>4.436404e+17</td>\n",
       "      <td>0</td>\n",
       "    </tr>\n",
       "    <tr>\n",
       "      <th>108642973</th>\n",
       "      <td>1506</td>\n",
       "      <td>4.436404e+17</td>\n",
       "      <td>0</td>\n",
       "    </tr>\n",
       "    <tr>\n",
       "      <th>108642974</th>\n",
       "      <td>5077</td>\n",
       "      <td>4.436404e+17</td>\n",
       "      <td>0</td>\n",
       "    </tr>\n",
       "  </tbody>\n",
       "</table>\n",
       "</div>"
      ],
      "text/plain": [
       "           rule_id   activity_id  ignored\n",
       "id                                       \n",
       "108642970     5772  4.436404e+17        0\n",
       "108642971     5052  4.436404e+17        0\n",
       "108642972     5428  4.436404e+17        0\n",
       "108642973     1506  4.436404e+17        0\n",
       "108642974     5077  4.436404e+17        0"
      ]
     },
     "execution_count": 20,
     "metadata": {},
     "output_type": "execute_result"
    }
   ],
   "source": [
    "activities_rules.head()"
   ]
  },
  {
   "cell_type": "markdown",
   "metadata": {},
   "source": [
    "### Rules"
   ]
  },
  {
   "cell_type": "code",
   "execution_count": 22,
   "metadata": {
    "collapsed": false
   },
   "outputs": [],
   "source": [
    "rules = pd.read_csv('../../s3/rule.csv', index_col=\"id\")"
   ]
  },
  {
   "cell_type": "code",
   "execution_count": 23,
   "metadata": {
    "collapsed": true
   },
   "outputs": [],
   "source": [
    "rules_relevant_cols = [\"business_id\",\"segment\",\"volume\", \"category\", \"source\", \"type\", \"direct\"]"
   ]
  },
  {
   "cell_type": "code",
   "execution_count": 24,
   "metadata": {
    "collapsed": false
   },
   "outputs": [],
   "source": [
    "rules = rules[rules_relevant_cols]"
   ]
  },
  {
   "cell_type": "code",
   "execution_count": 25,
   "metadata": {
    "collapsed": false
   },
   "outputs": [
    {
     "data": {
      "text/html": [
       "<div style=\"max-height:1000px;max-width:1500px;overflow:auto;\">\n",
       "<table border=\"1\" class=\"dataframe\">\n",
       "  <thead>\n",
       "    <tr style=\"text-align: right;\">\n",
       "      <th></th>\n",
       "      <th>business_id</th>\n",
       "      <th>segment</th>\n",
       "      <th>volume</th>\n",
       "      <th>category</th>\n",
       "      <th>source</th>\n",
       "      <th>type</th>\n",
       "      <th>direct</th>\n",
       "    </tr>\n",
       "    <tr>\n",
       "      <th>id</th>\n",
       "      <th></th>\n",
       "      <th></th>\n",
       "      <th></th>\n",
       "      <th></th>\n",
       "      <th></th>\n",
       "      <th></th>\n",
       "      <th></th>\n",
       "    </tr>\n",
       "  </thead>\n",
       "  <tbody>\n",
       "    <tr>\n",
       "      <th>1</th>\n",
       "      <td>144</td>\n",
       "      <td>1</td>\n",
       "      <td>0</td>\n",
       "      <td>2</td>\n",
       "      <td>twitter</td>\n",
       "      <td>TwitterRule</td>\n",
       "      <td>False</td>\n",
       "    </tr>\n",
       "    <tr>\n",
       "      <th>2</th>\n",
       "      <td>144</td>\n",
       "      <td>1</td>\n",
       "      <td>0</td>\n",
       "      <td>2</td>\n",
       "      <td>twitter</td>\n",
       "      <td>TwitterRule</td>\n",
       "      <td>False</td>\n",
       "    </tr>\n",
       "    <tr>\n",
       "      <th>3</th>\n",
       "      <td>144</td>\n",
       "      <td>1</td>\n",
       "      <td>0</td>\n",
       "      <td>2</td>\n",
       "      <td>twitter</td>\n",
       "      <td>TwitterRule</td>\n",
       "      <td>False</td>\n",
       "    </tr>\n",
       "    <tr>\n",
       "      <th>4</th>\n",
       "      <td>144</td>\n",
       "      <td>1</td>\n",
       "      <td>0</td>\n",
       "      <td>2</td>\n",
       "      <td>twitter</td>\n",
       "      <td>TwitterRule</td>\n",
       "      <td>False</td>\n",
       "    </tr>\n",
       "    <tr>\n",
       "      <th>5</th>\n",
       "      <td>144</td>\n",
       "      <td>1</td>\n",
       "      <td>0</td>\n",
       "      <td>2</td>\n",
       "      <td>twitter</td>\n",
       "      <td>TwitterRule</td>\n",
       "      <td>False</td>\n",
       "    </tr>\n",
       "  </tbody>\n",
       "</table>\n",
       "</div>"
      ],
      "text/plain": [
       "    business_id  segment  volume  category   source         type direct\n",
       "id                                                                     \n",
       "1           144        1       0         2  twitter  TwitterRule  False\n",
       "2           144        1       0         2  twitter  TwitterRule  False\n",
       "3           144        1       0         2  twitter  TwitterRule  False\n",
       "4           144        1       0         2  twitter  TwitterRule  False\n",
       "5           144        1       0         2  twitter  TwitterRule  False"
      ]
     },
     "execution_count": 25,
     "metadata": {},
     "output_type": "execute_result"
    }
   ],
   "source": [
    "rules.head()"
   ]
  },
  {
   "cell_type": "code",
   "execution_count": 26,
   "metadata": {
    "collapsed": false,
    "scrolled": true
   },
   "outputs": [
    {
     "data": {
      "text/html": [
       "<div style=\"max-height:1000px;max-width:1500px;overflow:auto;\">\n",
       "<table border=\"1\" class=\"dataframe\">\n",
       "  <thead>\n",
       "    <tr style=\"text-align: right;\">\n",
       "      <th></th>\n",
       "      <th>business_id</th>\n",
       "      <th>segment</th>\n",
       "      <th>volume</th>\n",
       "      <th>category</th>\n",
       "      <th>direct</th>\n",
       "    </tr>\n",
       "  </thead>\n",
       "  <tbody>\n",
       "    <tr>\n",
       "      <th>count</th>\n",
       "      <td>4786.000000</td>\n",
       "      <td>4786.000000</td>\n",
       "      <td>4.464000e+03</td>\n",
       "      <td>4786.000000</td>\n",
       "      <td>4786</td>\n",
       "    </tr>\n",
       "    <tr>\n",
       "      <th>mean</th>\n",
       "      <td>314.314668</td>\n",
       "      <td>0.376097</td>\n",
       "      <td>2.326812e+05</td>\n",
       "      <td>3.243627</td>\n",
       "      <td>0.0215211</td>\n",
       "    </tr>\n",
       "    <tr>\n",
       "      <th>std</th>\n",
       "      <td>125.258811</td>\n",
       "      <td>0.484455</td>\n",
       "      <td>8.564815e+06</td>\n",
       "      <td>1.819087</td>\n",
       "      <td>0.1451287</td>\n",
       "    </tr>\n",
       "    <tr>\n",
       "      <th>min</th>\n",
       "      <td>1.000000</td>\n",
       "      <td>0.000000</td>\n",
       "      <td>0.000000e+00</td>\n",
       "      <td>0.000000</td>\n",
       "      <td>False</td>\n",
       "    </tr>\n",
       "    <tr>\n",
       "      <th>25%</th>\n",
       "      <td>262.000000</td>\n",
       "      <td>0.000000</td>\n",
       "      <td>1.600000e+01</td>\n",
       "      <td>2.000000</td>\n",
       "      <td>0</td>\n",
       "    </tr>\n",
       "    <tr>\n",
       "      <th>50%</th>\n",
       "      <td>354.000000</td>\n",
       "      <td>0.000000</td>\n",
       "      <td>2.970000e+02</td>\n",
       "      <td>3.000000</td>\n",
       "      <td>0</td>\n",
       "    </tr>\n",
       "    <tr>\n",
       "      <th>75%</th>\n",
       "      <td>412.000000</td>\n",
       "      <td>1.000000</td>\n",
       "      <td>3.140250e+03</td>\n",
       "      <td>5.000000</td>\n",
       "      <td>0</td>\n",
       "    </tr>\n",
       "    <tr>\n",
       "      <th>max</th>\n",
       "      <td>460.000000</td>\n",
       "      <td>1.000000</td>\n",
       "      <td>4.750714e+08</td>\n",
       "      <td>6.000000</td>\n",
       "      <td>True</td>\n",
       "    </tr>\n",
       "  </tbody>\n",
       "</table>\n",
       "</div>"
      ],
      "text/plain": [
       "       business_id      segment        volume     category     direct\n",
       "count  4786.000000  4786.000000  4.464000e+03  4786.000000       4786\n",
       "mean    314.314668     0.376097  2.326812e+05     3.243627  0.0215211\n",
       "std     125.258811     0.484455  8.564815e+06     1.819087  0.1451287\n",
       "min       1.000000     0.000000  0.000000e+00     0.000000      False\n",
       "25%     262.000000     0.000000  1.600000e+01     2.000000          0\n",
       "50%     354.000000     0.000000  2.970000e+02     3.000000          0\n",
       "75%     412.000000     1.000000  3.140250e+03     5.000000          0\n",
       "max     460.000000     1.000000  4.750714e+08     6.000000       True"
      ]
     },
     "execution_count": 26,
     "metadata": {},
     "output_type": "execute_result"
    }
   ],
   "source": [
    "rules.describe()"
   ]
  },
  {
   "cell_type": "markdown",
   "metadata": {},
   "source": [
    "### Actors"
   ]
  },
  {
   "cell_type": "code",
   "execution_count": 80,
   "metadata": {
    "collapsed": false
   },
   "outputs": [],
   "source": [
    "actors = pd.read_csv('../../s3/actors.csv', index_col=\"id\")"
   ]
  },
  {
   "cell_type": "code",
   "execution_count": 81,
   "metadata": {
    "collapsed": false
   },
   "outputs": [
    {
     "data": {
      "text/html": [
       "<div style=\"max-height:1000px;max-width:1500px;overflow:auto;\">\n",
       "<table border=\"1\" class=\"dataframe\">\n",
       "  <thead>\n",
       "    <tr style=\"text-align: right;\">\n",
       "      <th></th>\n",
       "      <th>lang</th>\n",
       "      <th>favourites_count</th>\n",
       "      <th>statuses_count</th>\n",
       "      <th>friends_count</th>\n",
       "      <th>followers_count</th>\n",
       "      <th>listed_count</th>\n",
       "    </tr>\n",
       "    <tr>\n",
       "      <th>id</th>\n",
       "      <th></th>\n",
       "      <th></th>\n",
       "      <th></th>\n",
       "      <th></th>\n",
       "      <th></th>\n",
       "      <th></th>\n",
       "    </tr>\n",
       "  </thead>\n",
       "  <tbody>\n",
       "    <tr>\n",
       "      <th>2419819735</th>\n",
       "      <td>en</td>\n",
       "      <td>NaN</td>\n",
       "      <td>16139</td>\n",
       "      <td>761</td>\n",
       "      <td>1065</td>\n",
       "      <td>71</td>\n",
       "    </tr>\n",
       "    <tr>\n",
       "      <th>2405587887</th>\n",
       "      <td>en</td>\n",
       "      <td>NaN</td>\n",
       "      <td>3043</td>\n",
       "      <td>1368</td>\n",
       "      <td>140</td>\n",
       "      <td>5</td>\n",
       "    </tr>\n",
       "    <tr>\n",
       "      <th>2425857238</th>\n",
       "      <td>en</td>\n",
       "      <td>NaN</td>\n",
       "      <td>15668</td>\n",
       "      <td>7</td>\n",
       "      <td>545</td>\n",
       "      <td>12</td>\n",
       "    </tr>\n",
       "    <tr>\n",
       "      <th>2422152815</th>\n",
       "      <td>en</td>\n",
       "      <td>NaN</td>\n",
       "      <td>171</td>\n",
       "      <td>57</td>\n",
       "      <td>30</td>\n",
       "      <td>0</td>\n",
       "    </tr>\n",
       "    <tr>\n",
       "      <th>2406991214</th>\n",
       "      <td>en</td>\n",
       "      <td>NaN</td>\n",
       "      <td>1341</td>\n",
       "      <td>306</td>\n",
       "      <td>190</td>\n",
       "      <td>7</td>\n",
       "    </tr>\n",
       "  </tbody>\n",
       "</table>\n",
       "</div>"
      ],
      "text/plain": [
       "           lang  favourites_count  statuses_count  friends_count  \\\n",
       "id                                                                 \n",
       "2419819735   en               NaN           16139            761   \n",
       "2405587887   en               NaN            3043           1368   \n",
       "2425857238   en               NaN           15668              7   \n",
       "2422152815   en               NaN             171             57   \n",
       "2406991214   en               NaN            1341            306   \n",
       "\n",
       "            followers_count  listed_count  \n",
       "id                                         \n",
       "2419819735             1065            71  \n",
       "2405587887              140             5  \n",
       "2425857238              545            12  \n",
       "2422152815               30             0  \n",
       "2406991214              190             7  "
      ]
     },
     "execution_count": 81,
     "metadata": {},
     "output_type": "execute_result"
    }
   ],
   "source": [
    "actors.head()"
   ]
  },
  {
   "cell_type": "code",
   "execution_count": 82,
   "metadata": {
    "collapsed": false
   },
   "outputs": [
    {
     "data": {
      "text/html": [
       "<div style=\"max-height:1000px;max-width:1500px;overflow:auto;\">\n",
       "<table border=\"1\" class=\"dataframe\">\n",
       "  <thead>\n",
       "    <tr style=\"text-align: right;\">\n",
       "      <th></th>\n",
       "      <th>favourites_count</th>\n",
       "      <th>statuses_count</th>\n",
       "      <th>friends_count</th>\n",
       "      <th>followers_count</th>\n",
       "      <th>listed_count</th>\n",
       "    </tr>\n",
       "  </thead>\n",
       "  <tbody>\n",
       "    <tr>\n",
       "      <th>count</th>\n",
       "      <td>146204.000000</td>\n",
       "      <td>1278952.000000</td>\n",
       "      <td>1278953.000000</td>\n",
       "      <td>1278953.000000</td>\n",
       "      <td>1278650.000000</td>\n",
       "    </tr>\n",
       "    <tr>\n",
       "      <th>mean</th>\n",
       "      <td>2288.747558</td>\n",
       "      <td>29485.832285</td>\n",
       "      <td>1787.903539</td>\n",
       "      <td>17574.086707</td>\n",
       "      <td>147.851316</td>\n",
       "    </tr>\n",
       "    <tr>\n",
       "      <th>std</th>\n",
       "      <td>8553.651691</td>\n",
       "      <td>63277.951238</td>\n",
       "      <td>11217.130245</td>\n",
       "      <td>358911.933053</td>\n",
       "      <td>2558.850142</td>\n",
       "    </tr>\n",
       "    <tr>\n",
       "      <th>min</th>\n",
       "      <td>0.000000</td>\n",
       "      <td>0.000000</td>\n",
       "      <td>-438.000000</td>\n",
       "      <td>0.000000</td>\n",
       "      <td>0.000000</td>\n",
       "    </tr>\n",
       "    <tr>\n",
       "      <th>25%</th>\n",
       "      <td>15.000000</td>\n",
       "      <td>2208.000000</td>\n",
       "      <td>170.000000</td>\n",
       "      <td>157.000000</td>\n",
       "      <td>1.000000</td>\n",
       "    </tr>\n",
       "    <tr>\n",
       "      <th>50%</th>\n",
       "      <td>225.000000</td>\n",
       "      <td>9225.500000</td>\n",
       "      <td>396.000000</td>\n",
       "      <td>426.000000</td>\n",
       "      <td>3.000000</td>\n",
       "    </tr>\n",
       "    <tr>\n",
       "      <th>75%</th>\n",
       "      <td>1488.000000</td>\n",
       "      <td>29864.000000</td>\n",
       "      <td>1012.000000</td>\n",
       "      <td>1242.000000</td>\n",
       "      <td>14.000000</td>\n",
       "    </tr>\n",
       "    <tr>\n",
       "      <th>max</th>\n",
       "      <td>492244.000000</td>\n",
       "      <td>2051862.000000</td>\n",
       "      <td>1593447.000000</td>\n",
       "      <td>64199466.000000</td>\n",
       "      <td>821163.000000</td>\n",
       "    </tr>\n",
       "  </tbody>\n",
       "</table>\n",
       "</div>"
      ],
      "text/plain": [
       "       favourites_count  statuses_count   friends_count  followers_count  \\\n",
       "count     146204.000000  1278952.000000  1278953.000000   1278953.000000   \n",
       "mean        2288.747558    29485.832285     1787.903539     17574.086707   \n",
       "std         8553.651691    63277.951238    11217.130245    358911.933053   \n",
       "min            0.000000        0.000000     -438.000000         0.000000   \n",
       "25%           15.000000     2208.000000      170.000000       157.000000   \n",
       "50%          225.000000     9225.500000      396.000000       426.000000   \n",
       "75%         1488.000000    29864.000000     1012.000000      1242.000000   \n",
       "max       492244.000000  2051862.000000  1593447.000000  64199466.000000   \n",
       "\n",
       "         listed_count  \n",
       "count  1278650.000000  \n",
       "mean       147.851316  \n",
       "std       2558.850142  \n",
       "min          0.000000  \n",
       "25%          1.000000  \n",
       "50%          3.000000  \n",
       "75%         14.000000  \n",
       "max     821163.000000  "
      ]
     },
     "execution_count": 82,
     "metadata": {},
     "output_type": "execute_result"
    }
   ],
   "source": [
    "actors.describe()"
   ]
  },
  {
   "cell_type": "code",
   "execution_count": null,
   "metadata": {
    "collapsed": true
   },
   "outputs": [],
   "source": []
  }
 ],
 "metadata": {
  "kernelspec": {
   "display_name": "Python 2",
   "language": "python",
   "name": "python2"
  },
  "language_info": {
   "codemirror_mode": {
    "name": "ipython",
    "version": 2
   },
   "file_extension": ".py",
   "mimetype": "text/x-python",
   "name": "python",
   "nbconvert_exporter": "python",
   "pygments_lexer": "ipython2",
   "version": "2.7.6"
  }
 },
 "nbformat": 4,
 "nbformat_minor": 0
}
