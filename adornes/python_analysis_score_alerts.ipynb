{
 "cells": [
  {
   "cell_type": "markdown",
   "metadata": {},
   "source": [
    "# Analysis for calculating score for Alerts\n"
   ]
  },
  {
   "cell_type": "markdown",
   "metadata": {},
   "source": [
    "## Getting and Preparing Data\n",
    "\n",
    "This section loads sample data for 2015-05-21 records of activities, rules and actors."
   ]
  },
  {
   "cell_type": "code",
   "execution_count": 101,
   "metadata": {
    "collapsed": false
   },
   "outputs": [],
   "source": [
    "%matplotlib inline\n",
    "\n",
    "import pandas as pd\n",
    "import numpy as np\n",
    "import statsmodels.api as sm\n",
    "import statsmodels.formula.api as smf\n",
    "import seaborn as sns\n",
    "import matplotlib as mpl\n",
    "import matplotlib.pyplot as plt\n",
    "import json\n",
    "import math\n",
    "import time\n",
    "from pandas.tools.plotting import scatter_matrix\n",
    "from datetime import datetime\n",
    "from time import gmtime, strftime"
   ]
  },
  {
   "cell_type": "markdown",
   "metadata": {},
   "source": [
    "### Activities"
   ]
  },
  {
   "cell_type": "code",
   "execution_count": 70,
   "metadata": {
    "collapsed": true
   },
   "outputs": [],
   "source": [
    "activities_cols_names = [\"id\",\"body\", \"country\", \"country_code\", \"place_type\",\n",
    "                       \"sub_region\", \"actor_id\", \"source\", \"share_count\",\n",
    "                       \"in_reply_to_native_id\", \"created_at\", \"updated_at\",\n",
    "                       \"klout\", \"native_id\", \"verb\", \"latitude\", \"longitude\",\n",
    "                       \"sharing_activity_native_id\", \"region\", \"favorites_count\",\n",
    "                       \"replies_count\", \"in_reply_to_screen_name\", \"link\"]"
   ]
  },
  {
   "cell_type": "code",
   "execution_count": 71,
   "metadata": {
    "collapsed": true
   },
   "outputs": [],
   "source": [
    "activities_relevant_cols = [\"actor_id\", \"source\", \"share_count\",\n",
    "                           \"in_reply_to_native_id\", \"created_at\", \"klout\", \n",
    "                           \"verb\", \"favorites_count\", \"replies_count\"]"
   ]
  },
  {
   "cell_type": "code",
   "execution_count": 72,
   "metadata": {
    "collapsed": false
   },
   "outputs": [],
   "source": [
    "activities = pd.read_csv('../../s3/2015-05-21-01-00-00-activities.csv', \n",
    "                         header=None, parse_dates=True,\n",
    "                         names=activities_cols_names, index_col=\"id\")"
   ]
  },
  {
   "cell_type": "code",
   "execution_count": 73,
   "metadata": {
    "collapsed": false
   },
   "outputs": [],
   "source": [
    "activities = activities[activities_relevant_cols] "
   ]
  },
  {
   "cell_type": "code",
   "execution_count": 88,
   "metadata": {
    "collapsed": false
   },
   "outputs": [],
   "source": [
    "activities['created_at'] = pd.to_datetime(activities['created_at'], format=\"%Y-%m-%d %H:%M:%S.%f\")"
   ]
  },
  {
   "cell_type": "code",
   "execution_count": 89,
   "metadata": {
    "collapsed": false
   },
   "outputs": [
    {
     "data": {
      "text/html": [
       "<div style=\"max-height:1000px;max-width:1500px;overflow:auto;\">\n",
       "<table border=\"1\" class=\"dataframe\">\n",
       "  <thead>\n",
       "    <tr style=\"text-align: right;\">\n",
       "      <th></th>\n",
       "      <th>actor_id</th>\n",
       "      <th>source</th>\n",
       "      <th>share_count</th>\n",
       "      <th>in_reply_to_native_id</th>\n",
       "      <th>created_at</th>\n",
       "      <th>klout</th>\n",
       "      <th>verb</th>\n",
       "      <th>favorites_count</th>\n",
       "      <th>replies_count</th>\n",
       "    </tr>\n",
       "    <tr>\n",
       "      <th>id</th>\n",
       "      <th></th>\n",
       "      <th></th>\n",
       "      <th></th>\n",
       "      <th></th>\n",
       "      <th></th>\n",
       "      <th></th>\n",
       "      <th></th>\n",
       "      <th></th>\n",
       "      <th></th>\n",
       "    </tr>\n",
       "  </thead>\n",
       "  <tbody>\n",
       "    <tr>\n",
       "      <th>443640355408254904</th>\n",
       "      <td>2419819735</td>\n",
       "      <td>twitter</td>\n",
       "      <td>0</td>\n",
       "      <td>NaN</td>\n",
       "      <td>2015-05-21 01:00:00</td>\n",
       "      <td>48</td>\n",
       "      <td>post</td>\n",
       "      <td>0</td>\n",
       "      <td>0</td>\n",
       "    </tr>\n",
       "    <tr>\n",
       "      <th>443640355408254905</th>\n",
       "      <td>2405587887</td>\n",
       "      <td>twitter</td>\n",
       "      <td>0</td>\n",
       "      <td>NaN</td>\n",
       "      <td>2015-05-21 01:00:00</td>\n",
       "      <td>54</td>\n",
       "      <td>post</td>\n",
       "      <td>0</td>\n",
       "      <td>0</td>\n",
       "    </tr>\n",
       "    <tr>\n",
       "      <th>443640355408254907</th>\n",
       "      <td>2425857238</td>\n",
       "      <td>twitter</td>\n",
       "      <td>0</td>\n",
       "      <td>NaN</td>\n",
       "      <td>2015-05-21 01:00:00</td>\n",
       "      <td>31</td>\n",
       "      <td>post</td>\n",
       "      <td>0</td>\n",
       "      <td>0</td>\n",
       "    </tr>\n",
       "    <tr>\n",
       "      <th>443640355408254908</th>\n",
       "      <td>2422152815</td>\n",
       "      <td>twitter</td>\n",
       "      <td>9</td>\n",
       "      <td>NaN</td>\n",
       "      <td>2015-05-21 01:00:00</td>\n",
       "      <td>19</td>\n",
       "      <td>share</td>\n",
       "      <td>14</td>\n",
       "      <td>0</td>\n",
       "    </tr>\n",
       "    <tr>\n",
       "      <th>443640355408254909</th>\n",
       "      <td>2406991214</td>\n",
       "      <td>twitter</td>\n",
       "      <td>0</td>\n",
       "      <td>NaN</td>\n",
       "      <td>2015-05-21 01:00:00</td>\n",
       "      <td>35</td>\n",
       "      <td>post</td>\n",
       "      <td>0</td>\n",
       "      <td>0</td>\n",
       "    </tr>\n",
       "  </tbody>\n",
       "</table>\n",
       "</div>"
      ],
      "text/plain": [
       "                      actor_id   source  share_count in_reply_to_native_id  \\\n",
       "id                                                                           \n",
       "443640355408254904  2419819735  twitter            0                   NaN   \n",
       "443640355408254905  2405587887  twitter            0                   NaN   \n",
       "443640355408254907  2425857238  twitter            0                   NaN   \n",
       "443640355408254908  2422152815  twitter            9                   NaN   \n",
       "443640355408254909  2406991214  twitter            0                   NaN   \n",
       "\n",
       "                            created_at  klout   verb  favorites_count  \\\n",
       "id                                                                      \n",
       "443640355408254904 2015-05-21 01:00:00     48   post                0   \n",
       "443640355408254905 2015-05-21 01:00:00     54   post                0   \n",
       "443640355408254907 2015-05-21 01:00:00     31   post                0   \n",
       "443640355408254908 2015-05-21 01:00:00     19  share               14   \n",
       "443640355408254909 2015-05-21 01:00:00     35   post                0   \n",
       "\n",
       "                   replies_count  \n",
       "id                                \n",
       "443640355408254904             0  \n",
       "443640355408254905             0  \n",
       "443640355408254907             0  \n",
       "443640355408254908             0  \n",
       "443640355408254909             0  "
      ]
     },
     "execution_count": 89,
     "metadata": {},
     "output_type": "execute_result"
    }
   ],
   "source": [
    "activities.head()"
   ]
  },
  {
   "cell_type": "code",
   "execution_count": 11,
   "metadata": {
    "collapsed": false
   },
   "outputs": [
    {
     "data": {
      "text/html": [
       "<div style=\"max-height:1000px;max-width:1500px;overflow:auto;\">\n",
       "<table border=\"1\" class=\"dataframe\">\n",
       "  <thead>\n",
       "    <tr style=\"text-align: right;\">\n",
       "      <th></th>\n",
       "      <th>share_count</th>\n",
       "      <th>klout</th>\n",
       "      <th>favorites_count</th>\n",
       "    </tr>\n",
       "  </thead>\n",
       "  <tbody>\n",
       "    <tr>\n",
       "      <th>count</th>\n",
       "      <td>1.280768e+06</td>\n",
       "      <td>1.255925e+06</td>\n",
       "      <td>1280865.000000</td>\n",
       "    </tr>\n",
       "    <tr>\n",
       "      <th>mean</th>\n",
       "      <td>1.878510e+12</td>\n",
       "      <td>4.836412e+13</td>\n",
       "      <td>3338.222079</td>\n",
       "    </tr>\n",
       "    <tr>\n",
       "      <th>std</th>\n",
       "      <td>1.062963e+15</td>\n",
       "      <td>5.392960e+15</td>\n",
       "      <td>13146.340361</td>\n",
       "    </tr>\n",
       "    <tr>\n",
       "      <th>min</th>\n",
       "      <td>0.000000e+00</td>\n",
       "      <td>1.000000e+01</td>\n",
       "      <td>0.000000</td>\n",
       "    </tr>\n",
       "    <tr>\n",
       "      <th>25%</th>\n",
       "      <td>1.000000e+00</td>\n",
       "      <td>2.900000e+01</td>\n",
       "      <td>0.000000</td>\n",
       "    </tr>\n",
       "    <tr>\n",
       "      <th>50%</th>\n",
       "      <td>6.000000e+01</td>\n",
       "      <td>4.000000e+01</td>\n",
       "      <td>54.000000</td>\n",
       "    </tr>\n",
       "    <tr>\n",
       "      <th>75%</th>\n",
       "      <td>7.090000e+02</td>\n",
       "      <td>4.500000e+01</td>\n",
       "      <td>782.000000</td>\n",
       "    </tr>\n",
       "    <tr>\n",
       "      <th>max</th>\n",
       "      <td>6.015506e+17</td>\n",
       "      <td>6.015513e+17</td>\n",
       "      <td>462900.000000</td>\n",
       "    </tr>\n",
       "  </tbody>\n",
       "</table>\n",
       "</div>"
      ],
      "text/plain": [
       "        share_count         klout  favorites_count\n",
       "count  1.280768e+06  1.255925e+06   1280865.000000\n",
       "mean   1.878510e+12  4.836412e+13      3338.222079\n",
       "std    1.062963e+15  5.392960e+15     13146.340361\n",
       "min    0.000000e+00  1.000000e+01         0.000000\n",
       "25%    1.000000e+00  2.900000e+01         0.000000\n",
       "50%    6.000000e+01  4.000000e+01        54.000000\n",
       "75%    7.090000e+02  4.500000e+01       782.000000\n",
       "max    6.015506e+17  6.015513e+17    462900.000000"
      ]
     },
     "execution_count": 11,
     "metadata": {},
     "output_type": "execute_result"
    }
   ],
   "source": [
    "activities.describe()"
   ]
  },
  {
   "cell_type": "markdown",
   "metadata": {},
   "source": [
    "### Association Activities-Rules"
   ]
  },
  {
   "cell_type": "code",
   "execution_count": 12,
   "metadata": {
    "collapsed": true
   },
   "outputs": [],
   "source": [
    "activities_rules_cols_names = [\"id\", \"rule_id\", \"activity_id\", \"created_at\", \"updated_at\", \"ignored\"]"
   ]
  },
  {
   "cell_type": "code",
   "execution_count": 13,
   "metadata": {
    "collapsed": false
   },
   "outputs": [],
   "source": [
    "activities_rules = pd.read_csv('../../s3/2015-05-21-01-00-00-activities-rules.csv', \n",
    "                               parse_dates=True, names=activities_rules_cols_names, index_col=\"id\")"
   ]
  },
  {
   "cell_type": "code",
   "execution_count": 14,
   "metadata": {
    "collapsed": false
   },
   "outputs": [],
   "source": [
    "activities_rules_relevant_cols = [\"rule_id\", \"activity_id\", \"ignored\"]"
   ]
  },
  {
   "cell_type": "code",
   "execution_count": 15,
   "metadata": {
    "collapsed": true
   },
   "outputs": [],
   "source": [
    "activities_rules = activities_rules[activities_rules_relevant_cols]"
   ]
  },
  {
   "cell_type": "code",
   "execution_count": 16,
   "metadata": {
    "collapsed": false
   },
   "outputs": [
    {
     "data": {
      "text/html": [
       "<div style=\"max-height:1000px;max-width:1500px;overflow:auto;\">\n",
       "<table border=\"1\" class=\"dataframe\">\n",
       "  <thead>\n",
       "    <tr style=\"text-align: right;\">\n",
       "      <th></th>\n",
       "      <th>rule_id</th>\n",
       "      <th>activity_id</th>\n",
       "      <th>ignored</th>\n",
       "    </tr>\n",
       "    <tr>\n",
       "      <th>id</th>\n",
       "      <th></th>\n",
       "      <th></th>\n",
       "      <th></th>\n",
       "    </tr>\n",
       "  </thead>\n",
       "  <tbody>\n",
       "    <tr>\n",
       "      <th>108642970</th>\n",
       "      <td>5772</td>\n",
       "      <td>4.436404e+17</td>\n",
       "      <td>0</td>\n",
       "    </tr>\n",
       "    <tr>\n",
       "      <th>108642971</th>\n",
       "      <td>5052</td>\n",
       "      <td>4.436404e+17</td>\n",
       "      <td>0</td>\n",
       "    </tr>\n",
       "    <tr>\n",
       "      <th>108642972</th>\n",
       "      <td>5428</td>\n",
       "      <td>4.436404e+17</td>\n",
       "      <td>0</td>\n",
       "    </tr>\n",
       "    <tr>\n",
       "      <th>108642973</th>\n",
       "      <td>1506</td>\n",
       "      <td>4.436404e+17</td>\n",
       "      <td>0</td>\n",
       "    </tr>\n",
       "    <tr>\n",
       "      <th>108642974</th>\n",
       "      <td>5077</td>\n",
       "      <td>4.436404e+17</td>\n",
       "      <td>0</td>\n",
       "    </tr>\n",
       "  </tbody>\n",
       "</table>\n",
       "</div>"
      ],
      "text/plain": [
       "           rule_id   activity_id  ignored\n",
       "id                                       \n",
       "108642970     5772  4.436404e+17        0\n",
       "108642971     5052  4.436404e+17        0\n",
       "108642972     5428  4.436404e+17        0\n",
       "108642973     1506  4.436404e+17        0\n",
       "108642974     5077  4.436404e+17        0"
      ]
     },
     "execution_count": 16,
     "metadata": {},
     "output_type": "execute_result"
    }
   ],
   "source": [
    "activities_rules.head()"
   ]
  },
  {
   "cell_type": "markdown",
   "metadata": {},
   "source": [
    "### Rules"
   ]
  },
  {
   "cell_type": "code",
   "execution_count": 17,
   "metadata": {
    "collapsed": false
   },
   "outputs": [],
   "source": [
    "rules = pd.read_csv('../../s3/rule.csv', index_col=\"id\")"
   ]
  },
  {
   "cell_type": "code",
   "execution_count": 18,
   "metadata": {
    "collapsed": true
   },
   "outputs": [],
   "source": [
    "rules_relevant_cols = [\"business_id\",\"segment\",\"volume\", \"category\", \"source\", \"type\", \"direct\"]"
   ]
  },
  {
   "cell_type": "code",
   "execution_count": 19,
   "metadata": {
    "collapsed": false
   },
   "outputs": [],
   "source": [
    "rules = rules[rules_relevant_cols]"
   ]
  },
  {
   "cell_type": "code",
   "execution_count": 20,
   "metadata": {
    "collapsed": false
   },
   "outputs": [
    {
     "data": {
      "text/html": [
       "<div style=\"max-height:1000px;max-width:1500px;overflow:auto;\">\n",
       "<table border=\"1\" class=\"dataframe\">\n",
       "  <thead>\n",
       "    <tr style=\"text-align: right;\">\n",
       "      <th></th>\n",
       "      <th>business_id</th>\n",
       "      <th>segment</th>\n",
       "      <th>volume</th>\n",
       "      <th>category</th>\n",
       "      <th>source</th>\n",
       "      <th>type</th>\n",
       "      <th>direct</th>\n",
       "    </tr>\n",
       "    <tr>\n",
       "      <th>id</th>\n",
       "      <th></th>\n",
       "      <th></th>\n",
       "      <th></th>\n",
       "      <th></th>\n",
       "      <th></th>\n",
       "      <th></th>\n",
       "      <th></th>\n",
       "    </tr>\n",
       "  </thead>\n",
       "  <tbody>\n",
       "    <tr>\n",
       "      <th>1</th>\n",
       "      <td>144</td>\n",
       "      <td>1</td>\n",
       "      <td>0</td>\n",
       "      <td>2</td>\n",
       "      <td>twitter</td>\n",
       "      <td>TwitterRule</td>\n",
       "      <td>False</td>\n",
       "    </tr>\n",
       "    <tr>\n",
       "      <th>2</th>\n",
       "      <td>144</td>\n",
       "      <td>1</td>\n",
       "      <td>0</td>\n",
       "      <td>2</td>\n",
       "      <td>twitter</td>\n",
       "      <td>TwitterRule</td>\n",
       "      <td>False</td>\n",
       "    </tr>\n",
       "    <tr>\n",
       "      <th>3</th>\n",
       "      <td>144</td>\n",
       "      <td>1</td>\n",
       "      <td>0</td>\n",
       "      <td>2</td>\n",
       "      <td>twitter</td>\n",
       "      <td>TwitterRule</td>\n",
       "      <td>False</td>\n",
       "    </tr>\n",
       "    <tr>\n",
       "      <th>4</th>\n",
       "      <td>144</td>\n",
       "      <td>1</td>\n",
       "      <td>0</td>\n",
       "      <td>2</td>\n",
       "      <td>twitter</td>\n",
       "      <td>TwitterRule</td>\n",
       "      <td>False</td>\n",
       "    </tr>\n",
       "    <tr>\n",
       "      <th>5</th>\n",
       "      <td>144</td>\n",
       "      <td>1</td>\n",
       "      <td>0</td>\n",
       "      <td>2</td>\n",
       "      <td>twitter</td>\n",
       "      <td>TwitterRule</td>\n",
       "      <td>False</td>\n",
       "    </tr>\n",
       "  </tbody>\n",
       "</table>\n",
       "</div>"
      ],
      "text/plain": [
       "    business_id  segment  volume  category   source         type direct\n",
       "id                                                                     \n",
       "1           144        1       0         2  twitter  TwitterRule  False\n",
       "2           144        1       0         2  twitter  TwitterRule  False\n",
       "3           144        1       0         2  twitter  TwitterRule  False\n",
       "4           144        1       0         2  twitter  TwitterRule  False\n",
       "5           144        1       0         2  twitter  TwitterRule  False"
      ]
     },
     "execution_count": 20,
     "metadata": {},
     "output_type": "execute_result"
    }
   ],
   "source": [
    "rules.head()"
   ]
  },
  {
   "cell_type": "code",
   "execution_count": 21,
   "metadata": {
    "collapsed": false,
    "scrolled": true
   },
   "outputs": [
    {
     "data": {
      "text/html": [
       "<div style=\"max-height:1000px;max-width:1500px;overflow:auto;\">\n",
       "<table border=\"1\" class=\"dataframe\">\n",
       "  <thead>\n",
       "    <tr style=\"text-align: right;\">\n",
       "      <th></th>\n",
       "      <th>business_id</th>\n",
       "      <th>segment</th>\n",
       "      <th>volume</th>\n",
       "      <th>category</th>\n",
       "      <th>direct</th>\n",
       "    </tr>\n",
       "  </thead>\n",
       "  <tbody>\n",
       "    <tr>\n",
       "      <th>count</th>\n",
       "      <td>4786.000000</td>\n",
       "      <td>4786.000000</td>\n",
       "      <td>4.464000e+03</td>\n",
       "      <td>4786.000000</td>\n",
       "      <td>4786</td>\n",
       "    </tr>\n",
       "    <tr>\n",
       "      <th>mean</th>\n",
       "      <td>314.314668</td>\n",
       "      <td>0.376097</td>\n",
       "      <td>2.326812e+05</td>\n",
       "      <td>3.243627</td>\n",
       "      <td>0.0215211</td>\n",
       "    </tr>\n",
       "    <tr>\n",
       "      <th>std</th>\n",
       "      <td>125.258811</td>\n",
       "      <td>0.484455</td>\n",
       "      <td>8.564815e+06</td>\n",
       "      <td>1.819087</td>\n",
       "      <td>0.1451287</td>\n",
       "    </tr>\n",
       "    <tr>\n",
       "      <th>min</th>\n",
       "      <td>1.000000</td>\n",
       "      <td>0.000000</td>\n",
       "      <td>0.000000e+00</td>\n",
       "      <td>0.000000</td>\n",
       "      <td>False</td>\n",
       "    </tr>\n",
       "    <tr>\n",
       "      <th>25%</th>\n",
       "      <td>262.000000</td>\n",
       "      <td>0.000000</td>\n",
       "      <td>1.600000e+01</td>\n",
       "      <td>2.000000</td>\n",
       "      <td>0</td>\n",
       "    </tr>\n",
       "    <tr>\n",
       "      <th>50%</th>\n",
       "      <td>354.000000</td>\n",
       "      <td>0.000000</td>\n",
       "      <td>2.970000e+02</td>\n",
       "      <td>3.000000</td>\n",
       "      <td>0</td>\n",
       "    </tr>\n",
       "    <tr>\n",
       "      <th>75%</th>\n",
       "      <td>412.000000</td>\n",
       "      <td>1.000000</td>\n",
       "      <td>3.140250e+03</td>\n",
       "      <td>5.000000</td>\n",
       "      <td>0</td>\n",
       "    </tr>\n",
       "    <tr>\n",
       "      <th>max</th>\n",
       "      <td>460.000000</td>\n",
       "      <td>1.000000</td>\n",
       "      <td>4.750714e+08</td>\n",
       "      <td>6.000000</td>\n",
       "      <td>True</td>\n",
       "    </tr>\n",
       "  </tbody>\n",
       "</table>\n",
       "</div>"
      ],
      "text/plain": [
       "       business_id      segment        volume     category     direct\n",
       "count  4786.000000  4786.000000  4.464000e+03  4786.000000       4786\n",
       "mean    314.314668     0.376097  2.326812e+05     3.243627  0.0215211\n",
       "std     125.258811     0.484455  8.564815e+06     1.819087  0.1451287\n",
       "min       1.000000     0.000000  0.000000e+00     0.000000      False\n",
       "25%     262.000000     0.000000  1.600000e+01     2.000000          0\n",
       "50%     354.000000     0.000000  2.970000e+02     3.000000          0\n",
       "75%     412.000000     1.000000  3.140250e+03     5.000000          0\n",
       "max     460.000000     1.000000  4.750714e+08     6.000000       True"
      ]
     },
     "execution_count": 21,
     "metadata": {},
     "output_type": "execute_result"
    }
   ],
   "source": [
    "rules.describe()"
   ]
  },
  {
   "cell_type": "markdown",
   "metadata": {},
   "source": [
    "### Actors"
   ]
  },
  {
   "cell_type": "code",
   "execution_count": 22,
   "metadata": {
    "collapsed": false
   },
   "outputs": [],
   "source": [
    "actors = pd.read_csv('../../s3/actors.csv', index_col=\"id\")"
   ]
  },
  {
   "cell_type": "code",
   "execution_count": 23,
   "metadata": {
    "collapsed": false
   },
   "outputs": [
    {
     "data": {
      "text/html": [
       "<div style=\"max-height:1000px;max-width:1500px;overflow:auto;\">\n",
       "<table border=\"1\" class=\"dataframe\">\n",
       "  <thead>\n",
       "    <tr style=\"text-align: right;\">\n",
       "      <th></th>\n",
       "      <th>lang</th>\n",
       "      <th>favourites_count</th>\n",
       "      <th>statuses_count</th>\n",
       "      <th>friends_count</th>\n",
       "      <th>followers_count</th>\n",
       "      <th>listed_count</th>\n",
       "    </tr>\n",
       "    <tr>\n",
       "      <th>id</th>\n",
       "      <th></th>\n",
       "      <th></th>\n",
       "      <th></th>\n",
       "      <th></th>\n",
       "      <th></th>\n",
       "      <th></th>\n",
       "    </tr>\n",
       "  </thead>\n",
       "  <tbody>\n",
       "    <tr>\n",
       "      <th>12</th>\n",
       "      <td>en</td>\n",
       "      <td>NaN</td>\n",
       "      <td>16636</td>\n",
       "      <td>1450</td>\n",
       "      <td>2984845</td>\n",
       "      <td>24425</td>\n",
       "    </tr>\n",
       "    <tr>\n",
       "      <th>767</th>\n",
       "      <td>en</td>\n",
       "      <td>24198</td>\n",
       "      <td>69163</td>\n",
       "      <td>2983</td>\n",
       "      <td>90600</td>\n",
       "      <td>4884</td>\n",
       "    </tr>\n",
       "    <tr>\n",
       "      <th>785</th>\n",
       "      <td>en</td>\n",
       "      <td>NaN</td>\n",
       "      <td>23948</td>\n",
       "      <td>846</td>\n",
       "      <td>14979</td>\n",
       "      <td>631</td>\n",
       "    </tr>\n",
       "    <tr>\n",
       "      <th>1952</th>\n",
       "      <td>en</td>\n",
       "      <td>94</td>\n",
       "      <td>41700</td>\n",
       "      <td>998</td>\n",
       "      <td>4043</td>\n",
       "      <td>226</td>\n",
       "    </tr>\n",
       "    <tr>\n",
       "      <th>2172</th>\n",
       "      <td>en</td>\n",
       "      <td>76</td>\n",
       "      <td>53560</td>\n",
       "      <td>2033</td>\n",
       "      <td>582423</td>\n",
       "      <td>12127</td>\n",
       "    </tr>\n",
       "  </tbody>\n",
       "</table>\n",
       "</div>"
      ],
      "text/plain": [
       "     lang  favourites_count  statuses_count  friends_count  followers_count  \\\n",
       "id                                                                            \n",
       "12     en               NaN           16636           1450          2984845   \n",
       "767    en             24198           69163           2983            90600   \n",
       "785    en               NaN           23948            846            14979   \n",
       "1952   en                94           41700            998             4043   \n",
       "2172   en                76           53560           2033           582423   \n",
       "\n",
       "      listed_count  \n",
       "id                  \n",
       "12           24425  \n",
       "767           4884  \n",
       "785            631  \n",
       "1952           226  \n",
       "2172         12127  "
      ]
     },
     "execution_count": 23,
     "metadata": {},
     "output_type": "execute_result"
    }
   ],
   "source": [
    "actors.head()"
   ]
  },
  {
   "cell_type": "code",
   "execution_count": 24,
   "metadata": {
    "collapsed": false
   },
   "outputs": [
    {
     "data": {
      "text/html": [
       "<div style=\"max-height:1000px;max-width:1500px;overflow:auto;\">\n",
       "<table border=\"1\" class=\"dataframe\">\n",
       "  <thead>\n",
       "    <tr style=\"text-align: right;\">\n",
       "      <th></th>\n",
       "      <th>favourites_count</th>\n",
       "      <th>statuses_count</th>\n",
       "      <th>friends_count</th>\n",
       "      <th>followers_count</th>\n",
       "      <th>listed_count</th>\n",
       "    </tr>\n",
       "  </thead>\n",
       "  <tbody>\n",
       "    <tr>\n",
       "      <th>count</th>\n",
       "      <td>72205.000000</td>\n",
       "      <td>734833.000000</td>\n",
       "      <td>734834.000000</td>\n",
       "      <td>734834.000000</td>\n",
       "      <td>734611.000000</td>\n",
       "    </tr>\n",
       "    <tr>\n",
       "      <th>mean</th>\n",
       "      <td>2063.706627</td>\n",
       "      <td>17198.639341</td>\n",
       "      <td>989.087618</td>\n",
       "      <td>3778.709121</td>\n",
       "      <td>32.093360</td>\n",
       "    </tr>\n",
       "    <tr>\n",
       "      <th>std</th>\n",
       "      <td>6821.231790</td>\n",
       "      <td>34693.571539</td>\n",
       "      <td>6001.745585</td>\n",
       "      <td>155812.787824</td>\n",
       "      <td>1135.065026</td>\n",
       "    </tr>\n",
       "    <tr>\n",
       "      <th>min</th>\n",
       "      <td>0.000000</td>\n",
       "      <td>0.000000</td>\n",
       "      <td>-438.000000</td>\n",
       "      <td>0.000000</td>\n",
       "      <td>0.000000</td>\n",
       "    </tr>\n",
       "    <tr>\n",
       "      <th>25%</th>\n",
       "      <td>36.000000</td>\n",
       "      <td>1385.000000</td>\n",
       "      <td>173.000000</td>\n",
       "      <td>133.000000</td>\n",
       "      <td>0.000000</td>\n",
       "    </tr>\n",
       "    <tr>\n",
       "      <th>50%</th>\n",
       "      <td>343.000000</td>\n",
       "      <td>5884.000000</td>\n",
       "      <td>358.000000</td>\n",
       "      <td>343.000000</td>\n",
       "      <td>2.000000</td>\n",
       "    </tr>\n",
       "    <tr>\n",
       "      <th>75%</th>\n",
       "      <td>1703.000000</td>\n",
       "      <td>18786.000000</td>\n",
       "      <td>779.000000</td>\n",
       "      <td>853.000000</td>\n",
       "      <td>7.000000</td>\n",
       "    </tr>\n",
       "    <tr>\n",
       "      <th>max</th>\n",
       "      <td>492244.000000</td>\n",
       "      <td>2051862.000000</td>\n",
       "      <td>1593446.000000</td>\n",
       "      <td>64199466.000000</td>\n",
       "      <td>821163.000000</td>\n",
       "    </tr>\n",
       "  </tbody>\n",
       "</table>\n",
       "</div>"
      ],
      "text/plain": [
       "       favourites_count  statuses_count   friends_count  followers_count  \\\n",
       "count      72205.000000   734833.000000   734834.000000    734834.000000   \n",
       "mean        2063.706627    17198.639341      989.087618      3778.709121   \n",
       "std         6821.231790    34693.571539     6001.745585    155812.787824   \n",
       "min            0.000000        0.000000     -438.000000         0.000000   \n",
       "25%           36.000000     1385.000000      173.000000       133.000000   \n",
       "50%          343.000000     5884.000000      358.000000       343.000000   \n",
       "75%         1703.000000    18786.000000      779.000000       853.000000   \n",
       "max       492244.000000  2051862.000000  1593446.000000  64199466.000000   \n",
       "\n",
       "        listed_count  \n",
       "count  734611.000000  \n",
       "mean       32.093360  \n",
       "std      1135.065026  \n",
       "min         0.000000  \n",
       "25%         0.000000  \n",
       "50%         2.000000  \n",
       "75%         7.000000  \n",
       "max    821163.000000  "
      ]
     },
     "execution_count": 24,
     "metadata": {},
     "output_type": "execute_result"
    }
   ],
   "source": [
    "actors.describe()"
   ]
  },
  {
   "cell_type": "markdown",
   "metadata": {},
   "source": [
    "### Alerts"
   ]
  },
  {
   "cell_type": "code",
   "execution_count": 25,
   "metadata": {
    "collapsed": true
   },
   "outputs": [],
   "source": [
    "alerts = pd.read_csv('../../s3/alerts.csv', index_col=\"id\")"
   ]
  },
  {
   "cell_type": "code",
   "execution_count": 26,
   "metadata": {
    "collapsed": false
   },
   "outputs": [
    {
     "data": {
      "text/html": [
       "<div style=\"max-height:1000px;max-width:1500px;overflow:auto;\">\n",
       "<table border=\"1\" class=\"dataframe\">\n",
       "  <thead>\n",
       "    <tr style=\"text-align: right;\">\n",
       "      <th></th>\n",
       "      <th>business_id</th>\n",
       "      <th>options</th>\n",
       "      <th>created_at</th>\n",
       "      <th>updated_at</th>\n",
       "      <th>alert_type_id</th>\n",
       "      <th>type</th>\n",
       "      <th>rule_id</th>\n",
       "    </tr>\n",
       "    <tr>\n",
       "      <th>id</th>\n",
       "      <th></th>\n",
       "      <th></th>\n",
       "      <th></th>\n",
       "      <th></th>\n",
       "      <th></th>\n",
       "      <th></th>\n",
       "      <th></th>\n",
       "    </tr>\n",
       "  </thead>\n",
       "  <tbody>\n",
       "    <tr>\n",
       "      <th>173559</th>\n",
       "      <td>397</td>\n",
       "      <td>{\"klout_topics\"=&gt;\"Baseball, College Baseball, ...</td>\n",
       "      <td>2015-05-21 00:00:15 -0400</td>\n",
       "      <td>2015-05-21 00:00:15 -0400</td>\n",
       "      <td>129</td>\n",
       "      <td>NaN</td>\n",
       "      <td>3454</td>\n",
       "    </tr>\n",
       "    <tr>\n",
       "      <th>173560</th>\n",
       "      <td>435</td>\n",
       "      <td>{\"klout_topics\"=&gt;\"Sacramento, Twitter, San Jos...</td>\n",
       "      <td>2015-05-21 00:04:30 -0400</td>\n",
       "      <td>2015-05-21 00:04:30 -0400</td>\n",
       "      <td>129</td>\n",
       "      <td>NaN</td>\n",
       "      <td>4561</td>\n",
       "    </tr>\n",
       "    <tr>\n",
       "      <th>173561</th>\n",
       "      <td>439</td>\n",
       "      <td>{\"klout_topics\"=&gt;\"Architecture, Interior Desig...</td>\n",
       "      <td>2015-05-21 00:09:26 -0400</td>\n",
       "      <td>2015-05-21 00:09:26 -0400</td>\n",
       "      <td>129</td>\n",
       "      <td>NaN</td>\n",
       "      <td>5183</td>\n",
       "    </tr>\n",
       "    <tr>\n",
       "      <th>173562</th>\n",
       "      <td>421</td>\n",
       "      <td>{\"hashtags\"=&gt;[\"usocwithbdpc\"], \"topic\"=&gt;\"\\\"son...</td>\n",
       "      <td>2015-05-21 00:12:43 -0400</td>\n",
       "      <td>2015-05-21 00:12:43 -0400</td>\n",
       "      <td>118</td>\n",
       "      <td>HashtagAlert</td>\n",
       "      <td>4268</td>\n",
       "    </tr>\n",
       "    <tr>\n",
       "      <th>173563</th>\n",
       "      <td>369</td>\n",
       "      <td>{\"mean\"=&gt;\"28.6667\", \"topic\"=&gt;\"@pgatour\", \"vali...</td>\n",
       "      <td>2015-05-21 00:12:44 -0400</td>\n",
       "      <td>2015-05-21 00:12:44 -0400</td>\n",
       "      <td>142</td>\n",
       "      <td>PopularTopicAlert</td>\n",
       "      <td>2872</td>\n",
       "    </tr>\n",
       "  </tbody>\n",
       "</table>\n",
       "</div>"
      ],
      "text/plain": [
       "        business_id                                            options  \\\n",
       "id                                                                       \n",
       "173559          397  {\"klout_topics\"=>\"Baseball, College Baseball, ...   \n",
       "173560          435  {\"klout_topics\"=>\"Sacramento, Twitter, San Jos...   \n",
       "173561          439  {\"klout_topics\"=>\"Architecture, Interior Desig...   \n",
       "173562          421  {\"hashtags\"=>[\"usocwithbdpc\"], \"topic\"=>\"\\\"son...   \n",
       "173563          369  {\"mean\"=>\"28.6667\", \"topic\"=>\"@pgatour\", \"vali...   \n",
       "\n",
       "                       created_at                 updated_at  alert_type_id  \\\n",
       "id                                                                            \n",
       "173559  2015-05-21 00:00:15 -0400  2015-05-21 00:00:15 -0400            129   \n",
       "173560  2015-05-21 00:04:30 -0400  2015-05-21 00:04:30 -0400            129   \n",
       "173561  2015-05-21 00:09:26 -0400  2015-05-21 00:09:26 -0400            129   \n",
       "173562  2015-05-21 00:12:43 -0400  2015-05-21 00:12:43 -0400            118   \n",
       "173563  2015-05-21 00:12:44 -0400  2015-05-21 00:12:44 -0400            142   \n",
       "\n",
       "                     type  rule_id  \n",
       "id                                  \n",
       "173559                NaN     3454  \n",
       "173560                NaN     4561  \n",
       "173561                NaN     5183  \n",
       "173562       HashtagAlert     4268  \n",
       "173563  PopularTopicAlert     2872  "
      ]
     },
     "execution_count": 26,
     "metadata": {},
     "output_type": "execute_result"
    }
   ],
   "source": [
    "alerts.head()"
   ]
  },
  {
   "cell_type": "code",
   "execution_count": 27,
   "metadata": {
    "collapsed": false
   },
   "outputs": [
    {
     "data": {
      "text/html": [
       "<div style=\"max-height:1000px;max-width:1500px;overflow:auto;\">\n",
       "<table border=\"1\" class=\"dataframe\">\n",
       "  <thead>\n",
       "    <tr style=\"text-align: right;\">\n",
       "      <th></th>\n",
       "      <th>business_id</th>\n",
       "      <th>alert_type_id</th>\n",
       "      <th>rule_id</th>\n",
       "    </tr>\n",
       "  </thead>\n",
       "  <tbody>\n",
       "    <tr>\n",
       "      <th>count</th>\n",
       "      <td>620.000000</td>\n",
       "      <td>620.000000</td>\n",
       "      <td>620.000000</td>\n",
       "    </tr>\n",
       "    <tr>\n",
       "      <th>mean</th>\n",
       "      <td>307.483871</td>\n",
       "      <td>133.143548</td>\n",
       "      <td>3257.156452</td>\n",
       "    </tr>\n",
       "    <tr>\n",
       "      <th>std</th>\n",
       "      <td>155.333530</td>\n",
       "      <td>6.910251</td>\n",
       "      <td>1998.946054</td>\n",
       "    </tr>\n",
       "    <tr>\n",
       "      <th>min</th>\n",
       "      <td>1.000000</td>\n",
       "      <td>113.000000</td>\n",
       "      <td>20.000000</td>\n",
       "    </tr>\n",
       "    <tr>\n",
       "      <th>25%</th>\n",
       "      <td>224.000000</td>\n",
       "      <td>129.000000</td>\n",
       "      <td>1450.750000</td>\n",
       "    </tr>\n",
       "    <tr>\n",
       "      <th>50%</th>\n",
       "      <td>369.000000</td>\n",
       "      <td>129.000000</td>\n",
       "      <td>3616.000000</td>\n",
       "    </tr>\n",
       "    <tr>\n",
       "      <th>75%</th>\n",
       "      <td>443.000000</td>\n",
       "      <td>141.000000</td>\n",
       "      <td>5269.000000</td>\n",
       "    </tr>\n",
       "    <tr>\n",
       "      <th>max</th>\n",
       "      <td>453.000000</td>\n",
       "      <td>146.000000</td>\n",
       "      <td>5897.000000</td>\n",
       "    </tr>\n",
       "  </tbody>\n",
       "</table>\n",
       "</div>"
      ],
      "text/plain": [
       "       business_id  alert_type_id      rule_id\n",
       "count   620.000000     620.000000   620.000000\n",
       "mean    307.483871     133.143548  3257.156452\n",
       "std     155.333530       6.910251  1998.946054\n",
       "min       1.000000     113.000000    20.000000\n",
       "25%     224.000000     129.000000  1450.750000\n",
       "50%     369.000000     129.000000  3616.000000\n",
       "75%     443.000000     141.000000  5269.000000\n",
       "max     453.000000     146.000000  5897.000000"
      ]
     },
     "execution_count": 27,
     "metadata": {},
     "output_type": "execute_result"
    }
   ],
   "source": [
    "alerts.describe()"
   ]
  },
  {
   "cell_type": "markdown",
   "metadata": {},
   "source": [
    "### Activities for URLs of Alerted Trends"
   ]
  },
  {
   "cell_type": "code",
   "execution_count": 112,
   "metadata": {
    "collapsed": false
   },
   "outputs": [],
   "source": [
    "activities_urls = pd.read_csv('../../s3/activities_urls_trends.csv', index_col=\"id\")\n",
    "activities_urls = activities_urls[activities_relevant_cols +[\"activities_count\",\"expanded_url\"]]\n",
    "activities_urls = activities_urls.sort(\"activities_count\", ascending=False)\n",
    "activities_urls['created_at'] = pd.to_datetime(activities_urls['created_at'], format=\"%Y-%m-%d %H:%M:%S\")"
   ]
  },
  {
   "cell_type": "code",
   "execution_count": 113,
   "metadata": {
    "collapsed": false,
    "scrolled": true
   },
   "outputs": [
    {
     "data": {
      "text/html": [
       "<div style=\"max-height:1000px;max-width:1500px;overflow:auto;\">\n",
       "<table border=\"1\" class=\"dataframe\">\n",
       "  <thead>\n",
       "    <tr style=\"text-align: right;\">\n",
       "      <th></th>\n",
       "      <th>actor_id</th>\n",
       "      <th>source</th>\n",
       "      <th>share_count</th>\n",
       "      <th>in_reply_to_native_id</th>\n",
       "      <th>created_at</th>\n",
       "      <th>klout</th>\n",
       "      <th>verb</th>\n",
       "      <th>favorites_count</th>\n",
       "      <th>replies_count</th>\n",
       "      <th>activities_count</th>\n",
       "      <th>expanded_url</th>\n",
       "    </tr>\n",
       "    <tr>\n",
       "      <th>id</th>\n",
       "      <th></th>\n",
       "      <th></th>\n",
       "      <th></th>\n",
       "      <th></th>\n",
       "      <th></th>\n",
       "      <th></th>\n",
       "      <th></th>\n",
       "      <th></th>\n",
       "      <th></th>\n",
       "      <th></th>\n",
       "      <th></th>\n",
       "    </tr>\n",
       "  </thead>\n",
       "  <tbody>\n",
       "    <tr>\n",
       "      <th>443640355408832882</th>\n",
       "      <td>2424761055</td>\n",
       "      <td>twitter</td>\n",
       "      <td>671</td>\n",
       "      <td>NaN</td>\n",
       "      <td>2015-05-21 09:43:58</td>\n",
       "      <td>17</td>\n",
       "      <td>share</td>\n",
       "      <td>468</td>\n",
       "      <td>0</td>\n",
       "      <td>701</td>\n",
       "      <td>http://twitter.com/footy_jokes/status/60133160...</td>\n",
       "    </tr>\n",
       "    <tr>\n",
       "      <th>443640355408700115</th>\n",
       "      <td>2424174321</td>\n",
       "      <td>twitter</td>\n",
       "      <td>400</td>\n",
       "      <td>NaN</td>\n",
       "      <td>2015-05-21 07:02:32</td>\n",
       "      <td>25</td>\n",
       "      <td>share</td>\n",
       "      <td>246</td>\n",
       "      <td>0</td>\n",
       "      <td>701</td>\n",
       "      <td>http://twitter.com/footy_jokes/status/60133160...</td>\n",
       "    </tr>\n",
       "    <tr>\n",
       "      <th>443640355408701789</th>\n",
       "      <td>2424330443</td>\n",
       "      <td>twitter</td>\n",
       "      <td>407</td>\n",
       "      <td>NaN</td>\n",
       "      <td>2015-05-21 07:04:55</td>\n",
       "      <td>31</td>\n",
       "      <td>share</td>\n",
       "      <td>251</td>\n",
       "      <td>0</td>\n",
       "      <td>701</td>\n",
       "      <td>http://twitter.com/footy_jokes/status/60133160...</td>\n",
       "    </tr>\n",
       "    <tr>\n",
       "      <th>443640355408701608</th>\n",
       "      <td>2408455207</td>\n",
       "      <td>twitter</td>\n",
       "      <td>406</td>\n",
       "      <td>NaN</td>\n",
       "      <td>2015-05-21 07:04:38</td>\n",
       "      <td>34</td>\n",
       "      <td>share</td>\n",
       "      <td>251</td>\n",
       "      <td>0</td>\n",
       "      <td>701</td>\n",
       "      <td>http://twitter.com/footy_jokes/status/60133160...</td>\n",
       "    </tr>\n",
       "    <tr>\n",
       "      <th>443640355408701432</th>\n",
       "      <td>2426154688</td>\n",
       "      <td>twitter</td>\n",
       "      <td>405</td>\n",
       "      <td>NaN</td>\n",
       "      <td>2015-05-21 07:04:24</td>\n",
       "      <td>29</td>\n",
       "      <td>share</td>\n",
       "      <td>249</td>\n",
       "      <td>0</td>\n",
       "      <td>701</td>\n",
       "      <td>http://twitter.com/footy_jokes/status/60133160...</td>\n",
       "    </tr>\n",
       "  </tbody>\n",
       "</table>\n",
       "</div>"
      ],
      "text/plain": [
       "                      actor_id   source  share_count  in_reply_to_native_id  \\\n",
       "id                                                                            \n",
       "443640355408832882  2424761055  twitter          671                    NaN   \n",
       "443640355408700115  2424174321  twitter          400                    NaN   \n",
       "443640355408701789  2424330443  twitter          407                    NaN   \n",
       "443640355408701608  2408455207  twitter          406                    NaN   \n",
       "443640355408701432  2426154688  twitter          405                    NaN   \n",
       "\n",
       "                            created_at  klout   verb  favorites_count  \\\n",
       "id                                                                      \n",
       "443640355408832882 2015-05-21 09:43:58     17  share              468   \n",
       "443640355408700115 2015-05-21 07:02:32     25  share              246   \n",
       "443640355408701789 2015-05-21 07:04:55     31  share              251   \n",
       "443640355408701608 2015-05-21 07:04:38     34  share              251   \n",
       "443640355408701432 2015-05-21 07:04:24     29  share              249   \n",
       "\n",
       "                    replies_count  activities_count  \\\n",
       "id                                                    \n",
       "443640355408832882              0               701   \n",
       "443640355408700115              0               701   \n",
       "443640355408701789              0               701   \n",
       "443640355408701608              0               701   \n",
       "443640355408701432              0               701   \n",
       "\n",
       "                                                         expanded_url  \n",
       "id                                                                     \n",
       "443640355408832882  http://twitter.com/footy_jokes/status/60133160...  \n",
       "443640355408700115  http://twitter.com/footy_jokes/status/60133160...  \n",
       "443640355408701789  http://twitter.com/footy_jokes/status/60133160...  \n",
       "443640355408701608  http://twitter.com/footy_jokes/status/60133160...  \n",
       "443640355408701432  http://twitter.com/footy_jokes/status/60133160...  "
      ]
     },
     "execution_count": 113,
     "metadata": {},
     "output_type": "execute_result"
    }
   ],
   "source": [
    "activities_urls.head()"
   ]
  },
  {
   "cell_type": "code",
   "execution_count": 114,
   "metadata": {
    "collapsed": false
   },
   "outputs": [
    {
     "data": {
      "text/html": [
       "<div style=\"max-height:1000px;max-width:1500px;overflow:auto;\">\n",
       "<table border=\"1\" class=\"dataframe\">\n",
       "  <thead>\n",
       "    <tr style=\"text-align: right;\">\n",
       "      <th></th>\n",
       "      <th>actor_id</th>\n",
       "      <th>share_count</th>\n",
       "      <th>in_reply_to_native_id</th>\n",
       "      <th>klout</th>\n",
       "      <th>favorites_count</th>\n",
       "      <th>replies_count</th>\n",
       "      <th>activities_count</th>\n",
       "    </tr>\n",
       "  </thead>\n",
       "  <tbody>\n",
       "    <tr>\n",
       "      <th>count</th>\n",
       "      <td>1.909000e+03</td>\n",
       "      <td>1909.000000</td>\n",
       "      <td>0</td>\n",
       "      <td>1893.000000</td>\n",
       "      <td>1909.000000</td>\n",
       "      <td>1909.000000</td>\n",
       "      <td>1909.000000</td>\n",
       "    </tr>\n",
       "    <tr>\n",
       "      <th>mean</th>\n",
       "      <td>2.178678e+09</td>\n",
       "      <td>259.558931</td>\n",
       "      <td>NaN</td>\n",
       "      <td>34.382990</td>\n",
       "      <td>189.161865</td>\n",
       "      <td>0.020430</td>\n",
       "      <td>432.473023</td>\n",
       "    </tr>\n",
       "    <tr>\n",
       "      <th>std</th>\n",
       "      <td>6.706268e+08</td>\n",
       "      <td>228.450609</td>\n",
       "      <td>NaN</td>\n",
       "      <td>11.030357</td>\n",
       "      <td>166.035460</td>\n",
       "      <td>0.523155</td>\n",
       "      <td>233.626166</td>\n",
       "    </tr>\n",
       "    <tr>\n",
       "      <th>min</th>\n",
       "      <td>1.819261e+06</td>\n",
       "      <td>0.000000</td>\n",
       "      <td>NaN</td>\n",
       "      <td>10.000000</td>\n",
       "      <td>0.000000</td>\n",
       "      <td>0.000000</td>\n",
       "      <td>12.000000</td>\n",
       "    </tr>\n",
       "    <tr>\n",
       "      <th>25%</th>\n",
       "      <td>2.407298e+09</td>\n",
       "      <td>79.000000</td>\n",
       "      <td>NaN</td>\n",
       "      <td>27.000000</td>\n",
       "      <td>35.000000</td>\n",
       "      <td>0.000000</td>\n",
       "      <td>194.000000</td>\n",
       "    </tr>\n",
       "    <tr>\n",
       "      <th>50%</th>\n",
       "      <td>2.415558e+09</td>\n",
       "      <td>191.000000</td>\n",
       "      <td>NaN</td>\n",
       "      <td>34.000000</td>\n",
       "      <td>159.000000</td>\n",
       "      <td>0.000000</td>\n",
       "      <td>446.000000</td>\n",
       "    </tr>\n",
       "    <tr>\n",
       "      <th>75%</th>\n",
       "      <td>2.423687e+09</td>\n",
       "      <td>390.000000</td>\n",
       "      <td>NaN</td>\n",
       "      <td>42.000000</td>\n",
       "      <td>311.000000</td>\n",
       "      <td>0.000000</td>\n",
       "      <td>701.000000</td>\n",
       "    </tr>\n",
       "    <tr>\n",
       "      <th>max</th>\n",
       "      <td>2.426304e+09</td>\n",
       "      <td>975.000000</td>\n",
       "      <td>NaN</td>\n",
       "      <td>90.000000</td>\n",
       "      <td>615.000000</td>\n",
       "      <td>21.000000</td>\n",
       "      <td>701.000000</td>\n",
       "    </tr>\n",
       "  </tbody>\n",
       "</table>\n",
       "</div>"
      ],
      "text/plain": [
       "           actor_id  share_count  in_reply_to_native_id        klout  \\\n",
       "count  1.909000e+03  1909.000000                      0  1893.000000   \n",
       "mean   2.178678e+09   259.558931                    NaN    34.382990   \n",
       "std    6.706268e+08   228.450609                    NaN    11.030357   \n",
       "min    1.819261e+06     0.000000                    NaN    10.000000   \n",
       "25%    2.407298e+09    79.000000                    NaN    27.000000   \n",
       "50%    2.415558e+09   191.000000                    NaN    34.000000   \n",
       "75%    2.423687e+09   390.000000                    NaN    42.000000   \n",
       "max    2.426304e+09   975.000000                    NaN    90.000000   \n",
       "\n",
       "       favorites_count  replies_count  activities_count  \n",
       "count      1909.000000    1909.000000       1909.000000  \n",
       "mean        189.161865       0.020430        432.473023  \n",
       "std         166.035460       0.523155        233.626166  \n",
       "min           0.000000       0.000000         12.000000  \n",
       "25%          35.000000       0.000000        194.000000  \n",
       "50%         159.000000       0.000000        446.000000  \n",
       "75%         311.000000       0.000000        701.000000  \n",
       "max         615.000000      21.000000        701.000000  "
      ]
     },
     "execution_count": 114,
     "metadata": {},
     "output_type": "execute_result"
    }
   ],
   "source": [
    "activities_urls.describe()"
   ]
  },
  {
   "cell_type": "code",
   "execution_count": 116,
   "metadata": {
    "collapsed": false
   },
   "outputs": [],
   "source": [
    "activities_urls_full = pd.read_csv('../../s3/activities_urls.csv')\n",
    "activities_urls_full['created_at'] = pd.to_datetime(activities_urls_full['created_at'], format=\"%Y-%m-%d %H:%M:%S\")"
   ]
  },
  {
   "cell_type": "markdown",
   "metadata": {},
   "source": [
    "## Data Analysis"
   ]
  },
  {
   "cell_type": "markdown",
   "metadata": {},
   "source": [
    "This section performs some data analysis over activities data in order to statistically measure the significance of variables."
   ]
  },
  {
   "cell_type": "markdown",
   "metadata": {},
   "source": [
    "### Regression Models ( for tweets only)"
   ]
  },
  {
   "cell_type": "code",
   "execution_count": 122,
   "metadata": {
    "collapsed": false
   },
   "outputs": [],
   "source": [
    "# Merge Activities and Actors data to build a regression model over it\n",
    "regdata = pd.merge(activities[[\"share_count\",\"klout\",\"actor_id\", \"created_at\", \"verb\"]], \n",
    "                   actors[[\"followers_count\", \"listed_count\"]], \n",
    "                   left_on=\"actor_id\", right_index=True)\n",
    "\n",
    "# Add column with a float representation of hour and minute of activity\n",
    "regdata[\"numeric_time\"] = map(lambda t: float(t.hour) + float(t.minute)/60, \n",
    "                              regdata[\"created_at\"].tolist())"
   ]
  },
  {
   "cell_type": "code",
   "execution_count": 123,
   "metadata": {
    "collapsed": false
   },
   "outputs": [
    {
     "name": "stdout",
     "output_type": "stream",
     "text": [
      "                            OLS Regression Results                            \n",
      "==============================================================================\n",
      "Dep. Variable:            share_count   R-squared:                       0.278\n",
      "Model:                            OLS   Adj. R-squared:                  0.278\n",
      "Method:                 Least Squares   F-statistic:                     6224.\n",
      "Date:                Fri, 05 Jun 2015   Prob (F-statistic):               0.00\n",
      "Time:                        10:35:27   Log-Likelihood:            -3.7002e+05\n",
      "No. Observations:               64741   AIC:                         7.401e+05\n",
      "Df Residuals:                   64736   BIC:                         7.401e+05\n",
      "Df Model:                           4                                         \n",
      "Covariance Type:            nonrobust                                         \n",
      "===================================================================================\n",
      "                      coef    std err          t      P>|t|      [95.0% Conf. Int.]\n",
      "-----------------------------------------------------------------------------------\n",
      "Intercept           3.8318      0.973      3.939      0.000         1.925     5.739\n",
      "klout              -0.0737      0.022     -3.396      0.001        -0.116    -0.031\n",
      "followers_count  9.528e-05   6.48e-07    147.004      0.000       9.4e-05  9.66e-05\n",
      "listed_count       -0.0050   9.34e-05    -53.790      0.000        -0.005    -0.005\n",
      "numeric_time       -0.0578      0.034     -1.723      0.085        -0.124     0.008\n",
      "==============================================================================\n",
      "Omnibus:                   258361.643   Durbin-Watson:                   1.780\n",
      "Prob(Omnibus):                  0.000   Jarque-Bera (JB):     540853335024.480\n",
      "Skew:                         101.515   Prob(JB):                         0.00\n",
      "Kurtosis:                   14161.297   Cond. No.                     2.02e+06\n",
      "==============================================================================\n",
      "\n",
      "Warnings:\n",
      "[1] Standard Errors assume that the covariance matrix of the errors is correctly specified.\n",
      "[2] The condition number is large, 2.02e+06. This might indicate that there are\n",
      "strong multicollinearity or other numerical problems.\n"
     ]
    }
   ],
   "source": [
    "def fit_regression_model(formula, data):\n",
    "    # Fit regression model\n",
    "    results = smf.ols(formula, data=data).fit()\n",
    "\n",
    "    # Inspect the results\n",
    "    print results.summary()\n",
    "    \n",
    "\n",
    "regdatatweetsonly = regdata[regdata[\"verb\"]==\"post\"]\n",
    "    \n",
    "fit_regression_model('share_count ~ klout + followers_count + listed_count + numeric_time', regdatatweetsonly)"
   ]
  },
  {
   "cell_type": "code",
   "execution_count": 124,
   "metadata": {
    "collapsed": false
   },
   "outputs": [
    {
     "name": "stdout",
     "output_type": "stream",
     "text": [
      "                            OLS Regression Results                            \n",
      "==============================================================================\n",
      "Dep. Variable:            share_count   R-squared:                       0.006\n",
      "Model:                            OLS   Adj. R-squared:                  0.006\n",
      "Method:                 Least Squares   F-statistic:                     203.5\n",
      "Date:                Fri, 05 Jun 2015   Prob (F-statistic):           7.62e-89\n",
      "Time:                        10:35:53   Log-Likelihood:            -3.8035e+05\n",
      "No. Observations:               64741   AIC:                         7.607e+05\n",
      "Df Residuals:                   64738   BIC:                         7.607e+05\n",
      "Df Model:                           2                                         \n",
      "Covariance Type:            nonrobust                                         \n",
      "================================================================================\n",
      "                   coef    std err          t      P>|t|      [95.0% Conf. Int.]\n",
      "--------------------------------------------------------------------------------\n",
      "Intercept      -16.5413      1.111    -14.891      0.000       -18.719   -14.364\n",
      "klout            0.4914      0.024     20.175      0.000         0.444     0.539\n",
      "numeric_time    -0.0968      0.039     -2.460      0.014        -0.174    -0.020\n",
      "==============================================================================\n",
      "Omnibus:                   283020.869   Durbin-Watson:                   1.874\n",
      "Prob(Omnibus):                  0.000   Jarque-Bera (JB):    1274082433178.256\n",
      "Skew:                         136.524   Prob(JB):                         0.00\n",
      "Kurtosis:                   21734.035   Cond. No.                         147.\n",
      "==============================================================================\n",
      "\n",
      "Warnings:\n",
      "[1] Standard Errors assume that the covariance matrix of the errors is correctly specified.\n"
     ]
    }
   ],
   "source": [
    "fit_regression_model('share_count ~ klout + numeric_time', regdatatweetsonly)"
   ]
  },
  {
   "cell_type": "markdown",
   "metadata": {},
   "source": [
    "### Scatter Matrix"
   ]
  },
  {
   "cell_type": "code",
   "execution_count": 125,
   "metadata": {
    "collapsed": false
   },
   "outputs": [
    {
     "data": {
      "text/plain": [
       "array([[<matplotlib.axes.AxesSubplot object at 0x12fceb810>,\n",
       "        <matplotlib.axes.AxesSubplot object at 0x125cd7350>,\n",
       "        <matplotlib.axes.AxesSubplot object at 0x1262b9490>,\n",
       "        <matplotlib.axes.AxesSubplot object at 0x11dd14bd0>,\n",
       "        <matplotlib.axes.AxesSubplot object at 0x142a69fd0>],\n",
       "       [<matplotlib.axes.AxesSubplot object at 0x156078ad0>,\n",
       "        <matplotlib.axes.AxesSubplot object at 0x154d53ad0>,\n",
       "        <matplotlib.axes.AxesSubplot object at 0x1299ea150>,\n",
       "        <matplotlib.axes.AxesSubplot object at 0x12d231050>,\n",
       "        <matplotlib.axes.AxesSubplot object at 0x154d72050>],\n",
       "       [<matplotlib.axes.AxesSubplot object at 0x123b53790>,\n",
       "        <matplotlib.axes.AxesSubplot object at 0x132e165d0>,\n",
       "        <matplotlib.axes.AxesSubplot object at 0x136e56690>,\n",
       "        <matplotlib.axes.AxesSubplot object at 0x138eb1d10>,\n",
       "        <matplotlib.axes.AxesSubplot object at 0x136e30f10>],\n",
       "       [<matplotlib.axes.AxesSubplot object at 0x14e9f3d90>,\n",
       "        <matplotlib.axes.AxesSubplot object at 0x12474b450>,\n",
       "        <matplotlib.axes.AxesSubplot object at 0x1214779d0>,\n",
       "        <matplotlib.axes.AxesSubplot object at 0x12ddcc3d0>,\n",
       "        <matplotlib.axes.AxesSubplot object at 0x12ddca310>],\n",
       "       [<matplotlib.axes.AxesSubplot object at 0x150d26b10>,\n",
       "        <matplotlib.axes.AxesSubplot object at 0x131ab7850>,\n",
       "        <matplotlib.axes.AxesSubplot object at 0x131acded0>,\n",
       "        <matplotlib.axes.AxesSubplot object at 0x11d7e9f90>,\n",
       "        <matplotlib.axes.AxesSubplot object at 0x12ce44490>]], dtype=object)"
      ]
     },
     "execution_count": 125,
     "metadata": {},
     "output_type": "execute_result"
    },
    {
     "data": {
      "image/png": "[encoded data removed]",
      "text/plain": [
       "<matplotlib.figure.Figure at 0x1481e1550>"
      ]
     },
     "metadata": {},
     "output_type": "display_data"
    }
   ],
   "source": [
    "scatter_matrix(regdatatweetsonly, alpha=0.2, figsize=(12, 12), diagonal='kde')"
   ]
  },
  {
   "cell_type": "markdown",
   "metadata": {},
   "source": [
    "### Correlation Matrix"
   ]
  },
  {
   "cell_type": "code",
   "execution_count": 127,
   "metadata": {
    "collapsed": false
   },
   "outputs": [
    {
     "data": {
      "image/png": "[encoded data removed]",
      "text/plain": [
       "<matplotlib.figure.Figure at 0x130343490>"
      ]
     },
     "metadata": {},
     "output_type": "display_data"
    }
   ],
   "source": [
    "sns.set(style=\"darkgrid\")\n",
    "\n",
    "rs = np.random.RandomState(33)\n",
    "\n",
    "f, ax = plt.subplots(figsize=(9, 9))\n",
    "cmap = sns.diverging_palette(220, 10, as_cmap=True)\n",
    "sns.corrplot(regdatatweetsonly, annot=False, sig_stars=False,\n",
    "             diag_names=False, cmap=cmap, ax=ax)\n",
    "f.tight_layout()"
   ]
  },
  {
   "cell_type": "markdown",
   "metadata": {},
   "source": [
    "## Computing Scores\n",
    "\n",
    "This section implements the functions for computing and the scores and performs some tests for subsequent validation."
   ]
  },
  {
   "cell_type": "markdown",
   "metadata": {},
   "source": [
    "### Alert type - Influencer"
   ]
  },
  {
   "cell_type": "markdown",
   "metadata": {},
   "source": [
    "\n",
    "- Legend:\n",
    "    - k = klout\n",
    "    - f = followers\n",
    "    - l = listed count\n",
    "    - v = verb\n",
    "    - kw = klout weight\n",
    "    - fw = followers count weight\n",
    "    - lw = listed count weight\n",
    "\n",
    "- Values:\n",
    "    - kw = 30\n",
    "    - fw = 40\n",
    "    - lw = 30\n",
    "    - v = (tweet=1, retweet=0.9)\n",
    "\n",
    "**influencer_score** = (2-v) \\* kw \\* (k^2) / 10000 +\n",
    "                        v \\* fw \\* log(f) / 20 +\n",
    "                        v \\* lw \\* log(l) / 15\n"
   ]
  },
  {
   "cell_type": "code",
   "execution_count": 33,
   "metadata": {
    "collapsed": false
   },
   "outputs": [],
   "source": [
    "def generate_influencer_score(activity_id, k=None, f=None, l=None, verb=\"post\"):\n",
    "    # Weights for klout, followers and lists\n",
    "    kw = 30.0\n",
    "    fw = 40.0\n",
    "    lw = 30.0\n",
    "    \n",
    "    # Default behavior when activity_id is provided\n",
    "    if activity_id is not None:\n",
    "        activity = activities.loc[str(activity_id)]\n",
    "        actor = actors.loc[int(activity.actor_id)]\n",
    "        if not activity.klout.is_integer():\n",
    "            k = 0.0\n",
    "    \n",
    "        # Obtain values from activity unless parameterized\n",
    "        if k is None: k = float(activity.klout)\n",
    "        if f is None: f = float(actor.followers_count + 1.0)\n",
    "        if l is None: l = float(actor.listed_count + 1.0)\n",
    "    \n",
    "    # Coefficient for tweet(verb=post) or retweet(verb=share)\n",
    "    v = 1.0 if verb==\"post\" else 0.9\n",
    "    \n",
    "    # Score calculation and return\n",
    "    return int((2-v)*kw * float(k ** 2) / 10000 + \\\n",
    "                v * fw * math.log(f) / 20 + \\\n",
    "                v * lw * math.log(l) / 15)"
   ]
  },
  {
   "cell_type": "code",
   "execution_count": 34,
   "metadata": {
    "collapsed": false,
    "scrolled": false
   },
   "outputs": [
    {
     "name": "stdout",
     "output_type": "stream",
     "text": [
      "Generated score for activity 443640355408254904: 29\n",
      "Generated score for activity 443640355408254905: 22\n",
      "Generated score for activity 443640355408254907: 20\n",
      "Generated score for activity 443640355408254908: 7\n",
      "Generated score for activity 443640355408254909: 18\n",
      "Generated score for activity 443640355408254910: 14\n",
      "Generated score for activity 443640355408254912: 28\n",
      "Generated score for activity 443640355408254913: 7\n",
      "Generated score for activity 443640355408254914: 30\n",
      "Generated score for activity 443640355408254916: 23\n",
      "Generated score for activity 443640355408254917: 12\n",
      "Generated score for activity 443640355408254920: 30\n",
      "Generated score for activity 443640355408254922: 16\n",
      "Generated score for activity 443640355408254923: 22\n",
      "Generated score for activity 443640355408254926: 12\n",
      "Generated score for activity 443640355408254927: 47\n",
      "Generated score for activity 443640355408254928: 16\n",
      "Generated score for activity 443640355408254934: 57\n",
      "Generated score for activity 443640355408254915: 42\n",
      "Generated score for activity 443640355408254918: 8\n",
      "Generated score for activity 443640355408254919: 39\n",
      "Generated score for activity 443640355408254921: 37\n",
      "Generated score for activity 443640355408254924: 25\n",
      "Generated score for activity 443640355408254925: 17\n",
      "Generated score for activity 443640355408254929: 18\n",
      "Generated score for activity 443640355408254930: 40\n",
      "Generated score for activity 443640355408254931: 16\n",
      "Generated score for activity 443640355408254932: 21\n",
      "Generated score for activity 443640355408254933: 1\n",
      "Generated score for activity 443640355408254935: 12\n"
     ]
    }
   ],
   "source": [
    "for index, row in activities.head(30).iterrows():\n",
    "    print \"Generated score for activity {0}: {1}\".format(index,generate_influencer_score(index))"
   ]
  },
  {
   "cell_type": "markdown",
   "metadata": {},
   "source": [
    "Now testing with predefined values for evaluating limits:"
   ]
  },
  {
   "cell_type": "code",
   "execution_count": 35,
   "metadata": {
    "collapsed": false
   },
   "outputs": [
    {
     "data": {
      "text/plain": [
       "100"
      ]
     },
     "execution_count": 35,
     "metadata": {},
     "output_type": "execute_result"
    }
   ],
   "source": [
    "generate_influencer_score(activity_id=None, k=99, f=50000000, l=50000000, verb='post')"
   ]
  },
  {
   "cell_type": "code",
   "execution_count": 36,
   "metadata": {
    "collapsed": false
   },
   "outputs": [
    {
     "data": {
      "text/plain": [
       "95"
      ]
     },
     "execution_count": 36,
     "metadata": {},
     "output_type": "execute_result"
    }
   ],
   "source": [
    "generate_influencer_score(activity_id=None, k=90, f=50000000, l=50000000, verb='post')"
   ]
  },
  {
   "cell_type": "code",
   "execution_count": 37,
   "metadata": {
    "collapsed": false
   },
   "outputs": [
    {
     "data": {
      "text/plain": [
       "96"
      ]
     },
     "execution_count": 37,
     "metadata": {},
     "output_type": "execute_result"
    }
   ],
   "source": [
    "generate_influencer_score(activity_id=None, k=99, f=50000000, l=50000000, verb='share')"
   ]
  },
  {
   "cell_type": "code",
   "execution_count": 38,
   "metadata": {
    "collapsed": false
   },
   "outputs": [
    {
     "data": {
      "text/plain": [
       "90"
      ]
     },
     "execution_count": 38,
     "metadata": {},
     "output_type": "execute_result"
    }
   ],
   "source": [
    "generate_influencer_score(activity_id=None, k=90, f=50000000, l=50000000, verb='share')"
   ]
  },
  {
   "cell_type": "code",
   "execution_count": 39,
   "metadata": {
    "collapsed": false
   },
   "outputs": [
    {
     "data": {
      "text/plain": [
       "76"
      ]
     },
     "execution_count": 39,
     "metadata": {},
     "output_type": "execute_result"
    }
   ],
   "source": [
    "generate_influencer_score(activity_id=None, k=70, f=5000000, l=5000000, verb='post')"
   ]
  },
  {
   "cell_type": "code",
   "execution_count": 40,
   "metadata": {
    "collapsed": false
   },
   "outputs": [
    {
     "data": {
      "text/plain": [
       "71"
      ]
     },
     "execution_count": 40,
     "metadata": {},
     "output_type": "execute_result"
    }
   ],
   "source": [
    "generate_influencer_score(activity_id=None, k=70, f=5000000, l=5000000, verb='share')"
   ]
  },
  {
   "cell_type": "code",
   "execution_count": 41,
   "metadata": {
    "collapsed": false
   },
   "outputs": [
    {
     "data": {
      "text/plain": [
       "69"
      ]
     },
     "execution_count": 41,
     "metadata": {},
     "output_type": "execute_result"
    }
   ],
   "source": [
    "generate_influencer_score(activity_id=None, k=50, f=5000000, l=5000000, verb='post')"
   ]
  },
  {
   "cell_type": "code",
   "execution_count": 42,
   "metadata": {
    "collapsed": false
   },
   "outputs": [
    {
     "data": {
      "text/plain": [
       "63"
      ]
     },
     "execution_count": 42,
     "metadata": {},
     "output_type": "execute_result"
    }
   ],
   "source": [
    "generate_influencer_score(activity_id=None, k=50, f=5000000, l=5000000, verb='share')"
   ]
  },
  {
   "cell_type": "code",
   "execution_count": 43,
   "metadata": {
    "collapsed": false
   },
   "outputs": [
    {
     "data": {
      "text/plain": [
       "62"
      ]
     },
     "execution_count": 43,
     "metadata": {},
     "output_type": "execute_result"
    }
   ],
   "source": [
    "generate_influencer_score(activity_id=None, k=50, f=1000000, l=1000000, verb='post')"
   ]
  },
  {
   "cell_type": "code",
   "execution_count": 44,
   "metadata": {
    "collapsed": false
   },
   "outputs": [
    {
     "data": {
      "text/plain": [
       "57"
      ]
     },
     "execution_count": 44,
     "metadata": {},
     "output_type": "execute_result"
    }
   ],
   "source": [
    "generate_influencer_score(activity_id=None, k=50, f=1000000, l=1000000, verb='share')"
   ]
  },
  {
   "cell_type": "markdown",
   "metadata": {},
   "source": [
    "### Alert type - Trends\n",
    "* Reach of tweets\n",
    "* segment: marketing (categories: range from 1 to 10) vs business(15% more important than Marketing)\n",
    "\n",
    "* Try to analyze: Potential, Virality\n",
    "\n",
    "**trend_score** = reach + segment\n"
   ]
  },
  {
   "cell_type": "code",
   "execution_count": 55,
   "metadata": {
    "collapsed": false
   },
   "outputs": [
    {
     "data": {
      "image/png": "[encoded data removed]",
      "text/plain": [
       "<matplotlib.figure.Figure at 0x1510cb990>"
      ]
     },
     "metadata": {},
     "output_type": "display_data"
    }
   ],
   "source": [
    "def plot_trend_histogram(url_param):\n",
    "    insights_for_url = activities_urls[activities_urls[\"expanded_url\"]==url_param]\n",
    "\n",
    "    time_list = insights_for_url[\"created_at\"].tolist()\n",
    "    numeric_time_list = map(lambda t: float(t.hour) + float(t.minute)/60, time_list)\n",
    "\n",
    "    sns.set_palette(\"hls\")\n",
    "    plt.hist(numeric_time_list, 150)\n",
    "    mpl.rc(\"figure\", figsize=(16, 4))\n",
    "    plt.title(\"Histogram of Insights for this URL\")\n",
    "    plt.show()\n",
    "    \n",
    "#     mpl.rc(\"figure\", figsize=(16, 4))\n",
    "#     sns.distplot(numeric_time_list, 150);\n",
    "    \n",
    "plot_trend_histogram(\"http://twitter.com/footy_jokes/status/601331607371390976/photo/1\")"
   ]
  },
  {
   "cell_type": "code",
   "execution_count": 56,
   "metadata": {
    "collapsed": false
   },
   "outputs": [
    {
     "data": {
      "image/png": "[encoded data removed]",
      "text/plain": [
       "<matplotlib.figure.Figure at 0x1190f2950>"
      ]
     },
     "metadata": {},
     "output_type": "display_data"
    }
   ],
   "source": [
    "plot_trend_histogram(\"http://www.manutd.com/en/tour%202015/news%20and%20features/2015/may/manchester%20united%20to%20face%20san%20jose%20earthquakes%20at%20california%20memorial%20stadium.aspx\")"
   ]
  },
  {
   "cell_type": "code",
   "execution_count": 57,
   "metadata": {
    "collapsed": false
   },
   "outputs": [
    {
     "data": {
      "image/png": "[encoded data removed]",
      "text/plain": [
       "<matplotlib.figure.Figure at 0x13d7c5f50>"
      ]
     },
     "metadata": {},
     "output_type": "display_data"
    }
   ],
   "source": [
    "plot_trend_histogram(\"http://deadspin.com/lets-take-a-look-at-andrew-mccutchens-pay-stub-1706188663\")"
   ]
  },
  {
   "cell_type": "code",
   "execution_count": 58,
   "metadata": {
    "collapsed": false
   },
   "outputs": [
    {
     "data": {
      "image/png": "[encoded data removed]",
      "text/plain": [
       "<matplotlib.figure.Figure at 0x13166cc10>"
      ]
     },
     "metadata": {},
     "output_type": "display_data"
    }
   ],
   "source": [
    "plot_trend_histogram(\"https://twitter.com/perla69biebs/status/601239506763649025/video/1\")"
   ]
  },
  {
   "cell_type": "markdown",
   "metadata": {},
   "source": [
    "### Alert type - Popular Tweet\n",
    "* Engagement of tweet\n",
    "* Potential of engagement\n",
    "\n",
    "**popular_score** = engagement + potential\n"
   ]
  },
  {
   "cell_type": "code",
   "execution_count": null,
   "metadata": {
    "collapsed": true
   },
   "outputs": [],
   "source": [
    "# TODO"
   ]
  },
  {
   "cell_type": "code",
   "execution_count": null,
   "metadata": {
    "collapsed": true
   },
   "outputs": [],
   "source": []
  }
 ],
 "metadata": {
  "kernelspec": {
   "display_name": "Python 2",
   "language": "python",
   "name": "python2"
  },
  "language_info": {
   "codemirror_mode": {
    "name": "ipython",
    "version": 2
   },
   "file_extension": ".py",
   "mimetype": "text/x-python",
   "name": "python",
   "nbconvert_exporter": "python",
   "pygments_lexer": "ipython2",
   "version": "2.7.6"
  }
 },
 "nbformat": 4,
 "nbformat_minor": 0
}
