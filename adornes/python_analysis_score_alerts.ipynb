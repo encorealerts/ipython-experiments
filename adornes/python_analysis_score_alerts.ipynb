{
 "cells": [
  {
   "cell_type": "markdown",
   "metadata": {},
   "source": [
    "# Analysis for calculating score for Alerts\n"
   ]
  },
  {
   "cell_type": "markdown",
   "metadata": {},
   "source": [
    "## Getting and Preparing Data\n",
    "\n",
    "This section loads sample data for 2015-05-21 records of activities, rules and actors."
   ]
  },
  {
   "cell_type": "code",
   "execution_count": 101,
   "metadata": {
    "collapsed": false
   },
   "outputs": [],
   "source": [
    "%matplotlib inline\n",
    "\n",
    "import pandas as pd\n",
    "import numpy as np\n",
    "import statsmodels.api as sm\n",
    "import statsmodels.formula.api as smf\n",
    "import seaborn as sns\n",
    "import matplotlib as mpl\n",
    "import matplotlib.pyplot as plt\n",
    "import json\n",
    "import math\n",
    "import time\n",
    "from pandas.tools.plotting import scatter_matrix\n",
    "from datetime import datetime\n",
    "from time import gmtime, strftime"
   ]
  },
  {
   "cell_type": "markdown",
   "metadata": {},
   "source": [
    "### Activities"
   ]
  },
  {
   "cell_type": "code",
   "execution_count": 70,
   "metadata": {
    "collapsed": true
   },
   "outputs": [],
   "source": [
    "activities_cols_names = [\"id\",\"body\", \"country\", \"country_code\", \"place_type\",\n",
    "                       \"sub_region\", \"actor_id\", \"source\", \"share_count\",\n",
    "                       \"in_reply_to_native_id\", \"created_at\", \"updated_at\",\n",
    "                       \"klout\", \"native_id\", \"verb\", \"latitude\", \"longitude\",\n",
    "                       \"sharing_activity_native_id\", \"region\", \"favorites_count\",\n",
    "                       \"replies_count\", \"in_reply_to_screen_name\", \"link\"]"
   ]
  },
  {
   "cell_type": "code",
   "execution_count": 71,
   "metadata": {
    "collapsed": true
   },
   "outputs": [],
   "source": [
    "activities_relevant_cols = [\"actor_id\", \"source\", \"share_count\",\n",
    "                           \"in_reply_to_native_id\", \"created_at\", \"klout\", \n",
    "                           \"verb\", \"favorites_count\", \"replies_count\"]"
   ]
  },
  {
   "cell_type": "code",
   "execution_count": 72,
   "metadata": {
    "collapsed": false
   },
   "outputs": [],
   "source": [
    "activities = pd.read_csv('../../s3/2015-05-21-01-00-00-activities.csv', \n",
    "                         header=None, parse_dates=True,\n",
    "                         names=activities_cols_names, index_col=\"id\")"
   ]
  },
  {
   "cell_type": "code",
   "execution_count": 73,
   "metadata": {
    "collapsed": false
   },
   "outputs": [],
   "source": [
    "activities = activities[activities_relevant_cols] "
   ]
  },
  {
   "cell_type": "code",
   "execution_count": 88,
   "metadata": {
    "collapsed": false
   },
   "outputs": [],
   "source": [
    "activities['created_at'] = pd.to_datetime(activities['created_at'], format=\"%Y-%m-%d %H:%M:%S.%f\")"
   ]
  },
  {
   "cell_type": "code",
   "execution_count": 89,
   "metadata": {
    "collapsed": false
   },
   "outputs": [
    {
     "data": {
      "text/html": [
       "<div style=\"max-height:1000px;max-width:1500px;overflow:auto;\">\n",
       "<table border=\"1\" class=\"dataframe\">\n",
       "  <thead>\n",
       "    <tr style=\"text-align: right;\">\n",
       "      <th></th>\n",
       "      <th>actor_id</th>\n",
       "      <th>source</th>\n",
       "      <th>share_count</th>\n",
       "      <th>in_reply_to_native_id</th>\n",
       "      <th>created_at</th>\n",
       "      <th>klout</th>\n",
       "      <th>verb</th>\n",
       "      <th>favorites_count</th>\n",
       "      <th>replies_count</th>\n",
       "    </tr>\n",
       "    <tr>\n",
       "      <th>id</th>\n",
       "      <th></th>\n",
       "      <th></th>\n",
       "      <th></th>\n",
       "      <th></th>\n",
       "      <th></th>\n",
       "      <th></th>\n",
       "      <th></th>\n",
       "      <th></th>\n",
       "      <th></th>\n",
       "    </tr>\n",
       "  </thead>\n",
       "  <tbody>\n",
       "    <tr>\n",
       "      <th>443640355408254904</th>\n",
       "      <td>2419819735</td>\n",
       "      <td>twitter</td>\n",
       "      <td>0</td>\n",
       "      <td>NaN</td>\n",
       "      <td>2015-05-21 01:00:00</td>\n",
       "      <td>48</td>\n",
       "      <td>post</td>\n",
       "      <td>0</td>\n",
       "      <td>0</td>\n",
       "    </tr>\n",
       "    <tr>\n",
       "      <th>443640355408254905</th>\n",
       "      <td>2405587887</td>\n",
       "      <td>twitter</td>\n",
       "      <td>0</td>\n",
       "      <td>NaN</td>\n",
       "      <td>2015-05-21 01:00:00</td>\n",
       "      <td>54</td>\n",
       "      <td>post</td>\n",
       "      <td>0</td>\n",
       "      <td>0</td>\n",
       "    </tr>\n",
       "    <tr>\n",
       "      <th>443640355408254907</th>\n",
       "      <td>2425857238</td>\n",
       "      <td>twitter</td>\n",
       "      <td>0</td>\n",
       "      <td>NaN</td>\n",
       "      <td>2015-05-21 01:00:00</td>\n",
       "      <td>31</td>\n",
       "      <td>post</td>\n",
       "      <td>0</td>\n",
       "      <td>0</td>\n",
       "    </tr>\n",
       "    <tr>\n",
       "      <th>443640355408254908</th>\n",
       "      <td>2422152815</td>\n",
       "      <td>twitter</td>\n",
       "      <td>9</td>\n",
       "      <td>NaN</td>\n",
       "      <td>2015-05-21 01:00:00</td>\n",
       "      <td>19</td>\n",
       "      <td>share</td>\n",
       "      <td>14</td>\n",
       "      <td>0</td>\n",
       "    </tr>\n",
       "    <tr>\n",
       "      <th>443640355408254909</th>\n",
       "      <td>2406991214</td>\n",
       "      <td>twitter</td>\n",
       "      <td>0</td>\n",
       "      <td>NaN</td>\n",
       "      <td>2015-05-21 01:00:00</td>\n",
       "      <td>35</td>\n",
       "      <td>post</td>\n",
       "      <td>0</td>\n",
       "      <td>0</td>\n",
       "    </tr>\n",
       "  </tbody>\n",
       "</table>\n",
       "</div>"
      ],
      "text/plain": [
       "                      actor_id   source  share_count in_reply_to_native_id  \\\n",
       "id                                                                           \n",
       "443640355408254904  2419819735  twitter            0                   NaN   \n",
       "443640355408254905  2405587887  twitter            0                   NaN   \n",
       "443640355408254907  2425857238  twitter            0                   NaN   \n",
       "443640355408254908  2422152815  twitter            9                   NaN   \n",
       "443640355408254909  2406991214  twitter            0                   NaN   \n",
       "\n",
       "                            created_at  klout   verb  favorites_count  \\\n",
       "id                                                                      \n",
       "443640355408254904 2015-05-21 01:00:00     48   post                0   \n",
       "443640355408254905 2015-05-21 01:00:00     54   post                0   \n",
       "443640355408254907 2015-05-21 01:00:00     31   post                0   \n",
       "443640355408254908 2015-05-21 01:00:00     19  share               14   \n",
       "443640355408254909 2015-05-21 01:00:00     35   post                0   \n",
       "\n",
       "                   replies_count  \n",
       "id                                \n",
       "443640355408254904             0  \n",
       "443640355408254905             0  \n",
       "443640355408254907             0  \n",
       "443640355408254908             0  \n",
       "443640355408254909             0  "
      ]
     },
     "execution_count": 89,
     "metadata": {},
     "output_type": "execute_result"
    }
   ],
   "source": [
    "activities.head()"
   ]
  },
  {
   "cell_type": "code",
   "execution_count": 11,
   "metadata": {
    "collapsed": false
   },
   "outputs": [
    {
     "data": {
      "text/html": [
       "<div style=\"max-height:1000px;max-width:1500px;overflow:auto;\">\n",
       "<table border=\"1\" class=\"dataframe\">\n",
       "  <thead>\n",
       "    <tr style=\"text-align: right;\">\n",
       "      <th></th>\n",
       "      <th>share_count</th>\n",
       "      <th>klout</th>\n",
       "      <th>favorites_count</th>\n",
       "    </tr>\n",
       "  </thead>\n",
       "  <tbody>\n",
       "    <tr>\n",
       "      <th>count</th>\n",
       "      <td>1.280768e+06</td>\n",
       "      <td>1.255925e+06</td>\n",
       "      <td>1280865.000000</td>\n",
       "    </tr>\n",
       "    <tr>\n",
       "      <th>mean</th>\n",
       "      <td>1.878510e+12</td>\n",
       "      <td>4.836412e+13</td>\n",
       "      <td>3338.222079</td>\n",
       "    </tr>\n",
       "    <tr>\n",
       "      <th>std</th>\n",
       "      <td>1.062963e+15</td>\n",
       "      <td>5.392960e+15</td>\n",
       "      <td>13146.340361</td>\n",
       "    </tr>\n",
       "    <tr>\n",
       "      <th>min</th>\n",
       "      <td>0.000000e+00</td>\n",
       "      <td>1.000000e+01</td>\n",
       "      <td>0.000000</td>\n",
       "    </tr>\n",
       "    <tr>\n",
       "      <th>25%</th>\n",
       "      <td>1.000000e+00</td>\n",
       "      <td>2.900000e+01</td>\n",
       "      <td>0.000000</td>\n",
       "    </tr>\n",
       "    <tr>\n",
       "      <th>50%</th>\n",
       "      <td>6.000000e+01</td>\n",
       "      <td>4.000000e+01</td>\n",
       "      <td>54.000000</td>\n",
       "    </tr>\n",
       "    <tr>\n",
       "      <th>75%</th>\n",
       "      <td>7.090000e+02</td>\n",
       "      <td>4.500000e+01</td>\n",
       "      <td>782.000000</td>\n",
       "    </tr>\n",
       "    <tr>\n",
       "      <th>max</th>\n",
       "      <td>6.015506e+17</td>\n",
       "      <td>6.015513e+17</td>\n",
       "      <td>462900.000000</td>\n",
       "    </tr>\n",
       "  </tbody>\n",
       "</table>\n",
       "</div>"
      ],
      "text/plain": [
       "        share_count         klout  favorites_count\n",
       "count  1.280768e+06  1.255925e+06   1280865.000000\n",
       "mean   1.878510e+12  4.836412e+13      3338.222079\n",
       "std    1.062963e+15  5.392960e+15     13146.340361\n",
       "min    0.000000e+00  1.000000e+01         0.000000\n",
       "25%    1.000000e+00  2.900000e+01         0.000000\n",
       "50%    6.000000e+01  4.000000e+01        54.000000\n",
       "75%    7.090000e+02  4.500000e+01       782.000000\n",
       "max    6.015506e+17  6.015513e+17    462900.000000"
      ]
     },
     "execution_count": 11,
     "metadata": {},
     "output_type": "execute_result"
    }
   ],
   "source": [
    "activities.describe()"
   ]
  },
  {
   "cell_type": "markdown",
   "metadata": {},
   "source": [
    "### Association Activities-Rules"
   ]
  },
  {
   "cell_type": "code",
   "execution_count": 12,
   "metadata": {
    "collapsed": true
   },
   "outputs": [],
   "source": [
    "activities_rules_cols_names = [\"id\", \"rule_id\", \"activity_id\", \"created_at\", \"updated_at\", \"ignored\"]"
   ]
  },
  {
   "cell_type": "code",
   "execution_count": 13,
   "metadata": {
    "collapsed": false
   },
   "outputs": [],
   "source": [
    "activities_rules = pd.read_csv('../../s3/2015-05-21-01-00-00-activities-rules.csv', \n",
    "                               parse_dates=True, names=activities_rules_cols_names, index_col=\"id\")"
   ]
  },
  {
   "cell_type": "code",
   "execution_count": 14,
   "metadata": {
    "collapsed": false
   },
   "outputs": [],
   "source": [
    "activities_rules_relevant_cols = [\"rule_id\", \"activity_id\", \"ignored\"]"
   ]
  },
  {
   "cell_type": "code",
   "execution_count": 15,
   "metadata": {
    "collapsed": true
   },
   "outputs": [],
   "source": [
    "activities_rules = activities_rules[activities_rules_relevant_cols]"
   ]
  },
  {
   "cell_type": "code",
   "execution_count": 16,
   "metadata": {
    "collapsed": false
   },
   "outputs": [
    {
     "data": {
      "text/html": [
       "<div style=\"max-height:1000px;max-width:1500px;overflow:auto;\">\n",
       "<table border=\"1\" class=\"dataframe\">\n",
       "  <thead>\n",
       "    <tr style=\"text-align: right;\">\n",
       "      <th></th>\n",
       "      <th>rule_id</th>\n",
       "      <th>activity_id</th>\n",
       "      <th>ignored</th>\n",
       "    </tr>\n",
       "    <tr>\n",
       "      <th>id</th>\n",
       "      <th></th>\n",
       "      <th></th>\n",
       "      <th></th>\n",
       "    </tr>\n",
       "  </thead>\n",
       "  <tbody>\n",
       "    <tr>\n",
       "      <th>108642970</th>\n",
       "      <td>5772</td>\n",
       "      <td>4.436404e+17</td>\n",
       "      <td>0</td>\n",
       "    </tr>\n",
       "    <tr>\n",
       "      <th>108642971</th>\n",
       "      <td>5052</td>\n",
       "      <td>4.436404e+17</td>\n",
       "      <td>0</td>\n",
       "    </tr>\n",
       "    <tr>\n",
       "      <th>108642972</th>\n",
       "      <td>5428</td>\n",
       "      <td>4.436404e+17</td>\n",
       "      <td>0</td>\n",
       "    </tr>\n",
       "    <tr>\n",
       "      <th>108642973</th>\n",
       "      <td>1506</td>\n",
       "      <td>4.436404e+17</td>\n",
       "      <td>0</td>\n",
       "    </tr>\n",
       "    <tr>\n",
       "      <th>108642974</th>\n",
       "      <td>5077</td>\n",
       "      <td>4.436404e+17</td>\n",
       "      <td>0</td>\n",
       "    </tr>\n",
       "  </tbody>\n",
       "</table>\n",
       "</div>"
      ],
      "text/plain": [
       "           rule_id   activity_id  ignored\n",
       "id                                       \n",
       "108642970     5772  4.436404e+17        0\n",
       "108642971     5052  4.436404e+17        0\n",
       "108642972     5428  4.436404e+17        0\n",
       "108642973     1506  4.436404e+17        0\n",
       "108642974     5077  4.436404e+17        0"
      ]
     },
     "execution_count": 16,
     "metadata": {},
     "output_type": "execute_result"
    }
   ],
   "source": [
    "activities_rules.head()"
   ]
  },
  {
   "cell_type": "markdown",
   "metadata": {},
   "source": [
    "### Rules"
   ]
  },
  {
   "cell_type": "code",
   "execution_count": 17,
   "metadata": {
    "collapsed": false
   },
   "outputs": [],
   "source": [
    "rules = pd.read_csv('../../s3/rule.csv', index_col=\"id\")"
   ]
  },
  {
   "cell_type": "code",
   "execution_count": 18,
   "metadata": {
    "collapsed": true
   },
   "outputs": [],
   "source": [
    "rules_relevant_cols = [\"business_id\",\"segment\",\"volume\", \"category\", \"source\", \"type\", \"direct\"]"
   ]
  },
  {
   "cell_type": "code",
   "execution_count": 19,
   "metadata": {
    "collapsed": false
   },
   "outputs": [],
   "source": [
    "rules = rules[rules_relevant_cols]"
   ]
  },
  {
   "cell_type": "code",
   "execution_count": 20,
   "metadata": {
    "collapsed": false
   },
   "outputs": [
    {
     "data": {
      "text/html": [
       "<div style=\"max-height:1000px;max-width:1500px;overflow:auto;\">\n",
       "<table border=\"1\" class=\"dataframe\">\n",
       "  <thead>\n",
       "    <tr style=\"text-align: right;\">\n",
       "      <th></th>\n",
       "      <th>business_id</th>\n",
       "      <th>segment</th>\n",
       "      <th>volume</th>\n",
       "      <th>category</th>\n",
       "      <th>source</th>\n",
       "      <th>type</th>\n",
       "      <th>direct</th>\n",
       "    </tr>\n",
       "    <tr>\n",
       "      <th>id</th>\n",
       "      <th></th>\n",
       "      <th></th>\n",
       "      <th></th>\n",
       "      <th></th>\n",
       "      <th></th>\n",
       "      <th></th>\n",
       "      <th></th>\n",
       "    </tr>\n",
       "  </thead>\n",
       "  <tbody>\n",
       "    <tr>\n",
       "      <th>1</th>\n",
       "      <td>144</td>\n",
       "      <td>1</td>\n",
       "      <td>0</td>\n",
       "      <td>2</td>\n",
       "      <td>twitter</td>\n",
       "      <td>TwitterRule</td>\n",
       "      <td>False</td>\n",
       "    </tr>\n",
       "    <tr>\n",
       "      <th>2</th>\n",
       "      <td>144</td>\n",
       "      <td>1</td>\n",
       "      <td>0</td>\n",
       "      <td>2</td>\n",
       "      <td>twitter</td>\n",
       "      <td>TwitterRule</td>\n",
       "      <td>False</td>\n",
       "    </tr>\n",
       "    <tr>\n",
       "      <th>3</th>\n",
       "      <td>144</td>\n",
       "      <td>1</td>\n",
       "      <td>0</td>\n",
       "      <td>2</td>\n",
       "      <td>twitter</td>\n",
       "      <td>TwitterRule</td>\n",
       "      <td>False</td>\n",
       "    </tr>\n",
       "    <tr>\n",
       "      <th>4</th>\n",
       "      <td>144</td>\n",
       "      <td>1</td>\n",
       "      <td>0</td>\n",
       "      <td>2</td>\n",
       "      <td>twitter</td>\n",
       "      <td>TwitterRule</td>\n",
       "      <td>False</td>\n",
       "    </tr>\n",
       "    <tr>\n",
       "      <th>5</th>\n",
       "      <td>144</td>\n",
       "      <td>1</td>\n",
       "      <td>0</td>\n",
       "      <td>2</td>\n",
       "      <td>twitter</td>\n",
       "      <td>TwitterRule</td>\n",
       "      <td>False</td>\n",
       "    </tr>\n",
       "  </tbody>\n",
       "</table>\n",
       "</div>"
      ],
      "text/plain": [
       "    business_id  segment  volume  category   source         type direct\n",
       "id                                                                     \n",
       "1           144        1       0         2  twitter  TwitterRule  False\n",
       "2           144        1       0         2  twitter  TwitterRule  False\n",
       "3           144        1       0         2  twitter  TwitterRule  False\n",
       "4           144        1       0         2  twitter  TwitterRule  False\n",
       "5           144        1       0         2  twitter  TwitterRule  False"
      ]
     },
     "execution_count": 20,
     "metadata": {},
     "output_type": "execute_result"
    }
   ],
   "source": [
    "rules.head()"
   ]
  },
  {
   "cell_type": "code",
   "execution_count": 21,
   "metadata": {
    "collapsed": false,
    "scrolled": true
   },
   "outputs": [
    {
     "data": {
      "text/html": [
       "<div style=\"max-height:1000px;max-width:1500px;overflow:auto;\">\n",
       "<table border=\"1\" class=\"dataframe\">\n",
       "  <thead>\n",
       "    <tr style=\"text-align: right;\">\n",
       "      <th></th>\n",
       "      <th>business_id</th>\n",
       "      <th>segment</th>\n",
       "      <th>volume</th>\n",
       "      <th>category</th>\n",
       "      <th>direct</th>\n",
       "    </tr>\n",
       "  </thead>\n",
       "  <tbody>\n",
       "    <tr>\n",
       "      <th>count</th>\n",
       "      <td>4786.000000</td>\n",
       "      <td>4786.000000</td>\n",
       "      <td>4.464000e+03</td>\n",
       "      <td>4786.000000</td>\n",
       "      <td>4786</td>\n",
       "    </tr>\n",
       "    <tr>\n",
       "      <th>mean</th>\n",
       "      <td>314.314668</td>\n",
       "      <td>0.376097</td>\n",
       "      <td>2.326812e+05</td>\n",
       "      <td>3.243627</td>\n",
       "      <td>0.0215211</td>\n",
       "    </tr>\n",
       "    <tr>\n",
       "      <th>std</th>\n",
       "      <td>125.258811</td>\n",
       "      <td>0.484455</td>\n",
       "      <td>8.564815e+06</td>\n",
       "      <td>1.819087</td>\n",
       "      <td>0.1451287</td>\n",
       "    </tr>\n",
       "    <tr>\n",
       "      <th>min</th>\n",
       "      <td>1.000000</td>\n",
       "      <td>0.000000</td>\n",
       "      <td>0.000000e+00</td>\n",
       "      <td>0.000000</td>\n",
       "      <td>False</td>\n",
       "    </tr>\n",
       "    <tr>\n",
       "      <th>25%</th>\n",
       "      <td>262.000000</td>\n",
       "      <td>0.000000</td>\n",
       "      <td>1.600000e+01</td>\n",
       "      <td>2.000000</td>\n",
       "      <td>0</td>\n",
       "    </tr>\n",
       "    <tr>\n",
       "      <th>50%</th>\n",
       "      <td>354.000000</td>\n",
       "      <td>0.000000</td>\n",
       "      <td>2.970000e+02</td>\n",
       "      <td>3.000000</td>\n",
       "      <td>0</td>\n",
       "    </tr>\n",
       "    <tr>\n",
       "      <th>75%</th>\n",
       "      <td>412.000000</td>\n",
       "      <td>1.000000</td>\n",
       "      <td>3.140250e+03</td>\n",
       "      <td>5.000000</td>\n",
       "      <td>0</td>\n",
       "    </tr>\n",
       "    <tr>\n",
       "      <th>max</th>\n",
       "      <td>460.000000</td>\n",
       "      <td>1.000000</td>\n",
       "      <td>4.750714e+08</td>\n",
       "      <td>6.000000</td>\n",
       "      <td>True</td>\n",
       "    </tr>\n",
       "  </tbody>\n",
       "</table>\n",
       "</div>"
      ],
      "text/plain": [
       "       business_id      segment        volume     category     direct\n",
       "count  4786.000000  4786.000000  4.464000e+03  4786.000000       4786\n",
       "mean    314.314668     0.376097  2.326812e+05     3.243627  0.0215211\n",
       "std     125.258811     0.484455  8.564815e+06     1.819087  0.1451287\n",
       "min       1.000000     0.000000  0.000000e+00     0.000000      False\n",
       "25%     262.000000     0.000000  1.600000e+01     2.000000          0\n",
       "50%     354.000000     0.000000  2.970000e+02     3.000000          0\n",
       "75%     412.000000     1.000000  3.140250e+03     5.000000          0\n",
       "max     460.000000     1.000000  4.750714e+08     6.000000       True"
      ]
     },
     "execution_count": 21,
     "metadata": {},
     "output_type": "execute_result"
    }
   ],
   "source": [
    "rules.describe()"
   ]
  },
  {
   "cell_type": "markdown",
   "metadata": {},
   "source": [
    "### Actors"
   ]
  },
  {
   "cell_type": "code",
   "execution_count": 22,
   "metadata": {
    "collapsed": false
   },
   "outputs": [],
   "source": [
    "actors = pd.read_csv('../../s3/actors.csv', index_col=\"id\")"
   ]
  },
  {
   "cell_type": "code",
   "execution_count": 23,
   "metadata": {
    "collapsed": false
   },
   "outputs": [
    {
     "data": {
      "text/html": [
       "<div style=\"max-height:1000px;max-width:1500px;overflow:auto;\">\n",
       "<table border=\"1\" class=\"dataframe\">\n",
       "  <thead>\n",
       "    <tr style=\"text-align: right;\">\n",
       "      <th></th>\n",
       "      <th>lang</th>\n",
       "      <th>favourites_count</th>\n",
       "      <th>statuses_count</th>\n",
       "      <th>friends_count</th>\n",
       "      <th>followers_count</th>\n",
       "      <th>listed_count</th>\n",
       "    </tr>\n",
       "    <tr>\n",
       "      <th>id</th>\n",
       "      <th></th>\n",
       "      <th></th>\n",
       "      <th></th>\n",
       "      <th></th>\n",
       "      <th></th>\n",
       "      <th></th>\n",
       "    </tr>\n",
       "  </thead>\n",
       "  <tbody>\n",
       "    <tr>\n",
       "      <th>12</th>\n",
       "      <td>en</td>\n",
       "      <td>NaN</td>\n",
       "      <td>16636</td>\n",
       "      <td>1450</td>\n",
       "      <td>2984845</td>\n",
       "      <td>24425</td>\n",
       "    </tr>\n",
       "    <tr>\n",
       "      <th>767</th>\n",
       "      <td>en</td>\n",
       "      <td>24198</td>\n",
       "      <td>69163</td>\n",
       "      <td>2983</td>\n",
       "      <td>90600</td>\n",
       "      <td>4884</td>\n",
       "    </tr>\n",
       "    <tr>\n",
       "      <th>785</th>\n",
       "      <td>en</td>\n",
       "      <td>NaN</td>\n",
       "      <td>23948</td>\n",
       "      <td>846</td>\n",
       "      <td>14979</td>\n",
       "      <td>631</td>\n",
       "    </tr>\n",
       "    <tr>\n",
       "      <th>1952</th>\n",
       "      <td>en</td>\n",
       "      <td>94</td>\n",
       "      <td>41700</td>\n",
       "      <td>998</td>\n",
       "      <td>4043</td>\n",
       "      <td>226</td>\n",
       "    </tr>\n",
       "    <tr>\n",
       "      <th>2172</th>\n",
       "      <td>en</td>\n",
       "      <td>76</td>\n",
       "      <td>53560</td>\n",
       "      <td>2033</td>\n",
       "      <td>582423</td>\n",
       "      <td>12127</td>\n",
       "    </tr>\n",
       "  </tbody>\n",
       "</table>\n",
       "</div>"
      ],
      "text/plain": [
       "     lang  favourites_count  statuses_count  friends_count  followers_count  \\\n",
       "id                                                                            \n",
       "12     en               NaN           16636           1450          2984845   \n",
       "767    en             24198           69163           2983            90600   \n",
       "785    en               NaN           23948            846            14979   \n",
       "1952   en                94           41700            998             4043   \n",
       "2172   en                76           53560           2033           582423   \n",
       "\n",
       "      listed_count  \n",
       "id                  \n",
       "12           24425  \n",
       "767           4884  \n",
       "785            631  \n",
       "1952           226  \n",
       "2172         12127  "
      ]
     },
     "execution_count": 23,
     "metadata": {},
     "output_type": "execute_result"
    }
   ],
   "source": [
    "actors.head()"
   ]
  },
  {
   "cell_type": "code",
   "execution_count": 24,
   "metadata": {
    "collapsed": false
   },
   "outputs": [
    {
     "data": {
      "text/html": [
       "<div style=\"max-height:1000px;max-width:1500px;overflow:auto;\">\n",
       "<table border=\"1\" class=\"dataframe\">\n",
       "  <thead>\n",
       "    <tr style=\"text-align: right;\">\n",
       "      <th></th>\n",
       "      <th>favourites_count</th>\n",
       "      <th>statuses_count</th>\n",
       "      <th>friends_count</th>\n",
       "      <th>followers_count</th>\n",
       "      <th>listed_count</th>\n",
       "    </tr>\n",
       "  </thead>\n",
       "  <tbody>\n",
       "    <tr>\n",
       "      <th>count</th>\n",
       "      <td>72205.000000</td>\n",
       "      <td>734833.000000</td>\n",
       "      <td>734834.000000</td>\n",
       "      <td>734834.000000</td>\n",
       "      <td>734611.000000</td>\n",
       "    </tr>\n",
       "    <tr>\n",
       "      <th>mean</th>\n",
       "      <td>2063.706627</td>\n",
       "      <td>17198.639341</td>\n",
       "      <td>989.087618</td>\n",
       "      <td>3778.709121</td>\n",
       "      <td>32.093360</td>\n",
       "    </tr>\n",
       "    <tr>\n",
       "      <th>std</th>\n",
       "      <td>6821.231790</td>\n",
       "      <td>34693.571539</td>\n",
       "      <td>6001.745585</td>\n",
       "      <td>155812.787824</td>\n",
       "      <td>1135.065026</td>\n",
       "    </tr>\n",
       "    <tr>\n",
       "      <th>min</th>\n",
       "      <td>0.000000</td>\n",
       "      <td>0.000000</td>\n",
       "      <td>-438.000000</td>\n",
       "      <td>0.000000</td>\n",
       "      <td>0.000000</td>\n",
       "    </tr>\n",
       "    <tr>\n",
       "      <th>25%</th>\n",
       "      <td>36.000000</td>\n",
       "      <td>1385.000000</td>\n",
       "      <td>173.000000</td>\n",
       "      <td>133.000000</td>\n",
       "      <td>0.000000</td>\n",
       "    </tr>\n",
       "    <tr>\n",
       "      <th>50%</th>\n",
       "      <td>343.000000</td>\n",
       "      <td>5884.000000</td>\n",
       "      <td>358.000000</td>\n",
       "      <td>343.000000</td>\n",
       "      <td>2.000000</td>\n",
       "    </tr>\n",
       "    <tr>\n",
       "      <th>75%</th>\n",
       "      <td>1703.000000</td>\n",
       "      <td>18786.000000</td>\n",
       "      <td>779.000000</td>\n",
       "      <td>853.000000</td>\n",
       "      <td>7.000000</td>\n",
       "    </tr>\n",
       "    <tr>\n",
       "      <th>max</th>\n",
       "      <td>492244.000000</td>\n",
       "      <td>2051862.000000</td>\n",
       "      <td>1593446.000000</td>\n",
       "      <td>64199466.000000</td>\n",
       "      <td>821163.000000</td>\n",
       "    </tr>\n",
       "  </tbody>\n",
       "</table>\n",
       "</div>"
      ],
      "text/plain": [
       "       favourites_count  statuses_count   friends_count  followers_count  \\\n",
       "count      72205.000000   734833.000000   734834.000000    734834.000000   \n",
       "mean        2063.706627    17198.639341      989.087618      3778.709121   \n",
       "std         6821.231790    34693.571539     6001.745585    155812.787824   \n",
       "min            0.000000        0.000000     -438.000000         0.000000   \n",
       "25%           36.000000     1385.000000      173.000000       133.000000   \n",
       "50%          343.000000     5884.000000      358.000000       343.000000   \n",
       "75%         1703.000000    18786.000000      779.000000       853.000000   \n",
       "max       492244.000000  2051862.000000  1593446.000000  64199466.000000   \n",
       "\n",
       "        listed_count  \n",
       "count  734611.000000  \n",
       "mean       32.093360  \n",
       "std      1135.065026  \n",
       "min         0.000000  \n",
       "25%         0.000000  \n",
       "50%         2.000000  \n",
       "75%         7.000000  \n",
       "max    821163.000000  "
      ]
     },
     "execution_count": 24,
     "metadata": {},
     "output_type": "execute_result"
    }
   ],
   "source": [
    "actors.describe()"
   ]
  },
  {
   "cell_type": "markdown",
   "metadata": {},
   "source": [
    "### Alerts"
   ]
  },
  {
   "cell_type": "code",
   "execution_count": 25,
   "metadata": {
    "collapsed": true
   },
   "outputs": [],
   "source": [
    "alerts = pd.read_csv('../../s3/alerts.csv', index_col=\"id\")"
   ]
  },
  {
   "cell_type": "code",
   "execution_count": 26,
   "metadata": {
    "collapsed": false
   },
   "outputs": [
    {
     "data": {
      "text/html": [
       "<div style=\"max-height:1000px;max-width:1500px;overflow:auto;\">\n",
       "<table border=\"1\" class=\"dataframe\">\n",
       "  <thead>\n",
       "    <tr style=\"text-align: right;\">\n",
       "      <th></th>\n",
       "      <th>business_id</th>\n",
       "      <th>options</th>\n",
       "      <th>created_at</th>\n",
       "      <th>updated_at</th>\n",
       "      <th>alert_type_id</th>\n",
       "      <th>type</th>\n",
       "      <th>rule_id</th>\n",
       "    </tr>\n",
       "    <tr>\n",
       "      <th>id</th>\n",
       "      <th></th>\n",
       "      <th></th>\n",
       "      <th></th>\n",
       "      <th></th>\n",
       "      <th></th>\n",
       "      <th></th>\n",
       "      <th></th>\n",
       "    </tr>\n",
       "  </thead>\n",
       "  <tbody>\n",
       "    <tr>\n",
       "      <th>173559</th>\n",
       "      <td>397</td>\n",
       "      <td>{\"klout_topics\"=&gt;\"Baseball, College Baseball, ...</td>\n",
       "      <td>2015-05-21 00:00:15 -0400</td>\n",
       "      <td>2015-05-21 00:00:15 -0400</td>\n",
       "      <td>129</td>\n",
       "      <td>NaN</td>\n",
       "      <td>3454</td>\n",
       "    </tr>\n",
       "    <tr>\n",
       "      <th>173560</th>\n",
       "      <td>435</td>\n",
       "      <td>{\"klout_topics\"=&gt;\"Sacramento, Twitter, San Jos...</td>\n",
       "      <td>2015-05-21 00:04:30 -0400</td>\n",
       "      <td>2015-05-21 00:04:30 -0400</td>\n",
       "      <td>129</td>\n",
       "      <td>NaN</td>\n",
       "      <td>4561</td>\n",
       "    </tr>\n",
       "    <tr>\n",
       "      <th>173561</th>\n",
       "      <td>439</td>\n",
       "      <td>{\"klout_topics\"=&gt;\"Architecture, Interior Desig...</td>\n",
       "      <td>2015-05-21 00:09:26 -0400</td>\n",
       "      <td>2015-05-21 00:09:26 -0400</td>\n",
       "      <td>129</td>\n",
       "      <td>NaN</td>\n",
       "      <td>5183</td>\n",
       "    </tr>\n",
       "    <tr>\n",
       "      <th>173562</th>\n",
       "      <td>421</td>\n",
       "      <td>{\"hashtags\"=&gt;[\"usocwithbdpc\"], \"topic\"=&gt;\"\\\"son...</td>\n",
       "      <td>2015-05-21 00:12:43 -0400</td>\n",
       "      <td>2015-05-21 00:12:43 -0400</td>\n",
       "      <td>118</td>\n",
       "      <td>HashtagAlert</td>\n",
       "      <td>4268</td>\n",
       "    </tr>\n",
       "    <tr>\n",
       "      <th>173563</th>\n",
       "      <td>369</td>\n",
       "      <td>{\"mean\"=&gt;\"28.6667\", \"topic\"=&gt;\"@pgatour\", \"vali...</td>\n",
       "      <td>2015-05-21 00:12:44 -0400</td>\n",
       "      <td>2015-05-21 00:12:44 -0400</td>\n",
       "      <td>142</td>\n",
       "      <td>PopularTopicAlert</td>\n",
       "      <td>2872</td>\n",
       "    </tr>\n",
       "  </tbody>\n",
       "</table>\n",
       "</div>"
      ],
      "text/plain": [
       "        business_id                                            options  \\\n",
       "id                                                                       \n",
       "173559          397  {\"klout_topics\"=>\"Baseball, College Baseball, ...   \n",
       "173560          435  {\"klout_topics\"=>\"Sacramento, Twitter, San Jos...   \n",
       "173561          439  {\"klout_topics\"=>\"Architecture, Interior Desig...   \n",
       "173562          421  {\"hashtags\"=>[\"usocwithbdpc\"], \"topic\"=>\"\\\"son...   \n",
       "173563          369  {\"mean\"=>\"28.6667\", \"topic\"=>\"@pgatour\", \"vali...   \n",
       "\n",
       "                       created_at                 updated_at  alert_type_id  \\\n",
       "id                                                                            \n",
       "173559  2015-05-21 00:00:15 -0400  2015-05-21 00:00:15 -0400            129   \n",
       "173560  2015-05-21 00:04:30 -0400  2015-05-21 00:04:30 -0400            129   \n",
       "173561  2015-05-21 00:09:26 -0400  2015-05-21 00:09:26 -0400            129   \n",
       "173562  2015-05-21 00:12:43 -0400  2015-05-21 00:12:43 -0400            118   \n",
       "173563  2015-05-21 00:12:44 -0400  2015-05-21 00:12:44 -0400            142   \n",
       "\n",
       "                     type  rule_id  \n",
       "id                                  \n",
       "173559                NaN     3454  \n",
       "173560                NaN     4561  \n",
       "173561                NaN     5183  \n",
       "173562       HashtagAlert     4268  \n",
       "173563  PopularTopicAlert     2872  "
      ]
     },
     "execution_count": 26,
     "metadata": {},
     "output_type": "execute_result"
    }
   ],
   "source": [
    "alerts.head()"
   ]
  },
  {
   "cell_type": "code",
   "execution_count": 27,
   "metadata": {
    "collapsed": false
   },
   "outputs": [
    {
     "data": {
      "text/html": [
       "<div style=\"max-height:1000px;max-width:1500px;overflow:auto;\">\n",
       "<table border=\"1\" class=\"dataframe\">\n",
       "  <thead>\n",
       "    <tr style=\"text-align: right;\">\n",
       "      <th></th>\n",
       "      <th>business_id</th>\n",
       "      <th>alert_type_id</th>\n",
       "      <th>rule_id</th>\n",
       "    </tr>\n",
       "  </thead>\n",
       "  <tbody>\n",
       "    <tr>\n",
       "      <th>count</th>\n",
       "      <td>620.000000</td>\n",
       "      <td>620.000000</td>\n",
       "      <td>620.000000</td>\n",
       "    </tr>\n",
       "    <tr>\n",
       "      <th>mean</th>\n",
       "      <td>307.483871</td>\n",
       "      <td>133.143548</td>\n",
       "      <td>3257.156452</td>\n",
       "    </tr>\n",
       "    <tr>\n",
       "      <th>std</th>\n",
       "      <td>155.333530</td>\n",
       "      <td>6.910251</td>\n",
       "      <td>1998.946054</td>\n",
       "    </tr>\n",
       "    <tr>\n",
       "      <th>min</th>\n",
       "      <td>1.000000</td>\n",
       "      <td>113.000000</td>\n",
       "      <td>20.000000</td>\n",
       "    </tr>\n",
       "    <tr>\n",
       "      <th>25%</th>\n",
       "      <td>224.000000</td>\n",
       "      <td>129.000000</td>\n",
       "      <td>1450.750000</td>\n",
       "    </tr>\n",
       "    <tr>\n",
       "      <th>50%</th>\n",
       "      <td>369.000000</td>\n",
       "      <td>129.000000</td>\n",
       "      <td>3616.000000</td>\n",
       "    </tr>\n",
       "    <tr>\n",
       "      <th>75%</th>\n",
       "      <td>443.000000</td>\n",
       "      <td>141.000000</td>\n",
       "      <td>5269.000000</td>\n",
       "    </tr>\n",
       "    <tr>\n",
       "      <th>max</th>\n",
       "      <td>453.000000</td>\n",
       "      <td>146.000000</td>\n",
       "      <td>5897.000000</td>\n",
       "    </tr>\n",
       "  </tbody>\n",
       "</table>\n",
       "</div>"
      ],
      "text/plain": [
       "       business_id  alert_type_id      rule_id\n",
       "count   620.000000     620.000000   620.000000\n",
       "mean    307.483871     133.143548  3257.156452\n",
       "std     155.333530       6.910251  1998.946054\n",
       "min       1.000000     113.000000    20.000000\n",
       "25%     224.000000     129.000000  1450.750000\n",
       "50%     369.000000     129.000000  3616.000000\n",
       "75%     443.000000     141.000000  5269.000000\n",
       "max     453.000000     146.000000  5897.000000"
      ]
     },
     "execution_count": 27,
     "metadata": {},
     "output_type": "execute_result"
    }
   ],
   "source": [
    "alerts.describe()"
   ]
  },
  {
   "cell_type": "markdown",
   "metadata": {},
   "source": [
    "### Activities for URLs of Alerted Trends"
   ]
  },
  {
   "cell_type": "code",
   "execution_count": 28,
   "metadata": {
    "collapsed": false
   },
   "outputs": [],
   "source": [
    "activities_urls = pd.read_csv('../../s3/activities_urls_trends.csv', index_col=\"id\")\n",
    "activities_urls = activities_urls[activities_relevant_cols +[\"created_at\",\"activities_count\",\"expanded_url\"]]\n",
    "activities_urls = activities_urls.sort(\"activities_count\", ascending=False)\n",
    "activities_urls['created_at'] = pd.to_datetime(activities_urls['created_at'], format=\"%Y-%m-%d %H:%M:%S\")"
   ]
  },
  {
   "cell_type": "code",
   "execution_count": 29,
   "metadata": {
    "collapsed": false,
    "scrolled": true
   },
   "outputs": [
    {
     "data": {
      "text/html": [
       "<div style=\"max-height:1000px;max-width:1500px;overflow:auto;\">\n",
       "<table border=\"1\" class=\"dataframe\">\n",
       "  <thead>\n",
       "    <tr style=\"text-align: right;\">\n",
       "      <th></th>\n",
       "      <th>actor_id</th>\n",
       "      <th>source</th>\n",
       "      <th>share_count</th>\n",
       "      <th>in_reply_to_native_id</th>\n",
       "      <th>klout</th>\n",
       "      <th>verb</th>\n",
       "      <th>favorites_count</th>\n",
       "      <th>replies_count</th>\n",
       "      <th>created_at</th>\n",
       "      <th>activities_count</th>\n",
       "      <th>expanded_url</th>\n",
       "    </tr>\n",
       "    <tr>\n",
       "      <th>id</th>\n",
       "      <th></th>\n",
       "      <th></th>\n",
       "      <th></th>\n",
       "      <th></th>\n",
       "      <th></th>\n",
       "      <th></th>\n",
       "      <th></th>\n",
       "      <th></th>\n",
       "      <th></th>\n",
       "      <th></th>\n",
       "      <th></th>\n",
       "    </tr>\n",
       "  </thead>\n",
       "  <tbody>\n",
       "    <tr>\n",
       "      <th>443640355408832882</th>\n",
       "      <td>2424761055</td>\n",
       "      <td>twitter</td>\n",
       "      <td>671</td>\n",
       "      <td>NaN</td>\n",
       "      <td>17</td>\n",
       "      <td>share</td>\n",
       "      <td>468</td>\n",
       "      <td>0</td>\n",
       "      <td>2015-05-21 09:43:58</td>\n",
       "      <td>701</td>\n",
       "      <td>http://twitter.com/footy_jokes/status/60133160...</td>\n",
       "    </tr>\n",
       "    <tr>\n",
       "      <th>443640355408700115</th>\n",
       "      <td>2424174321</td>\n",
       "      <td>twitter</td>\n",
       "      <td>400</td>\n",
       "      <td>NaN</td>\n",
       "      <td>25</td>\n",
       "      <td>share</td>\n",
       "      <td>246</td>\n",
       "      <td>0</td>\n",
       "      <td>2015-05-21 07:02:32</td>\n",
       "      <td>701</td>\n",
       "      <td>http://twitter.com/footy_jokes/status/60133160...</td>\n",
       "    </tr>\n",
       "    <tr>\n",
       "      <th>443640355408701789</th>\n",
       "      <td>2424330443</td>\n",
       "      <td>twitter</td>\n",
       "      <td>407</td>\n",
       "      <td>NaN</td>\n",
       "      <td>31</td>\n",
       "      <td>share</td>\n",
       "      <td>251</td>\n",
       "      <td>0</td>\n",
       "      <td>2015-05-21 07:04:55</td>\n",
       "      <td>701</td>\n",
       "      <td>http://twitter.com/footy_jokes/status/60133160...</td>\n",
       "    </tr>\n",
       "    <tr>\n",
       "      <th>443640355408701608</th>\n",
       "      <td>2408455207</td>\n",
       "      <td>twitter</td>\n",
       "      <td>406</td>\n",
       "      <td>NaN</td>\n",
       "      <td>34</td>\n",
       "      <td>share</td>\n",
       "      <td>251</td>\n",
       "      <td>0</td>\n",
       "      <td>2015-05-21 07:04:38</td>\n",
       "      <td>701</td>\n",
       "      <td>http://twitter.com/footy_jokes/status/60133160...</td>\n",
       "    </tr>\n",
       "    <tr>\n",
       "      <th>443640355408701432</th>\n",
       "      <td>2426154688</td>\n",
       "      <td>twitter</td>\n",
       "      <td>405</td>\n",
       "      <td>NaN</td>\n",
       "      <td>29</td>\n",
       "      <td>share</td>\n",
       "      <td>249</td>\n",
       "      <td>0</td>\n",
       "      <td>2015-05-21 07:04:24</td>\n",
       "      <td>701</td>\n",
       "      <td>http://twitter.com/footy_jokes/status/60133160...</td>\n",
       "    </tr>\n",
       "  </tbody>\n",
       "</table>\n",
       "</div>"
      ],
      "text/plain": [
       "                      actor_id   source  share_count  in_reply_to_native_id  \\\n",
       "id                                                                            \n",
       "443640355408832882  2424761055  twitter          671                    NaN   \n",
       "443640355408700115  2424174321  twitter          400                    NaN   \n",
       "443640355408701789  2424330443  twitter          407                    NaN   \n",
       "443640355408701608  2408455207  twitter          406                    NaN   \n",
       "443640355408701432  2426154688  twitter          405                    NaN   \n",
       "\n",
       "                    klout   verb  favorites_count  replies_count  \\\n",
       "id                                                                 \n",
       "443640355408832882     17  share              468              0   \n",
       "443640355408700115     25  share              246              0   \n",
       "443640355408701789     31  share              251              0   \n",
       "443640355408701608     34  share              251              0   \n",
       "443640355408701432     29  share              249              0   \n",
       "\n",
       "                            created_at  activities_count  \\\n",
       "id                                                         \n",
       "443640355408832882 2015-05-21 09:43:58               701   \n",
       "443640355408700115 2015-05-21 07:02:32               701   \n",
       "443640355408701789 2015-05-21 07:04:55               701   \n",
       "443640355408701608 2015-05-21 07:04:38               701   \n",
       "443640355408701432 2015-05-21 07:04:24               701   \n",
       "\n",
       "                                                         expanded_url  \n",
       "id                                                                     \n",
       "443640355408832882  http://twitter.com/footy_jokes/status/60133160...  \n",
       "443640355408700115  http://twitter.com/footy_jokes/status/60133160...  \n",
       "443640355408701789  http://twitter.com/footy_jokes/status/60133160...  \n",
       "443640355408701608  http://twitter.com/footy_jokes/status/60133160...  \n",
       "443640355408701432  http://twitter.com/footy_jokes/status/60133160...  "
      ]
     },
     "execution_count": 29,
     "metadata": {},
     "output_type": "execute_result"
    }
   ],
   "source": [
    "activities_urls.head()"
   ]
  },
  {
   "cell_type": "code",
   "execution_count": 30,
   "metadata": {
    "collapsed": false
   },
   "outputs": [
    {
     "data": {
      "text/html": [
       "<div style=\"max-height:1000px;max-width:1500px;overflow:auto;\">\n",
       "<table border=\"1\" class=\"dataframe\">\n",
       "  <thead>\n",
       "    <tr style=\"text-align: right;\">\n",
       "      <th></th>\n",
       "      <th>actor_id</th>\n",
       "      <th>share_count</th>\n",
       "      <th>in_reply_to_native_id</th>\n",
       "      <th>klout</th>\n",
       "      <th>favorites_count</th>\n",
       "      <th>replies_count</th>\n",
       "      <th>activities_count</th>\n",
       "    </tr>\n",
       "  </thead>\n",
       "  <tbody>\n",
       "    <tr>\n",
       "      <th>count</th>\n",
       "      <td>1.909000e+03</td>\n",
       "      <td>1909.000000</td>\n",
       "      <td>0</td>\n",
       "      <td>1893.000000</td>\n",
       "      <td>1909.000000</td>\n",
       "      <td>1909.000000</td>\n",
       "      <td>1909.000000</td>\n",
       "    </tr>\n",
       "    <tr>\n",
       "      <th>mean</th>\n",
       "      <td>2.178678e+09</td>\n",
       "      <td>259.558931</td>\n",
       "      <td>NaN</td>\n",
       "      <td>34.382990</td>\n",
       "      <td>189.161865</td>\n",
       "      <td>0.020430</td>\n",
       "      <td>432.473023</td>\n",
       "    </tr>\n",
       "    <tr>\n",
       "      <th>std</th>\n",
       "      <td>6.706268e+08</td>\n",
       "      <td>228.450609</td>\n",
       "      <td>NaN</td>\n",
       "      <td>11.030357</td>\n",
       "      <td>166.035460</td>\n",
       "      <td>0.523155</td>\n",
       "      <td>233.626166</td>\n",
       "    </tr>\n",
       "    <tr>\n",
       "      <th>min</th>\n",
       "      <td>1.819261e+06</td>\n",
       "      <td>0.000000</td>\n",
       "      <td>NaN</td>\n",
       "      <td>10.000000</td>\n",
       "      <td>0.000000</td>\n",
       "      <td>0.000000</td>\n",
       "      <td>12.000000</td>\n",
       "    </tr>\n",
       "    <tr>\n",
       "      <th>25%</th>\n",
       "      <td>2.407298e+09</td>\n",
       "      <td>79.000000</td>\n",
       "      <td>NaN</td>\n",
       "      <td>27.000000</td>\n",
       "      <td>35.000000</td>\n",
       "      <td>0.000000</td>\n",
       "      <td>194.000000</td>\n",
       "    </tr>\n",
       "    <tr>\n",
       "      <th>50%</th>\n",
       "      <td>2.415558e+09</td>\n",
       "      <td>191.000000</td>\n",
       "      <td>NaN</td>\n",
       "      <td>34.000000</td>\n",
       "      <td>159.000000</td>\n",
       "      <td>0.000000</td>\n",
       "      <td>446.000000</td>\n",
       "    </tr>\n",
       "    <tr>\n",
       "      <th>75%</th>\n",
       "      <td>2.423687e+09</td>\n",
       "      <td>390.000000</td>\n",
       "      <td>NaN</td>\n",
       "      <td>42.000000</td>\n",
       "      <td>311.000000</td>\n",
       "      <td>0.000000</td>\n",
       "      <td>701.000000</td>\n",
       "    </tr>\n",
       "    <tr>\n",
       "      <th>max</th>\n",
       "      <td>2.426304e+09</td>\n",
       "      <td>975.000000</td>\n",
       "      <td>NaN</td>\n",
       "      <td>90.000000</td>\n",
       "      <td>615.000000</td>\n",
       "      <td>21.000000</td>\n",
       "      <td>701.000000</td>\n",
       "    </tr>\n",
       "  </tbody>\n",
       "</table>\n",
       "</div>"
      ],
      "text/plain": [
       "           actor_id  share_count  in_reply_to_native_id        klout  \\\n",
       "count  1.909000e+03  1909.000000                      0  1893.000000   \n",
       "mean   2.178678e+09   259.558931                    NaN    34.382990   \n",
       "std    6.706268e+08   228.450609                    NaN    11.030357   \n",
       "min    1.819261e+06     0.000000                    NaN    10.000000   \n",
       "25%    2.407298e+09    79.000000                    NaN    27.000000   \n",
       "50%    2.415558e+09   191.000000                    NaN    34.000000   \n",
       "75%    2.423687e+09   390.000000                    NaN    42.000000   \n",
       "max    2.426304e+09   975.000000                    NaN    90.000000   \n",
       "\n",
       "       favorites_count  replies_count  activities_count  \n",
       "count      1909.000000    1909.000000       1909.000000  \n",
       "mean        189.161865       0.020430        432.473023  \n",
       "std         166.035460       0.523155        233.626166  \n",
       "min           0.000000       0.000000         12.000000  \n",
       "25%          35.000000       0.000000        194.000000  \n",
       "50%         159.000000       0.000000        446.000000  \n",
       "75%         311.000000       0.000000        701.000000  \n",
       "max         615.000000      21.000000        701.000000  "
      ]
     },
     "execution_count": 30,
     "metadata": {},
     "output_type": "execute_result"
    }
   ],
   "source": [
    "activities_urls.describe()"
   ]
  },
  {
   "cell_type": "code",
   "execution_count": 31,
   "metadata": {
    "collapsed": true
   },
   "outputs": [],
   "source": [
    "activities_urls_full = pd.read_csv('../../s3/activities_urls.csv')\n",
    "activities_urls_full['created_at'] = pd.to_datetime(activities_urls_full['created_at'], format=\"%Y-%m-%d %H:%M:%S\")"
   ]
  },
  {
   "cell_type": "markdown",
   "metadata": {},
   "source": [
    "## Data Analysis"
   ]
  },
  {
   "cell_type": "markdown",
   "metadata": {},
   "source": [
    "This section performs some data analysis over activities data in order to statistically measure the significance of variables."
   ]
  },
  {
   "cell_type": "markdown",
   "metadata": {},
   "source": [
    "### Regression Models"
   ]
  },
  {
   "cell_type": "code",
   "execution_count": 90,
   "metadata": {
    "collapsed": false
   },
   "outputs": [],
   "source": [
    "# Merge Activities and Actors data to build a regression model over it\n",
    "regdata = pd.merge(activities[[\"share_count\",\"klout\",\"actor_id\", \"created_at\"]], \n",
    "                   actors[[\"followers_count\", \"listed_count\"]], \n",
    "                   left_on=\"actor_id\", right_index=True)\n",
    "\n",
    "# Add column with a float representation of hour and minute of activity\n",
    "regdata[\"numeric_time\"] = map(lambda t: float(t.hour) + float(t.minute)/60, \n",
    "                              regdata[\"created_at\"].tolist())"
   ]
  },
  {
   "cell_type": "code",
   "execution_count": 98,
   "metadata": {
    "collapsed": false
   },
   "outputs": [
    {
     "name": "stdout",
     "output_type": "stream",
     "text": [
      "Intercept          2517.118821\n",
      "klout               -10.173976\n",
      "followers_count       0.000022\n",
      "listed_count         -0.026333\n",
      "numeric_time          7.929058\n",
      "dtype: float64\n",
      "Intercept          71.015778\n",
      "klout               1.654657\n",
      "followers_count     0.000080\n",
      "listed_count        0.010350\n",
      "numeric_time        2.304744\n",
      "dtype: float64\n",
      "                            OLS Regression Results                            \n",
      "==============================================================================\n",
      "Dep. Variable:            share_count   R-squared:                       0.000\n",
      "Model:                            OLS   Adj. R-squared:                  0.000\n",
      "Method:                 Least Squares   F-statistic:                     16.86\n",
      "Date:                Wed, 03 Jun 2015   Prob (F-statistic):           7.87e-14\n",
      "Time:                        21:31:43   Log-Likelihood:            -2.8042e+06\n",
      "No. Observations:              263434   AIC:                         5.608e+06\n",
      "Df Residuals:                  263429   BIC:                         5.608e+06\n",
      "Df Model:                           4                                         \n",
      "Covariance Type:            nonrobust                                         \n",
      "===================================================================================\n",
      "                      coef    std err          t      P>|t|      [95.0% Conf. Int.]\n",
      "-----------------------------------------------------------------------------------\n",
      "Intercept        2517.1188     71.016     35.445      0.000      2377.930  2656.308\n",
      "klout             -10.1740      1.655     -6.149      0.000       -13.417    -6.931\n",
      "followers_count  2.238e-05   8.02e-05      0.279      0.780        -0.000     0.000\n",
      "listed_count       -0.0263      0.010     -2.544      0.011        -0.047    -0.006\n",
      "numeric_time        7.9291      2.305      3.440      0.001         3.412    12.446\n",
      "==============================================================================\n",
      "Omnibus:                   562723.679   Durbin-Watson:                   1.867\n",
      "Prob(Omnibus):                  0.000   Jarque-Bera (JB):       3975770598.595\n",
      "Skew:                          18.834   Prob(JB):                         0.00\n",
      "Kurtosis:                     603.659   Cond. No.                     1.27e+06\n",
      "==============================================================================\n",
      "\n",
      "Warnings:\n",
      "[1] Standard Errors assume that the covariance matrix of the errors is correctly specified.\n",
      "[2] The condition number is large, 1.27e+06. This might indicate that there are\n",
      "strong multicollinearity or other numerical problems.\n"
     ]
    }
   ],
   "source": [
    "def fit_regression_model(formula, data):\n",
    "    # Fit regression model\n",
    "    results = smf.ols(formula, data=data).fit()\n",
    "\n",
    "    # Inspect the results\n",
    "    print results.params\n",
    "    print results.bse\n",
    "    print results.summary()\n",
    "    \n",
    "fit_regression_model('share_count ~ klout + followers_count + listed_count + numeric_time', regdata)"
   ]
  },
  {
   "cell_type": "code",
   "execution_count": 100,
   "metadata": {
    "collapsed": false
   },
   "outputs": [
    {
     "name": "stdout",
     "output_type": "stream",
     "text": [
      "Intercept       2546.146685\n",
      "klout            -11.027470\n",
      "numeric_time       7.938299\n",
      "dtype: float64\n",
      "Intercept       70.331146\n",
      "klout            1.629454\n",
      "numeric_time     2.304781\n",
      "dtype: float64\n",
      "                            OLS Regression Results                            \n",
      "==============================================================================\n",
      "Dep. Variable:            share_count   R-squared:                       0.000\n",
      "Model:                            OLS   Adj. R-squared:                  0.000\n",
      "Method:                 Least Squares   F-statistic:                     28.18\n",
      "Date:                Wed, 03 Jun 2015   Prob (F-statistic):           5.79e-13\n",
      "Time:                        21:32:16   Log-Likelihood:            -2.8042e+06\n",
      "No. Observations:              263434   AIC:                         5.608e+06\n",
      "Df Residuals:                  263431   BIC:                         5.608e+06\n",
      "Df Model:                           2                                         \n",
      "Covariance Type:            nonrobust                                         \n",
      "================================================================================\n",
      "                   coef    std err          t      P>|t|      [95.0% Conf. Int.]\n",
      "--------------------------------------------------------------------------------\n",
      "Intercept     2546.1467     70.331     36.202      0.000      2408.300  2683.994\n",
      "klout          -11.0275      1.629     -6.768      0.000       -14.221    -7.834\n",
      "numeric_time     7.9383      2.305      3.444      0.001         3.421    12.456\n",
      "==============================================================================\n",
      "Omnibus:                   562724.448   Durbin-Watson:                   1.867\n",
      "Prob(Omnibus):                  0.000   Jarque-Bera (JB):       3975695970.320\n",
      "Skew:                          18.834   Prob(JB):                         0.00\n",
      "Kurtosis:                     603.654   Cond. No.                         148.\n",
      "==============================================================================\n",
      "\n",
      "Warnings:\n",
      "[1] Standard Errors assume that the covariance matrix of the errors is correctly specified.\n"
     ]
    }
   ],
   "source": [
    "fit_regression_model('share_count ~ klout + numeric_time', regdata)"
   ]
  },
  {
   "cell_type": "markdown",
   "metadata": {},
   "source": [
    "### Scatter Matrix - correlation among variables"
   ]
  },
  {
   "cell_type": "code",
   "execution_count": 103,
   "metadata": {
    "collapsed": false
   },
   "outputs": [
    {
     "data": {
      "text/plain": [
       "array([[<matplotlib.axes.AxesSubplot object at 0x119c4cfd0>,\n",
       "        <matplotlib.axes.AxesSubplot object at 0x12e286f10>,\n",
       "        <matplotlib.axes.AxesSubplot object at 0x140212b90>,\n",
       "        <matplotlib.axes.AxesSubplot object at 0x155cee1d0>,\n",
       "        <matplotlib.axes.AxesSubplot object at 0x12f561a10>],\n",
       "       [<matplotlib.axes.AxesSubplot object at 0x115777850>,\n",
       "        <matplotlib.axes.AxesSubplot object at 0x128338a90>,\n",
       "        <matplotlib.axes.AxesSubplot object at 0x139052150>,\n",
       "        <matplotlib.axes.AxesSubplot object at 0x115771f10>,\n",
       "        <matplotlib.axes.AxesSubplot object at 0x1258d1690>],\n",
       "       [<matplotlib.axes.AxesSubplot object at 0x153f6ddd0>,\n",
       "        <matplotlib.axes.AxesSubplot object at 0x129eaca50>,\n",
       "        <matplotlib.axes.AxesSubplot object at 0x11516e610>,\n",
       "        <matplotlib.axes.AxesSubplot object at 0x129ea18d0>,\n",
       "        <matplotlib.axes.AxesSubplot object at 0x129586fd0>],\n",
       "       [<matplotlib.axes.AxesSubplot object at 0x13f29c4d0>,\n",
       "        <matplotlib.axes.AxesSubplot object at 0x139ed73d0>,\n",
       "        <matplotlib.axes.AxesSubplot object at 0x12254acd0>,\n",
       "        <matplotlib.axes.AxesSubplot object at 0x122554cd0>,\n",
       "        <matplotlib.axes.AxesSubplot object at 0x114eaf510>],\n",
       "       [<matplotlib.axes.AxesSubplot object at 0x1328f3250>,\n",
       "        <matplotlib.axes.AxesSubplot object at 0x1529ea8d0>,\n",
       "        <matplotlib.axes.AxesSubplot object at 0x11d15c990>,\n",
       "        <matplotlib.axes.AxesSubplot object at 0x13dedee50>,\n",
       "        <matplotlib.axes.AxesSubplot object at 0x13033c690>]], dtype=object)"
      ]
     },
     "execution_count": 103,
     "metadata": {},
     "output_type": "execute_result"
    },
    {
     "data": {
      "image/png": "[encoded data removed]",
      "text/plain": [
       "<matplotlib.figure.Figure at 0x137f6a250>"
      ]
     },
     "metadata": {},
     "output_type": "display_data"
    }
   ],
   "source": [
    "scatter_matrix(regdata, alpha=0.2, figsize=(12, 12), diagonal='kde')"
   ]
  },
  {
   "cell_type": "markdown",
   "metadata": {},
   "source": [
    "## Computing Scores\n",
    "\n",
    "This section implements the functions for computing and the scores and performs some tests for subsequent validation."
   ]
  },
  {
   "cell_type": "markdown",
   "metadata": {},
   "source": [
    "### Alert type - Influencer"
   ]
  },
  {
   "cell_type": "markdown",
   "metadata": {},
   "source": [
    "\n",
    "- Legend:\n",
    "    - k = klout\n",
    "    - f = followers\n",
    "    - l = listed count\n",
    "    - v = verb\n",
    "    - kw = klout weight\n",
    "    - fw = followers count weight\n",
    "    - lw = listed count weight\n",
    "\n",
    "- Values:\n",
    "    - kw = 30\n",
    "    - fw = 40\n",
    "    - lw = 30\n",
    "    - v = (tweet=1, retweet=0.9)\n",
    "\n",
    "**influencer_score** = (2-v) \\* kw \\* (k^2) / 10000 +\n",
    "                        v \\* fw \\* log(f) / 20 +\n",
    "                        v \\* lw \\* log(l) / 15\n"
   ]
  },
  {
   "cell_type": "code",
   "execution_count": 33,
   "metadata": {
    "collapsed": false
   },
   "outputs": [],
   "source": [
    "def generate_influencer_score(activity_id, k=None, f=None, l=None, verb=\"post\"):\n",
    "    # Weights for klout, followers and lists\n",
    "    kw = 30.0\n",
    "    fw = 40.0\n",
    "    lw = 30.0\n",
    "    \n",
    "    # Default behavior when activity_id is provided\n",
    "    if activity_id is not None:\n",
    "        activity = activities.loc[str(activity_id)]\n",
    "        actor = actors.loc[int(activity.actor_id)]\n",
    "        if not activity.klout.is_integer():\n",
    "            k = 0.0\n",
    "    \n",
    "        # Obtain values from activity unless parameterized\n",
    "        if k is None: k = float(activity.klout)\n",
    "        if f is None: f = float(actor.followers_count + 1.0)\n",
    "        if l is None: l = float(actor.listed_count + 1.0)\n",
    "    \n",
    "    # Coefficient for tweet(verb=post) or retweet(verb=share)\n",
    "    v = 1.0 if verb==\"post\" else 0.9\n",
    "    \n",
    "    # Score calculation and return\n",
    "    return int((2-v)*kw * float(k ** 2) / 10000 + \\\n",
    "                v * fw * math.log(f) / 20 + \\\n",
    "                v * lw * math.log(l) / 15)"
   ]
  },
  {
   "cell_type": "code",
   "execution_count": 34,
   "metadata": {
    "collapsed": false,
    "scrolled": false
   },
   "outputs": [
    {
     "name": "stdout",
     "output_type": "stream",
     "text": [
      "Generated score for activity 443640355408254904: 29\n",
      "Generated score for activity 443640355408254905: 22\n",
      "Generated score for activity 443640355408254907: 20\n",
      "Generated score for activity 443640355408254908: 7\n",
      "Generated score for activity 443640355408254909: 18\n",
      "Generated score for activity 443640355408254910: 14\n",
      "Generated score for activity 443640355408254912: 28\n",
      "Generated score for activity 443640355408254913: 7\n",
      "Generated score for activity 443640355408254914: 30\n",
      "Generated score for activity 443640355408254916: 23\n",
      "Generated score for activity 443640355408254917: 12\n",
      "Generated score for activity 443640355408254920: 30\n",
      "Generated score for activity 443640355408254922: 16\n",
      "Generated score for activity 443640355408254923: 22\n",
      "Generated score for activity 443640355408254926: 12\n",
      "Generated score for activity 443640355408254927: 47\n",
      "Generated score for activity 443640355408254928: 16\n",
      "Generated score for activity 443640355408254934: 57\n",
      "Generated score for activity 443640355408254915: 42\n",
      "Generated score for activity 443640355408254918: 8\n",
      "Generated score for activity 443640355408254919: 39\n",
      "Generated score for activity 443640355408254921: 37\n",
      "Generated score for activity 443640355408254924: 25\n",
      "Generated score for activity 443640355408254925: 17\n",
      "Generated score for activity 443640355408254929: 18\n",
      "Generated score for activity 443640355408254930: 40\n",
      "Generated score for activity 443640355408254931: 16\n",
      "Generated score for activity 443640355408254932: 21\n",
      "Generated score for activity 443640355408254933: 1\n",
      "Generated score for activity 443640355408254935: 12\n"
     ]
    }
   ],
   "source": [
    "for index, row in activities.head(30).iterrows():\n",
    "    print \"Generated score for activity {0}: {1}\".format(index,generate_influencer_score(index))"
   ]
  },
  {
   "cell_type": "markdown",
   "metadata": {},
   "source": [
    "Now testing with predefined values for evaluating limits:"
   ]
  },
  {
   "cell_type": "code",
   "execution_count": 35,
   "metadata": {
    "collapsed": false
   },
   "outputs": [
    {
     "data": {
      "text/plain": [
       "100"
      ]
     },
     "execution_count": 35,
     "metadata": {},
     "output_type": "execute_result"
    }
   ],
   "source": [
    "generate_influencer_score(activity_id=None, k=99, f=50000000, l=50000000, verb='post')"
   ]
  },
  {
   "cell_type": "code",
   "execution_count": 36,
   "metadata": {
    "collapsed": false
   },
   "outputs": [
    {
     "data": {
      "text/plain": [
       "95"
      ]
     },
     "execution_count": 36,
     "metadata": {},
     "output_type": "execute_result"
    }
   ],
   "source": [
    "generate_influencer_score(activity_id=None, k=90, f=50000000, l=50000000, verb='post')"
   ]
  },
  {
   "cell_type": "code",
   "execution_count": 37,
   "metadata": {
    "collapsed": false
   },
   "outputs": [
    {
     "data": {
      "text/plain": [
       "96"
      ]
     },
     "execution_count": 37,
     "metadata": {},
     "output_type": "execute_result"
    }
   ],
   "source": [
    "generate_influencer_score(activity_id=None, k=99, f=50000000, l=50000000, verb='share')"
   ]
  },
  {
   "cell_type": "code",
   "execution_count": 38,
   "metadata": {
    "collapsed": false
   },
   "outputs": [
    {
     "data": {
      "text/plain": [
       "90"
      ]
     },
     "execution_count": 38,
     "metadata": {},
     "output_type": "execute_result"
    }
   ],
   "source": [
    "generate_influencer_score(activity_id=None, k=90, f=50000000, l=50000000, verb='share')"
   ]
  },
  {
   "cell_type": "code",
   "execution_count": 39,
   "metadata": {
    "collapsed": false
   },
   "outputs": [
    {
     "data": {
      "text/plain": [
       "76"
      ]
     },
     "execution_count": 39,
     "metadata": {},
     "output_type": "execute_result"
    }
   ],
   "source": [
    "generate_influencer_score(activity_id=None, k=70, f=5000000, l=5000000, verb='post')"
   ]
  },
  {
   "cell_type": "code",
   "execution_count": 40,
   "metadata": {
    "collapsed": false
   },
   "outputs": [
    {
     "data": {
      "text/plain": [
       "71"
      ]
     },
     "execution_count": 40,
     "metadata": {},
     "output_type": "execute_result"
    }
   ],
   "source": [
    "generate_influencer_score(activity_id=None, k=70, f=5000000, l=5000000, verb='share')"
   ]
  },
  {
   "cell_type": "code",
   "execution_count": 41,
   "metadata": {
    "collapsed": false
   },
   "outputs": [
    {
     "data": {
      "text/plain": [
       "69"
      ]
     },
     "execution_count": 41,
     "metadata": {},
     "output_type": "execute_result"
    }
   ],
   "source": [
    "generate_influencer_score(activity_id=None, k=50, f=5000000, l=5000000, verb='post')"
   ]
  },
  {
   "cell_type": "code",
   "execution_count": 42,
   "metadata": {
    "collapsed": false
   },
   "outputs": [
    {
     "data": {
      "text/plain": [
       "63"
      ]
     },
     "execution_count": 42,
     "metadata": {},
     "output_type": "execute_result"
    }
   ],
   "source": [
    "generate_influencer_score(activity_id=None, k=50, f=5000000, l=5000000, verb='share')"
   ]
  },
  {
   "cell_type": "code",
   "execution_count": 43,
   "metadata": {
    "collapsed": false
   },
   "outputs": [
    {
     "data": {
      "text/plain": [
       "62"
      ]
     },
     "execution_count": 43,
     "metadata": {},
     "output_type": "execute_result"
    }
   ],
   "source": [
    "generate_influencer_score(activity_id=None, k=50, f=1000000, l=1000000, verb='post')"
   ]
  },
  {
   "cell_type": "code",
   "execution_count": 44,
   "metadata": {
    "collapsed": false
   },
   "outputs": [
    {
     "data": {
      "text/plain": [
       "57"
      ]
     },
     "execution_count": 44,
     "metadata": {},
     "output_type": "execute_result"
    }
   ],
   "source": [
    "generate_influencer_score(activity_id=None, k=50, f=1000000, l=1000000, verb='share')"
   ]
  },
  {
   "cell_type": "markdown",
   "metadata": {},
   "source": [
    "### Alert type - Trends\n",
    "* Reach of tweets\n",
    "* segment: marketing (categories: range from 1 to 10) vs business(15% more important than Marketing)\n",
    "\n",
    "* Try to analyze: Potential, Virality\n",
    "\n",
    "**trend_score** = reach + segment\n"
   ]
  },
  {
   "cell_type": "code",
   "execution_count": 45,
   "metadata": {
    "collapsed": false
   },
   "outputs": [
    {
     "data": {
      "text/html": [
       "<div style=\"max-height:1000px;max-width:1500px;overflow:auto;\">\n",
       "<table border=\"1\" class=\"dataframe\">\n",
       "  <thead>\n",
       "    <tr style=\"text-align: right;\">\n",
       "      <th></th>\n",
       "      <th>created_at</th>\n",
       "      <th>verb</th>\n",
       "      <th>expanded_url</th>\n",
       "    </tr>\n",
       "  </thead>\n",
       "  <tbody>\n",
       "    <tr>\n",
       "      <th>812791</th>\n",
       "      <td>2015-05-21 15:37:33</td>\n",
       "      <td>share</td>\n",
       "      <td>http://twitter.com/RapUp/status/60141425162276...</td>\n",
       "    </tr>\n",
       "    <tr>\n",
       "      <th>812792</th>\n",
       "      <td>2015-05-21 15:37:33</td>\n",
       "      <td>share</td>\n",
       "      <td>http://twitter.com/TheLadBible/status/60139499...</td>\n",
       "    </tr>\n",
       "    <tr>\n",
       "      <th>812793</th>\n",
       "      <td>2015-05-21 15:37:33</td>\n",
       "      <td>post</td>\n",
       "      <td>http://migration.kentucky.gov/newsroom/governo...</td>\n",
       "    </tr>\n",
       "    <tr>\n",
       "      <th>812794</th>\n",
       "      <td>2015-05-21 15:37:33</td>\n",
       "      <td>post</td>\n",
       "      <td>http://www.humtvdramas.net</td>\n",
       "    </tr>\n",
       "    <tr>\n",
       "      <th>812795</th>\n",
       "      <td>2015-05-21 15:37:33</td>\n",
       "      <td>post</td>\n",
       "      <td>http://i.imgur.com/9rLQ3TP.jpg</td>\n",
       "    </tr>\n",
       "  </tbody>\n",
       "</table>\n",
       "</div>"
      ],
      "text/plain": [
       "                created_at   verb  \\\n",
       "812791 2015-05-21 15:37:33  share   \n",
       "812792 2015-05-21 15:37:33  share   \n",
       "812793 2015-05-21 15:37:33   post   \n",
       "812794 2015-05-21 15:37:33   post   \n",
       "812795 2015-05-21 15:37:33   post   \n",
       "\n",
       "                                             expanded_url  \n",
       "812791  http://twitter.com/RapUp/status/60141425162276...  \n",
       "812792  http://twitter.com/TheLadBible/status/60139499...  \n",
       "812793  http://migration.kentucky.gov/newsroom/governo...  \n",
       "812794                         http://www.humtvdramas.net  \n",
       "812795                     http://i.imgur.com/9rLQ3TP.jpg  "
      ]
     },
     "execution_count": 45,
     "metadata": {},
     "output_type": "execute_result"
    }
   ],
   "source": [
    "activities_urls_full.tail()"
   ]
  },
  {
   "cell_type": "code",
   "execution_count": 55,
   "metadata": {
    "collapsed": false
   },
   "outputs": [
    {
     "data": {
      "image/png": "[encoded data removed]",
      "text/plain": [
       "<matplotlib.figure.Figure at 0x1510cb990>"
      ]
     },
     "metadata": {},
     "output_type": "display_data"
    }
   ],
   "source": [
    "def plot_trend_histogram(url_param):\n",
    "    insights_for_url = activities_urls[activities_urls[\"expanded_url\"]==url_param]\n",
    "\n",
    "    time_list = insights_for_url[\"created_at\"].tolist()\n",
    "    numeric_time_list = map(lambda t: float(t.hour) + float(t.minute)/60, time_list)\n",
    "\n",
    "    sns.set_palette(\"hls\")\n",
    "    plt.hist(numeric_time_list, 150)\n",
    "    mpl.rc(\"figure\", figsize=(16, 4))\n",
    "    plt.title(\"Histogram of Insights for this URL\")\n",
    "    plt.show()\n",
    "    \n",
    "#     mpl.rc(\"figure\", figsize=(16, 4))\n",
    "#     sns.distplot(numeric_time_list, 150);\n",
    "    \n",
    "plot_trend_histogram(\"http://twitter.com/footy_jokes/status/601331607371390976/photo/1\")"
   ]
  },
  {
   "cell_type": "code",
   "execution_count": 56,
   "metadata": {
    "collapsed": false
   },
   "outputs": [
    {
     "data": {
      "image/png": "[encoded data removed]",
      "text/plain": [
       "<matplotlib.figure.Figure at 0x1190f2950>"
      ]
     },
     "metadata": {},
     "output_type": "display_data"
    }
   ],
   "source": [
    "plot_trend_histogram(\"http://www.manutd.com/en/tour%202015/news%20and%20features/2015/may/manchester%20united%20to%20face%20san%20jose%20earthquakes%20at%20california%20memorial%20stadium.aspx\")"
   ]
  },
  {
   "cell_type": "code",
   "execution_count": 57,
   "metadata": {
    "collapsed": false
   },
   "outputs": [
    {
     "data": {
      "image/png": "[encoded data removed]",
      "text/plain": [
       "<matplotlib.figure.Figure at 0x13d7c5f50>"
      ]
     },
     "metadata": {},
     "output_type": "display_data"
    }
   ],
   "source": [
    "plot_trend_histogram(\"http://deadspin.com/lets-take-a-look-at-andrew-mccutchens-pay-stub-1706188663\")"
   ]
  },
  {
   "cell_type": "code",
   "execution_count": 58,
   "metadata": {
    "collapsed": false
   },
   "outputs": [
    {
     "data": {
      "image/png": "[encoded data removed]",
      "text/plain": [
       "<matplotlib.figure.Figure at 0x13166cc10>"
      ]
     },
     "metadata": {},
     "output_type": "display_data"
    }
   ],
   "source": [
    "plot_trend_histogram(\"https://twitter.com/perla69biebs/status/601239506763649025/video/1\")"
   ]
  },
  {
   "cell_type": "markdown",
   "metadata": {},
   "source": [
    "### Alert type - Popular Tweet\n",
    "* Engagement of tweet\n",
    "* Potential of engagement\n",
    "\n",
    "**popular_score** = engagement + potential\n"
   ]
  },
  {
   "cell_type": "code",
   "execution_count": null,
   "metadata": {
    "collapsed": true
   },
   "outputs": [],
   "source": [
    "# TODO"
   ]
  },
  {
   "cell_type": "code",
   "execution_count": null,
   "metadata": {
    "collapsed": true
   },
   "outputs": [],
   "source": []
  }
 ],
 "metadata": {
  "kernelspec": {
   "display_name": "Python 2",
   "language": "python",
   "name": "python2"
  },
  "language_info": {
   "codemirror_mode": {
    "name": "ipython",
    "version": 2
   },
   "file_extension": ".py",
   "mimetype": "text/x-python",
   "name": "python",
   "nbconvert_exporter": "python",
   "pygments_lexer": "ipython2",
   "version": "2.7.6"
  }
 },
 "nbformat": 4,
 "nbformat_minor": 0
}
