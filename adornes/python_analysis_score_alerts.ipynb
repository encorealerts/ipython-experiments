{
 "cells": [
  {
   "cell_type": "markdown",
   "metadata": {},
   "source": [
    "# Analysis for calculating score for Alerts\n"
   ]
  },
  {
   "cell_type": "markdown",
   "metadata": {},
   "source": [
    "## Proposed formulas\n",
    "\n",
    "This section introduces the formulas proposed for each type of alert (influencer, trend and popular topic).\n",
    "\n",
    "### Alert type - Influencer\n",
    "\n",
    "- Legend:\n",
    "    - k = klout\n",
    "    - f = followers\n",
    "    - l = listed count\n",
    "    - v = verb\n",
    "    - kw = klout weight\n",
    "    - fw = followers count weight\n",
    "    - lw = listed count weight\n",
    "\n",
    "- Values:\n",
    "    - kw = 3\n",
    "    - fw = 4\n",
    "    - lw = 3\n",
    "    - v = (tweet=1, retweet=0.85)\n",
    "\n",
    "**influencer_score** = kw \\* (k^2) / 10000 +\n",
    "                        v \\* fw \\* log(f) / 20 +\n",
    "                        v \\* lw \\* log(l) / 15\n",
    "\n",
    "\n",
    "### Alert type - Trends\n",
    "* Reach of tweets\n",
    "* segment: marketing (categories: range from 1 to 10) vs business(15% more important than Marketing)\n",
    "\n",
    "**trend_score** = reach + segment\n",
    "\n",
    "\n",
    "### Alert type - Popular Tweet\n",
    "* Engagement of tweet\n",
    "* Potential of engajamento\n",
    "\n",
    "**popular_score** = engagement + potential\n"
   ]
  },
  {
   "cell_type": "markdown",
   "metadata": {},
   "source": [
    "## Getting Data\n",
    "\n",
    "This section loads sample data for 2015-05-21 records of activities, rules and actors."
   ]
  },
  {
   "cell_type": "code",
   "execution_count": 5,
   "metadata": {
    "collapsed": true
   },
   "outputs": [],
   "source": [
    "import pandas as pd\n",
    "import numpy as np\n",
    "import math\n",
    "from datetime import datetime"
   ]
  },
  {
   "cell_type": "markdown",
   "metadata": {},
   "source": [
    "### Activities"
   ]
  },
  {
   "cell_type": "code",
   "execution_count": 6,
   "metadata": {
    "collapsed": true
   },
   "outputs": [],
   "source": [
    "activities_cols_names = [\"id\",\"body\", \"country\", \"country_code\", \"place_type\",\n",
    "                       \"sub_region\", \"actor_id\", \"source\", \"share_count\",\n",
    "                       \"in_reply_to_native_id\", \"created_at\", \"updated_at\",\n",
    "                       \"klout\", \"native_id\", \"verb\", \"latitude\", \"longitude\",\n",
    "                       \"sharing_activity_native_id\", \"region\", \"favorites_count\",\n",
    "                       \"replies_count\", \"in_reply_to_screen_name\", \"link\"]"
   ]
  },
  {
   "cell_type": "code",
   "execution_count": 8,
   "metadata": {
    "collapsed": true
   },
   "outputs": [],
   "source": [
    "activities_relevant_cols = [\"actor_id\", \"source\", \"share_count\",\n",
    "                           \"in_reply_to_native_id\", \"klout\", \"verb\", \"favorites_count\",\n",
    "                           \"replies_count\"]"
   ]
  },
  {
   "cell_type": "code",
   "execution_count": 11,
   "metadata": {
    "collapsed": false
   },
   "outputs": [],
   "source": [
    "activities = pd.read_csv('../../s3/2015-05-21-01-00-00-activities.csv', \n",
    "                         header=None, parse_dates=True,\n",
    "                         names=activities_cols_names, index_col=\"id\")"
   ]
  },
  {
   "cell_type": "code",
   "execution_count": 12,
   "metadata": {
    "collapsed": false
   },
   "outputs": [],
   "source": [
    "activities = activities[activities_relevant_cols] "
   ]
  },
  {
   "cell_type": "code",
   "execution_count": 112,
   "metadata": {
    "collapsed": false
   },
   "outputs": [
    {
     "data": {
      "text/html": [
       "<div style=\"max-height:1000px;max-width:1500px;overflow:auto;\">\n",
       "<table border=\"1\" class=\"dataframe\">\n",
       "  <thead>\n",
       "    <tr style=\"text-align: right;\">\n",
       "      <th></th>\n",
       "      <th>actor_id</th>\n",
       "      <th>source</th>\n",
       "      <th>share_count</th>\n",
       "      <th>in_reply_to_native_id</th>\n",
       "      <th>klout</th>\n",
       "      <th>verb</th>\n",
       "      <th>favorites_count</th>\n",
       "      <th>replies_count</th>\n",
       "    </tr>\n",
       "    <tr>\n",
       "      <th>id</th>\n",
       "      <th></th>\n",
       "      <th></th>\n",
       "      <th></th>\n",
       "      <th></th>\n",
       "      <th></th>\n",
       "      <th></th>\n",
       "      <th></th>\n",
       "      <th></th>\n",
       "    </tr>\n",
       "  </thead>\n",
       "  <tbody>\n",
       "    <tr>\n",
       "      <th>443640355408254904</th>\n",
       "      <td>2419819735</td>\n",
       "      <td>twitter</td>\n",
       "      <td>0</td>\n",
       "      <td>NaN</td>\n",
       "      <td>48</td>\n",
       "      <td>post</td>\n",
       "      <td>0</td>\n",
       "      <td>0</td>\n",
       "    </tr>\n",
       "    <tr>\n",
       "      <th>443640355408254905</th>\n",
       "      <td>2405587887</td>\n",
       "      <td>twitter</td>\n",
       "      <td>0</td>\n",
       "      <td>NaN</td>\n",
       "      <td>54</td>\n",
       "      <td>post</td>\n",
       "      <td>0</td>\n",
       "      <td>0</td>\n",
       "    </tr>\n",
       "    <tr>\n",
       "      <th>443640355408254907</th>\n",
       "      <td>2425857238</td>\n",
       "      <td>twitter</td>\n",
       "      <td>0</td>\n",
       "      <td>NaN</td>\n",
       "      <td>31</td>\n",
       "      <td>post</td>\n",
       "      <td>0</td>\n",
       "      <td>0</td>\n",
       "    </tr>\n",
       "    <tr>\n",
       "      <th>443640355408254908</th>\n",
       "      <td>2422152815</td>\n",
       "      <td>twitter</td>\n",
       "      <td>9</td>\n",
       "      <td>NaN</td>\n",
       "      <td>19</td>\n",
       "      <td>share</td>\n",
       "      <td>14</td>\n",
       "      <td>0</td>\n",
       "    </tr>\n",
       "    <tr>\n",
       "      <th>443640355408254909</th>\n",
       "      <td>2406991214</td>\n",
       "      <td>twitter</td>\n",
       "      <td>0</td>\n",
       "      <td>NaN</td>\n",
       "      <td>35</td>\n",
       "      <td>post</td>\n",
       "      <td>0</td>\n",
       "      <td>0</td>\n",
       "    </tr>\n",
       "  </tbody>\n",
       "</table>\n",
       "</div>"
      ],
      "text/plain": [
       "                      actor_id   source  share_count in_reply_to_native_id  \\\n",
       "id                                                                           \n",
       "443640355408254904  2419819735  twitter            0                   NaN   \n",
       "443640355408254905  2405587887  twitter            0                   NaN   \n",
       "443640355408254907  2425857238  twitter            0                   NaN   \n",
       "443640355408254908  2422152815  twitter            9                   NaN   \n",
       "443640355408254909  2406991214  twitter            0                   NaN   \n",
       "\n",
       "                    klout   verb  favorites_count replies_count  \n",
       "id                                                               \n",
       "443640355408254904     48   post                0             0  \n",
       "443640355408254905     54   post                0             0  \n",
       "443640355408254907     31   post                0             0  \n",
       "443640355408254908     19  share               14             0  \n",
       "443640355408254909     35   post                0             0  "
      ]
     },
     "execution_count": 112,
     "metadata": {},
     "output_type": "execute_result"
    }
   ],
   "source": [
    "activities.head()"
   ]
  },
  {
   "cell_type": "code",
   "execution_count": 14,
   "metadata": {
    "collapsed": false
   },
   "outputs": [
    {
     "data": {
      "text/html": [
       "<div style=\"max-height:1000px;max-width:1500px;overflow:auto;\">\n",
       "<table border=\"1\" class=\"dataframe\">\n",
       "  <thead>\n",
       "    <tr style=\"text-align: right;\">\n",
       "      <th></th>\n",
       "      <th>share_count</th>\n",
       "      <th>klout</th>\n",
       "      <th>favorites_count</th>\n",
       "    </tr>\n",
       "  </thead>\n",
       "  <tbody>\n",
       "    <tr>\n",
       "      <th>count</th>\n",
       "      <td>1.280768e+06</td>\n",
       "      <td>1.255925e+06</td>\n",
       "      <td>1280865.000000</td>\n",
       "    </tr>\n",
       "    <tr>\n",
       "      <th>mean</th>\n",
       "      <td>1.878510e+12</td>\n",
       "      <td>4.836412e+13</td>\n",
       "      <td>3338.222079</td>\n",
       "    </tr>\n",
       "    <tr>\n",
       "      <th>std</th>\n",
       "      <td>1.062963e+15</td>\n",
       "      <td>5.392960e+15</td>\n",
       "      <td>13146.340361</td>\n",
       "    </tr>\n",
       "    <tr>\n",
       "      <th>min</th>\n",
       "      <td>0.000000e+00</td>\n",
       "      <td>1.000000e+01</td>\n",
       "      <td>0.000000</td>\n",
       "    </tr>\n",
       "    <tr>\n",
       "      <th>25%</th>\n",
       "      <td>1.000000e+00</td>\n",
       "      <td>2.900000e+01</td>\n",
       "      <td>0.000000</td>\n",
       "    </tr>\n",
       "    <tr>\n",
       "      <th>50%</th>\n",
       "      <td>6.000000e+01</td>\n",
       "      <td>4.000000e+01</td>\n",
       "      <td>54.000000</td>\n",
       "    </tr>\n",
       "    <tr>\n",
       "      <th>75%</th>\n",
       "      <td>7.090000e+02</td>\n",
       "      <td>4.500000e+01</td>\n",
       "      <td>782.000000</td>\n",
       "    </tr>\n",
       "    <tr>\n",
       "      <th>max</th>\n",
       "      <td>6.015506e+17</td>\n",
       "      <td>6.015513e+17</td>\n",
       "      <td>462900.000000</td>\n",
       "    </tr>\n",
       "  </tbody>\n",
       "</table>\n",
       "</div>"
      ],
      "text/plain": [
       "        share_count         klout  favorites_count\n",
       "count  1.280768e+06  1.255925e+06   1280865.000000\n",
       "mean   1.878510e+12  4.836412e+13      3338.222079\n",
       "std    1.062963e+15  5.392960e+15     13146.340361\n",
       "min    0.000000e+00  1.000000e+01         0.000000\n",
       "25%    1.000000e+00  2.900000e+01         0.000000\n",
       "50%    6.000000e+01  4.000000e+01        54.000000\n",
       "75%    7.090000e+02  4.500000e+01       782.000000\n",
       "max    6.015506e+17  6.015513e+17    462900.000000"
      ]
     },
     "execution_count": 14,
     "metadata": {},
     "output_type": "execute_result"
    }
   ],
   "source": [
    "activities.describe()"
   ]
  },
  {
   "cell_type": "markdown",
   "metadata": {},
   "source": [
    "### Association Activities-Rules"
   ]
  },
  {
   "cell_type": "code",
   "execution_count": 15,
   "metadata": {
    "collapsed": true
   },
   "outputs": [],
   "source": [
    "activities_rules_cols_names = [\"id\", \"rule_id\", \"activity_id\", \"created_at\", \"updated_at\", \"ignored\"]"
   ]
  },
  {
   "cell_type": "code",
   "execution_count": 17,
   "metadata": {
    "collapsed": false
   },
   "outputs": [],
   "source": [
    "activities_rules = pd.read_csv('../../s3/2015-05-21-01-00-00-activities-rules.csv', \n",
    "                               parse_dates=True, names=activities_rules_cols_names, index_col=\"id\")"
   ]
  },
  {
   "cell_type": "code",
   "execution_count": 18,
   "metadata": {
    "collapsed": false
   },
   "outputs": [],
   "source": [
    "activities_rules_relevant_cols = [\"rule_id\", \"activity_id\", \"ignored\"]"
   ]
  },
  {
   "cell_type": "code",
   "execution_count": 19,
   "metadata": {
    "collapsed": true
   },
   "outputs": [],
   "source": [
    "activities_rules = activities_rules[activities_rules_relevant_cols]"
   ]
  },
  {
   "cell_type": "code",
   "execution_count": 20,
   "metadata": {
    "collapsed": false
   },
   "outputs": [
    {
     "data": {
      "text/html": [
       "<div style=\"max-height:1000px;max-width:1500px;overflow:auto;\">\n",
       "<table border=\"1\" class=\"dataframe\">\n",
       "  <thead>\n",
       "    <tr style=\"text-align: right;\">\n",
       "      <th></th>\n",
       "      <th>rule_id</th>\n",
       "      <th>activity_id</th>\n",
       "      <th>ignored</th>\n",
       "    </tr>\n",
       "    <tr>\n",
       "      <th>id</th>\n",
       "      <th></th>\n",
       "      <th></th>\n",
       "      <th></th>\n",
       "    </tr>\n",
       "  </thead>\n",
       "  <tbody>\n",
       "    <tr>\n",
       "      <th>108642970</th>\n",
       "      <td>5772</td>\n",
       "      <td>4.436404e+17</td>\n",
       "      <td>0</td>\n",
       "    </tr>\n",
       "    <tr>\n",
       "      <th>108642971</th>\n",
       "      <td>5052</td>\n",
       "      <td>4.436404e+17</td>\n",
       "      <td>0</td>\n",
       "    </tr>\n",
       "    <tr>\n",
       "      <th>108642972</th>\n",
       "      <td>5428</td>\n",
       "      <td>4.436404e+17</td>\n",
       "      <td>0</td>\n",
       "    </tr>\n",
       "    <tr>\n",
       "      <th>108642973</th>\n",
       "      <td>1506</td>\n",
       "      <td>4.436404e+17</td>\n",
       "      <td>0</td>\n",
       "    </tr>\n",
       "    <tr>\n",
       "      <th>108642974</th>\n",
       "      <td>5077</td>\n",
       "      <td>4.436404e+17</td>\n",
       "      <td>0</td>\n",
       "    </tr>\n",
       "  </tbody>\n",
       "</table>\n",
       "</div>"
      ],
      "text/plain": [
       "           rule_id   activity_id  ignored\n",
       "id                                       \n",
       "108642970     5772  4.436404e+17        0\n",
       "108642971     5052  4.436404e+17        0\n",
       "108642972     5428  4.436404e+17        0\n",
       "108642973     1506  4.436404e+17        0\n",
       "108642974     5077  4.436404e+17        0"
      ]
     },
     "execution_count": 20,
     "metadata": {},
     "output_type": "execute_result"
    }
   ],
   "source": [
    "activities_rules.head()"
   ]
  },
  {
   "cell_type": "markdown",
   "metadata": {},
   "source": [
    "### Rules"
   ]
  },
  {
   "cell_type": "code",
   "execution_count": 22,
   "metadata": {
    "collapsed": false
   },
   "outputs": [],
   "source": [
    "rules = pd.read_csv('../../s3/rule.csv', index_col=\"id\")"
   ]
  },
  {
   "cell_type": "code",
   "execution_count": 23,
   "metadata": {
    "collapsed": true
   },
   "outputs": [],
   "source": [
    "rules_relevant_cols = [\"business_id\",\"segment\",\"volume\", \"category\", \"source\", \"type\", \"direct\"]"
   ]
  },
  {
   "cell_type": "code",
   "execution_count": 24,
   "metadata": {
    "collapsed": false
   },
   "outputs": [],
   "source": [
    "rules = rules[rules_relevant_cols]"
   ]
  },
  {
   "cell_type": "code",
   "execution_count": 25,
   "metadata": {
    "collapsed": false
   },
   "outputs": [
    {
     "data": {
      "text/html": [
       "<div style=\"max-height:1000px;max-width:1500px;overflow:auto;\">\n",
       "<table border=\"1\" class=\"dataframe\">\n",
       "  <thead>\n",
       "    <tr style=\"text-align: right;\">\n",
       "      <th></th>\n",
       "      <th>business_id</th>\n",
       "      <th>segment</th>\n",
       "      <th>volume</th>\n",
       "      <th>category</th>\n",
       "      <th>source</th>\n",
       "      <th>type</th>\n",
       "      <th>direct</th>\n",
       "    </tr>\n",
       "    <tr>\n",
       "      <th>id</th>\n",
       "      <th></th>\n",
       "      <th></th>\n",
       "      <th></th>\n",
       "      <th></th>\n",
       "      <th></th>\n",
       "      <th></th>\n",
       "      <th></th>\n",
       "    </tr>\n",
       "  </thead>\n",
       "  <tbody>\n",
       "    <tr>\n",
       "      <th>1</th>\n",
       "      <td>144</td>\n",
       "      <td>1</td>\n",
       "      <td>0</td>\n",
       "      <td>2</td>\n",
       "      <td>twitter</td>\n",
       "      <td>TwitterRule</td>\n",
       "      <td>False</td>\n",
       "    </tr>\n",
       "    <tr>\n",
       "      <th>2</th>\n",
       "      <td>144</td>\n",
       "      <td>1</td>\n",
       "      <td>0</td>\n",
       "      <td>2</td>\n",
       "      <td>twitter</td>\n",
       "      <td>TwitterRule</td>\n",
       "      <td>False</td>\n",
       "    </tr>\n",
       "    <tr>\n",
       "      <th>3</th>\n",
       "      <td>144</td>\n",
       "      <td>1</td>\n",
       "      <td>0</td>\n",
       "      <td>2</td>\n",
       "      <td>twitter</td>\n",
       "      <td>TwitterRule</td>\n",
       "      <td>False</td>\n",
       "    </tr>\n",
       "    <tr>\n",
       "      <th>4</th>\n",
       "      <td>144</td>\n",
       "      <td>1</td>\n",
       "      <td>0</td>\n",
       "      <td>2</td>\n",
       "      <td>twitter</td>\n",
       "      <td>TwitterRule</td>\n",
       "      <td>False</td>\n",
       "    </tr>\n",
       "    <tr>\n",
       "      <th>5</th>\n",
       "      <td>144</td>\n",
       "      <td>1</td>\n",
       "      <td>0</td>\n",
       "      <td>2</td>\n",
       "      <td>twitter</td>\n",
       "      <td>TwitterRule</td>\n",
       "      <td>False</td>\n",
       "    </tr>\n",
       "  </tbody>\n",
       "</table>\n",
       "</div>"
      ],
      "text/plain": [
       "    business_id  segment  volume  category   source         type direct\n",
       "id                                                                     \n",
       "1           144        1       0         2  twitter  TwitterRule  False\n",
       "2           144        1       0         2  twitter  TwitterRule  False\n",
       "3           144        1       0         2  twitter  TwitterRule  False\n",
       "4           144        1       0         2  twitter  TwitterRule  False\n",
       "5           144        1       0         2  twitter  TwitterRule  False"
      ]
     },
     "execution_count": 25,
     "metadata": {},
     "output_type": "execute_result"
    }
   ],
   "source": [
    "rules.head()"
   ]
  },
  {
   "cell_type": "code",
   "execution_count": 26,
   "metadata": {
    "collapsed": false,
    "scrolled": true
   },
   "outputs": [
    {
     "data": {
      "text/html": [
       "<div style=\"max-height:1000px;max-width:1500px;overflow:auto;\">\n",
       "<table border=\"1\" class=\"dataframe\">\n",
       "  <thead>\n",
       "    <tr style=\"text-align: right;\">\n",
       "      <th></th>\n",
       "      <th>business_id</th>\n",
       "      <th>segment</th>\n",
       "      <th>volume</th>\n",
       "      <th>category</th>\n",
       "      <th>direct</th>\n",
       "    </tr>\n",
       "  </thead>\n",
       "  <tbody>\n",
       "    <tr>\n",
       "      <th>count</th>\n",
       "      <td>4786.000000</td>\n",
       "      <td>4786.000000</td>\n",
       "      <td>4.464000e+03</td>\n",
       "      <td>4786.000000</td>\n",
       "      <td>4786</td>\n",
       "    </tr>\n",
       "    <tr>\n",
       "      <th>mean</th>\n",
       "      <td>314.314668</td>\n",
       "      <td>0.376097</td>\n",
       "      <td>2.326812e+05</td>\n",
       "      <td>3.243627</td>\n",
       "      <td>0.0215211</td>\n",
       "    </tr>\n",
       "    <tr>\n",
       "      <th>std</th>\n",
       "      <td>125.258811</td>\n",
       "      <td>0.484455</td>\n",
       "      <td>8.564815e+06</td>\n",
       "      <td>1.819087</td>\n",
       "      <td>0.1451287</td>\n",
       "    </tr>\n",
       "    <tr>\n",
       "      <th>min</th>\n",
       "      <td>1.000000</td>\n",
       "      <td>0.000000</td>\n",
       "      <td>0.000000e+00</td>\n",
       "      <td>0.000000</td>\n",
       "      <td>False</td>\n",
       "    </tr>\n",
       "    <tr>\n",
       "      <th>25%</th>\n",
       "      <td>262.000000</td>\n",
       "      <td>0.000000</td>\n",
       "      <td>1.600000e+01</td>\n",
       "      <td>2.000000</td>\n",
       "      <td>0</td>\n",
       "    </tr>\n",
       "    <tr>\n",
       "      <th>50%</th>\n",
       "      <td>354.000000</td>\n",
       "      <td>0.000000</td>\n",
       "      <td>2.970000e+02</td>\n",
       "      <td>3.000000</td>\n",
       "      <td>0</td>\n",
       "    </tr>\n",
       "    <tr>\n",
       "      <th>75%</th>\n",
       "      <td>412.000000</td>\n",
       "      <td>1.000000</td>\n",
       "      <td>3.140250e+03</td>\n",
       "      <td>5.000000</td>\n",
       "      <td>0</td>\n",
       "    </tr>\n",
       "    <tr>\n",
       "      <th>max</th>\n",
       "      <td>460.000000</td>\n",
       "      <td>1.000000</td>\n",
       "      <td>4.750714e+08</td>\n",
       "      <td>6.000000</td>\n",
       "      <td>True</td>\n",
       "    </tr>\n",
       "  </tbody>\n",
       "</table>\n",
       "</div>"
      ],
      "text/plain": [
       "       business_id      segment        volume     category     direct\n",
       "count  4786.000000  4786.000000  4.464000e+03  4786.000000       4786\n",
       "mean    314.314668     0.376097  2.326812e+05     3.243627  0.0215211\n",
       "std     125.258811     0.484455  8.564815e+06     1.819087  0.1451287\n",
       "min       1.000000     0.000000  0.000000e+00     0.000000      False\n",
       "25%     262.000000     0.000000  1.600000e+01     2.000000          0\n",
       "50%     354.000000     0.000000  2.970000e+02     3.000000          0\n",
       "75%     412.000000     1.000000  3.140250e+03     5.000000          0\n",
       "max     460.000000     1.000000  4.750714e+08     6.000000       True"
      ]
     },
     "execution_count": 26,
     "metadata": {},
     "output_type": "execute_result"
    }
   ],
   "source": [
    "rules.describe()"
   ]
  },
  {
   "cell_type": "markdown",
   "metadata": {},
   "source": [
    "### Actors"
   ]
  },
  {
   "cell_type": "code",
   "execution_count": 189,
   "metadata": {
    "collapsed": false
   },
   "outputs": [],
   "source": [
    "actors = pd.read_csv('../../s3/actors.csv', index_col=\"id\")"
   ]
  },
  {
   "cell_type": "code",
   "execution_count": 119,
   "metadata": {
    "collapsed": false
   },
   "outputs": [
    {
     "data": {
      "text/html": [
       "<div style=\"max-height:1000px;max-width:1500px;overflow:auto;\">\n",
       "<table border=\"1\" class=\"dataframe\">\n",
       "  <thead>\n",
       "    <tr style=\"text-align: right;\">\n",
       "      <th></th>\n",
       "      <th>lang</th>\n",
       "      <th>favourites_count</th>\n",
       "      <th>statuses_count</th>\n",
       "      <th>friends_count</th>\n",
       "      <th>followers_count</th>\n",
       "      <th>listed_count</th>\n",
       "    </tr>\n",
       "    <tr>\n",
       "      <th>id</th>\n",
       "      <th></th>\n",
       "      <th></th>\n",
       "      <th></th>\n",
       "      <th></th>\n",
       "      <th></th>\n",
       "      <th></th>\n",
       "    </tr>\n",
       "  </thead>\n",
       "  <tbody>\n",
       "    <tr>\n",
       "      <th>2419819735</th>\n",
       "      <td>en</td>\n",
       "      <td>NaN</td>\n",
       "      <td>16139</td>\n",
       "      <td>761</td>\n",
       "      <td>1065</td>\n",
       "      <td>71</td>\n",
       "    </tr>\n",
       "    <tr>\n",
       "      <th>2405587887</th>\n",
       "      <td>en</td>\n",
       "      <td>NaN</td>\n",
       "      <td>3043</td>\n",
       "      <td>1368</td>\n",
       "      <td>140</td>\n",
       "      <td>5</td>\n",
       "    </tr>\n",
       "    <tr>\n",
       "      <th>2425857238</th>\n",
       "      <td>en</td>\n",
       "      <td>NaN</td>\n",
       "      <td>15668</td>\n",
       "      <td>7</td>\n",
       "      <td>545</td>\n",
       "      <td>12</td>\n",
       "    </tr>\n",
       "    <tr>\n",
       "      <th>2422152815</th>\n",
       "      <td>en</td>\n",
       "      <td>NaN</td>\n",
       "      <td>171</td>\n",
       "      <td>57</td>\n",
       "      <td>30</td>\n",
       "      <td>0</td>\n",
       "    </tr>\n",
       "    <tr>\n",
       "      <th>2406991214</th>\n",
       "      <td>en</td>\n",
       "      <td>NaN</td>\n",
       "      <td>1341</td>\n",
       "      <td>306</td>\n",
       "      <td>190</td>\n",
       "      <td>7</td>\n",
       "    </tr>\n",
       "  </tbody>\n",
       "</table>\n",
       "</div>"
      ],
      "text/plain": [
       "           lang  favourites_count  statuses_count  friends_count  \\\n",
       "id                                                                 \n",
       "2419819735   en               NaN           16139            761   \n",
       "2405587887   en               NaN            3043           1368   \n",
       "2425857238   en               NaN           15668              7   \n",
       "2422152815   en               NaN             171             57   \n",
       "2406991214   en               NaN            1341            306   \n",
       "\n",
       "            followers_count  listed_count  \n",
       "id                                         \n",
       "2419819735             1065            71  \n",
       "2405587887              140             5  \n",
       "2425857238              545            12  \n",
       "2422152815               30             0  \n",
       "2406991214              190             7  "
      ]
     },
     "execution_count": 119,
     "metadata": {},
     "output_type": "execute_result"
    }
   ],
   "source": [
    "actors.head()"
   ]
  },
  {
   "cell_type": "code",
   "execution_count": 82,
   "metadata": {
    "collapsed": false
   },
   "outputs": [
    {
     "data": {
      "text/html": [
       "<div style=\"max-height:1000px;max-width:1500px;overflow:auto;\">\n",
       "<table border=\"1\" class=\"dataframe\">\n",
       "  <thead>\n",
       "    <tr style=\"text-align: right;\">\n",
       "      <th></th>\n",
       "      <th>favourites_count</th>\n",
       "      <th>statuses_count</th>\n",
       "      <th>friends_count</th>\n",
       "      <th>followers_count</th>\n",
       "      <th>listed_count</th>\n",
       "    </tr>\n",
       "  </thead>\n",
       "  <tbody>\n",
       "    <tr>\n",
       "      <th>count</th>\n",
       "      <td>146204.000000</td>\n",
       "      <td>1278952.000000</td>\n",
       "      <td>1278953.000000</td>\n",
       "      <td>1278953.000000</td>\n",
       "      <td>1278650.000000</td>\n",
       "    </tr>\n",
       "    <tr>\n",
       "      <th>mean</th>\n",
       "      <td>2288.747558</td>\n",
       "      <td>29485.832285</td>\n",
       "      <td>1787.903539</td>\n",
       "      <td>17574.086707</td>\n",
       "      <td>147.851316</td>\n",
       "    </tr>\n",
       "    <tr>\n",
       "      <th>std</th>\n",
       "      <td>8553.651691</td>\n",
       "      <td>63277.951238</td>\n",
       "      <td>11217.130245</td>\n",
       "      <td>358911.933053</td>\n",
       "      <td>2558.850142</td>\n",
       "    </tr>\n",
       "    <tr>\n",
       "      <th>min</th>\n",
       "      <td>0.000000</td>\n",
       "      <td>0.000000</td>\n",
       "      <td>-438.000000</td>\n",
       "      <td>0.000000</td>\n",
       "      <td>0.000000</td>\n",
       "    </tr>\n",
       "    <tr>\n",
       "      <th>25%</th>\n",
       "      <td>15.000000</td>\n",
       "      <td>2208.000000</td>\n",
       "      <td>170.000000</td>\n",
       "      <td>157.000000</td>\n",
       "      <td>1.000000</td>\n",
       "    </tr>\n",
       "    <tr>\n",
       "      <th>50%</th>\n",
       "      <td>225.000000</td>\n",
       "      <td>9225.500000</td>\n",
       "      <td>396.000000</td>\n",
       "      <td>426.000000</td>\n",
       "      <td>3.000000</td>\n",
       "    </tr>\n",
       "    <tr>\n",
       "      <th>75%</th>\n",
       "      <td>1488.000000</td>\n",
       "      <td>29864.000000</td>\n",
       "      <td>1012.000000</td>\n",
       "      <td>1242.000000</td>\n",
       "      <td>14.000000</td>\n",
       "    </tr>\n",
       "    <tr>\n",
       "      <th>max</th>\n",
       "      <td>492244.000000</td>\n",
       "      <td>2051862.000000</td>\n",
       "      <td>1593447.000000</td>\n",
       "      <td>64199466.000000</td>\n",
       "      <td>821163.000000</td>\n",
       "    </tr>\n",
       "  </tbody>\n",
       "</table>\n",
       "</div>"
      ],
      "text/plain": [
       "       favourites_count  statuses_count   friends_count  followers_count  \\\n",
       "count     146204.000000  1278952.000000  1278953.000000   1278953.000000   \n",
       "mean        2288.747558    29485.832285     1787.903539     17574.086707   \n",
       "std         8553.651691    63277.951238    11217.130245    358911.933053   \n",
       "min            0.000000        0.000000     -438.000000         0.000000   \n",
       "25%           15.000000     2208.000000      170.000000       157.000000   \n",
       "50%          225.000000     9225.500000      396.000000       426.000000   \n",
       "75%         1488.000000    29864.000000     1012.000000      1242.000000   \n",
       "max       492244.000000  2051862.000000  1593447.000000  64199466.000000   \n",
       "\n",
       "         listed_count  \n",
       "count  1278650.000000  \n",
       "mean       147.851316  \n",
       "std       2558.850142  \n",
       "min          0.000000  \n",
       "25%          1.000000  \n",
       "50%          3.000000  \n",
       "75%         14.000000  \n",
       "max     821163.000000  "
      ]
     },
     "execution_count": 82,
     "metadata": {},
     "output_type": "execute_result"
    }
   ],
   "source": [
    "actors.describe()"
   ]
  },
  {
   "cell_type": "markdown",
   "metadata": {},
   "source": [
    "## Computing score\n",
    "\n",
    "This section implements the functions for computing the scores and generates the scores for subsequent validation."
   ]
  },
  {
   "cell_type": "markdown",
   "metadata": {},
   "source": [
    "### Alert type - Influencer"
   ]
  },
  {
   "cell_type": "code",
   "execution_count": 211,
   "metadata": {
    "collapsed": false
   },
   "outputs": [],
   "source": [
    "def generate_influencer_score(activity_id, k=None, f=None, l=None, verb=None):\n",
    "    kw = 3\n",
    "    fw = 4\n",
    "    lw = 3\n",
    "    \n",
    "    if activity_id is not None:\n",
    "        activity = activities.loc[str(activity_id)]\n",
    "        actor = actors.loc[int(activity.actor_id)]\n",
    "    \n",
    "    if verb is None:\n",
    "        verb = activity.verb\n",
    "    \n",
    "    if k is None: k = float(activity.klout)\n",
    "    if f is None: f = float(actor.followers_count + 1.0)\n",
    "    if l is None: l = float(actor.listed_count + 1.0)\n",
    "    \n",
    "    v = 1.0 if verb==\"post\" else 0.8\n",
    "    \n",
    "    return kw * (k ** 2) / 10000 + \\\n",
    "            v * fw * math.log(f) / 20 + \\\n",
    "            v * lw * math.log(l) / 15"
   ]
  },
  {
   "cell_type": "code",
   "execution_count": 209,
   "metadata": {
    "collapsed": false
   },
   "outputs": [
    {
     "name": "stdout",
     "output_type": "stream",
     "text": [
      "Generated score for activity 443640355408254904: 2.94086694475\n",
      "Generated score for activity 443640355408254905: 2.22290387192\n",
      "Generated score for activity 443640355408254907: 2.06181366664\n",
      "Generated score for activity 443640355408254908: 0.657737952718\n",
      "Generated score for activity 443640355408254909: 1.83384299395\n",
      "Generated score for activity 443640355408254910: 1.2453809881\n",
      "Generated score for activity 443640355408254912: 2.81284157266\n",
      "Generated score for activity 443640355408254913: 0.724298843186\n",
      "Generated score for activity 443640355408254914: 3.06949359829\n",
      "Generated score for activity 443640355408254916: 2.35859939049\n",
      "Generated score for activity 443640355408254917: 0.980105195945\n",
      "Generated score for activity 443640355408254920: 2.57045500031\n",
      "Generated score for activity 443640355408254922: 1.43877247026\n",
      "Generated score for activity 443640355408254923: 1.87936467721\n",
      "Generated score for activity 443640355408254926: nan\n",
      "Generated score for activity 443640355408254927: 4.78063858473\n",
      "Generated score for activity 443640355408254928: 1.3797305797\n",
      "Generated score for activity 443640355408254934: 5.79988589281\n",
      "Generated score for activity 443640355408254915: 4.26964159838\n",
      "Generated score for activity 443640355408254918: 0.705688202854\n",
      "Generated score for activity 443640355408254919: 3.90228413128\n",
      "Generated score for activity 443640355408254921: 3.7151825652\n",
      "Generated score for activity 443640355408254924: 2.18928206627\n",
      "Generated score for activity 443640355408254925: 1.49139101367\n",
      "Generated score for activity 443640355408254929: 1.55756691719\n",
      "Generated score for activity 443640355408254930: 4.05624825869\n",
      "Generated score for activity 443640355408254931: 1.42363179618\n",
      "Generated score for activity 443640355408254932: 1.78662620435\n",
      "Generated score for activity 443640355408254933: nan\n",
      "Generated score for activity 443640355408254935: 1.23530063756\n"
     ]
    }
   ],
   "source": [
    "for index, row in activities.head(30).iterrows():\n",
    "    print \"Generated score for activity {0}: {1}\".format(index,generate_influencer_score(index))"
   ]
  },
  {
   "cell_type": "markdown",
   "metadata": {},
   "source": [
    "Now testing with predefined values for evaluating limits:"
   ]
  },
  {
   "cell_type": "code",
   "execution_count": 222,
   "metadata": {
    "collapsed": false
   },
   "outputs": [
    {
     "data": {
      "text/plain": [
       "9.091013425356968"
      ]
     },
     "execution_count": 222,
     "metadata": {},
     "output_type": "execute_result"
    }
   ],
   "source": [
    "generate_influencer_score(activity_id=None, k=99, f=50000000, l=50000000, verb='post')"
   ]
  },
  {
   "cell_type": "code",
   "execution_count": 223,
   "metadata": {
    "collapsed": false
   },
   "outputs": [
    {
     "data": {
      "text/plain": [
       "9.091013425356968"
      ]
     },
     "execution_count": 223,
     "metadata": {},
     "output_type": "execute_result"
    }
   ],
   "source": [
    "generate_influencer_score(activity_id=None, k=90, f=50000000, l=50000000, verb='post')"
   ]
  },
  {
   "cell_type": "code",
   "execution_count": 224,
   "metadata": {
    "collapsed": false
   },
   "outputs": [
    {
     "data": {
      "text/plain": [
       "7.672810740285575"
      ]
     },
     "execution_count": 224,
     "metadata": {},
     "output_type": "execute_result"
    }
   ],
   "source": [
    "generate_influencer_score(activity_id=None, k=99, f=50000000, l=50000000, verb='share')"
   ]
  },
  {
   "cell_type": "code",
   "execution_count": 225,
   "metadata": {
    "collapsed": false
   },
   "outputs": [
    {
     "data": {
      "text/plain": [
       "7.672810740285575"
      ]
     },
     "execution_count": 225,
     "metadata": {},
     "output_type": "execute_result"
    }
   ],
   "source": [
    "generate_influencer_score(activity_id=None, k=90, f=50000000, l=50000000, verb='share')"
   ]
  },
  {
   "cell_type": "code",
   "execution_count": 226,
   "metadata": {
    "collapsed": false
   },
   "outputs": [
    {
     "data": {
      "text/plain": [
       "7.16997938815935"
      ]
     },
     "execution_count": 226,
     "metadata": {},
     "output_type": "execute_result"
    }
   ],
   "source": [
    "generate_influencer_score(activity_id=None, k=70, f=5000000, l=5000000, verb='post')"
   ]
  },
  {
   "cell_type": "code",
   "execution_count": 227,
   "metadata": {
    "collapsed": false
   },
   "outputs": [
    {
     "data": {
      "text/plain": [
       "5.93598351052748"
      ]
     },
     "execution_count": 227,
     "metadata": {},
     "output_type": "execute_result"
    }
   ],
   "source": [
    "generate_influencer_score(activity_id=None, k=70, f=5000000, l=5000000, verb='share')"
   ]
  },
  {
   "cell_type": "code",
   "execution_count": 228,
   "metadata": {
    "collapsed": false
   },
   "outputs": [
    {
     "data": {
      "text/plain": [
       "6.16997938815935"
      ]
     },
     "execution_count": 228,
     "metadata": {},
     "output_type": "execute_result"
    }
   ],
   "source": [
    "generate_influencer_score(activity_id=None, k=50, f=5000000, l=5000000, verb='post')"
   ]
  },
  {
   "cell_type": "code",
   "execution_count": 229,
   "metadata": {
    "collapsed": false
   },
   "outputs": [
    {
     "data": {
      "text/plain": [
       "4.93598351052748"
      ]
     },
     "execution_count": 229,
     "metadata": {},
     "output_type": "execute_result"
    }
   ],
   "source": [
    "generate_influencer_score(activity_id=None, k=50, f=5000000, l=5000000, verb='share')"
   ]
  },
  {
   "cell_type": "code",
   "execution_count": 230,
   "metadata": {
    "collapsed": false
   },
   "outputs": [
    {
     "data": {
      "text/plain": [
       "5.52620422318571"
      ]
     },
     "execution_count": 230,
     "metadata": {},
     "output_type": "execute_result"
    }
   ],
   "source": [
    "generate_influencer_score(activity_id=None, k=50, f=1000000, l=1000000, verb='post')"
   ]
  },
  {
   "cell_type": "code",
   "execution_count": 231,
   "metadata": {
    "collapsed": false
   },
   "outputs": [
    {
     "data": {
      "text/plain": [
       "4.420963378548568"
      ]
     },
     "execution_count": 231,
     "metadata": {},
     "output_type": "execute_result"
    }
   ],
   "source": [
    "generate_influencer_score(activity_id=None, k=50, f=1000000, l=1000000, verb='share')"
   ]
  },
  {
   "cell_type": "code",
   "execution_count": null,
   "metadata": {
    "collapsed": true
   },
   "outputs": [],
   "source": []
  }
 ],
 "metadata": {
  "kernelspec": {
   "display_name": "Python 2",
   "language": "python",
   "name": "python2"
  },
  "language_info": {
   "codemirror_mode": {
    "name": "ipython",
    "version": 2
   },
   "file_extension": ".py",
   "mimetype": "text/x-python",
   "name": "python",
   "nbconvert_exporter": "python",
   "pygments_lexer": "ipython2",
   "version": "2.7.6"
  }
 },
 "nbformat": 4,
 "nbformat_minor": 0
}
