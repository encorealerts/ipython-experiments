{
 "cells": [
  {
   "cell_type": "markdown",
   "metadata": {},
   "source": [
    "# What to search for"
   ]
  },
  {
   "cell_type": "markdown",
   "metadata": {},
   "source": [
    "* Activities from followers of active businesses\n",
    "* Activities' Hashtags and URLs\n",
    "* Activities with recently highest share_count or replies_count or favorites_count (according to source)"
   ]
  },
  {
   "cell_type": "markdown",
   "metadata": {},
   "source": [
    "# Current statistics on Production (real data)"
   ]
  },
  {
   "cell_type": "markdown",
   "metadata": {},
   "source": [
    "### General"
   ]
  },
  {
   "cell_type": "markdown",
   "metadata": {},
   "source": [
    "* 87 active businesses\n",
    "* 157 handles from active businesses\n",
    "* **118 Twitter** handles from active businesses\n",
    "* **39 Instagram** handles from active businesses"
   ]
  },
  {
   "cell_type": "markdown",
   "metadata": {},
   "source": [
    "# Twitter"
   ]
  },
  {
   "cell_type": "markdown",
   "metadata": {},
   "source": [
    "### Analyzing the distribution of followers count for Twitter"
   ]
  },
  {
   "cell_type": "markdown",
   "metadata": {},
   "source": [
    "* 24809421 total Twitter followers from active businesses\n",
    "\n",
    "* 210249 average Twitter followers from active businesses\n",
    "\n",
    "* 2582 1st quartile Twitter followers from active businesses\n",
    "* 12264 2nd quartile Twitter followers from active businesses\n",
    "* 70974 3rd quartile Twitter followers from active businesses\n",
    "* 12741830 maximum Twitter followers from active businesses"
   ]
  },
  {
   "cell_type": "markdown",
   "metadata": {},
   "source": [
    "### Required requests for Twitter API\n",
    "\n",
    "    - https://dev.twitter.com/rest/public\n",
    "    - https://dev.twitter.com/rest/public/rate-limits"
   ]
  },
  {
   "cell_type": "markdown",
   "metadata": {},
   "source": [
    "* To obtain followers' ids. Results are given in groups of 5,000 user IDs.\n",
    "    * **Reference:** https://dev.twitter.com/rest/reference/get/followers/ids\n",
    "    * **Rate limit:** 15 requests / 15-min window (user auth or app auth)\n",
    "    * GET http://api.twitter.com/1.1/followers/ids.json?screen_name={business_handle}\n",
    "* To obtain 3.200 more recent tweets from each follower\n",
    "    * **Reference:** https://dev.twitter.com/rest/reference/get/statuses/user_timeline\n",
    "    * **Rate limit:** 180 requests (user auth) or 300 requests (app auth) / 15-min window\n",
    "    * GET http://api.twitter.com/1.1/statuses/user_timeline.json?user_id={follower_ID}"
   ]
  },
  {
   "cell_type": "markdown",
   "metadata": {},
   "source": [
    "# Instagram"
   ]
  },
  {
   "cell_type": "markdown",
   "metadata": {},
   "source": [
    "### Analyzing the distribution of followers count for Instagram"
   ]
  },
  {
   "cell_type": "markdown",
   "metadata": {},
   "source": [
    "* 1768969 total Instagram followers from active businesses\n",
    "\n",
    "* 60998 average Instagram followers from active businesses\n",
    "\n",
    "* 10027 1st quartile Instagram followers from active businesses\n",
    "* 31549 2nd quartile Instagram followers from active businesses\n",
    "* 109050 3rd quartile Instagram followers from active businesses\n",
    "* 424938 maximum Instagram followers from active businesses"
   ]
  },
  {
   "cell_type": "markdown",
   "metadata": {},
   "source": [
    "### Required requests for Twitter API\n",
    "\n",
    "    - https://instagram.com/developer\n",
    "    - https://instagram.com/developer/limits/"
   ]
  },
  {
   "cell_type": "markdown",
   "metadata": {},
   "source": [
    "* To obtain followers' ids\n",
    "    * **Reference:** https://instagram.com/developer/endpoints/relationships/#get_users_followed_by\n",
    "    * **Rate limit:** 60/hour\n",
    "    * GET https://api.instagram.com/v1/users/{user-id}/followed-by?access_token=ACCESS-TOKEN\n",
    "* To obtain N more recent activities from each follower\n",
    "    * **Reference:** https://instagram.com/developer/endpoints/users/#get_users_media_recent\n",
    "    * **Rate limit:** 100/hour\n",
    "    * GET https://api.instagram.com/v1/users/{user-id}/media/recent/?access_token=ACCESS-TOKEN\n",
    "* To obtain more recent likes from each follower\n",
    "    * **Reference:** https://instagram.com/developer/endpoints/users/#get_users_feed_liked\n",
    "    * **Rate limit:** 100/hour\n",
    "    * GET https://api.instagram.com/v1/users/self/media/liked?access_token=ACCESS-TOKEN"
   ]
  }
 ],
 "metadata": {
  "kernelspec": {
   "display_name": "Python 2",
   "language": "python",
   "name": "python2"
  },
  "language_info": {
   "codemirror_mode": {
    "name": "ipython",
    "version": 2
   },
   "file_extension": ".py",
   "mimetype": "text/x-python",
   "name": "python",
   "nbconvert_exporter": "python",
   "pygments_lexer": "ipython2",
   "version": "2.7.10"
  }
 },
 "nbformat": 4,
 "nbformat_minor": 0
}
