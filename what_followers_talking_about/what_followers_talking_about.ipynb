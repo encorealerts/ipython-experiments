{
 "cells": [
  {
   "cell_type": "markdown",
   "metadata": {},
   "source": [
    "# 1) Objective"
   ]
  },
  {
   "cell_type": "markdown",
   "metadata": {},
   "source": [
    "A new alert with the most popular hashtags/URLs from business' followers in a recent timeframe"
   ]
  },
  {
   "cell_type": "markdown",
   "metadata": {},
   "source": [
    "# 2) Current statistics on Production (real data)"
   ]
  },
  {
   "cell_type": "markdown",
   "metadata": {},
   "source": [
    "### General"
   ]
  },
  {
   "cell_type": "markdown",
   "metadata": {},
   "source": [
    "* 87 active businesses\n",
    "* 157 handles from active businesses\n",
    "* **118 Twitter** handles from active businesses\n",
    "* **39 Instagram** handles from active businesses"
   ]
  },
  {
   "cell_type": "markdown",
   "metadata": {},
   "source": [
    "# 3) Twitter"
   ]
  },
  {
   "cell_type": "markdown",
   "metadata": {},
   "source": [
    "## 3.1) Analyzing the distribution of followers count for Twitter"
   ]
  },
  {
   "cell_type": "markdown",
   "metadata": {},
   "source": [
    "* 24809421 total Twitter followers from active businesses\n",
    "\n",
    "* 210249 average Twitter followers from active businesses\n",
    "\n",
    "* 2582 1st quartile Twitter followers from active businesses (25% have 2582 or less followers)\n",
    "* 12264 2nd quartile Twitter followers from active businesses (50% have 12264 or less followers)\n",
    "* 70974 3rd quartile Twitter followers from active businesses (75% have 70974 or less followers)\n",
    "* 12741830 maximum Twitter followers from active businesses"
   ]
  },
  {
   "cell_type": "markdown",
   "metadata": {},
   "source": [
    "## 3.2) Required requests for Twitter API\n",
    "\n",
    "    - https://dev.twitter.com/rest/public\n",
    "    - https://dev.twitter.com/rest/public/rate-limits"
   ]
  },
  {
   "cell_type": "markdown",
   "metadata": {},
   "source": [
    "* To obtain followers' ids. Results are given in groups of 5,000 user IDs.\n",
    "    * **Reference:** https://dev.twitter.com/rest/reference/get/followers/ids\n",
    "    * **Rate limit:** 15 requests / 15-min window (user auth or app auth)\n",
    "    * GET http://api.twitter.com/1.1/followers/ids.json?screen_name={business_handle}\n",
    "* To obtain 3.200 more recent tweets from each follower\n",
    "    * **Reference:** https://dev.twitter.com/rest/reference/get/statuses/user_timeline\n",
    "    * **Rate limit:** 180 requests (user auth) or 300 requests (app auth) / 15-min window\n",
    "    * GET http://api.twitter.com/1.1/statuses/user_timeline.json?user_id={follower_ID}\n",
    "* To create lists\n",
    "    * **Reference:** https://dev.twitter.com/rest/reference/post/lists/subscribers/create\n",
    "    * POST https://api.twitter.com/1.1/lists/subscribers/create.json\n",
    "* To read tweets from lists:\n",
    "    * **Reference:** https://dev.twitter.com/rest/reference/get/lists/statuses\n",
    "    * **Rate limit:** 180 requests / 15-min window (user auth or app auth)\n",
    "    * GET https://api.twitter.com/1.1/lists/statuses.json"
   ]
  },
  {
   "cell_type": "markdown",
   "metadata": {},
   "source": [
    "## 3.3) Strategy \n",
    "\n",
    "### Loading followers on Twitter \n",
    "\n",
    "* The application already loads the followers ids from actors, but it is still dependent on the existence of configuration for InfluentialFollower. A first step would be to turn these two mecanisms independent from each other, since the followers will be also needed for the new feature of \"what followers are talking about\"\n",
    "* Another mecanism must be created to load the followers since the oldest ones and store all followers of our active businesses using the Twitter API as described previously.\n",
    "* With all followers in our database, the next step is to find a statistically significant sample of followers for each actor of each active business and store it in a new Twitter list (which may be associated to our account or the account of the business). The maximum number of lists is 1000 which is a much greater limit above the 118 Twitter handles of our current active businesses. In order to prevent this limit of being exceeded in the future, it could be reasonable to creat the lists on clients' accounts.\n",
    "\n",
    "### Loading tweets from followers through Rules (*primary alternative*)\n",
    "\n",
    "* Create mechanism for allowing the creation of rules for \"followers\", so that not only the current logic of Trending Hashtags/URLs can be applied over it but all other existent alerts. \n",
    "\n",
    "### Manually loading tweets from followers (*secondary alternative*)\n",
    "\n",
    "* With the lists configured, read tweets from each list using the API as previously described. Twitter API's rate limit for this operation allows us to load all lists of all actors (118) of all current active businesses.\n",
    "\n",
    "#### Approach for scoring popularity for manually loaded tweets\n",
    "\n",
    "* **First:** Simple TF (Term-Frequency) calculation for Hashtags and URLs.\n",
    "* **Second:** Based on the obtained data and quantities, define a threshold T such that if TF/n_followers > T then the Hashtag/URL is considered *what followers are talking about*. Consider the attribute \"created_at\" in order to discard old \"popular\" hashtags/URLs. Define a timeframe threshold too.\n",
    "* **Third:** Both thresholds of **second** topic can be defined with a default value a configurable through a new FollowersTalkingAboutConfiguration on Admin.\n"
   ]
  },
  {
   "cell_type": "markdown",
   "metadata": {},
   "source": [
    "# 4) Instagram"
   ]
  },
  {
   "cell_type": "markdown",
   "metadata": {},
   "source": [
    "*AT LEAST FOR NOW, INSTAGRAM WILL NOT BE CONSIDERED. ALTHOUGH THE ANALYSIS BELOW PROVIDES AN OVERVIEW OF ITS API AND STATISTICS*"
   ]
  },
  {
   "cell_type": "markdown",
   "metadata": {},
   "source": [
    "## 4.1) Analyzing the distribution of followers count for Instagram"
   ]
  },
  {
   "cell_type": "markdown",
   "metadata": {},
   "source": [
    "* 1768969 total Instagram followers from active businesses\n",
    "\n",
    "* 60998 average Instagram followers from active businesses\n",
    "\n",
    "* 10027 1st quartile Instagram followers from active businesses\n",
    "* 31549 2nd quartile Instagram followers from active businesses\n",
    "* 109050 3rd quartile Instagram followers from active businesses\n",
    "* 424938 maximum Instagram followers from active businesses"
   ]
  },
  {
   "cell_type": "markdown",
   "metadata": {},
   "source": [
    "## 4.2) Required requests for Instagram API\n",
    "\n",
    "    - https://instagram.com/developer\n",
    "    - https://instagram.com/developer/limits"
   ]
  },
  {
   "cell_type": "markdown",
   "metadata": {},
   "source": [
    "* To obtain followers' ids\n",
    "    * **Reference:** https://instagram.com/developer/endpoints/relationships/#get_users_followed_by\n",
    "    * **Rate limit:** 60/hour\n",
    "    * GET https://api.instagram.com/v1/users/{user-id}/followed-by?access_token=ACCESS-TOKEN\n",
    "* To obtain more recent activities from each follower\n",
    "    * **Reference:** https://instagram.com/developer/endpoints/users/#get_users_media_recent\n",
    "    * **Rate limit:** 100/hour\n",
    "    * GET https://api.instagram.com/v1/users/{user-id}/media/recent/?access_token=ACCESS-TOKEN\n",
    "* To obtain more recent likes from each follower\n",
    "    * **Reference:** https://instagram.com/developer/endpoints/users/#get_users_feed_liked\n",
    "    * **Rate limit:** 100/hour\n",
    "    * GET https://api.instagram.com/v1/users/self/media/liked?access_token=ACCESS-TOKEN"
   ]
  }
 ],
 "metadata": {
  "kernelspec": {
   "display_name": "Python 2",
   "language": "python",
   "name": "python2"
  },
  "language_info": {
   "codemirror_mode": {
    "name": "ipython",
    "version": 2
   },
   "file_extension": ".py",
   "mimetype": "text/x-python",
   "name": "python",
   "nbconvert_exporter": "python",
   "pygments_lexer": "ipython2",
   "version": "2.7.10"
  }
 },
 "nbformat": 4,
 "nbformat_minor": 0
}
