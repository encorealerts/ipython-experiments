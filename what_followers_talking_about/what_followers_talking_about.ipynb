{
 "cells": [
  {
   "cell_type": "markdown",
   "metadata": {},
   "source": [
    "# What to search for"
   ]
  },
  {
   "cell_type": "markdown",
   "metadata": {},
   "source": [
    "* Tweets from followers of active businesses\n",
    "* Tweeted Hashtags and URLs\n",
    "* Tweets with recently highest share_count or replies_count"
   ]
  },
  {
   "cell_type": "markdown",
   "metadata": {},
   "source": [
    "# Current statistics on Production (real data)"
   ]
  },
  {
   "cell_type": "markdown",
   "metadata": {},
   "source": [
    "### General"
   ]
  },
  {
   "cell_type": "markdown",
   "metadata": {},
   "source": [
    "* 87 active businesses\n",
    "* 157 handles from active businesses\n",
    "* 118 Twitter handles from active businesses\n",
    "* 24809421 total Twitter followers from active businesses"
   ]
  },
  {
   "cell_type": "markdown",
   "metadata": {},
   "source": [
    "### Analyzing the distribution of followers count"
   ]
  },
  {
   "cell_type": "markdown",
   "metadata": {},
   "source": [
    "* 210249 average Twitter followers from active businesses\n",
    "\n",
    "* 2582 1st quartile Twitter followers from active businesses\n",
    "* 12264 2nd quartile Twitter followers from active businesses\n",
    "* 70974 3rd quartile Twitter followers from active businesses\n",
    "* 12741830 maximum Twitter followers from active businesses"
   ]
  },
  {
   "cell_type": "markdown",
   "metadata": {},
   "source": [
    "# Required requests\n",
    "\n",
    "    - https://dev.twitter.com/rest/public\n",
    "    - https://dev.twitter.com/rest/public/rate-limits"
   ]
  },
  {
   "cell_type": "markdown",
   "metadata": {},
   "source": [
    "* To obtain followers' ids. Results are given in groups of 5,000 user IDs.\n",
    "    * Reference: https://dev.twitter.com/rest/reference/get/followers/ids\n",
    "    * GET http://api.twitter.com/1.1/followers/ids.json?screen_name=__business_handle__\n",
    "    * 15 requests / 15-min window (user auth or app auth)\n",
    "* To obtain 3.200 more recent tweets from each follower\n",
    "    * Reference: https://dev.twitter.com/rest/reference/get/statuses/user_timeline\n",
    "    * GET http://api.twitter.com/1.1/statuses/user_timeline.json?user_id=__follower_ID__\n",
    "    * 180 requests (user auth) or 300 requests (app auth) / 15-min window"
   ]
  },
  {
   "cell_type": "code",
   "execution_count": null,
   "metadata": {
    "collapsed": true
   },
   "outputs": [],
   "source": []
  },
  {
   "cell_type": "code",
   "execution_count": null,
   "metadata": {
    "collapsed": true
   },
   "outputs": [],
   "source": []
  },
  {
   "cell_type": "code",
   "execution_count": null,
   "metadata": {
    "collapsed": true
   },
   "outputs": [],
   "source": []
  }
 ],
 "metadata": {
  "kernelspec": {
   "display_name": "Python 2",
   "language": "python",
   "name": "python2"
  },
  "language_info": {
   "codemirror_mode": {
    "name": "ipython",
    "version": 2
   },
   "file_extension": ".py",
   "mimetype": "text/x-python",
   "name": "python",
   "nbconvert_exporter": "python",
   "pygments_lexer": "ipython2",
   "version": "2.7.10"
  }
 },
 "nbformat": 4,
 "nbformat_minor": 0
}
