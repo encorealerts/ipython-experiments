{
 "cells": [
  {
   "cell_type": "markdown",
   "metadata": {},
   "source": [
    "# Analysis for Predictive Post"
   ]
  },
  {
   "cell_type": "markdown",
   "metadata": {},
   "source": [
    "## Getting and Preparing Data"
   ]
  },
  {
   "cell_type": "code",
   "execution_count": 2,
   "metadata": {
    "collapsed": false
   },
   "outputs": [],
   "source": [
    "%matplotlib inline\n",
    "\n",
    "import pandas as pd\n",
    "import numpy as np"
   ]
  },
  {
   "cell_type": "markdown",
   "metadata": {},
   "source": [
    "## Loading Data"
   ]
  },
  {
   "cell_type": "code",
   "execution_count": 109,
   "metadata": {
    "collapsed": false
   },
   "outputs": [],
   "source": [
    "time_series_cols = map(lambda c: \"C\"+str(c), range(1,110))\n",
    "cols_names = [\"native_id\"] + time_series_cols\n",
    "\n",
    "dtype = {}\n",
    "for c in time_series_cols:\n",
    "    dtype[c] = np.int32\n",
    "\n",
    "time_series_retweets = pd.read_csv('data/time_series_popular_tweets_all_crop_100.csv', \n",
    "                                   dtype=dtype, header=None, names=cols_names)"
   ]
  },
  {
   "cell_type": "code",
   "execution_count": 110,
   "metadata": {
    "collapsed": false
   },
   "outputs": [
    {
     "data": {
      "text/html": [
       "<div style=\"max-height:1000px;max-width:1500px;overflow:auto;\">\n",
       "<table border=\"1\" class=\"dataframe\">\n",
       "  <thead>\n",
       "    <tr style=\"text-align: right;\">\n",
       "      <th></th>\n",
       "      <th>native_id</th>\n",
       "      <th>C1</th>\n",
       "      <th>C2</th>\n",
       "      <th>C3</th>\n",
       "      <th>C4</th>\n",
       "      <th>C5</th>\n",
       "      <th>C6</th>\n",
       "      <th>C7</th>\n",
       "      <th>C8</th>\n",
       "      <th>C9</th>\n",
       "      <th>...</th>\n",
       "      <th>C105</th>\n",
       "      <th>C106</th>\n",
       "      <th>C107</th>\n",
       "      <th>C108</th>\n",
       "      <th>C109</th>\n",
       "      <th>mean</th>\n",
       "      <th>median</th>\n",
       "      <th>min</th>\n",
       "      <th>max</th>\n",
       "      <th>total</th>\n",
       "    </tr>\n",
       "  </thead>\n",
       "  <tbody>\n",
       "    <tr>\n",
       "      <th>0</th>\n",
       "      <td>613126094502383616</td>\n",
       "      <td>1</td>\n",
       "      <td>3</td>\n",
       "      <td>1</td>\n",
       "      <td>8</td>\n",
       "      <td>6</td>\n",
       "      <td>13</td>\n",
       "      <td>7</td>\n",
       "      <td>7</td>\n",
       "      <td>5</td>\n",
       "      <td>...</td>\n",
       "      <td>4</td>\n",
       "      <td>2</td>\n",
       "      <td>1</td>\n",
       "      <td>2</td>\n",
       "      <td>1</td>\n",
       "      <td>4.027523</td>\n",
       "      <td>4</td>\n",
       "      <td>0</td>\n",
       "      <td>13</td>\n",
       "      <td>439</td>\n",
       "    </tr>\n",
       "    <tr>\n",
       "      <th>1</th>\n",
       "      <td>613078560258027520</td>\n",
       "      <td>1</td>\n",
       "      <td>3</td>\n",
       "      <td>7</td>\n",
       "      <td>9</td>\n",
       "      <td>5</td>\n",
       "      <td>8</td>\n",
       "      <td>4</td>\n",
       "      <td>7</td>\n",
       "      <td>11</td>\n",
       "      <td>...</td>\n",
       "      <td>5</td>\n",
       "      <td>5</td>\n",
       "      <td>4</td>\n",
       "      <td>5</td>\n",
       "      <td>1</td>\n",
       "      <td>4.633028</td>\n",
       "      <td>4</td>\n",
       "      <td>0</td>\n",
       "      <td>15</td>\n",
       "      <td>505</td>\n",
       "    </tr>\n",
       "    <tr>\n",
       "      <th>2</th>\n",
       "      <td>613051857972412417</td>\n",
       "      <td>1</td>\n",
       "      <td>3</td>\n",
       "      <td>5</td>\n",
       "      <td>6</td>\n",
       "      <td>6</td>\n",
       "      <td>12</td>\n",
       "      <td>2</td>\n",
       "      <td>12</td>\n",
       "      <td>10</td>\n",
       "      <td>...</td>\n",
       "      <td>1</td>\n",
       "      <td>2</td>\n",
       "      <td>3</td>\n",
       "      <td>3</td>\n",
       "      <td>2</td>\n",
       "      <td>5.082569</td>\n",
       "      <td>5</td>\n",
       "      <td>0</td>\n",
       "      <td>15</td>\n",
       "      <td>554</td>\n",
       "    </tr>\n",
       "    <tr>\n",
       "      <th>3</th>\n",
       "      <td>613405785415122944</td>\n",
       "      <td>1</td>\n",
       "      <td>1</td>\n",
       "      <td>0</td>\n",
       "      <td>0</td>\n",
       "      <td>1</td>\n",
       "      <td>0</td>\n",
       "      <td>0</td>\n",
       "      <td>0</td>\n",
       "      <td>2</td>\n",
       "      <td>...</td>\n",
       "      <td>15</td>\n",
       "      <td>19</td>\n",
       "      <td>14</td>\n",
       "      <td>7</td>\n",
       "      <td>8</td>\n",
       "      <td>4.862385</td>\n",
       "      <td>4</td>\n",
       "      <td>0</td>\n",
       "      <td>19</td>\n",
       "      <td>530</td>\n",
       "    </tr>\n",
       "    <tr>\n",
       "      <th>4</th>\n",
       "      <td>613713695844270081</td>\n",
       "      <td>2</td>\n",
       "      <td>10</td>\n",
       "      <td>11</td>\n",
       "      <td>12</td>\n",
       "      <td>16</td>\n",
       "      <td>21</td>\n",
       "      <td>15</td>\n",
       "      <td>11</td>\n",
       "      <td>9</td>\n",
       "      <td>...</td>\n",
       "      <td>3</td>\n",
       "      <td>2</td>\n",
       "      <td>1</td>\n",
       "      <td>5</td>\n",
       "      <td>2</td>\n",
       "      <td>4.311927</td>\n",
       "      <td>3</td>\n",
       "      <td>0</td>\n",
       "      <td>21</td>\n",
       "      <td>470</td>\n",
       "    </tr>\n",
       "  </tbody>\n",
       "</table>\n",
       "<p>5 rows × 115 columns</p>\n",
       "</div>"
      ],
      "text/plain": [
       "            native_id  C1  C2  C3  C4  C5  C6  C7  C8  C9  ...    C105  C106  \\\n",
       "0  613126094502383616   1   3   1   8   6  13   7   7   5  ...       4     2   \n",
       "1  613078560258027520   1   3   7   9   5   8   4   7  11  ...       5     5   \n",
       "2  613051857972412417   1   3   5   6   6  12   2  12  10  ...       1     2   \n",
       "3  613405785415122944   1   1   0   0   1   0   0   0   2  ...      15    19   \n",
       "4  613713695844270081   2  10  11  12  16  21  15  11   9  ...       3     2   \n",
       "\n",
       "   C107  C108  C109      mean  median  min  max  total  \n",
       "0     1     2     1  4.027523       4    0   13    439  \n",
       "1     4     5     1  4.633028       4    0   15    505  \n",
       "2     3     3     2  5.082569       5    0   15    554  \n",
       "3    14     7     8  4.862385       4    0   19    530  \n",
       "4     1     5     2  4.311927       3    0   21    470  \n",
       "\n",
       "[5 rows x 115 columns]"
      ]
     },
     "execution_count": 110,
     "metadata": {},
     "output_type": "execute_result"
    }
   ],
   "source": [
    "nrows = len(time_series_retweets)\n",
    "\n",
    "# Calculate mean values for each activity\n",
    "mean_col = pd.Series(map(lambda i: (time_series_retweets.T)[i].values[1:].mean(), range(nrows)), index=range(nrows))\n",
    "\n",
    "# Calculate median values for each activity\n",
    "median_col = pd.Series(map(lambda i: np.median((time_series_retweets.T)[i].values[1:]), range(nrows)), index=range(nrows))\n",
    "\n",
    "# Calculate min values for each activity\n",
    "min_col = pd.Series(map(lambda i: (time_series_retweets.T)[i].values[1:].min(), range(nrows)), index=range(nrows))\n",
    "\n",
    "# Calculate max values for each activity\n",
    "max_col = pd.Series(map(lambda i: (time_series_retweets.T)[i].values[1:].max(), range(nrows)), index=range(nrows))\n",
    "\n",
    "# Calculate total retweets for each activity\n",
    "total_col = pd.Series(map(lambda i: sum((time_series_retweets.T)[i].values[1:]), range(nrows)), index=range(nrows))\n",
    "\n",
    "time_series_retweets[\"mean\"]   = mean_col\n",
    "time_series_retweets[\"median\"] = median_col\n",
    "time_series_retweets[\"min\"]    = min_col\n",
    "time_series_retweets[\"max\"]    = max_col\n",
    "time_series_retweets[\"total\"]  = total_col\n",
    "\n",
    "time_series_retweets.head()"
   ]
  },
  {
   "cell_type": "code",
   "execution_count": 117,
   "metadata": {
    "collapsed": false,
    "scrolled": true
   },
   "outputs": [
    {
     "data": {
      "text/html": [
       "<div style=\"max-height:1000px;max-width:1500px;overflow:auto;\">\n",
       "<table border=\"1\" class=\"dataframe\">\n",
       "  <thead>\n",
       "    <tr style=\"text-align: right;\">\n",
       "      <th></th>\n",
       "      <th>native_id</th>\n",
       "      <th>C1</th>\n",
       "      <th>C2</th>\n",
       "      <th>C3</th>\n",
       "      <th>C4</th>\n",
       "      <th>C5</th>\n",
       "      <th>C6</th>\n",
       "      <th>C7</th>\n",
       "      <th>C8</th>\n",
       "      <th>C9</th>\n",
       "      <th>...</th>\n",
       "      <th>C105</th>\n",
       "      <th>C106</th>\n",
       "      <th>C107</th>\n",
       "      <th>C108</th>\n",
       "      <th>C109</th>\n",
       "      <th>mean</th>\n",
       "      <th>median</th>\n",
       "      <th>min</th>\n",
       "      <th>max</th>\n",
       "      <th>total</th>\n",
       "    </tr>\n",
       "  </thead>\n",
       "  <tbody>\n",
       "    <tr>\n",
       "      <th>0</th>\n",
       "      <td>6.131261e+17</td>\n",
       "      <td>0.248</td>\n",
       "      <td>0.745</td>\n",
       "      <td>0.248</td>\n",
       "      <td>1.986</td>\n",
       "      <td>1.490</td>\n",
       "      <td>3.228</td>\n",
       "      <td>1.738</td>\n",
       "      <td>1.738</td>\n",
       "      <td>1.241</td>\n",
       "      <td>...</td>\n",
       "      <td>0.993</td>\n",
       "      <td>0.497</td>\n",
       "      <td>0.248</td>\n",
       "      <td>0.497</td>\n",
       "      <td>0.248</td>\n",
       "      <td>4.027523</td>\n",
       "      <td>4</td>\n",
       "      <td>0</td>\n",
       "      <td>13</td>\n",
       "      <td>439</td>\n",
       "    </tr>\n",
       "    <tr>\n",
       "      <th>1</th>\n",
       "      <td>6.130786e+17</td>\n",
       "      <td>0.216</td>\n",
       "      <td>0.648</td>\n",
       "      <td>1.511</td>\n",
       "      <td>1.943</td>\n",
       "      <td>1.079</td>\n",
       "      <td>1.727</td>\n",
       "      <td>0.863</td>\n",
       "      <td>1.511</td>\n",
       "      <td>2.374</td>\n",
       "      <td>...</td>\n",
       "      <td>1.079</td>\n",
       "      <td>1.079</td>\n",
       "      <td>0.863</td>\n",
       "      <td>1.079</td>\n",
       "      <td>0.216</td>\n",
       "      <td>4.633028</td>\n",
       "      <td>4</td>\n",
       "      <td>0</td>\n",
       "      <td>15</td>\n",
       "      <td>505</td>\n",
       "    </tr>\n",
       "    <tr>\n",
       "      <th>2</th>\n",
       "      <td>6.130519e+17</td>\n",
       "      <td>0.197</td>\n",
       "      <td>0.590</td>\n",
       "      <td>0.984</td>\n",
       "      <td>1.181</td>\n",
       "      <td>1.181</td>\n",
       "      <td>2.361</td>\n",
       "      <td>0.394</td>\n",
       "      <td>2.361</td>\n",
       "      <td>1.968</td>\n",
       "      <td>...</td>\n",
       "      <td>0.197</td>\n",
       "      <td>0.394</td>\n",
       "      <td>0.590</td>\n",
       "      <td>0.590</td>\n",
       "      <td>0.394</td>\n",
       "      <td>5.082569</td>\n",
       "      <td>5</td>\n",
       "      <td>0</td>\n",
       "      <td>15</td>\n",
       "      <td>554</td>\n",
       "    </tr>\n",
       "    <tr>\n",
       "      <th>3</th>\n",
       "      <td>6.134058e+17</td>\n",
       "      <td>0.206</td>\n",
       "      <td>0.206</td>\n",
       "      <td>0.000</td>\n",
       "      <td>0.000</td>\n",
       "      <td>0.206</td>\n",
       "      <td>0.000</td>\n",
       "      <td>0.000</td>\n",
       "      <td>0.000</td>\n",
       "      <td>0.411</td>\n",
       "      <td>...</td>\n",
       "      <td>3.085</td>\n",
       "      <td>3.908</td>\n",
       "      <td>2.879</td>\n",
       "      <td>1.440</td>\n",
       "      <td>1.645</td>\n",
       "      <td>4.862385</td>\n",
       "      <td>4</td>\n",
       "      <td>0</td>\n",
       "      <td>19</td>\n",
       "      <td>530</td>\n",
       "    </tr>\n",
       "    <tr>\n",
       "      <th>4</th>\n",
       "      <td>6.137137e+17</td>\n",
       "      <td>0.464</td>\n",
       "      <td>2.319</td>\n",
       "      <td>2.551</td>\n",
       "      <td>2.783</td>\n",
       "      <td>3.711</td>\n",
       "      <td>4.870</td>\n",
       "      <td>3.479</td>\n",
       "      <td>2.551</td>\n",
       "      <td>2.087</td>\n",
       "      <td>...</td>\n",
       "      <td>0.696</td>\n",
       "      <td>0.464</td>\n",
       "      <td>0.232</td>\n",
       "      <td>1.160</td>\n",
       "      <td>0.464</td>\n",
       "      <td>4.311927</td>\n",
       "      <td>3</td>\n",
       "      <td>0</td>\n",
       "      <td>21</td>\n",
       "      <td>470</td>\n",
       "    </tr>\n",
       "  </tbody>\n",
       "</table>\n",
       "<p>5 rows × 115 columns</p>\n",
       "</div>"
      ],
      "text/plain": [
       "      native_id     C1     C2     C3     C4     C5     C6     C7     C8  \\\n",
       "0  6.131261e+17  0.248  0.745  0.248  1.986  1.490  3.228  1.738  1.738   \n",
       "1  6.130786e+17  0.216  0.648  1.511  1.943  1.079  1.727  0.863  1.511   \n",
       "2  6.130519e+17  0.197  0.590  0.984  1.181  1.181  2.361  0.394  2.361   \n",
       "3  6.134058e+17  0.206  0.206  0.000  0.000  0.206  0.000  0.000  0.000   \n",
       "4  6.137137e+17  0.464  2.319  2.551  2.783  3.711  4.870  3.479  2.551   \n",
       "\n",
       "      C9  ...     C105   C106   C107   C108   C109      mean  median  min  \\\n",
       "0  1.241  ...    0.993  0.497  0.248  0.497  0.248  4.027523       4    0   \n",
       "1  2.374  ...    1.079  1.079  0.863  1.079  0.216  4.633028       4    0   \n",
       "2  1.968  ...    0.197  0.394  0.590  0.590  0.394  5.082569       5    0   \n",
       "3  0.411  ...    3.085  3.908  2.879  1.440  1.645  4.862385       4    0   \n",
       "4  2.087  ...    0.696  0.464  0.232  1.160  0.464  4.311927       3    0   \n",
       "\n",
       "   max  total  \n",
       "0   13    439  \n",
       "1   15    505  \n",
       "2   15    554  \n",
       "3   19    530  \n",
       "4   21    470  \n",
       "\n",
       "[5 rows x 115 columns]"
      ]
     },
     "execution_count": 117,
     "metadata": {},
     "output_type": "execute_result"
    }
   ],
   "source": [
    "# Normalize values (v/mean)\n",
    "for i in range(nrows):\n",
    "    line = time_series_retweets.loc[i].values\n",
    "    mu = line[-5]\n",
    "    time_series_retweets.loc[i] = [line[0]] + map(lambda n: round(float(n)/mu,3), line[1:-5]) + list(line[-5:])\n",
    "    \n",
    "time_series_retweets.head()"
   ]
  },
  {
   "cell_type": "markdown",
   "metadata": {},
   "source": [
    "## Training the model"
   ]
  },
  {
   "cell_type": "code",
   "execution_count": 126,
   "metadata": {
    "collapsed": true
   },
   "outputs": [],
   "source": [
    "from sklearn.linear_model import LinearRegression\n",
    "from sklearn.ensemble import AdaBoostRegressor\n",
    "from sklearn.neighbors import KNeighborsRegressor\n",
    "from sklearn.svm import SVR\n",
    "\n",
    "from sklearn.cross_validation import cross_val_score\n",
    "from sklearn.grid_search import GridSearchCV"
   ]
  },
  {
   "cell_type": "markdown",
   "metadata": {},
   "source": [
    "### Train with Linear Regression"
   ]
  },
  {
   "cell_type": "code",
   "execution_count": 130,
   "metadata": {
    "collapsed": false
   },
   "outputs": [],
   "source": [
    "def training_with_linear_regression(X, y):\n",
    "    print \"Training with Linear Regression\"\n",
    "\n",
    "    model = LinearRegression()\n",
    "\n",
    "    scores = cross_val_score(model, X, y, scoring=\"mean_squared_error\", cv=5)\n",
    "\n",
    "    print \"CV scores: \" + str(scores)\n",
    "    print \"MSE: \" + str(scores.mean())"
   ]
  },
  {
   "cell_type": "markdown",
   "metadata": {},
   "source": [
    "### Train with KNeighborsRegressor"
   ]
  },
  {
   "cell_type": "code",
   "execution_count": 149,
   "metadata": {
    "collapsed": false
   },
   "outputs": [],
   "source": [
    "def training_with_knn_regressor(X, y):\n",
    "    print \"Training with KNN regressor\"\n",
    "\n",
    "    model = KNeighborsRegressor()\n",
    "\n",
    "    k_range = range(1,11)\n",
    "    param_dist = dict(n_neighbors=k_range)\n",
    "\n",
    "    grid = GridSearchCV(model, param_dist, cv=10, scoring=\"mean_squared_error\")\n",
    "    grid.fit(X, y)\n",
    "    print grid.grid_scores_"
   ]
  },
  {
   "cell_type": "markdown",
   "metadata": {},
   "source": [
    "### Train with SVR"
   ]
  },
  {
   "cell_type": "code",
   "execution_count": 139,
   "metadata": {
    "collapsed": false
   },
   "outputs": [],
   "source": [
    "def training_with_svr(X, y):\n",
    "    print \"Training with SVR\"\n",
    "\n",
    "    model = SVR()\n",
    "\n",
    "    epsilon_range = [0.1, 0.2, 0.3]\n",
    "    degree_range  = [1, 2, 3, 4, 5]\n",
    "    gamma_range   = [0.0, 0.1, 0.2]\n",
    "\n",
    "    param_dist = dict(epsilon=epsilon_range, degree=degree_range, gamma=gamma_range)\n",
    "\n",
    "    grid = GridSearchCV(model, param_dist, cv=10, scoring=\"mean_squared_error\")\n",
    "    grid.fit(X, y)\n",
    "    print grid.grid_scores_"
   ]
  },
  {
   "cell_type": "markdown",
   "metadata": {},
   "source": [
    "### Train with AdaBoostRegressor"
   ]
  },
  {
   "cell_type": "code",
   "execution_count": 156,
   "metadata": {
    "collapsed": false
   },
   "outputs": [],
   "source": [
    "def training_with_ada_boost_regressor(X, y):\n",
    "    print \"Training with AdaBoostRegressor\"\n",
    "\n",
    "    model = AdaBoostRegressor()\n",
    "\n",
    "    n_estimators = range(25,70)\n",
    "\n",
    "    param_dist = dict(n_estimators=n_estimators)\n",
    "\n",
    "    grid = GridSearchCV(model, param_dist, cv=10, scoring=\"mean_squared_error\")\n",
    "    grid.fit(X, y)\n",
    "    print grid.grid_scores_"
   ]
  },
  {
   "cell_type": "markdown",
   "metadata": {},
   "source": [
    "## Training"
   ]
  },
  {
   "cell_type": "code",
   "execution_count": 141,
   "metadata": {
    "collapsed": true
   },
   "outputs": [],
   "source": [
    "X = np.array(time_series_retweets.drop([\"native_id\",\"total\"], axis=1))\n",
    "y = time_series_retweets.total.values"
   ]
  },
  {
   "cell_type": "code",
   "execution_count": 142,
   "metadata": {
    "collapsed": false
   },
   "outputs": [
    {
     "name": "stdout",
     "output_type": "stream",
     "text": [
      "Training with Linear Regression\n",
      "CV scores: [ -7.69055574e-23  -1.75987121e-23  -5.94949880e-23  -2.17632057e-23\n",
      "  -9.49859125e-22]\n",
      "MSE: -2.25124317556e-22\n"
     ]
    }
   ],
   "source": [
    "training_with_linear_regression(X, y)"
   ]
  },
  {
   "cell_type": "code",
   "execution_count": 150,
   "metadata": {
    "collapsed": false
   },
   "outputs": [
    {
     "name": "stdout",
     "output_type": "stream",
     "text": [
      "Training with KNN regressor\n",
      "[mean: -198320.23451, std: 449818.29551, params: {'n_neighbors': 1}, mean: -179563.43584, std: 340028.57614, params: {'n_neighbors': 2}, mean: -193960.54376, std: 317400.38264, params: {'n_neighbors': 3}, mean: -174640.32329, std: 207882.40001, params: {'n_neighbors': 4}, mean: -178513.77239, std: 159112.99719, params: {'n_neighbors': 5}, mean: -207251.21976, std: 152961.32548, params: {'n_neighbors': 6}, mean: -228326.62579, std: 170781.40815, params: {'n_neighbors': 7}, mean: -233700.30973, std: 174302.65439, params: {'n_neighbors': 8}, mean: -218900.29346, std: 163882.79975, params: {'n_neighbors': 9}, mean: -211174.45111, std: 158795.44844, params: {'n_neighbors': 10}]\n"
     ]
    }
   ],
   "source": [
    "training_with_knn_regressor(X, y)"
   ]
  },
  {
   "cell_type": "code",
   "execution_count": 144,
   "metadata": {
    "collapsed": false
   },
   "outputs": [
    {
     "name": "stdout",
     "output_type": "stream",
     "text": [
      "Training with SVR\n",
      "[mean: -1170329.15656, std: 451103.83419, params: {'epsilon': 0.1, 'gamma': 0.0, 'degree': 1}, mean: -1180339.57175, std: 449108.45176, params: {'epsilon': 0.1, 'gamma': 0.1, 'degree': 1}, mean: -1180424.18535, std: 449135.01826, params: {'epsilon': 0.1, 'gamma': 0.2, 'degree': 1}, mean: -1170333.83545, std: 451102.88999, params: {'epsilon': 0.2, 'gamma': 0.0, 'degree': 1}, mean: -1180334.97000, std: 449109.33649, params: {'epsilon': 0.2, 'gamma': 0.1, 'degree': 1}, mean: -1180419.58401, std: 449135.90275, params: {'epsilon': 0.2, 'gamma': 0.2, 'degree': 1}, mean: -1170344.56368, std: 451100.11027, params: {'epsilon': 0.3, 'gamma': 0.0, 'degree': 1}, mean: -1180330.37028, std: 449110.22123, params: {'epsilon': 0.3, 'gamma': 0.1, 'degree': 1}, mean: -1180414.98471, std: 449136.78727, params: {'epsilon': 0.3, 'gamma': 0.2, 'degree': 1}, mean: -1170329.15656, std: 451103.83419, params: {'epsilon': 0.1, 'gamma': 0.0, 'degree': 2}, mean: -1180339.57175, std: 449108.45176, params: {'epsilon': 0.1, 'gamma': 0.1, 'degree': 2}, mean: -1180424.18535, std: 449135.01826, params: {'epsilon': 0.1, 'gamma': 0.2, 'degree': 2}, mean: -1170333.83545, std: 451102.88999, params: {'epsilon': 0.2, 'gamma': 0.0, 'degree': 2}, mean: -1180334.97000, std: 449109.33649, params: {'epsilon': 0.2, 'gamma': 0.1, 'degree': 2}, mean: -1180419.58401, std: 449135.90275, params: {'epsilon': 0.2, 'gamma': 0.2, 'degree': 2}, mean: -1170344.56368, std: 451100.11027, params: {'epsilon': 0.3, 'gamma': 0.0, 'degree': 2}, mean: -1180330.37028, std: 449110.22123, params: {'epsilon': 0.3, 'gamma': 0.1, 'degree': 2}, mean: -1180414.98471, std: 449136.78727, params: {'epsilon': 0.3, 'gamma': 0.2, 'degree': 2}, mean: -1170329.15656, std: 451103.83419, params: {'epsilon': 0.1, 'gamma': 0.0, 'degree': 3}, mean: -1180339.57175, std: 449108.45176, params: {'epsilon': 0.1, 'gamma': 0.1, 'degree': 3}, mean: -1180424.18535, std: 449135.01826, params: {'epsilon': 0.1, 'gamma': 0.2, 'degree': 3}, mean: -1170333.83545, std: 451102.88999, params: {'epsilon': 0.2, 'gamma': 0.0, 'degree': 3}, mean: -1180334.97000, std: 449109.33649, params: {'epsilon': 0.2, 'gamma': 0.1, 'degree': 3}, mean: -1180419.58401, std: 449135.90275, params: {'epsilon': 0.2, 'gamma': 0.2, 'degree': 3}, mean: -1170344.56368, std: 451100.11027, params: {'epsilon': 0.3, 'gamma': 0.0, 'degree': 3}, mean: -1180330.37028, std: 449110.22123, params: {'epsilon': 0.3, 'gamma': 0.1, 'degree': 3}, mean: -1180414.98471, std: 449136.78727, params: {'epsilon': 0.3, 'gamma': 0.2, 'degree': 3}, mean: -1170329.15656, std: 451103.83419, params: {'epsilon': 0.1, 'gamma': 0.0, 'degree': 4}, mean: -1180339.57175, std: 449108.45176, params: {'epsilon': 0.1, 'gamma': 0.1, 'degree': 4}, mean: -1180424.18535, std: 449135.01826, params: {'epsilon': 0.1, 'gamma': 0.2, 'degree': 4}, mean: -1170333.83545, std: 451102.88999, params: {'epsilon': 0.2, 'gamma': 0.0, 'degree': 4}, mean: -1180334.97000, std: 449109.33649, params: {'epsilon': 0.2, 'gamma': 0.1, 'degree': 4}, mean: -1180419.58401, std: 449135.90275, params: {'epsilon': 0.2, 'gamma': 0.2, 'degree': 4}, mean: -1170344.56368, std: 451100.11027, params: {'epsilon': 0.3, 'gamma': 0.0, 'degree': 4}, mean: -1180330.37028, std: 449110.22123, params: {'epsilon': 0.3, 'gamma': 0.1, 'degree': 4}, mean: -1180414.98471, std: 449136.78727, params: {'epsilon': 0.3, 'gamma': 0.2, 'degree': 4}, mean: -1170329.15656, std: 451103.83419, params: {'epsilon': 0.1, 'gamma': 0.0, 'degree': 5}, mean: -1180339.57175, std: 449108.45176, params: {'epsilon': 0.1, 'gamma': 0.1, 'degree': 5}, mean: -1180424.18535, std: 449135.01826, params: {'epsilon': 0.1, 'gamma': 0.2, 'degree': 5}, mean: -1170333.83545, std: 451102.88999, params: {'epsilon': 0.2, 'gamma': 0.0, 'degree': 5}, mean: -1180334.97000, std: 449109.33649, params: {'epsilon': 0.2, 'gamma': 0.1, 'degree': 5}, mean: -1180419.58401, std: 449135.90275, params: {'epsilon': 0.2, 'gamma': 0.2, 'degree': 5}, mean: -1170344.56368, std: 451100.11027, params: {'epsilon': 0.3, 'gamma': 0.0, 'degree': 5}, mean: -1180330.37028, std: 449110.22123, params: {'epsilon': 0.3, 'gamma': 0.1, 'degree': 5}, mean: -1180414.98471, std: 449136.78727, params: {'epsilon': 0.3, 'gamma': 0.2, 'degree': 5}]\n"
     ]
    }
   ],
   "source": [
    "training_with_svr(X, y)"
   ]
  },
  {
   "cell_type": "code",
   "execution_count": 145,
   "metadata": {
    "collapsed": false
   },
   "outputs": [
    {
     "name": "stdout",
     "output_type": "stream",
     "text": [
      "Training with AdaBoostRegressor\n",
      "[mean: -15890.54470, std: 15262.15439, params: {'n_estimators': 25}, mean: -11432.45110, std: 9587.91179, params: {'n_estimators': 26}, mean: -12473.70644, std: 12613.93825, params: {'n_estimators': 27}, mean: -12447.04501, std: 13229.51147, params: {'n_estimators': 28}, mean: -10783.43291, std: 9851.97170, params: {'n_estimators': 29}, mean: -10505.78441, std: 9318.24537, params: {'n_estimators': 30}, mean: -11333.78772, std: 12281.45446, params: {'n_estimators': 31}, mean: -12646.31969, std: 11409.24819, params: {'n_estimators': 32}, mean: -11989.58817, std: 10505.75707, params: {'n_estimators': 33}, mean: -13546.27399, std: 12329.14532, params: {'n_estimators': 34}, mean: -11668.97840, std: 10875.12573, params: {'n_estimators': 35}, mean: -10773.68125, std: 9084.25871, params: {'n_estimators': 36}, mean: -11979.20184, std: 12313.32915, params: {'n_estimators': 37}, mean: -11362.15249, std: 11006.12938, params: {'n_estimators': 38}, mean: -10458.60426, std: 9462.58949, params: {'n_estimators': 39}, mean: -10919.92384, std: 8836.96732, params: {'n_estimators': 40}, mean: -10915.78004, std: 9635.70869, params: {'n_estimators': 41}, mean: -11903.24661, std: 12554.29446, params: {'n_estimators': 42}, mean: -12165.06178, std: 13063.87868, params: {'n_estimators': 43}, mean: -11435.45056, std: 10002.67955, params: {'n_estimators': 44}, mean: -10792.47003, std: 10589.09983, params: {'n_estimators': 45}, mean: -11715.52070, std: 11719.86755, params: {'n_estimators': 46}, mean: -12881.80307, std: 14732.85276, params: {'n_estimators': 47}, mean: -11542.37389, std: 12005.00351, params: {'n_estimators': 48}, mean: -11469.07872, std: 9928.52329, params: {'n_estimators': 49}, mean: -10863.15267, std: 11281.22012, params: {'n_estimators': 50}, mean: -11959.07655, std: 12994.19314, params: {'n_estimators': 51}, mean: -10319.45264, std: 11284.48022, params: {'n_estimators': 52}, mean: -14190.44463, std: 15394.55170, params: {'n_estimators': 53}, mean: -10108.73071, std: 10939.90626, params: {'n_estimators': 54}, mean: -11013.29583, std: 10188.08617, params: {'n_estimators': 55}, mean: -10523.37060, std: 12212.63835, params: {'n_estimators': 56}, mean: -9877.45689, std: 10361.71953, params: {'n_estimators': 57}, mean: -13371.93395, std: 14590.86181, params: {'n_estimators': 58}, mean: -9342.14605, std: 10022.78854, params: {'n_estimators': 59}, mean: -11537.89083, std: 11385.38739, params: {'n_estimators': 60}, mean: -9743.82817, std: 9853.64396, params: {'n_estimators': 61}, mean: -11853.38198, std: 12960.11041, params: {'n_estimators': 62}, mean: -12958.53533, std: 14852.69931, params: {'n_estimators': 63}, mean: -11133.26070, std: 13310.92189, params: {'n_estimators': 64}, mean: -11695.69063, std: 10102.47392, params: {'n_estimators': 65}, mean: -10780.58678, std: 13019.39545, params: {'n_estimators': 66}, mean: -11775.69892, std: 11865.14168, params: {'n_estimators': 67}, mean: -11197.80277, std: 9404.01476, params: {'n_estimators': 68}, mean: -13024.43495, std: 14341.95913, params: {'n_estimators': 69}]\n"
     ]
    }
   ],
   "source": [
    "training_with_ada_boost_regressor(X, y)"
   ]
  },
  {
   "cell_type": "code",
   "execution_count": 151,
   "metadata": {
    "collapsed": true
   },
   "outputs": [],
   "source": [
    "# Trying now without \"min\" and \"max\"\n",
    "X = np.array(time_series_retweets.drop([\"native_id\",\"min\",\"max\",\"total\"], axis=1))"
   ]
  },
  {
   "cell_type": "code",
   "execution_count": 152,
   "metadata": {
    "collapsed": false
   },
   "outputs": [
    {
     "name": "stdout",
     "output_type": "stream",
     "text": [
      "Training with Linear Regression\n",
      "CV scores: [ -1.26590584e-23  -6.66252090e-24  -2.71851257e-24  -1.08812791e-23\n",
      "  -1.13210297e-23]\n",
      "MSE: -8.84848013005e-24\n"
     ]
    }
   ],
   "source": [
    "training_with_linear_regression(X, y)"
   ]
  },
  {
   "cell_type": "code",
   "execution_count": 153,
   "metadata": {
    "collapsed": false
   },
   "outputs": [
    {
     "name": "stdout",
     "output_type": "stream",
     "text": [
      "Training with KNN regressor\n",
      "[mean: -41768.92920, std: 34008.47504, params: {'n_neighbors': 1}, mean: -41458.89270, std: 34956.70522, params: {'n_neighbors': 2}, mean: -37645.64307, std: 23096.14633, params: {'n_neighbors': 3}, mean: -34407.42423, std: 17201.35248, params: {'n_neighbors': 4}, mean: -34157.00478, std: 19483.42620, params: {'n_neighbors': 5}, mean: -34914.72861, std: 17554.31190, params: {'n_neighbors': 6}, mean: -40054.14791, std: 17954.85667, params: {'n_neighbors': 7}, mean: -40492.99274, std: 20144.30644, params: {'n_neighbors': 8}, mean: -42204.09773, std: 26009.64213, params: {'n_neighbors': 9}, mean: -42869.86221, std: 26647.44285, params: {'n_neighbors': 10}]\n"
     ]
    }
   ],
   "source": [
    "training_with_knn_regressor(X, y)"
   ]
  },
  {
   "cell_type": "code",
   "execution_count": 154,
   "metadata": {
    "collapsed": false
   },
   "outputs": [
    {
     "name": "stdout",
     "output_type": "stream",
     "text": [
      "Training with SVR\n",
      "[mean: -1154848.63467, std: 447882.05447, params: {'epsilon': 0.1, 'gamma': 0.0, 'degree': 1}, mean: -1179873.59959, std: 449217.09352, params: {'epsilon': 0.1, 'gamma': 0.1, 'degree': 1}, mean: -1180365.44368, std: 449148.61866, params: {'epsilon': 0.1, 'gamma': 0.2, 'degree': 1}, mean: -1154840.93200, std: 447884.13235, params: {'epsilon': 0.2, 'gamma': 0.0, 'degree': 1}, mean: -1179869.00389, std: 449217.97659, params: {'epsilon': 0.2, 'gamma': 0.1, 'degree': 1}, mean: -1180360.84288, std: 449149.50275, params: {'epsilon': 0.2, 'gamma': 0.2, 'degree': 1}, mean: -1154830.23844, std: 447887.01895, params: {'epsilon': 0.3, 'gamma': 0.0, 'degree': 1}, mean: -1179864.41023, std: 449218.85967, params: {'epsilon': 0.3, 'gamma': 0.1, 'degree': 1}, mean: -1180356.24411, std: 449150.38685, params: {'epsilon': 0.3, 'gamma': 0.2, 'degree': 1}, mean: -1154848.63467, std: 447882.05447, params: {'epsilon': 0.1, 'gamma': 0.0, 'degree': 2}, mean: -1179873.59959, std: 449217.09352, params: {'epsilon': 0.1, 'gamma': 0.1, 'degree': 2}, mean: -1180365.44368, std: 449148.61866, params: {'epsilon': 0.1, 'gamma': 0.2, 'degree': 2}, mean: -1154840.93200, std: 447884.13235, params: {'epsilon': 0.2, 'gamma': 0.0, 'degree': 2}, mean: -1179869.00389, std: 449217.97659, params: {'epsilon': 0.2, 'gamma': 0.1, 'degree': 2}, mean: -1180360.84288, std: 449149.50275, params: {'epsilon': 0.2, 'gamma': 0.2, 'degree': 2}, mean: -1154830.23844, std: 447887.01895, params: {'epsilon': 0.3, 'gamma': 0.0, 'degree': 2}, mean: -1179864.41023, std: 449218.85967, params: {'epsilon': 0.3, 'gamma': 0.1, 'degree': 2}, mean: -1180356.24411, std: 449150.38685, params: {'epsilon': 0.3, 'gamma': 0.2, 'degree': 2}, mean: -1154848.63467, std: 447882.05447, params: {'epsilon': 0.1, 'gamma': 0.0, 'degree': 3}, mean: -1179873.59959, std: 449217.09352, params: {'epsilon': 0.1, 'gamma': 0.1, 'degree': 3}, mean: -1180365.44368, std: 449148.61866, params: {'epsilon': 0.1, 'gamma': 0.2, 'degree': 3}, mean: -1154840.93200, std: 447884.13235, params: {'epsilon': 0.2, 'gamma': 0.0, 'degree': 3}, mean: -1179869.00389, std: 449217.97659, params: {'epsilon': 0.2, 'gamma': 0.1, 'degree': 3}, mean: -1180360.84288, std: 449149.50275, params: {'epsilon': 0.2, 'gamma': 0.2, 'degree': 3}, mean: -1154830.23844, std: 447887.01895, params: {'epsilon': 0.3, 'gamma': 0.0, 'degree': 3}, mean: -1179864.41023, std: 449218.85967, params: {'epsilon': 0.3, 'gamma': 0.1, 'degree': 3}, mean: -1180356.24411, std: 449150.38685, params: {'epsilon': 0.3, 'gamma': 0.2, 'degree': 3}, mean: -1154848.63467, std: 447882.05447, params: {'epsilon': 0.1, 'gamma': 0.0, 'degree': 4}, mean: -1179873.59959, std: 449217.09352, params: {'epsilon': 0.1, 'gamma': 0.1, 'degree': 4}, mean: -1180365.44368, std: 449148.61866, params: {'epsilon': 0.1, 'gamma': 0.2, 'degree': 4}, mean: -1154840.93200, std: 447884.13235, params: {'epsilon': 0.2, 'gamma': 0.0, 'degree': 4}, mean: -1179869.00389, std: 449217.97659, params: {'epsilon': 0.2, 'gamma': 0.1, 'degree': 4}, mean: -1180360.84288, std: 449149.50275, params: {'epsilon': 0.2, 'gamma': 0.2, 'degree': 4}, mean: -1154830.23844, std: 447887.01895, params: {'epsilon': 0.3, 'gamma': 0.0, 'degree': 4}, mean: -1179864.41023, std: 449218.85967, params: {'epsilon': 0.3, 'gamma': 0.1, 'degree': 4}, mean: -1180356.24411, std: 449150.38685, params: {'epsilon': 0.3, 'gamma': 0.2, 'degree': 4}, mean: -1154848.63467, std: 447882.05447, params: {'epsilon': 0.1, 'gamma': 0.0, 'degree': 5}, mean: -1179873.59959, std: 449217.09352, params: {'epsilon': 0.1, 'gamma': 0.1, 'degree': 5}, mean: -1180365.44368, std: 449148.61866, params: {'epsilon': 0.1, 'gamma': 0.2, 'degree': 5}, mean: -1154840.93200, std: 447884.13235, params: {'epsilon': 0.2, 'gamma': 0.0, 'degree': 5}, mean: -1179869.00389, std: 449217.97659, params: {'epsilon': 0.2, 'gamma': 0.1, 'degree': 5}, mean: -1180360.84288, std: 449149.50275, params: {'epsilon': 0.2, 'gamma': 0.2, 'degree': 5}, mean: -1154830.23844, std: 447887.01895, params: {'epsilon': 0.3, 'gamma': 0.0, 'degree': 5}, mean: -1179864.41023, std: 449218.85967, params: {'epsilon': 0.3, 'gamma': 0.1, 'degree': 5}, mean: -1180356.24411, std: 449150.38685, params: {'epsilon': 0.3, 'gamma': 0.2, 'degree': 5}]\n"
     ]
    }
   ],
   "source": [
    "training_with_svr(X, y)"
   ]
  },
  {
   "cell_type": "code",
   "execution_count": 157,
   "metadata": {
    "collapsed": false
   },
   "outputs": [
    {
     "name": "stdout",
     "output_type": "stream",
     "text": [
      "Training with AdaBoostRegressor\n",
      "[mean: -13039.35726, std: 9231.47412, params: {'n_estimators': 25}, mean: -12986.41342, std: 13074.69283, params: {'n_estimators': 26}, mean: -14523.80270, std: 16628.59255, params: {'n_estimators': 27}, mean: -11854.64944, std: 10075.30154, params: {'n_estimators': 28}, mean: -11830.50700, std: 9839.16201, params: {'n_estimators': 29}, mean: -10833.28104, std: 9975.99821, params: {'n_estimators': 30}, mean: -13609.47290, std: 14351.77180, params: {'n_estimators': 31}, mean: -13504.63625, std: 11205.11707, params: {'n_estimators': 32}, mean: -12231.07028, std: 10163.54384, params: {'n_estimators': 33}, mean: -12712.38480, std: 11259.57334, params: {'n_estimators': 34}, mean: -13317.12668, std: 12259.28447, params: {'n_estimators': 35}, mean: -10111.41985, std: 9462.64567, params: {'n_estimators': 36}, mean: -12634.01979, std: 14041.41893, params: {'n_estimators': 37}, mean: -11596.18381, std: 11850.15624, params: {'n_estimators': 38}, mean: -11374.11252, std: 11026.88613, params: {'n_estimators': 39}, mean: -11966.23499, std: 10320.12992, params: {'n_estimators': 40}, mean: -11036.21741, std: 9524.72626, params: {'n_estimators': 41}, mean: -12771.25313, std: 12330.61984, params: {'n_estimators': 42}, mean: -12517.32448, std: 10909.06018, params: {'n_estimators': 43}, mean: -12829.22424, std: 12975.89164, params: {'n_estimators': 44}, mean: -10811.03071, std: 9616.88693, params: {'n_estimators': 45}, mean: -13338.13076, std: 13827.52039, params: {'n_estimators': 46}, mean: -12294.96841, std: 10687.61678, params: {'n_estimators': 47}, mean: -9805.31591, std: 9618.96050, params: {'n_estimators': 48}, mean: -11380.83757, std: 11854.28616, params: {'n_estimators': 49}, mean: -11290.84361, std: 9296.66444, params: {'n_estimators': 50}, mean: -11671.87401, std: 12597.68170, params: {'n_estimators': 51}, mean: -11515.49798, std: 12023.07659, params: {'n_estimators': 52}, mean: -11178.58827, std: 12014.23497, params: {'n_estimators': 53}, mean: -13158.63871, std: 11027.84003, params: {'n_estimators': 54}, mean: -11558.15257, std: 11291.13243, params: {'n_estimators': 55}, mean: -10283.93359, std: 10524.32813, params: {'n_estimators': 56}, mean: -12244.51011, std: 12406.45712, params: {'n_estimators': 57}, mean: -16621.80679, std: 19615.89091, params: {'n_estimators': 58}, mean: -14149.42010, std: 15794.22479, params: {'n_estimators': 59}, mean: -11280.97157, std: 11280.42376, params: {'n_estimators': 60}, mean: -10390.96303, std: 10588.58783, params: {'n_estimators': 61}, mean: -9403.67883, std: 9628.86219, params: {'n_estimators': 62}, mean: -12450.96138, std: 13924.20786, params: {'n_estimators': 63}, mean: -12395.19973, std: 10921.50635, params: {'n_estimators': 64}, mean: -11698.51945, std: 9685.62057, params: {'n_estimators': 65}, mean: -10708.10445, std: 11634.91102, params: {'n_estimators': 66}, mean: -10493.64211, std: 10157.21575, params: {'n_estimators': 67}, mean: -11773.83952, std: 11081.99067, params: {'n_estimators': 68}, mean: -10697.34853, std: 11042.40189, params: {'n_estimators': 69}]\n"
     ]
    }
   ],
   "source": [
    "training_with_ada_boost_regressor(X, y)"
   ]
  },
  {
   "cell_type": "code",
   "execution_count": 158,
   "metadata": {
    "collapsed": true
   },
   "outputs": [],
   "source": [
    "# Trying now without \"min\", \"max\" and \"median\"\n",
    "X = np.array(time_series_retweets.drop([\"native_id\",\"min\",\"max\",\"median\",\"total\"], axis=1))"
   ]
  },
  {
   "cell_type": "code",
   "execution_count": 159,
   "metadata": {
    "collapsed": false
   },
   "outputs": [
    {
     "name": "stdout",
     "output_type": "stream",
     "text": [
      "Training with Linear Regression\n",
      "CV scores: [ -1.01766756e-23  -4.52576331e-24  -4.55080379e-24  -2.25141401e-23\n",
      "  -7.80353892e-24]\n",
      "MSE: -9.91418433043e-24\n"
     ]
    }
   ],
   "source": [
    "training_with_linear_regression(X, y)"
   ]
  },
  {
   "cell_type": "code",
   "execution_count": 160,
   "metadata": {
    "collapsed": false
   },
   "outputs": [
    {
     "name": "stdout",
     "output_type": "stream",
     "text": [
      "Training with KNN regressor\n",
      "[mean: -38952.84956, std: 19438.69730, params: {'n_neighbors': 1}, mean: -36216.86836, std: 15400.49632, params: {'n_neighbors': 2}, mean: -38352.67945, std: 15415.29173, params: {'n_neighbors': 3}, mean: -37830.94580, std: 14614.43543, params: {'n_neighbors': 4}, mean: -36828.96619, std: 16045.50713, params: {'n_neighbors': 5}, mean: -37271.83800, std: 17749.24075, params: {'n_neighbors': 6}, mean: -38499.50948, std: 18252.41280, params: {'n_neighbors': 7}, mean: -40978.90321, std: 17689.41468, params: {'n_neighbors': 8}, mean: -40977.77685, std: 19438.46690, params: {'n_neighbors': 9}, mean: -42231.81619, std: 23023.85029, params: {'n_neighbors': 10}]\n"
     ]
    }
   ],
   "source": [
    "training_with_knn_regressor(X, y)"
   ]
  },
  {
   "cell_type": "code",
   "execution_count": 161,
   "metadata": {
    "collapsed": false
   },
   "outputs": [
    {
     "name": "stdout",
     "output_type": "stream",
     "text": [
      "Training with SVR\n",
      "[mean: -1155095.16256, std: 447952.00079, params: {'epsilon': 0.1, 'gamma': 0.0, 'degree': 1}, mean: -1179569.88035, std: 449255.03408, params: {'epsilon': 0.1, 'gamma': 0.1, 'degree': 1}, mean: -1180323.19835, std: 449160.05020, params: {'epsilon': 0.1, 'gamma': 0.2, 'degree': 1}, mean: -1155084.52180, std: 447951.56136, params: {'epsilon': 0.2, 'gamma': 0.0, 'degree': 1}, mean: -1179565.28512, std: 449255.91573, params: {'epsilon': 0.2, 'gamma': 0.1, 'degree': 1}, mean: -1180318.59778, std: 449160.93402, params: {'epsilon': 0.2, 'gamma': 0.2, 'degree': 1}, mean: -1155073.88308, std: 447951.12420, params: {'epsilon': 0.3, 'gamma': 0.0, 'degree': 1}, mean: -1179560.69192, std: 449256.79740, params: {'epsilon': 0.3, 'gamma': 0.1, 'degree': 1}, mean: -1180313.99925, std: 449161.81786, params: {'epsilon': 0.3, 'gamma': 0.2, 'degree': 1}, mean: -1155095.16256, std: 447952.00079, params: {'epsilon': 0.1, 'gamma': 0.0, 'degree': 2}, mean: -1179569.88035, std: 449255.03408, params: {'epsilon': 0.1, 'gamma': 0.1, 'degree': 2}, mean: -1180323.19835, std: 449160.05020, params: {'epsilon': 0.1, 'gamma': 0.2, 'degree': 2}, mean: -1155084.52180, std: 447951.56136, params: {'epsilon': 0.2, 'gamma': 0.0, 'degree': 2}, mean: -1179565.28512, std: 449255.91573, params: {'epsilon': 0.2, 'gamma': 0.1, 'degree': 2}, mean: -1180318.59778, std: 449160.93402, params: {'epsilon': 0.2, 'gamma': 0.2, 'degree': 2}, mean: -1155073.88308, std: 447951.12420, params: {'epsilon': 0.3, 'gamma': 0.0, 'degree': 2}, mean: -1179560.69192, std: 449256.79740, params: {'epsilon': 0.3, 'gamma': 0.1, 'degree': 2}, mean: -1180313.99925, std: 449161.81786, params: {'epsilon': 0.3, 'gamma': 0.2, 'degree': 2}, mean: -1155095.16256, std: 447952.00079, params: {'epsilon': 0.1, 'gamma': 0.0, 'degree': 3}, mean: -1179569.88035, std: 449255.03408, params: {'epsilon': 0.1, 'gamma': 0.1, 'degree': 3}, mean: -1180323.19835, std: 449160.05020, params: {'epsilon': 0.1, 'gamma': 0.2, 'degree': 3}, mean: -1155084.52180, std: 447951.56136, params: {'epsilon': 0.2, 'gamma': 0.0, 'degree': 3}, mean: -1179565.28512, std: 449255.91573, params: {'epsilon': 0.2, 'gamma': 0.1, 'degree': 3}, mean: -1180318.59778, std: 449160.93402, params: {'epsilon': 0.2, 'gamma': 0.2, 'degree': 3}, mean: -1155073.88308, std: 447951.12420, params: {'epsilon': 0.3, 'gamma': 0.0, 'degree': 3}, mean: -1179560.69192, std: 449256.79740, params: {'epsilon': 0.3, 'gamma': 0.1, 'degree': 3}, mean: -1180313.99925, std: 449161.81786, params: {'epsilon': 0.3, 'gamma': 0.2, 'degree': 3}, mean: -1155095.16256, std: 447952.00079, params: {'epsilon': 0.1, 'gamma': 0.0, 'degree': 4}, mean: -1179569.88035, std: 449255.03408, params: {'epsilon': 0.1, 'gamma': 0.1, 'degree': 4}, mean: -1180323.19835, std: 449160.05020, params: {'epsilon': 0.1, 'gamma': 0.2, 'degree': 4}, mean: -1155084.52180, std: 447951.56136, params: {'epsilon': 0.2, 'gamma': 0.0, 'degree': 4}, mean: -1179565.28512, std: 449255.91573, params: {'epsilon': 0.2, 'gamma': 0.1, 'degree': 4}, mean: -1180318.59778, std: 449160.93402, params: {'epsilon': 0.2, 'gamma': 0.2, 'degree': 4}, mean: -1155073.88308, std: 447951.12420, params: {'epsilon': 0.3, 'gamma': 0.0, 'degree': 4}, mean: -1179560.69192, std: 449256.79740, params: {'epsilon': 0.3, 'gamma': 0.1, 'degree': 4}, mean: -1180313.99925, std: 449161.81786, params: {'epsilon': 0.3, 'gamma': 0.2, 'degree': 4}, mean: -1155095.16256, std: 447952.00079, params: {'epsilon': 0.1, 'gamma': 0.0, 'degree': 5}, mean: -1179569.88035, std: 449255.03408, params: {'epsilon': 0.1, 'gamma': 0.1, 'degree': 5}, mean: -1180323.19835, std: 449160.05020, params: {'epsilon': 0.1, 'gamma': 0.2, 'degree': 5}, mean: -1155084.52180, std: 447951.56136, params: {'epsilon': 0.2, 'gamma': 0.0, 'degree': 5}, mean: -1179565.28512, std: 449255.91573, params: {'epsilon': 0.2, 'gamma': 0.1, 'degree': 5}, mean: -1180318.59778, std: 449160.93402, params: {'epsilon': 0.2, 'gamma': 0.2, 'degree': 5}, mean: -1155073.88308, std: 447951.12420, params: {'epsilon': 0.3, 'gamma': 0.0, 'degree': 5}, mean: -1179560.69192, std: 449256.79740, params: {'epsilon': 0.3, 'gamma': 0.1, 'degree': 5}, mean: -1180313.99925, std: 449161.81786, params: {'epsilon': 0.3, 'gamma': 0.2, 'degree': 5}]\n"
     ]
    }
   ],
   "source": [
    "training_with_svr(X, y)"
   ]
  },
  {
   "cell_type": "code",
   "execution_count": 162,
   "metadata": {
    "collapsed": false
   },
   "outputs": [
    {
     "name": "stdout",
     "output_type": "stream",
     "text": [
      "Training with AdaBoostRegressor\n",
      "[mean: -12154.32749, std: 10041.37466, params: {'n_estimators': 25}, mean: -14224.21564, std: 14670.27547, params: {'n_estimators': 26}, mean: -12840.16042, std: 10359.11685, params: {'n_estimators': 27}, mean: -11278.84744, std: 9978.28275, params: {'n_estimators': 28}, mean: -12718.87654, std: 12069.25525, params: {'n_estimators': 29}, mean: -13179.46784, std: 15251.50027, params: {'n_estimators': 30}, mean: -11559.52690, std: 14138.37800, params: {'n_estimators': 31}, mean: -12668.60127, std: 10333.27827, params: {'n_estimators': 32}, mean: -14032.17118, std: 15088.01329, params: {'n_estimators': 33}, mean: -12496.77394, std: 15128.99485, params: {'n_estimators': 34}, mean: -12390.81398, std: 11912.70887, params: {'n_estimators': 35}, mean: -10934.74925, std: 11200.54499, params: {'n_estimators': 36}, mean: -11170.88379, std: 9703.12883, params: {'n_estimators': 37}, mean: -12405.63779, std: 13548.27085, params: {'n_estimators': 38}, mean: -11886.46240, std: 11240.05298, params: {'n_estimators': 39}, mean: -12516.59022, std: 12752.40797, params: {'n_estimators': 40}, mean: -12498.03205, std: 11608.99158, params: {'n_estimators': 41}, mean: -12945.30697, std: 11250.31536, params: {'n_estimators': 42}, mean: -11027.58672, std: 9679.68348, params: {'n_estimators': 43}, mean: -12306.30231, std: 12661.02140, params: {'n_estimators': 44}, mean: -10891.87364, std: 10307.56972, params: {'n_estimators': 45}, mean: -11564.20218, std: 11081.34206, params: {'n_estimators': 46}, mean: -11158.56306, std: 10535.25080, params: {'n_estimators': 47}, mean: -10779.36932, std: 10406.53973, params: {'n_estimators': 48}, mean: -12542.28077, std: 9717.76882, params: {'n_estimators': 49}, mean: -12607.31229, std: 12368.39950, params: {'n_estimators': 50}, mean: -12870.35704, std: 16139.47644, params: {'n_estimators': 51}, mean: -11606.89252, std: 11314.49188, params: {'n_estimators': 52}, mean: -10031.82946, std: 9933.67691, params: {'n_estimators': 53}, mean: -9955.45280, std: 9506.35609, params: {'n_estimators': 54}, mean: -10663.92428, std: 11142.46308, params: {'n_estimators': 55}, mean: -9932.84044, std: 10696.66567, params: {'n_estimators': 56}, mean: -11088.37892, std: 10546.13218, params: {'n_estimators': 57}, mean: -12758.38789, std: 11353.33125, params: {'n_estimators': 58}, mean: -11464.09525, std: 10987.05910, params: {'n_estimators': 59}, mean: -10619.98010, std: 10550.93992, params: {'n_estimators': 60}, mean: -12613.96784, std: 13403.86526, params: {'n_estimators': 61}, mean: -14506.36529, std: 18210.87981, params: {'n_estimators': 62}, mean: -13216.62907, std: 13512.83506, params: {'n_estimators': 63}, mean: -11308.26669, std: 11283.62944, params: {'n_estimators': 64}, mean: -13728.19070, std: 14937.95692, params: {'n_estimators': 65}, mean: -13357.34514, std: 15601.47408, params: {'n_estimators': 66}, mean: -11891.94055, std: 13097.53649, params: {'n_estimators': 67}, mean: -11188.33521, std: 12474.83145, params: {'n_estimators': 68}, mean: -10672.08072, std: 11113.66895, params: {'n_estimators': 69}]\n"
     ]
    }
   ],
   "source": [
    "training_with_ada_boost_regressor(X, y)"
   ]
  },
  {
   "cell_type": "code",
   "execution_count": null,
   "metadata": {
    "collapsed": true
   },
   "outputs": [],
   "source": []
  }
 ],
 "metadata": {
  "kernelspec": {
   "display_name": "Python 2",
   "language": "python",
   "name": "python2"
  },
  "language_info": {
   "codemirror_mode": {
    "name": "ipython",
    "version": 2
   },
   "file_extension": ".py",
   "mimetype": "text/x-python",
   "name": "python",
   "nbconvert_exporter": "python",
   "pygments_lexer": "ipython2",
   "version": "2.7.6"
  }
 },
 "nbformat": 4,
 "nbformat_minor": 0
}
