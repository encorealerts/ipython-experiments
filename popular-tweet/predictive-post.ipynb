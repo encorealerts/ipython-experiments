{
 "cells": [
  {
   "cell_type": "markdown",
   "metadata": {},
   "source": [
    "# Analysis for Predictive Post"
   ]
  },
  {
   "cell_type": "markdown",
   "metadata": {},
   "source": [
    "## Getting and Preparing Data"
   ]
  },
  {
   "cell_type": "code",
   "execution_count": 81,
   "metadata": {
    "collapsed": false
   },
   "outputs": [],
   "source": [
    "%matplotlib inline\n",
    "\n",
    "import pandas as pd\n",
    "import numpy as np\n",
    "import seaborn as sns\n",
    "import matplotlib as mpl\n",
    "import matplotlib.pyplot as plt \n",
    "import math"
   ]
  },
  {
   "cell_type": "markdown",
   "metadata": {},
   "source": [
    "## Loading Data"
   ]
  },
  {
   "cell_type": "code",
   "execution_count": 82,
   "metadata": {
    "collapsed": false
   },
   "outputs": [
    {
     "data": {
      "text/html": [
       "<div style=\"max-height:1000px;max-width:1500px;overflow:auto;\">\n",
       "<table border=\"1\" class=\"dataframe\">\n",
       "  <thead>\n",
       "    <tr style=\"text-align: right;\">\n",
       "      <th></th>\n",
       "      <th>native_id</th>\n",
       "      <th>C1</th>\n",
       "      <th>C2</th>\n",
       "      <th>C3</th>\n",
       "      <th>C4</th>\n",
       "      <th>C5</th>\n",
       "      <th>C6</th>\n",
       "      <th>C7</th>\n",
       "      <th>C8</th>\n",
       "      <th>C9</th>\n",
       "      <th>...</th>\n",
       "      <th>C43</th>\n",
       "      <th>C44</th>\n",
       "      <th>C45</th>\n",
       "      <th>C46</th>\n",
       "      <th>C47</th>\n",
       "      <th>C48</th>\n",
       "      <th>C49</th>\n",
       "      <th>C50</th>\n",
       "      <th>C51</th>\n",
       "      <th>C52</th>\n",
       "    </tr>\n",
       "  </thead>\n",
       "  <tbody>\n",
       "    <tr>\n",
       "      <th>0</th>\n",
       "      <td>613126094502383616</td>\n",
       "      <td>1</td>\n",
       "      <td>3</td>\n",
       "      <td>1</td>\n",
       "      <td>8</td>\n",
       "      <td>6</td>\n",
       "      <td>13</td>\n",
       "      <td>7</td>\n",
       "      <td>7</td>\n",
       "      <td>5</td>\n",
       "      <td>...</td>\n",
       "      <td>3</td>\n",
       "      <td>7</td>\n",
       "      <td>7</td>\n",
       "      <td>1</td>\n",
       "      <td>4</td>\n",
       "      <td>5</td>\n",
       "      <td>4</td>\n",
       "      <td>4</td>\n",
       "      <td>2</td>\n",
       "      <td>6</td>\n",
       "    </tr>\n",
       "    <tr>\n",
       "      <th>1</th>\n",
       "      <td>613078560258027520</td>\n",
       "      <td>1</td>\n",
       "      <td>3</td>\n",
       "      <td>7</td>\n",
       "      <td>9</td>\n",
       "      <td>5</td>\n",
       "      <td>8</td>\n",
       "      <td>4</td>\n",
       "      <td>7</td>\n",
       "      <td>11</td>\n",
       "      <td>...</td>\n",
       "      <td>4</td>\n",
       "      <td>2</td>\n",
       "      <td>4</td>\n",
       "      <td>3</td>\n",
       "      <td>4</td>\n",
       "      <td>6</td>\n",
       "      <td>9</td>\n",
       "      <td>2</td>\n",
       "      <td>2</td>\n",
       "      <td>5</td>\n",
       "    </tr>\n",
       "    <tr>\n",
       "      <th>2</th>\n",
       "      <td>613051857972412417</td>\n",
       "      <td>1</td>\n",
       "      <td>3</td>\n",
       "      <td>5</td>\n",
       "      <td>6</td>\n",
       "      <td>6</td>\n",
       "      <td>12</td>\n",
       "      <td>2</td>\n",
       "      <td>12</td>\n",
       "      <td>10</td>\n",
       "      <td>...</td>\n",
       "      <td>3</td>\n",
       "      <td>6</td>\n",
       "      <td>2</td>\n",
       "      <td>2</td>\n",
       "      <td>5</td>\n",
       "      <td>5</td>\n",
       "      <td>5</td>\n",
       "      <td>5</td>\n",
       "      <td>5</td>\n",
       "      <td>2</td>\n",
       "    </tr>\n",
       "    <tr>\n",
       "      <th>3</th>\n",
       "      <td>613405785415122944</td>\n",
       "      <td>1</td>\n",
       "      <td>1</td>\n",
       "      <td>0</td>\n",
       "      <td>0</td>\n",
       "      <td>1</td>\n",
       "      <td>0</td>\n",
       "      <td>0</td>\n",
       "      <td>0</td>\n",
       "      <td>2</td>\n",
       "      <td>...</td>\n",
       "      <td>0</td>\n",
       "      <td>3</td>\n",
       "      <td>3</td>\n",
       "      <td>3</td>\n",
       "      <td>1</td>\n",
       "      <td>6</td>\n",
       "      <td>4</td>\n",
       "      <td>9</td>\n",
       "      <td>6</td>\n",
       "      <td>3</td>\n",
       "    </tr>\n",
       "    <tr>\n",
       "      <th>4</th>\n",
       "      <td>613713695844270081</td>\n",
       "      <td>2</td>\n",
       "      <td>10</td>\n",
       "      <td>11</td>\n",
       "      <td>12</td>\n",
       "      <td>16</td>\n",
       "      <td>21</td>\n",
       "      <td>15</td>\n",
       "      <td>11</td>\n",
       "      <td>9</td>\n",
       "      <td>...</td>\n",
       "      <td>4</td>\n",
       "      <td>4</td>\n",
       "      <td>2</td>\n",
       "      <td>2</td>\n",
       "      <td>5</td>\n",
       "      <td>1</td>\n",
       "      <td>5</td>\n",
       "      <td>3</td>\n",
       "      <td>4</td>\n",
       "      <td>0</td>\n",
       "    </tr>\n",
       "  </tbody>\n",
       "</table>\n",
       "<p>5 rows × 53 columns</p>\n",
       "</div>"
      ],
      "text/plain": [
       "            native_id  C1  C2  C3  C4  C5  C6  C7  C8  C9 ...   C43  C44  C45  \\\n",
       "0  613126094502383616   1   3   1   8   6  13   7   7   5 ...     3    7    7   \n",
       "1  613078560258027520   1   3   7   9   5   8   4   7  11 ...     4    2    4   \n",
       "2  613051857972412417   1   3   5   6   6  12   2  12  10 ...     3    6    2   \n",
       "3  613405785415122944   1   1   0   0   1   0   0   0   2 ...     0    3    3   \n",
       "4  613713695844270081   2  10  11  12  16  21  15  11   9 ...     4    4    2   \n",
       "\n",
       "   C46  C47  C48  C49  C50  C51  C52  \n",
       "0    1    4    5    4    4    2    6  \n",
       "1    3    4    6    9    2    2    5  \n",
       "2    2    5    5    5    5    5    2  \n",
       "3    3    1    6    4    9    6    3  \n",
       "4    2    5    1    5    3    4    0  \n",
       "\n",
       "[5 rows x 53 columns]"
      ]
     },
     "execution_count": 82,
     "metadata": {},
     "output_type": "execute_result"
    }
   ],
   "source": [
    "time_series_cols = map(lambda c: \"C\"+str(c), range(1,53))\n",
    "cols_names = [\"native_id\"] + time_series_cols\n",
    "\n",
    "dtype = {}\n",
    "for c in time_series_cols:\n",
    "    dtype[c] = np.int32\n",
    "\n",
    "time_series_retweets = pd.read_csv('data/time_series_popular_tweets_all_crop.csv', \n",
    "                                   dtype=dtype, header=None, names=cols_names)\n",
    "time_series_retweets.head()"
   ]
  },
  {
   "cell_type": "markdown",
   "metadata": {},
   "source": [
    "## Prepare for training"
   ]
  },
  {
   "cell_type": "code",
   "execution_count": 83,
   "metadata": {
    "collapsed": false
   },
   "outputs": [],
   "source": [
    "X = np.array(time_series_retweets.drop([\"native_id\",\"C52\"], axis=1))\n",
    "y = time_series_retweets.C52.values\n",
    "\n",
    "# from sklearn.cross_validation import train_test_split\n",
    "# X_train, X_test, y_train, y_test = train_test_split(X, y, random_state=4)"
   ]
  },
  {
   "cell_type": "markdown",
   "metadata": {},
   "source": [
    "## Training the model"
   ]
  },
  {
   "cell_type": "code",
   "execution_count": 84,
   "metadata": {
    "collapsed": true
   },
   "outputs": [],
   "source": [
    "from sklearn.linear_model import LinearRegression\n",
    "from sklearn.ensemble import AdaBoostRegressor\n",
    "from sklearn.neighbors import KNeighborsRegressor\n",
    "from sklearn.svm import SVR\n",
    "\n",
    "from sklearn.cross_validation import cross_val_score\n",
    "from sklearn.grid_search import GridSearchCV\n",
    "from sklearn import metrics"
   ]
  },
  {
   "cell_type": "markdown",
   "metadata": {},
   "source": [
    "### Train with Linear Regression"
   ]
  },
  {
   "cell_type": "code",
   "execution_count": 85,
   "metadata": {
    "collapsed": false
   },
   "outputs": [
    {
     "name": "stdout",
     "output_type": "stream",
     "text": [
      "Training with Linear Regression\n",
      "CV scores: [-60.76069761 -19.9617242  -26.24870192 -63.17446096 -13.59748703]\n",
      "MSE: -36.7486143418\n"
     ]
    }
   ],
   "source": [
    "print \"Training with Linear Regression\"\n",
    "\n",
    "model = LinearRegression()\n",
    "\n",
    "scores = cross_val_score(model, X, y, scoring=\"mean_squared_error\", cv=5)\n",
    "\n",
    "print \"CV scores: \" + str(scores)\n",
    "print \"MSE: \" + str(scores.mean())"
   ]
  },
  {
   "cell_type": "markdown",
   "metadata": {},
   "source": [
    "### Train with KNeighborsRegressor"
   ]
  },
  {
   "cell_type": "code",
   "execution_count": 86,
   "metadata": {
    "collapsed": false
   },
   "outputs": [
    {
     "name": "stdout",
     "output_type": "stream",
     "text": [
      "Training with KNN regressor\n"
     ]
    },
    {
     "data": {
      "text/plain": [
       "[mean: -32.04425, std: 21.98382, params: {'n_neighbors': 1},\n",
       " mean: -29.17810, std: 16.59492, params: {'n_neighbors': 2},\n",
       " mean: -26.52409, std: 14.45605, params: {'n_neighbors': 3},\n",
       " mean: -27.59015, std: 15.65082, params: {'n_neighbors': 4},\n",
       " mean: -26.87575, std: 16.93989, params: {'n_neighbors': 5},\n",
       " mean: -29.06723, std: 20.34946, params: {'n_neighbors': 6},\n",
       " mean: -29.90275, std: 22.01556, params: {'n_neighbors': 7},\n",
       " mean: -31.16074, std: 22.40635, params: {'n_neighbors': 8},\n",
       " mean: -30.73653, std: 20.89489, params: {'n_neighbors': 9},\n",
       " mean: -31.23279, std: 21.74715, params: {'n_neighbors': 10}]"
      ]
     },
     "execution_count": 86,
     "metadata": {},
     "output_type": "execute_result"
    }
   ],
   "source": [
    "print \"Training with KNN regressor\"\n",
    "\n",
    "model = KNeighborsRegressor()\n",
    "\n",
    "k_range = range(1,11)\n",
    "param_dist = dict(n_neighbors=k_range)\n",
    "\n",
    "grid = GridSearchCV(model, param_dist, cv=10, scoring=\"mean_squared_error\")\n",
    "grid.fit(X, y)\n",
    "grid.grid_scores_"
   ]
  },
  {
   "cell_type": "markdown",
   "metadata": {},
   "source": [
    "### Train with SVR"
   ]
  },
  {
   "cell_type": "code",
   "execution_count": 87,
   "metadata": {
    "collapsed": false
   },
   "outputs": [
    {
     "name": "stdout",
     "output_type": "stream",
     "text": [
      "Training with SVR\n"
     ]
    },
    {
     "data": {
      "text/plain": [
       "[mean: -71.04571, std: 37.42715, params: {'epsilon': 0.1, 'gamma': 0.0, 'degree': 1},\n",
       " mean: -73.95263, std: 37.09928, params: {'epsilon': 0.1, 'gamma': 0.1, 'degree': 1},\n",
       " mean: -74.46928, std: 36.96297, params: {'epsilon': 0.1, 'gamma': 0.2, 'degree': 1},\n",
       " mean: -71.01866, std: 37.43880, params: {'epsilon': 0.2, 'gamma': 0.0, 'degree': 1},\n",
       " mean: -73.88824, std: 37.12427, params: {'epsilon': 0.2, 'gamma': 0.1, 'degree': 1},\n",
       " mean: -74.40376, std: 36.98997, params: {'epsilon': 0.2, 'gamma': 0.2, 'degree': 1},\n",
       " mean: -70.96863, std: 37.44361, params: {'epsilon': 0.3, 'gamma': 0.0, 'degree': 1},\n",
       " mean: -73.81701, std: 37.12309, params: {'epsilon': 0.3, 'gamma': 0.1, 'degree': 1},\n",
       " mean: -74.33231, std: 36.99027, params: {'epsilon': 0.3, 'gamma': 0.2, 'degree': 1},\n",
       " mean: -71.04571, std: 37.42715, params: {'epsilon': 0.1, 'gamma': 0.0, 'degree': 2},\n",
       " mean: -73.95263, std: 37.09928, params: {'epsilon': 0.1, 'gamma': 0.1, 'degree': 2},\n",
       " mean: -74.46928, std: 36.96297, params: {'epsilon': 0.1, 'gamma': 0.2, 'degree': 2},\n",
       " mean: -71.01866, std: 37.43880, params: {'epsilon': 0.2, 'gamma': 0.0, 'degree': 2},\n",
       " mean: -73.88824, std: 37.12427, params: {'epsilon': 0.2, 'gamma': 0.1, 'degree': 2},\n",
       " mean: -74.40376, std: 36.98997, params: {'epsilon': 0.2, 'gamma': 0.2, 'degree': 2},\n",
       " mean: -70.96863, std: 37.44361, params: {'epsilon': 0.3, 'gamma': 0.0, 'degree': 2},\n",
       " mean: -73.81701, std: 37.12309, params: {'epsilon': 0.3, 'gamma': 0.1, 'degree': 2},\n",
       " mean: -74.33231, std: 36.99027, params: {'epsilon': 0.3, 'gamma': 0.2, 'degree': 2},\n",
       " mean: -71.04571, std: 37.42715, params: {'epsilon': 0.1, 'gamma': 0.0, 'degree': 3},\n",
       " mean: -73.95263, std: 37.09928, params: {'epsilon': 0.1, 'gamma': 0.1, 'degree': 3},\n",
       " mean: -74.46928, std: 36.96297, params: {'epsilon': 0.1, 'gamma': 0.2, 'degree': 3},\n",
       " mean: -71.01866, std: 37.43880, params: {'epsilon': 0.2, 'gamma': 0.0, 'degree': 3},\n",
       " mean: -73.88824, std: 37.12427, params: {'epsilon': 0.2, 'gamma': 0.1, 'degree': 3},\n",
       " mean: -74.40376, std: 36.98997, params: {'epsilon': 0.2, 'gamma': 0.2, 'degree': 3},\n",
       " mean: -70.96863, std: 37.44361, params: {'epsilon': 0.3, 'gamma': 0.0, 'degree': 3},\n",
       " mean: -73.81701, std: 37.12309, params: {'epsilon': 0.3, 'gamma': 0.1, 'degree': 3},\n",
       " mean: -74.33231, std: 36.99027, params: {'epsilon': 0.3, 'gamma': 0.2, 'degree': 3},\n",
       " mean: -71.04571, std: 37.42715, params: {'epsilon': 0.1, 'gamma': 0.0, 'degree': 4},\n",
       " mean: -73.95263, std: 37.09928, params: {'epsilon': 0.1, 'gamma': 0.1, 'degree': 4},\n",
       " mean: -74.46928, std: 36.96297, params: {'epsilon': 0.1, 'gamma': 0.2, 'degree': 4},\n",
       " mean: -71.01866, std: 37.43880, params: {'epsilon': 0.2, 'gamma': 0.0, 'degree': 4},\n",
       " mean: -73.88824, std: 37.12427, params: {'epsilon': 0.2, 'gamma': 0.1, 'degree': 4},\n",
       " mean: -74.40376, std: 36.98997, params: {'epsilon': 0.2, 'gamma': 0.2, 'degree': 4},\n",
       " mean: -70.96863, std: 37.44361, params: {'epsilon': 0.3, 'gamma': 0.0, 'degree': 4},\n",
       " mean: -73.81701, std: 37.12309, params: {'epsilon': 0.3, 'gamma': 0.1, 'degree': 4},\n",
       " mean: -74.33231, std: 36.99027, params: {'epsilon': 0.3, 'gamma': 0.2, 'degree': 4},\n",
       " mean: -71.04571, std: 37.42715, params: {'epsilon': 0.1, 'gamma': 0.0, 'degree': 5},\n",
       " mean: -73.95263, std: 37.09928, params: {'epsilon': 0.1, 'gamma': 0.1, 'degree': 5},\n",
       " mean: -74.46928, std: 36.96297, params: {'epsilon': 0.1, 'gamma': 0.2, 'degree': 5},\n",
       " mean: -71.01866, std: 37.43880, params: {'epsilon': 0.2, 'gamma': 0.0, 'degree': 5},\n",
       " mean: -73.88824, std: 37.12427, params: {'epsilon': 0.2, 'gamma': 0.1, 'degree': 5},\n",
       " mean: -74.40376, std: 36.98997, params: {'epsilon': 0.2, 'gamma': 0.2, 'degree': 5},\n",
       " mean: -70.96863, std: 37.44361, params: {'epsilon': 0.3, 'gamma': 0.0, 'degree': 5},\n",
       " mean: -73.81701, std: 37.12309, params: {'epsilon': 0.3, 'gamma': 0.1, 'degree': 5},\n",
       " mean: -74.33231, std: 36.99027, params: {'epsilon': 0.3, 'gamma': 0.2, 'degree': 5}]"
      ]
     },
     "execution_count": 87,
     "metadata": {},
     "output_type": "execute_result"
    }
   ],
   "source": [
    "print \"Training with SVR\"\n",
    "\n",
    "model = SVR()\n",
    "\n",
    "epsilon_range = [0.1, 0.2, 0.3]\n",
    "degree_range  = [1, 2, 3, 4, 5]\n",
    "gamma_range   = [0.0, 0.1, 0.2]\n",
    "\n",
    "param_dist = dict(epsilon=epsilon_range, degree=degree_range, gamma=gamma_range)\n",
    "\n",
    "grid = GridSearchCV(model, param_dist, cv=10, scoring=\"mean_squared_error\")\n",
    "grid.fit(X, y)\n",
    "grid.grid_scores_"
   ]
  },
  {
   "cell_type": "markdown",
   "metadata": {},
   "source": [
    "### Train with AdaBoostRegressor"
   ]
  },
  {
   "cell_type": "code",
   "execution_count": 88,
   "metadata": {
    "collapsed": false
   },
   "outputs": [
    {
     "name": "stdout",
     "output_type": "stream",
     "text": [
      "Training with AdaBoostRegressor\n"
     ]
    },
    {
     "data": {
      "text/plain": [
       "[mean: -11.08758, std: 5.35349, params: {'n_estimators': 25},\n",
       " mean: -11.06453, std: 4.29922, params: {'n_estimators': 26},\n",
       " mean: -11.11246, std: 4.14822, params: {'n_estimators': 27},\n",
       " mean: -11.05079, std: 5.16545, params: {'n_estimators': 28},\n",
       " mean: -11.65714, std: 4.65338, params: {'n_estimators': 29},\n",
       " mean: -11.26937, std: 6.39830, params: {'n_estimators': 30},\n",
       " mean: -11.44757, std: 5.28737, params: {'n_estimators': 31},\n",
       " mean: -11.16917, std: 5.23394, params: {'n_estimators': 32},\n",
       " mean: -10.97287, std: 3.77929, params: {'n_estimators': 33},\n",
       " mean: -11.01235, std: 4.82901, params: {'n_estimators': 34},\n",
       " mean: -11.37493, std: 4.07290, params: {'n_estimators': 35},\n",
       " mean: -11.53272, std: 4.94420, params: {'n_estimators': 36},\n",
       " mean: -11.37836, std: 5.00200, params: {'n_estimators': 37},\n",
       " mean: -11.16357, std: 3.62453, params: {'n_estimators': 38},\n",
       " mean: -10.61961, std: 5.01775, params: {'n_estimators': 39},\n",
       " mean: -11.10091, std: 4.04944, params: {'n_estimators': 40},\n",
       " mean: -11.03331, std: 5.43966, params: {'n_estimators': 41},\n",
       " mean: -10.35503, std: 4.93801, params: {'n_estimators': 42},\n",
       " mean: -11.30212, std: 4.68424, params: {'n_estimators': 43},\n",
       " mean: -12.14818, std: 5.56890, params: {'n_estimators': 44},\n",
       " mean: -11.41415, std: 4.58744, params: {'n_estimators': 45},\n",
       " mean: -10.43886, std: 3.59208, params: {'n_estimators': 46},\n",
       " mean: -10.85528, std: 5.24044, params: {'n_estimators': 47},\n",
       " mean: -11.26026, std: 4.73773, params: {'n_estimators': 48},\n",
       " mean: -11.63285, std: 4.95727, params: {'n_estimators': 49},\n",
       " mean: -11.35877, std: 5.77634, params: {'n_estimators': 50},\n",
       " mean: -10.86201, std: 4.68707, params: {'n_estimators': 51},\n",
       " mean: -10.81891, std: 4.30200, params: {'n_estimators': 52},\n",
       " mean: -11.10400, std: 5.14498, params: {'n_estimators': 53},\n",
       " mean: -10.73768, std: 4.54354, params: {'n_estimators': 54},\n",
       " mean: -11.45867, std: 3.92060, params: {'n_estimators': 55},\n",
       " mean: -10.99428, std: 4.32555, params: {'n_estimators': 56},\n",
       " mean: -10.85494, std: 4.76200, params: {'n_estimators': 57},\n",
       " mean: -10.78952, std: 4.56590, params: {'n_estimators': 58},\n",
       " mean: -11.99490, std: 5.46939, params: {'n_estimators': 59},\n",
       " mean: -11.01158, std: 4.56478, params: {'n_estimators': 60},\n",
       " mean: -11.30301, std: 5.99169, params: {'n_estimators': 61},\n",
       " mean: -10.47632, std: 4.86658, params: {'n_estimators': 62},\n",
       " mean: -11.75197, std: 4.61477, params: {'n_estimators': 63},\n",
       " mean: -11.43999, std: 5.33704, params: {'n_estimators': 64},\n",
       " mean: -10.55659, std: 4.22448, params: {'n_estimators': 65},\n",
       " mean: -11.36191, std: 4.59470, params: {'n_estimators': 66},\n",
       " mean: -10.35932, std: 4.39866, params: {'n_estimators': 67},\n",
       " mean: -11.01935, std: 4.63831, params: {'n_estimators': 68},\n",
       " mean: -10.99994, std: 4.45783, params: {'n_estimators': 69}]"
      ]
     },
     "execution_count": 88,
     "metadata": {},
     "output_type": "execute_result"
    }
   ],
   "source": [
    "print \"Training with AdaBoostRegressor\"\n",
    "\n",
    "model = AdaBoostRegressor()\n",
    "\n",
    "n_estimators = range(25,70)\n",
    "\n",
    "param_dist = dict(n_estimators=n_estimators)\n",
    "\n",
    "grid = GridSearchCV(model, param_dist, cv=10, scoring=\"mean_squared_error\")\n",
    "grid.fit(X, y)\n",
    "grid.grid_scores_"
   ]
  }
 ],
 "metadata": {
  "kernelspec": {
   "display_name": "Python 2",
   "language": "python",
   "name": "python2"
  },
  "language_info": {
   "codemirror_mode": {
    "name": "ipython",
    "version": 2
   },
   "file_extension": ".py",
   "mimetype": "text/x-python",
   "name": "python",
   "nbconvert_exporter": "python",
   "pygments_lexer": "ipython2",
   "version": "2.7.6"
  }
 },
 "nbformat": 4,
 "nbformat_minor": 0
}
