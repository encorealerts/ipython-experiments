{
 "cells": [
  {
   "cell_type": "markdown",
   "metadata": {},
   "source": [
    "# Analysis for Predictive Post"
   ]
  },
  {
   "cell_type": "markdown",
   "metadata": {},
   "source": [
    "## Getting and Preparing Data"
   ]
  },
  {
   "cell_type": "code",
   "execution_count": 2,
   "metadata": {
    "collapsed": false
   },
   "outputs": [],
   "source": [
    "%matplotlib inline\n",
    "\n",
    "import pandas as pd\n",
    "import numpy as np\n",
    "import seaborn as sns\n",
    "import matplotlib as mpl\n",
    "import matplotlib.pyplot as plt \n",
    "import math"
   ]
  },
  {
   "cell_type": "markdown",
   "metadata": {},
   "source": [
    "## Loading Data"
   ]
  },
  {
   "cell_type": "code",
   "execution_count": 64,
   "metadata": {
    "collapsed": false
   },
   "outputs": [],
   "source": [
    "time_series_cols = map(lambda c: \"C\"+str(c), range(1,110))\n",
    "cols_names = [\"native_id\"] + time_series_cols\n",
    "\n",
    "dtype = {}\n",
    "for c in time_series_cols:\n",
    "    dtype[c] = np.int32\n",
    "\n",
    "time_series_retweets = pd.read_csv('data/time_series_popular_tweets_all_crop_100.csv', \n",
    "                                   dtype=dtype, header=None, names=cols_names)"
   ]
  },
  {
   "cell_type": "code",
   "execution_count": 65,
   "metadata": {
    "collapsed": false
   },
   "outputs": [
    {
     "data": {
      "text/html": [
       "<div style=\"max-height:1000px;max-width:1500px;overflow:auto;\">\n",
       "<table border=\"1\" class=\"dataframe\">\n",
       "  <thead>\n",
       "    <tr style=\"text-align: right;\">\n",
       "      <th></th>\n",
       "      <th>native_id</th>\n",
       "      <th>C1</th>\n",
       "      <th>C2</th>\n",
       "      <th>C3</th>\n",
       "      <th>C4</th>\n",
       "      <th>C5</th>\n",
       "      <th>C6</th>\n",
       "      <th>C7</th>\n",
       "      <th>C8</th>\n",
       "      <th>C9</th>\n",
       "      <th>...</th>\n",
       "      <th>C102</th>\n",
       "      <th>C103</th>\n",
       "      <th>C104</th>\n",
       "      <th>C105</th>\n",
       "      <th>C106</th>\n",
       "      <th>C107</th>\n",
       "      <th>C108</th>\n",
       "      <th>C109</th>\n",
       "      <th>mean</th>\n",
       "      <th>total</th>\n",
       "    </tr>\n",
       "  </thead>\n",
       "  <tbody>\n",
       "    <tr>\n",
       "      <th>0</th>\n",
       "      <td>613126094502383616</td>\n",
       "      <td>1</td>\n",
       "      <td>3</td>\n",
       "      <td>1</td>\n",
       "      <td>8</td>\n",
       "      <td>6</td>\n",
       "      <td>13</td>\n",
       "      <td>7</td>\n",
       "      <td>7</td>\n",
       "      <td>5</td>\n",
       "      <td>...</td>\n",
       "      <td>2</td>\n",
       "      <td>3</td>\n",
       "      <td>0</td>\n",
       "      <td>4</td>\n",
       "      <td>2</td>\n",
       "      <td>1</td>\n",
       "      <td>2</td>\n",
       "      <td>1</td>\n",
       "      <td>4.027523</td>\n",
       "      <td>439</td>\n",
       "    </tr>\n",
       "    <tr>\n",
       "      <th>1</th>\n",
       "      <td>613078560258027520</td>\n",
       "      <td>1</td>\n",
       "      <td>3</td>\n",
       "      <td>7</td>\n",
       "      <td>9</td>\n",
       "      <td>5</td>\n",
       "      <td>8</td>\n",
       "      <td>4</td>\n",
       "      <td>7</td>\n",
       "      <td>11</td>\n",
       "      <td>...</td>\n",
       "      <td>5</td>\n",
       "      <td>5</td>\n",
       "      <td>1</td>\n",
       "      <td>5</td>\n",
       "      <td>5</td>\n",
       "      <td>4</td>\n",
       "      <td>5</td>\n",
       "      <td>1</td>\n",
       "      <td>4.633028</td>\n",
       "      <td>505</td>\n",
       "    </tr>\n",
       "    <tr>\n",
       "      <th>2</th>\n",
       "      <td>613051857972412417</td>\n",
       "      <td>1</td>\n",
       "      <td>3</td>\n",
       "      <td>5</td>\n",
       "      <td>6</td>\n",
       "      <td>6</td>\n",
       "      <td>12</td>\n",
       "      <td>2</td>\n",
       "      <td>12</td>\n",
       "      <td>10</td>\n",
       "      <td>...</td>\n",
       "      <td>5</td>\n",
       "      <td>1</td>\n",
       "      <td>5</td>\n",
       "      <td>1</td>\n",
       "      <td>2</td>\n",
       "      <td>3</td>\n",
       "      <td>3</td>\n",
       "      <td>2</td>\n",
       "      <td>5.082569</td>\n",
       "      <td>554</td>\n",
       "    </tr>\n",
       "    <tr>\n",
       "      <th>3</th>\n",
       "      <td>613405785415122944</td>\n",
       "      <td>1</td>\n",
       "      <td>1</td>\n",
       "      <td>0</td>\n",
       "      <td>0</td>\n",
       "      <td>1</td>\n",
       "      <td>0</td>\n",
       "      <td>0</td>\n",
       "      <td>0</td>\n",
       "      <td>2</td>\n",
       "      <td>...</td>\n",
       "      <td>12</td>\n",
       "      <td>11</td>\n",
       "      <td>13</td>\n",
       "      <td>15</td>\n",
       "      <td>19</td>\n",
       "      <td>14</td>\n",
       "      <td>7</td>\n",
       "      <td>8</td>\n",
       "      <td>4.862385</td>\n",
       "      <td>530</td>\n",
       "    </tr>\n",
       "    <tr>\n",
       "      <th>4</th>\n",
       "      <td>613713695844270081</td>\n",
       "      <td>2</td>\n",
       "      <td>10</td>\n",
       "      <td>11</td>\n",
       "      <td>12</td>\n",
       "      <td>16</td>\n",
       "      <td>21</td>\n",
       "      <td>15</td>\n",
       "      <td>11</td>\n",
       "      <td>9</td>\n",
       "      <td>...</td>\n",
       "      <td>1</td>\n",
       "      <td>2</td>\n",
       "      <td>3</td>\n",
       "      <td>3</td>\n",
       "      <td>2</td>\n",
       "      <td>1</td>\n",
       "      <td>5</td>\n",
       "      <td>2</td>\n",
       "      <td>4.311927</td>\n",
       "      <td>470</td>\n",
       "    </tr>\n",
       "  </tbody>\n",
       "</table>\n",
       "<p>5 rows × 112 columns</p>\n",
       "</div>"
      ],
      "text/plain": [
       "            native_id  C1  C2  C3  C4  C5  C6  C7  C8  C9  ...    C102  C103  \\\n",
       "0  613126094502383616   1   3   1   8   6  13   7   7   5  ...       2     3   \n",
       "1  613078560258027520   1   3   7   9   5   8   4   7  11  ...       5     5   \n",
       "2  613051857972412417   1   3   5   6   6  12   2  12  10  ...       5     1   \n",
       "3  613405785415122944   1   1   0   0   1   0   0   0   2  ...      12    11   \n",
       "4  613713695844270081   2  10  11  12  16  21  15  11   9  ...       1     2   \n",
       "\n",
       "   C104  C105  C106  C107  C108  C109      mean  total  \n",
       "0     0     4     2     1     2     1  4.027523    439  \n",
       "1     1     5     5     4     5     1  4.633028    505  \n",
       "2     5     1     2     3     3     2  5.082569    554  \n",
       "3    13    15    19    14     7     8  4.862385    530  \n",
       "4     3     3     2     1     5     2  4.311927    470  \n",
       "\n",
       "[5 rows x 112 columns]"
      ]
     },
     "execution_count": 65,
     "metadata": {},
     "output_type": "execute_result"
    }
   ],
   "source": [
    "nrows = len(time_series_retweets)\n",
    "\n",
    "# Calculate mean values for each activity\n",
    "mean_col = pd.Series(map(lambda i: (time_series_retweets.T)[i].values[1:].mean(), range(nrows)), index=range(nrows))\n",
    "\n",
    "# Calculate total retweets for each activity\n",
    "total_col = pd.Series(map(lambda i: sum((time_series_retweets.T)[i].values[1:]), range(nrows)), index=range(nrows))\n",
    "\n",
    "time_series_retweets[\"mean\"]  = mean_col\n",
    "time_series_retweets[\"total\"] = total_col\n",
    "\n",
    "time_series_retweets.head()"
   ]
  },
  {
   "cell_type": "code",
   "execution_count": 66,
   "metadata": {
    "collapsed": false
   },
   "outputs": [
    {
     "data": {
      "text/html": [
       "<div style=\"max-height:1000px;max-width:1500px;overflow:auto;\">\n",
       "<table border=\"1\" class=\"dataframe\">\n",
       "  <thead>\n",
       "    <tr style=\"text-align: right;\">\n",
       "      <th></th>\n",
       "      <th>native_id</th>\n",
       "      <th>C1</th>\n",
       "      <th>C2</th>\n",
       "      <th>C3</th>\n",
       "      <th>C4</th>\n",
       "      <th>C5</th>\n",
       "      <th>C6</th>\n",
       "      <th>C7</th>\n",
       "      <th>C8</th>\n",
       "      <th>C9</th>\n",
       "      <th>...</th>\n",
       "      <th>C102</th>\n",
       "      <th>C103</th>\n",
       "      <th>C104</th>\n",
       "      <th>C105</th>\n",
       "      <th>C106</th>\n",
       "      <th>C107</th>\n",
       "      <th>C108</th>\n",
       "      <th>C109</th>\n",
       "      <th>mean</th>\n",
       "      <th>total</th>\n",
       "    </tr>\n",
       "  </thead>\n",
       "  <tbody>\n",
       "    <tr>\n",
       "      <th>0</th>\n",
       "      <td>6.131261e+17</td>\n",
       "      <td>0.248</td>\n",
       "      <td>0.745</td>\n",
       "      <td>0.248</td>\n",
       "      <td>1.986</td>\n",
       "      <td>1.490</td>\n",
       "      <td>3.228</td>\n",
       "      <td>1.738</td>\n",
       "      <td>1.738</td>\n",
       "      <td>1.241</td>\n",
       "      <td>...</td>\n",
       "      <td>0.497</td>\n",
       "      <td>0.745</td>\n",
       "      <td>0.000</td>\n",
       "      <td>0.993</td>\n",
       "      <td>0.497</td>\n",
       "      <td>0.248</td>\n",
       "      <td>0.497</td>\n",
       "      <td>0.248</td>\n",
       "      <td>4.027523</td>\n",
       "      <td>439</td>\n",
       "    </tr>\n",
       "    <tr>\n",
       "      <th>1</th>\n",
       "      <td>6.130786e+17</td>\n",
       "      <td>0.216</td>\n",
       "      <td>0.648</td>\n",
       "      <td>1.511</td>\n",
       "      <td>1.943</td>\n",
       "      <td>1.079</td>\n",
       "      <td>1.727</td>\n",
       "      <td>0.863</td>\n",
       "      <td>1.511</td>\n",
       "      <td>2.374</td>\n",
       "      <td>...</td>\n",
       "      <td>1.079</td>\n",
       "      <td>1.079</td>\n",
       "      <td>0.216</td>\n",
       "      <td>1.079</td>\n",
       "      <td>1.079</td>\n",
       "      <td>0.863</td>\n",
       "      <td>1.079</td>\n",
       "      <td>0.216</td>\n",
       "      <td>4.633028</td>\n",
       "      <td>505</td>\n",
       "    </tr>\n",
       "    <tr>\n",
       "      <th>2</th>\n",
       "      <td>6.130519e+17</td>\n",
       "      <td>0.197</td>\n",
       "      <td>0.590</td>\n",
       "      <td>0.984</td>\n",
       "      <td>1.181</td>\n",
       "      <td>1.181</td>\n",
       "      <td>2.361</td>\n",
       "      <td>0.394</td>\n",
       "      <td>2.361</td>\n",
       "      <td>1.968</td>\n",
       "      <td>...</td>\n",
       "      <td>0.984</td>\n",
       "      <td>0.197</td>\n",
       "      <td>0.984</td>\n",
       "      <td>0.197</td>\n",
       "      <td>0.394</td>\n",
       "      <td>0.590</td>\n",
       "      <td>0.590</td>\n",
       "      <td>0.394</td>\n",
       "      <td>5.082569</td>\n",
       "      <td>554</td>\n",
       "    </tr>\n",
       "    <tr>\n",
       "      <th>3</th>\n",
       "      <td>6.134058e+17</td>\n",
       "      <td>0.206</td>\n",
       "      <td>0.206</td>\n",
       "      <td>0.000</td>\n",
       "      <td>0.000</td>\n",
       "      <td>0.206</td>\n",
       "      <td>0.000</td>\n",
       "      <td>0.000</td>\n",
       "      <td>0.000</td>\n",
       "      <td>0.411</td>\n",
       "      <td>...</td>\n",
       "      <td>2.468</td>\n",
       "      <td>2.262</td>\n",
       "      <td>2.674</td>\n",
       "      <td>3.085</td>\n",
       "      <td>3.908</td>\n",
       "      <td>2.879</td>\n",
       "      <td>1.440</td>\n",
       "      <td>1.645</td>\n",
       "      <td>4.862385</td>\n",
       "      <td>530</td>\n",
       "    </tr>\n",
       "    <tr>\n",
       "      <th>4</th>\n",
       "      <td>6.137137e+17</td>\n",
       "      <td>0.464</td>\n",
       "      <td>2.319</td>\n",
       "      <td>2.551</td>\n",
       "      <td>2.783</td>\n",
       "      <td>3.711</td>\n",
       "      <td>4.870</td>\n",
       "      <td>3.479</td>\n",
       "      <td>2.551</td>\n",
       "      <td>2.087</td>\n",
       "      <td>...</td>\n",
       "      <td>0.232</td>\n",
       "      <td>0.464</td>\n",
       "      <td>0.696</td>\n",
       "      <td>0.696</td>\n",
       "      <td>0.464</td>\n",
       "      <td>0.232</td>\n",
       "      <td>1.160</td>\n",
       "      <td>0.464</td>\n",
       "      <td>4.311927</td>\n",
       "      <td>470</td>\n",
       "    </tr>\n",
       "  </tbody>\n",
       "</table>\n",
       "<p>5 rows × 112 columns</p>\n",
       "</div>"
      ],
      "text/plain": [
       "      native_id     C1     C2     C3     C4     C5     C6     C7     C8  \\\n",
       "0  6.131261e+17  0.248  0.745  0.248  1.986  1.490  3.228  1.738  1.738   \n",
       "1  6.130786e+17  0.216  0.648  1.511  1.943  1.079  1.727  0.863  1.511   \n",
       "2  6.130519e+17  0.197  0.590  0.984  1.181  1.181  2.361  0.394  2.361   \n",
       "3  6.134058e+17  0.206  0.206  0.000  0.000  0.206  0.000  0.000  0.000   \n",
       "4  6.137137e+17  0.464  2.319  2.551  2.783  3.711  4.870  3.479  2.551   \n",
       "\n",
       "      C9  ...     C102   C103   C104   C105   C106   C107   C108   C109  \\\n",
       "0  1.241  ...    0.497  0.745  0.000  0.993  0.497  0.248  0.497  0.248   \n",
       "1  2.374  ...    1.079  1.079  0.216  1.079  1.079  0.863  1.079  0.216   \n",
       "2  1.968  ...    0.984  0.197  0.984  0.197  0.394  0.590  0.590  0.394   \n",
       "3  0.411  ...    2.468  2.262  2.674  3.085  3.908  2.879  1.440  1.645   \n",
       "4  2.087  ...    0.232  0.464  0.696  0.696  0.464  0.232  1.160  0.464   \n",
       "\n",
       "       mean  total  \n",
       "0  4.027523    439  \n",
       "1  4.633028    505  \n",
       "2  5.082569    554  \n",
       "3  4.862385    530  \n",
       "4  4.311927    470  \n",
       "\n",
       "[5 rows x 112 columns]"
      ]
     },
     "execution_count": 66,
     "metadata": {},
     "output_type": "execute_result"
    }
   ],
   "source": [
    "# Normalize values (v/mean)\n",
    "for i in range(nrows):\n",
    "    line = time_series_retweets.loc[i].values\n",
    "    mu = line[-2]\n",
    "    tt = line[-1]\n",
    "    time_series_retweets.loc[i] = [line[0]] + map(lambda n: round(float(n)/mu,3), line[1:-2]) + [mu,tt]\n",
    "    \n",
    "time_series_retweets.head()"
   ]
  },
  {
   "cell_type": "markdown",
   "metadata": {},
   "source": [
    "## Prepare for training"
   ]
  },
  {
   "cell_type": "code",
   "execution_count": 67,
   "metadata": {
    "collapsed": false
   },
   "outputs": [],
   "source": [
    "X = np.array(time_series_retweets.drop([\"native_id\",\"total\"], axis=1))\n",
    "y = time_series_retweets.total.values\n",
    "\n",
    "# from sklearn.cross_validation import train_test_split\n",
    "# X_train, X_test, y_train, y_test = train_test_split(X, y, random_state=4)"
   ]
  },
  {
   "cell_type": "markdown",
   "metadata": {},
   "source": [
    "## Training the model"
   ]
  },
  {
   "cell_type": "code",
   "execution_count": 59,
   "metadata": {
    "collapsed": true
   },
   "outputs": [],
   "source": [
    "from sklearn.linear_model import LinearRegression\n",
    "from sklearn.ensemble import AdaBoostRegressor\n",
    "from sklearn.neighbors import KNeighborsRegressor\n",
    "from sklearn.svm import SVR\n",
    "\n",
    "from sklearn.cross_validation import cross_val_score\n",
    "from sklearn.grid_search import GridSearchCV\n",
    "from sklearn import metrics"
   ]
  },
  {
   "cell_type": "markdown",
   "metadata": {},
   "source": [
    "### Train with Linear Regression"
   ]
  },
  {
   "cell_type": "code",
   "execution_count": 68,
   "metadata": {
    "collapsed": false
   },
   "outputs": [
    {
     "name": "stdout",
     "output_type": "stream",
     "text": [
      "Training with Linear Regression\n",
      "CV scores: [ -1.01766756e-23  -4.52576331e-24  -4.55080379e-24  -2.25141401e-23\n",
      "  -7.77688174e-24]\n",
      "MSE: -9.90885289289e-24\n"
     ]
    }
   ],
   "source": [
    "print \"Training with Linear Regression\"\n",
    "\n",
    "model = LinearRegression()\n",
    "\n",
    "scores = cross_val_score(model, X, y, scoring=\"mean_squared_error\", cv=5)\n",
    "\n",
    "print \"CV scores: \" + str(scores)\n",
    "print \"MSE: \" + str(scores.mean())"
   ]
  },
  {
   "cell_type": "markdown",
   "metadata": {},
   "source": [
    "### Train with KNeighborsRegressor"
   ]
  },
  {
   "cell_type": "code",
   "execution_count": 61,
   "metadata": {
    "collapsed": false
   },
   "outputs": [
    {
     "name": "stdout",
     "output_type": "stream",
     "text": [
      "Training with KNN regressor\n"
     ]
    },
    {
     "data": {
      "text/plain": [
       "[mean: -0.24954, std: 0.09671, params: {'n_neighbors': 1},\n",
       " mean: -0.20653, std: 0.08025, params: {'n_neighbors': 2},\n",
       " mean: -0.20373, std: 0.10018, params: {'n_neighbors': 3},\n",
       " mean: -0.20075, std: 0.10453, params: {'n_neighbors': 4},\n",
       " mean: -0.20653, std: 0.10252, params: {'n_neighbors': 5},\n",
       " mean: -0.19900, std: 0.09991, params: {'n_neighbors': 6},\n",
       " mean: -0.19936, std: 0.09652, params: {'n_neighbors': 7},\n",
       " mean: -0.20197, std: 0.09708, params: {'n_neighbors': 8},\n",
       " mean: -0.20041, std: 0.09333, params: {'n_neighbors': 9},\n",
       " mean: -0.20185, std: 0.09339, params: {'n_neighbors': 10}]"
      ]
     },
     "execution_count": 61,
     "metadata": {},
     "output_type": "execute_result"
    }
   ],
   "source": [
    "print \"Training with KNN regressor\"\n",
    "\n",
    "model = KNeighborsRegressor()\n",
    "\n",
    "k_range = range(1,11)\n",
    "param_dist = dict(n_neighbors=k_range)\n",
    "\n",
    "grid = GridSearchCV(model, param_dist, cv=10, scoring=\"mean_squared_error\")\n",
    "grid.fit(X, y)\n",
    "grid.grid_scores_"
   ]
  },
  {
   "cell_type": "markdown",
   "metadata": {},
   "source": [
    "### Train with SVR"
   ]
  },
  {
   "cell_type": "code",
   "execution_count": 69,
   "metadata": {
    "collapsed": false
   },
   "outputs": [
    {
     "name": "stdout",
     "output_type": "stream",
     "text": [
      "Training with SVR\n"
     ]
    },
    {
     "data": {
      "text/plain": [
       "[mean: -1155095.16256, std: 447952.00079, params: {'epsilon': 0.1, 'gamma': 0.0, 'degree': 1},\n",
       " mean: -1179569.88035, std: 449255.03408, params: {'epsilon': 0.1, 'gamma': 0.1, 'degree': 1},\n",
       " mean: -1180323.19835, std: 449160.05020, params: {'epsilon': 0.1, 'gamma': 0.2, 'degree': 1},\n",
       " mean: -1155084.52180, std: 447951.56136, params: {'epsilon': 0.2, 'gamma': 0.0, 'degree': 1},\n",
       " mean: -1179565.28512, std: 449255.91573, params: {'epsilon': 0.2, 'gamma': 0.1, 'degree': 1},\n",
       " mean: -1180318.59778, std: 449160.93402, params: {'epsilon': 0.2, 'gamma': 0.2, 'degree': 1},\n",
       " mean: -1155073.88308, std: 447951.12420, params: {'epsilon': 0.3, 'gamma': 0.0, 'degree': 1},\n",
       " mean: -1179560.69192, std: 449256.79740, params: {'epsilon': 0.3, 'gamma': 0.1, 'degree': 1},\n",
       " mean: -1180313.99925, std: 449161.81786, params: {'epsilon': 0.3, 'gamma': 0.2, 'degree': 1},\n",
       " mean: -1155095.16256, std: 447952.00079, params: {'epsilon': 0.1, 'gamma': 0.0, 'degree': 2},\n",
       " mean: -1179569.88035, std: 449255.03408, params: {'epsilon': 0.1, 'gamma': 0.1, 'degree': 2},\n",
       " mean: -1180323.19835, std: 449160.05020, params: {'epsilon': 0.1, 'gamma': 0.2, 'degree': 2},\n",
       " mean: -1155084.52180, std: 447951.56136, params: {'epsilon': 0.2, 'gamma': 0.0, 'degree': 2},\n",
       " mean: -1179565.28512, std: 449255.91573, params: {'epsilon': 0.2, 'gamma': 0.1, 'degree': 2},\n",
       " mean: -1180318.59778, std: 449160.93402, params: {'epsilon': 0.2, 'gamma': 0.2, 'degree': 2},\n",
       " mean: -1155073.88308, std: 447951.12420, params: {'epsilon': 0.3, 'gamma': 0.0, 'degree': 2},\n",
       " mean: -1179560.69192, std: 449256.79740, params: {'epsilon': 0.3, 'gamma': 0.1, 'degree': 2},\n",
       " mean: -1180313.99925, std: 449161.81786, params: {'epsilon': 0.3, 'gamma': 0.2, 'degree': 2},\n",
       " mean: -1155095.16256, std: 447952.00079, params: {'epsilon': 0.1, 'gamma': 0.0, 'degree': 3},\n",
       " mean: -1179569.88035, std: 449255.03408, params: {'epsilon': 0.1, 'gamma': 0.1, 'degree': 3},\n",
       " mean: -1180323.19835, std: 449160.05020, params: {'epsilon': 0.1, 'gamma': 0.2, 'degree': 3},\n",
       " mean: -1155084.52180, std: 447951.56136, params: {'epsilon': 0.2, 'gamma': 0.0, 'degree': 3},\n",
       " mean: -1179565.28512, std: 449255.91573, params: {'epsilon': 0.2, 'gamma': 0.1, 'degree': 3},\n",
       " mean: -1180318.59778, std: 449160.93402, params: {'epsilon': 0.2, 'gamma': 0.2, 'degree': 3},\n",
       " mean: -1155073.88308, std: 447951.12420, params: {'epsilon': 0.3, 'gamma': 0.0, 'degree': 3},\n",
       " mean: -1179560.69192, std: 449256.79740, params: {'epsilon': 0.3, 'gamma': 0.1, 'degree': 3},\n",
       " mean: -1180313.99925, std: 449161.81786, params: {'epsilon': 0.3, 'gamma': 0.2, 'degree': 3},\n",
       " mean: -1155095.16256, std: 447952.00079, params: {'epsilon': 0.1, 'gamma': 0.0, 'degree': 4},\n",
       " mean: -1179569.88035, std: 449255.03408, params: {'epsilon': 0.1, 'gamma': 0.1, 'degree': 4},\n",
       " mean: -1180323.19835, std: 449160.05020, params: {'epsilon': 0.1, 'gamma': 0.2, 'degree': 4},\n",
       " mean: -1155084.52180, std: 447951.56136, params: {'epsilon': 0.2, 'gamma': 0.0, 'degree': 4},\n",
       " mean: -1179565.28512, std: 449255.91573, params: {'epsilon': 0.2, 'gamma': 0.1, 'degree': 4},\n",
       " mean: -1180318.59778, std: 449160.93402, params: {'epsilon': 0.2, 'gamma': 0.2, 'degree': 4},\n",
       " mean: -1155073.88308, std: 447951.12420, params: {'epsilon': 0.3, 'gamma': 0.0, 'degree': 4},\n",
       " mean: -1179560.69192, std: 449256.79740, params: {'epsilon': 0.3, 'gamma': 0.1, 'degree': 4},\n",
       " mean: -1180313.99925, std: 449161.81786, params: {'epsilon': 0.3, 'gamma': 0.2, 'degree': 4},\n",
       " mean: -1155095.16256, std: 447952.00079, params: {'epsilon': 0.1, 'gamma': 0.0, 'degree': 5},\n",
       " mean: -1179569.88035, std: 449255.03408, params: {'epsilon': 0.1, 'gamma': 0.1, 'degree': 5},\n",
       " mean: -1180323.19835, std: 449160.05020, params: {'epsilon': 0.1, 'gamma': 0.2, 'degree': 5},\n",
       " mean: -1155084.52180, std: 447951.56136, params: {'epsilon': 0.2, 'gamma': 0.0, 'degree': 5},\n",
       " mean: -1179565.28512, std: 449255.91573, params: {'epsilon': 0.2, 'gamma': 0.1, 'degree': 5},\n",
       " mean: -1180318.59778, std: 449160.93402, params: {'epsilon': 0.2, 'gamma': 0.2, 'degree': 5},\n",
       " mean: -1155073.88308, std: 447951.12420, params: {'epsilon': 0.3, 'gamma': 0.0, 'degree': 5},\n",
       " mean: -1179560.69192, std: 449256.79740, params: {'epsilon': 0.3, 'gamma': 0.1, 'degree': 5},\n",
       " mean: -1180313.99925, std: 449161.81786, params: {'epsilon': 0.3, 'gamma': 0.2, 'degree': 5}]"
      ]
     },
     "execution_count": 69,
     "metadata": {},
     "output_type": "execute_result"
    }
   ],
   "source": [
    "print \"Training with SVR\"\n",
    "\n",
    "model = SVR()\n",
    "\n",
    "epsilon_range = [0.1, 0.2, 0.3]\n",
    "degree_range  = [1, 2, 3, 4, 5]\n",
    "gamma_range   = [0.0, 0.1, 0.2]\n",
    "\n",
    "param_dist = dict(epsilon=epsilon_range, degree=degree_range, gamma=gamma_range)\n",
    "\n",
    "grid = GridSearchCV(model, param_dist, cv=10, scoring=\"mean_squared_error\")\n",
    "grid.fit(X, y)\n",
    "grid.grid_scores_"
   ]
  },
  {
   "cell_type": "markdown",
   "metadata": {},
   "source": [
    "### Train with AdaBoostRegressor"
   ]
  },
  {
   "cell_type": "code",
   "execution_count": 70,
   "metadata": {
    "collapsed": false
   },
   "outputs": [
    {
     "name": "stdout",
     "output_type": "stream",
     "text": [
      "Training with AdaBoostRegressor\n"
     ]
    },
    {
     "data": {
      "text/plain": [
       "[mean: -11932.65345, std: 10163.95085, params: {'n_estimators': 25},\n",
       " mean: -13692.21548, std: 15011.10353, params: {'n_estimators': 26},\n",
       " mean: -12134.20100, std: 11055.51429, params: {'n_estimators': 27},\n",
       " mean: -14468.19813, std: 15163.98819, params: {'n_estimators': 28},\n",
       " mean: -11133.10351, std: 9945.45279, params: {'n_estimators': 29},\n",
       " mean: -12461.43482, std: 14771.94534, params: {'n_estimators': 30},\n",
       " mean: -11065.76649, std: 11539.96356, params: {'n_estimators': 31},\n",
       " mean: -10275.06908, std: 10321.98019, params: {'n_estimators': 32},\n",
       " mean: -11793.24758, std: 11522.88166, params: {'n_estimators': 33},\n",
       " mean: -11977.39040, std: 13608.38114, params: {'n_estimators': 34},\n",
       " mean: -11632.31177, std: 12274.29542, params: {'n_estimators': 35},\n",
       " mean: -9744.79153, std: 9952.07124, params: {'n_estimators': 36},\n",
       " mean: -10851.61589, std: 10445.10245, params: {'n_estimators': 37},\n",
       " mean: -13788.92980, std: 16403.36310, params: {'n_estimators': 38},\n",
       " mean: -11477.37605, std: 9396.78565, params: {'n_estimators': 39},\n",
       " mean: -13299.80717, std: 16183.56211, params: {'n_estimators': 40},\n",
       " mean: -11332.83752, std: 10740.72425, params: {'n_estimators': 41},\n",
       " mean: -11318.48382, std: 9437.11931, params: {'n_estimators': 42},\n",
       " mean: -12411.72340, std: 12233.32077, params: {'n_estimators': 43},\n",
       " mean: -11269.93280, std: 10155.00077, params: {'n_estimators': 44},\n",
       " mean: -11521.58431, std: 10532.82515, params: {'n_estimators': 45},\n",
       " mean: -11441.96311, std: 9953.68092, params: {'n_estimators': 46},\n",
       " mean: -10565.31173, std: 9980.89328, params: {'n_estimators': 47},\n",
       " mean: -10628.23132, std: 11303.22787, params: {'n_estimators': 48},\n",
       " mean: -11550.56313, std: 10440.87014, params: {'n_estimators': 49},\n",
       " mean: -13073.75045, std: 15437.37936, params: {'n_estimators': 50},\n",
       " mean: -11476.30193, std: 11333.84154, params: {'n_estimators': 51},\n",
       " mean: -10747.85312, std: 9149.73759, params: {'n_estimators': 52},\n",
       " mean: -12007.02898, std: 12720.30643, params: {'n_estimators': 53},\n",
       " mean: -10517.07242, std: 9783.73763, params: {'n_estimators': 54},\n",
       " mean: -12632.14921, std: 11499.22682, params: {'n_estimators': 55},\n",
       " mean: -11310.15119, std: 10672.04922, params: {'n_estimators': 56},\n",
       " mean: -10435.81719, std: 10431.70384, params: {'n_estimators': 57},\n",
       " mean: -13290.40964, std: 16127.43573, params: {'n_estimators': 58},\n",
       " mean: -10257.15244, std: 10778.99817, params: {'n_estimators': 59},\n",
       " mean: -10803.40975, std: 9809.63454, params: {'n_estimators': 60},\n",
       " mean: -13234.89713, std: 14552.40786, params: {'n_estimators': 61},\n",
       " mean: -11074.93526, std: 13374.53757, params: {'n_estimators': 62},\n",
       " mean: -11591.82854, std: 13898.91164, params: {'n_estimators': 63},\n",
       " mean: -11395.12049, std: 10425.50731, params: {'n_estimators': 64},\n",
       " mean: -11968.58695, std: 9740.67477, params: {'n_estimators': 65},\n",
       " mean: -9333.55262, std: 10796.59353, params: {'n_estimators': 66},\n",
       " mean: -11931.39569, std: 14755.35279, params: {'n_estimators': 67},\n",
       " mean: -11240.00816, std: 12653.93091, params: {'n_estimators': 68},\n",
       " mean: -11253.99694, std: 10809.97246, params: {'n_estimators': 69}]"
      ]
     },
     "execution_count": 70,
     "metadata": {},
     "output_type": "execute_result"
    }
   ],
   "source": [
    "print \"Training with AdaBoostRegressor\"\n",
    "\n",
    "model = AdaBoostRegressor()\n",
    "\n",
    "n_estimators = range(25,70)\n",
    "\n",
    "param_dist = dict(n_estimators=n_estimators)\n",
    "\n",
    "grid = GridSearchCV(model, param_dist, cv=10, scoring=\"mean_squared_error\")\n",
    "grid.fit(X, y)\n",
    "grid.grid_scores_"
   ]
  }
 ],
 "metadata": {
  "kernelspec": {
   "display_name": "Python 2",
   "language": "python",
   "name": "python2"
  },
  "language_info": {
   "codemirror_mode": {
    "name": "ipython",
    "version": 2
   },
   "file_extension": ".py",
   "mimetype": "text/x-python",
   "name": "python",
   "nbconvert_exporter": "python",
   "pygments_lexer": "ipython2",
   "version": "2.7.6"
  }
 },
 "nbformat": 4,
 "nbformat_minor": 0
}
